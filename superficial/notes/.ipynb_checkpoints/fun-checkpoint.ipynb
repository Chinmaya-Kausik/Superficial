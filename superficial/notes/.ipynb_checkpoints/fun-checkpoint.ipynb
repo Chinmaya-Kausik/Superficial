{
 "cells": [
  {
   "cell_type": "code",
   "execution_count": 1,
   "metadata": {},
   "outputs": [],
   "source": [
    "x = 3"
   ]
  },
  {
   "cell_type": "code",
   "execution_count": 2,
   "metadata": {},
   "outputs": [],
   "source": [
    "y = 4"
   ]
  },
  {
   "cell_type": "code",
   "execution_count": 3,
   "metadata": {},
   "outputs": [
    {
     "data": {
      "text/plain": [
       "7"
      ]
     },
     "execution_count": 3,
     "metadata": {},
     "output_type": "execute_result"
    }
   ],
   "source": [
    "x + y"
   ]
  },
  {
   "cell_type": "code",
   "execution_count": 4,
   "metadata": {},
   "outputs": [
    {
     "name": "stdout",
     "output_type": "stream",
     "text": [
      "Mandavi\n"
     ]
    }
   ],
   "source": [
    "print(\"Mandavi\")"
   ]
  },
  {
   "cell_type": "code",
   "execution_count": 5,
   "metadata": {},
   "outputs": [],
   "source": [
    "polite = \"Being nice\""
   ]
  },
  {
   "cell_type": "code",
   "execution_count": 6,
   "metadata": {},
   "outputs": [
    {
     "name": "stdout",
     "output_type": "stream",
     "text": [
      "Being nice\n"
     ]
    }
   ],
   "source": [
    "print (polite)"
   ]
  },
  {
   "cell_type": "code",
   "execution_count": 10,
   "metadata": {},
   "outputs": [
    {
     "name": "stdout",
     "output_type": "stream",
     "text": [
      "Being nice; Being nice\n"
     ]
    }
   ],
   "source": [
    "print(polite +\"; \" + polite)"
   ]
  },
  {
   "cell_type": "code",
   "execution_count": 11,
   "metadata": {},
   "outputs": [
    {
     "name": "stdout",
     "output_type": "stream",
     "text": [
      "Finally okay\n"
     ]
    }
   ],
   "source": [
    "print(\"Finally okay\")"
   ]
  },
  {
   "cell_type": "code",
   "execution_count": 12,
   "metadata": {},
   "outputs": [],
   "source": [
    "Decimal_places = \"tenth, hundredth, thousandth, ten thousandth...\""
   ]
  },
  {
   "cell_type": "code",
   "execution_count": 13,
   "metadata": {},
   "outputs": [
    {
     "name": "stdout",
     "output_type": "stream",
     "text": [
      "tenth, hundredth, thousandth, ten thousandth...\n"
     ]
    }
   ],
   "source": [
    "print (Decimal_places)"
   ]
  },
  {
   "cell_type": "code",
   "execution_count": 14,
   "metadata": {},
   "outputs": [],
   "source": [
    "Decimal_places_list = [\"tenth\", \"hundreth\", \"thousandth\", \"...\"]"
   ]
  },
  {
   "cell_type": "code",
   "execution_count": 15,
   "metadata": {},
   "outputs": [
    {
     "name": "stdout",
     "output_type": "stream",
     "text": [
      "['tenth', 'hundreth', 'thousandth', '...']\n"
     ]
    }
   ],
   "source": [
    "print(Decimal_places_list)"
   ]
  },
  {
   "cell_type": "code",
   "execution_count": 17,
   "metadata": {},
   "outputs": [
    {
     "data": {
      "text/plain": [
       "'thousandth'"
      ]
     },
     "execution_count": 17,
     "metadata": {},
     "output_type": "execute_result"
    }
   ],
   "source": [
    "Decimal_places_list[2]"
   ]
  },
  {
   "cell_type": "code",
   "execution_count": 18,
   "metadata": {},
   "outputs": [
    {
     "data": {
      "text/plain": [
       "'tenth'"
      ]
     },
     "execution_count": 18,
     "metadata": {},
     "output_type": "execute_result"
    }
   ],
   "source": [
    "Decimal_places_list[0]"
   ]
  },
  {
   "cell_type": "code",
   "execution_count": 19,
   "metadata": {},
   "outputs": [
    {
     "name": "stdout",
     "output_type": "stream",
     "text": [
      "Mandavi is Older than Veena\n",
      "Yes, I thought so.\n"
     ]
    }
   ],
   "source": [
    "mandavi_age = 11\n",
    "veena_age = 5\n",
    "if mandavi_age > veena_age:\n",
    "    print(\"Mandavi is Older than Veena\")\n",
    "    print(\"Yes, I thought so.\")\n",
    "else:\n",
    "    print(\"Veeena is older than Mandavi\")\n",
    "    print(\"Do you mean it???\")"
   ]
  },
  {
   "cell_type": "code",
   "execution_count": 20,
   "metadata": {},
   "outputs": [
    {
     "name": "stdout",
     "output_type": "stream",
     "text": [
      "Veeena is older than Mandavi\n",
      "Do you mean it???\n"
     ]
    }
   ],
   "source": [
    "mandavi_age = 11\n",
    "veena_age = 51 \n",
    "if mandavi_age > veena_age:\n",
    "    print(\"Mandavi is Older than Veena\")\n",
    "    print(\"Yes, I thought so.\")\n",
    "else:\n",
    "    print(\"Veeena is older than Mandavi\")\n",
    "    print(\"Do you mean it???\")"
   ]
  },
  {
   "cell_type": "markdown",
   "metadata": {},
   "source": [
    "By the way, Veena is not 51, that was just an example."
   ]
  },
  {
   "cell_type": "code",
   "execution_count": 23,
   "metadata": {},
   "outputs": [
    {
     "name": "stdout",
     "output_type": "stream",
     "text": [
      "tenth\n",
      "hundreth\n",
      "thousandth\n",
      "...\n"
     ]
    }
   ],
   "source": [
    "for d in Decimal_places_list:\n",
    "    print(d)"
   ]
  },
  {
   "cell_type": "code",
   "execution_count": 24,
   "metadata": {},
   "outputs": [
    {
     "name": "stdout",
     "output_type": "stream",
     "text": [
      "['tenth', 'hundreth', 'thousandth', '...']\n"
     ]
    }
   ],
   "source": [
    "print(Decimal_places_list)"
   ]
  },
  {
   "cell_type": "code",
   "execution_count": 25,
   "metadata": {},
   "outputs": [
    {
     "name": "stdout",
     "output_type": "stream",
     "text": [
      "Mandavi\n",
      "Shivani\n",
      "Aditi\n"
     ]
    }
   ],
   "source": [
    "for name in [\"Mandavi\", \"Shivani\", \"Aditi\"]:\n",
    "    print(name)"
   ]
  },
  {
   "cell_type": "code",
   "execution_count": 26,
   "metadata": {},
   "outputs": [
    {
     "name": "stdout",
     "output_type": "stream",
     "text": [
      "1\n",
      "4\n",
      "9\n"
     ]
    }
   ],
   "source": [
    "for x in [1, 2, 3]:\n",
    "    print(x * x)"
   ]
  },
  {
   "cell_type": "code",
   "execution_count": 27,
   "metadata": {},
   "outputs": [
    {
     "name": "stdout",
     "output_type": "stream",
     "text": [
      "You have done very well.\n",
      ":)\n"
     ]
    }
   ],
   "source": [
    "Baba_marks = 49\n",
    "if Baba_marks> 25:\n",
    "    print (\"You have done very well.\")\n",
    "    print (\":)\") \n",
    "else:\n",
    "    print (\"you have received less than 50% in the test\") \n",
    "    print (\"better luck next time :(\") "
   ]
  },
  {
   "cell_type": "code",
   "execution_count": 33,
   "metadata": {},
   "outputs": [
    {
     "name": "stdout",
     "output_type": "stream",
     "text": [
      "you have received less than 50% in the test\n",
      "better luck next time :(\n"
     ]
    }
   ],
   "source": [
    "student_marks = 0\n",
    "if student_marks> 25:\n",
    "    print (\"You have done very well.\")\n",
    "    print (\":)\") \n",
    "else:\n",
    "    print (\"you have received less than 50% in the test\") \n",
    "    print (\"better luck next time :(\")  "
   ]
  },
  {
   "cell_type": "code",
   "execution_count": 30,
   "metadata": {},
   "outputs": [],
   "source": [
    "Write_the_rhyming_word_for_ball = \"call\""
   ]
  },
  {
   "cell_type": "code",
   "execution_count": 31,
   "metadata": {},
   "outputs": [
    {
     "data": {
      "text/plain": [
       "'call'"
      ]
     },
     "execution_count": 31,
     "metadata": {},
     "output_type": "execute_result"
    }
   ],
   "source": [
    "Write_the_rhyming_word_for_ball "
   ]
  },
  {
   "cell_type": "code",
   "execution_count": 34,
   "metadata": {},
   "outputs": [
    {
     "name": "stdout",
     "output_type": "stream",
     "text": [
      "Python is used to write you tube\n"
     ]
    }
   ],
   "source": [
    "print(\"Python is used to write you tube\") "
   ]
  },
  {
   "cell_type": "code",
   "execution_count": 37,
   "metadata": {},
   "outputs": [
    {
     "name": "stdout",
     "output_type": "stream",
     "text": [
      "You have done very well.\n",
      ":)\n"
     ]
    }
   ],
   "source": [
    "student_marks = 50\n",
    "if student_marks> 25:\n",
    "    print (\"You have done very well.\")\n",
    "    print (\":)\") \n",
    "else:\n",
    "    print (\"you have received less than 50% in the test\") \n",
    "    print (\"better luck next time :(\")  "
   ]
  },
  {
   "cell_type": "markdown",
   "metadata": {},
   "source": [
    "This is the final version of- Grading program "
   ]
  },
  {
   "cell_type": "code",
   "execution_count": 38,
   "metadata": {},
   "outputs": [],
   "source": [
    "uxnweiufxbfxviucb2xynu42xniuexneinxi = \"nonsense\""
   ]
  },
  {
   "cell_type": "code",
   "execution_count": 39,
   "metadata": {},
   "outputs": [
    {
     "data": {
      "text/plain": [
       "'nonsense'"
      ]
     },
     "execution_count": 39,
     "metadata": {},
     "output_type": "execute_result"
    }
   ],
   "source": [
    "uxnweiufxbfxviucb2xynu42xniuexneinxi"
   ]
  },
  {
   "cell_type": "code",
   "execution_count": 40,
   "metadata": {},
   "outputs": [
    {
     "name": "stdout",
     "output_type": "stream",
     "text": [
      "nonsense\n"
     ]
    }
   ],
   "source": [
    "print(uxnweiufxbfxviucb2xynu42xniuexneinxi)"
   ]
  },
  {
   "cell_type": "code",
   "execution_count": null,
   "metadata": {},
   "outputs": [],
   "source": []
  },
  {
   "cell_type": "code",
   "execution_count": null,
   "metadata": {},
   "outputs": [],
   "source": []
  },
  {
   "cell_type": "code",
   "execution_count": null,
   "metadata": {},
   "outputs": [],
   "source": []
  },
  {
   "cell_type": "code",
   "execution_count": null,
   "metadata": {},
   "outputs": [],
   "source": []
  },
  {
   "cell_type": "code",
   "execution_count": null,
   "metadata": {},
   "outputs": [],
   "source": []
  },
  {
   "cell_type": "code",
   "execution_count": null,
   "metadata": {},
   "outputs": [],
   "source": []
  }
 ],
 "metadata": {
  "kernelspec": {
   "display_name": "Python 3",
   "language": "python",
   "name": "python3"
  },
  "language_info": {
   "codemirror_mode": {
    "name": "ipython",
    "version": 3
   },
   "file_extension": ".py",
   "mimetype": "text/x-python",
   "name": "python",
   "nbconvert_exporter": "python",
   "pygments_lexer": "ipython3",
   "version": "3.7.1"
  }
 },
 "nbformat": 4,
 "nbformat_minor": 2
}
