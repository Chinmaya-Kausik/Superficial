{
 "cells": [
  {
   "cell_type": "markdown",
   "metadata": {},
   "source": [
    "## The simplest pants decompositions\n",
    "\n",
    "Here we explore, test, and correct code written earlier for enumerating pants decompositions. A component to illustrate these has been added"
   ]
  },
  {
   "cell_type": "code",
   "execution_count": 1,
   "metadata": {},
   "outputs": [
    {
     "data": {
      "text/plain": [
       "\u001b[32mimport \u001b[39m\u001b[36m$cp.$                \u001b[39m"
      ]
     },
     "execution_count": 1,
     "metadata": {},
     "output_type": "execute_result"
    }
   ],
   "source": [
    "import $cp.`superficial.jar`"
   ]
  },
  {
   "cell_type": "code",
   "execution_count": 2,
   "metadata": {},
   "outputs": [
    {
     "data": {
      "text/plain": [
       "\u001b[32mimport \u001b[39m\u001b[36msuperficial._\u001b[39m"
      ]
     },
     "execution_count": 2,
     "metadata": {},
     "output_type": "execute_result"
    }
   ],
   "source": [
    "import superficial._"
   ]
  },
  {
   "cell_type": "markdown",
   "metadata": {},
   "source": [
    "We enumerate all the pants decompositions with 2 pairs of pants, i.e., for surfaces of genus 2, up to isomorphism. There are two such decompositions."
   ]
  },
  {
   "cell_type": "code",
   "execution_count": 3,
   "metadata": {},
   "outputs": [
    {
     "data": {
      "text/plain": [
       "\u001b[36mgenus2\u001b[39m: \u001b[32mVector\u001b[39m[\u001b[32mPantsSurface\u001b[39m] = \u001b[33mVector\u001b[39m(\n",
       "  \u001b[33mPantsSurface\u001b[39m(\n",
       "    \u001b[32m2\u001b[39m,\n",
       "    \u001b[33mSet\u001b[39m(\n",
       "      \u001b[33mCurve\u001b[39m(\u001b[33mPantsBoundary\u001b[39m(\u001b[32m0\u001b[39m, \u001b[33mZ3\u001b[39m(\u001b[32m0\u001b[39m)), \u001b[33mPantsBoundary\u001b[39m(\u001b[32m1\u001b[39m, \u001b[33mZ3\u001b[39m(\u001b[32m0\u001b[39m))),\n",
       "      \u001b[33mCurve\u001b[39m(\u001b[33mPantsBoundary\u001b[39m(\u001b[32m0\u001b[39m, \u001b[33mZ3\u001b[39m(\u001b[32m1\u001b[39m)), \u001b[33mPantsBoundary\u001b[39m(\u001b[32m1\u001b[39m, \u001b[33mZ3\u001b[39m(\u001b[32m1\u001b[39m))),\n",
       "      \u001b[33mCurve\u001b[39m(\u001b[33mPantsBoundary\u001b[39m(\u001b[32m0\u001b[39m, \u001b[33mZ3\u001b[39m(\u001b[32m2\u001b[39m)), \u001b[33mPantsBoundary\u001b[39m(\u001b[32m1\u001b[39m, \u001b[33mZ3\u001b[39m(\u001b[32m2\u001b[39m)))\n",
       "    )\n",
       "  ),\n",
       "  \u001b[33mPantsSurface\u001b[39m(\n",
       "    \u001b[32m2\u001b[39m,\n",
       "    \u001b[33mSet\u001b[39m(\n",
       "      \u001b[33mCurve\u001b[39m(\u001b[33mPantsBoundary\u001b[39m(\u001b[32m0\u001b[39m, \u001b[33mZ3\u001b[39m(\u001b[32m0\u001b[39m)), \u001b[33mPantsBoundary\u001b[39m(\u001b[32m0\u001b[39m, \u001b[33mZ3\u001b[39m(\u001b[32m1\u001b[39m))),\n",
       "      \u001b[33mCurve\u001b[39m(\u001b[33mPantsBoundary\u001b[39m(\u001b[32m0\u001b[39m, \u001b[33mZ3\u001b[39m(\u001b[32m2\u001b[39m)), \u001b[33mPantsBoundary\u001b[39m(\u001b[32m1\u001b[39m, \u001b[33mZ3\u001b[39m(\u001b[32m0\u001b[39m))),\n",
       "      \u001b[33mCurve\u001b[39m(\u001b[33mPantsBoundary\u001b[39m(\u001b[32m1\u001b[39m, \u001b[33mZ3\u001b[39m(\u001b[32m1\u001b[39m)), \u001b[33mPantsBoundary\u001b[39m(\u001b[32m1\u001b[39m, \u001b[33mZ3\u001b[39m(\u001b[32m2\u001b[39m)))\n",
       "    )\n",
       "  )\n",
       ")\n",
       "\u001b[36mres2_1\u001b[39m: \u001b[32mInt\u001b[39m = \u001b[32m2\u001b[39m"
      ]
     },
     "execution_count": 3,
     "metadata": {},
     "output_type": "execute_result"
    }
   ],
   "source": [
    "val genus2 = PantsSurface.allClosed(2).toVector\n",
    "genus2.size"
   ]
  },
  {
   "cell_type": "code",
   "execution_count": 4,
   "metadata": {},
   "outputs": [
    {
     "data": {
      "text/plain": [
       "\u001b[36msurf1\u001b[39m: \u001b[32mPantsSurface\u001b[39m = \u001b[33mPantsSurface\u001b[39m(\n",
       "  \u001b[32m2\u001b[39m,\n",
       "  \u001b[33mSet\u001b[39m(\n",
       "    \u001b[33mCurve\u001b[39m(\u001b[33mPantsBoundary\u001b[39m(\u001b[32m0\u001b[39m, \u001b[33mZ3\u001b[39m(\u001b[32m0\u001b[39m)), \u001b[33mPantsBoundary\u001b[39m(\u001b[32m1\u001b[39m, \u001b[33mZ3\u001b[39m(\u001b[32m0\u001b[39m))),\n",
       "    \u001b[33mCurve\u001b[39m(\u001b[33mPantsBoundary\u001b[39m(\u001b[32m0\u001b[39m, \u001b[33mZ3\u001b[39m(\u001b[32m1\u001b[39m)), \u001b[33mPantsBoundary\u001b[39m(\u001b[32m1\u001b[39m, \u001b[33mZ3\u001b[39m(\u001b[32m1\u001b[39m))),\n",
       "    \u001b[33mCurve\u001b[39m(\u001b[33mPantsBoundary\u001b[39m(\u001b[32m0\u001b[39m, \u001b[33mZ3\u001b[39m(\u001b[32m2\u001b[39m)), \u001b[33mPantsBoundary\u001b[39m(\u001b[32m1\u001b[39m, \u001b[33mZ3\u001b[39m(\u001b[32m2\u001b[39m)))\n",
       "  )\n",
       ")\n",
       "\u001b[36msurf2\u001b[39m: \u001b[32mPantsSurface\u001b[39m = \u001b[33mPantsSurface\u001b[39m(\n",
       "  \u001b[32m2\u001b[39m,\n",
       "  \u001b[33mSet\u001b[39m(\n",
       "    \u001b[33mCurve\u001b[39m(\u001b[33mPantsBoundary\u001b[39m(\u001b[32m0\u001b[39m, \u001b[33mZ3\u001b[39m(\u001b[32m0\u001b[39m)), \u001b[33mPantsBoundary\u001b[39m(\u001b[32m0\u001b[39m, \u001b[33mZ3\u001b[39m(\u001b[32m1\u001b[39m))),\n",
       "    \u001b[33mCurve\u001b[39m(\u001b[33mPantsBoundary\u001b[39m(\u001b[32m0\u001b[39m, \u001b[33mZ3\u001b[39m(\u001b[32m2\u001b[39m)), \u001b[33mPantsBoundary\u001b[39m(\u001b[32m1\u001b[39m, \u001b[33mZ3\u001b[39m(\u001b[32m0\u001b[39m))),\n",
       "    \u001b[33mCurve\u001b[39m(\u001b[33mPantsBoundary\u001b[39m(\u001b[32m1\u001b[39m, \u001b[33mZ3\u001b[39m(\u001b[32m1\u001b[39m)), \u001b[33mPantsBoundary\u001b[39m(\u001b[32m1\u001b[39m, \u001b[33mZ3\u001b[39m(\u001b[32m2\u001b[39m)))\n",
       "  )\n",
       ")"
      ]
     },
     "execution_count": 4,
     "metadata": {},
     "output_type": "execute_result"
    }
   ],
   "source": [
    "val Vector(surf1, surf2) = genus2"
   ]
  },
  {
   "cell_type": "markdown",
   "metadata": {},
   "source": [
    "We now make pictures for these. First we generate these as `svg` using `scala.xml`"
   ]
  },
  {
   "cell_type": "code",
   "execution_count": 5,
   "metadata": {},
   "outputs": [
    {
     "data": {
      "text/plain": [
       "\u001b[36mpics\u001b[39m: \u001b[32mVector\u001b[39m[\u001b[32mxml\u001b[39m.\u001b[32mElem\u001b[39m] = \u001b[33mVector\u001b[39m(\n",
       "  <svg version=\"1.1\" baseProfile=\"full\" width=\"1000\" height=\"350\" xmlns=\"http://www.w3.org/2000/svg\">\n",
       "           <line x1=\"140\" x2=\"110\" y1=\"80\" y2=\"131\" stroke=\"red\" stroke-width=\"1\" xmlns=\"http://www.w3.org/2000/svg\"></line><line x1=\"117\" x2=\"116\" y1=\"118\" y2=\"114\" stroke=\"black\" stroke-width=\"1\" xmlns=\"http://www.w3.org/2000/svg\"></line><line x1=\"117\" x2=\"121\" y1=\"118\" y2=\"117\" stroke=\"black\" stroke-width=\"1\" xmlns=\"http://www.w3.org/2000/svg\"></line><text x=\"132\" y=\"92\">6</text><line x1=\"110\" x2=\"50\" y1=\"131\" y2=\"131\" stroke=\"gold\" stroke-width=\"1\" xmlns=\"http://www.w3.org/2000/svg\"></line><line x1=\"65\" x2=\"68\" y1=\"131\" y2=\"128\" stroke=\"black\" stroke-width=\"1\" xmlns=\"http://www.w3.org/2000/svg\"></line><line x1=\"65\" x2=\"68\" y1=\"131\" y2=\"134\" stroke=\"black\" stroke-width=\"1\" xmlns=\"http://www.w3.org/2000/svg\"></line><text x=\"95\" y=\"131\">12</text><line x1=\"50\" x2=\"20\" y1=\"131\" y2=\"80\" stroke=\"orange\" stroke-width=\"1\" xmlns=\"http://www.w3.org/2000/svg\"></line><line x1=\"27\" x2=\"31\" y1=\"92\" y2=\"94\" stroke=\"black\" stroke-width=\"1\" xmlns=\"http://www.w3.org/2000/svg\"></line><line x1=\"27\" x2=\"26\" y1=\"92\" y2=\"97\" stroke=\"black\" stroke-width=\"1\" xmlns=\"http://www.w3.org/2000/svg\"></line><text x=\"42\" y=\"118\">4</text><line x1=\"20\" x2=\"49\" y1=\"80\" y2=\"28\" stroke=\"grey\" stroke-width=\"1\" xmlns=\"http://www.w3.org/2000/svg\"></line><line x1=\"42\" x2=\"43\" y1=\"41\" y2=\"45\" stroke=\"black\" stroke-width=\"1\" xmlns=\"http://www.w3.org/2000/svg\"></line><line x1=\"42\" x2=\"38\" y1=\"41\" y2=\"42\" stroke=\"black\" stroke-width=\"1\" xmlns=\"http://www.w3.org/2000/svg\"></line><text x=\"27\" y=\"67\">8</text><line x1=\"49\" x2=\"110\" y1=\"28\" y2=\"28\" stroke=\"darkcyan\" stroke-width=\"1\" xmlns=\"http://www.w3.org/2000/svg\"></line><line x1=\"95\" x2=\"92\" y1=\"28\" y2=\"31\" stroke=\"black\" stroke-width=\"1\" xmlns=\"http://www.w3.org/2000/svg\"></line><line x1=\"95\" x2=\"92\" y1=\"28\" y2=\"25\" stroke=\"black\" stroke-width=\"1\" xmlns=\"http://www.w3.org/2000/svg\"></line><text x=\"64\" y=\"28\">11</text><line x1=\"110\" x2=\"140\" y1=\"28\" y2=\"79\" stroke=\"black\" stroke-width=\"1\" xmlns=\"http://www.w3.org/2000/svg\"></line><line x1=\"132\" x2=\"128\" y1=\"67\" y2=\"65\" stroke=\"black\" stroke-width=\"1\" xmlns=\"http://www.w3.org/2000/svg\"></line><line x1=\"132\" x2=\"133\" y1=\"67\" y2=\"62\" stroke=\"black\" stroke-width=\"1\" xmlns=\"http://www.w3.org/2000/svg\"></line><text x=\"117\" y=\"41\">3</text><line x1=\"140\" x2=\"110\" y1=\"230\" y2=\"281\" stroke=\"green\" stroke-width=\"1\" xmlns=\"http://www.w3.org/2000/svg\"></line><line x1=\"117\" x2=\"116\" y1=\"268\" y2=\"264\" stroke=\"black\" stroke-width=\"1\" xmlns=\"http://www.w3.org/2000/svg\"></line><line x1=\"117\" x2=\"121\" y1=\"268\" y2=\"267\" stroke=\"black\" stroke-width=\"1\" xmlns=\"http://www.w3.org/2000/svg\"></line><text x=\"132\" y=\"242\">2</text><line x1=\"110\" x2=\"50\" y1=\"281\" y2=\"281\" stroke=\"gold\" stroke-width=\"1\" xmlns=\"http://www.w3.org/2000/svg\"></line><line x1=\"65\" x2=\"68\" y1=\"281\" y2=\"278\" stroke=\"black\" stroke-width=\"1\" xmlns=\"http://www.w3.org/2000/svg\"></line><line x1=\"65\" x2=\"68\" y1=\"281\" y2=\"284\" stroke=..."
      ]
     },
     "execution_count": 5,
     "metadata": {},
     "output_type": "execute_result"
    }
   ],
   "source": [
    "val pics = genus2.map(SvgPlot.plotSurface)"
   ]
  },
  {
   "cell_type": "markdown",
   "metadata": {},
   "source": [
    "Now we can view them."
   ]
  },
  {
   "cell_type": "code",
   "execution_count": 6,
   "metadata": {},
   "outputs": [
    {
     "data": {
      "text/plain": [
       "\u001b[32mimport \u001b[39m\u001b[36malmond.interpreter.api._\n",
       "\u001b[39m\n",
       "\u001b[36mpicData\u001b[39m: \u001b[32mVector\u001b[39m[\u001b[32mDisplayData\u001b[39m] = \u001b[33mVector\u001b[39m(\n",
       "  \u001b[33mDisplayData\u001b[39m(\n",
       "    \u001b[33mMap\u001b[39m(\n",
       "      \u001b[32m\"image/svg+xml\"\u001b[39m -> \u001b[32m\"\"\"<svg version=\"1.1\" baseProfile=\"full\" width=\"1000\" height=\"350\" xmlns=\"http://www.w3.org/2000/svg\">\n",
       "           <line x1=\"140\" x2=\"110\" y1=\"80\" y2=\"131\" stroke=\"red\" stroke-width=\"1\" xmlns=\"http://www.w3.org/2000/svg\"></line><line x1=\"117\" x2=\"116\" y1=\"118\" y2=\"114\" stroke=\"black\" stroke-width=\"1\" xmlns=\"http://www.w3.org/2000/svg\"></line><line x1=\"117\" x2=\"121\" y1=\"118\" y2=\"117\" stroke=\"black\" stroke-width=\"1\" xmlns=\"http://www.w3.org/2000/svg\"></line><text x=\"132\" y=\"92\">6</text><line x1=\"110\" x2=\"50\" y1=\"131\" y2=\"131\" stroke=\"gold\" stroke-width=\"1\" xmlns=\"http://www.w3.org/2000/svg\"></line><line x1=\"65\" x2=\"68\" y1=\"131\" y2=\"128\" stroke=\"black\" stroke-width=\"1\" xmlns=\"http://www.w3.org/2000/svg\"></line><line x1=\"65\" x2=\"68\" y1=\"131\" y2=\"134\" stroke=\"black\" stroke-width=\"1\" xmlns=\"http://www.w3.org/2000/svg\"></line><text x=\"95\" y=\"131\">12</text><line x1=\"50\" x2=\"20\" y1=\"131\" y2=\"80\" stroke=\"orange\" stroke-width=\"1\" xmlns=\"http://www.w3.org/2000/svg\"></line><line x1=\"27\" x2=\"31\" y1=\"92\" y2=\"94\" stroke=\"black\" stroke-width=\"1\" xmlns=\"http://www.w3.org/2000/svg\"></line><line x1=\"27\" x2=\"26\" y1=\"92\" y2=\"97\" stroke=\"black\" stroke-width=\"1\" xmlns=\"http://www.w3.org/2000/svg\"></line><text x=\"42\" y=\"118\">4</text><line x1=\"20\" x2=\"49\" y1=\"80\" y2=\"28\" stroke=\"grey\" stroke-width=\"1\" xmlns=\"http://www.w3.org/2000/svg\"></line><line x1=\"42\" x2=\"43\" y1=\"41\" y2=\"45\" stroke=\"black\" stroke-width=\"1\" xmlns=\"http://www.w3.org/2000/svg\"></line><line x1=\"42\" x2=\"38\" y1=\"41\" y2=\"42\" stroke=\"black\" stroke-width=\"1\" xmlns=\"http://www.w3.org/2000/svg\"></line><text x=\"27\" y=\"67\">8</text><line x1=\"49\" x2=\"110\" y1=\"28\" y2=\"28\" stroke=\"darkcyan\" stroke-width=\"1\" xmlns=\"http://www.w3.org/2000/svg\"></line><line x1=\"95\" x2=\"92\" y1=\"28\" y2=\"31\" stroke=\"black\" stroke-width=\"1\" xmlns=\"http://www.w3.org/2000/svg\"></line><line x1=\"95\" x2=\"92\" y1=\"28\" y2=\"25\" stroke=\"black\" stroke-width=\"1\" xmlns=\"http://www.w3.org/2000/svg\"></line><text x=\"64\" y=\"28\">11</text><line x1=\"110\" x2=\"140\" y1=\"28\" y2=\"79\" stroke=\"black\" stroke-width=\"1\" xmlns=\"http://www.w3.org/2000/svg\"></line><line x1=\"132\" x2=\"128\" y1=\"67\" y2=\"65\" stroke=\"black\" stroke-width=\"1\" xmlns=\"http://www.w3.org/2000/svg\"></line><line x1=\"132\" x2=\"133\" y1=\"67\" y2=\"62\" stroke=\"black\" stroke-width=\"1\" xmlns=\"http://www.w3.org/2000/svg\"></line><text x=\"117\" y=\"41\">3</text><line x1=\"140\" x2=\"110\" y1=\"230\" y2=\"281\" stroke=\"green\" stroke-width=\"1\" xmlns=\"http://www.w3.org/2000/svg\"></line><line x1=\"117\" x2=\"116\" y1=\"268\" y2=\"264\" stroke=\"black\" stroke-width=\"1\" xmlns=\"http://www.w3.org/2000/svg\"></line><line x1=\"117\" x2=\"121\" y1=\"268\" y2=\"267\" stroke=\"black\" stroke-width=\"1\" xmlns=\"http://www.w3.org/2000/svg\"></line><text x=\"132\" y=\"242\">2</text><line x1=\"110\" x2=\"50\" y1=\"281\" y2=\"281\" stroke=\"gold\" stroke-width=\"1\" xmlns=\"http://www.w3.org/2000/svg\"></line><\u001b[39m..."
      ]
     },
     "execution_count": 6,
     "metadata": {},
     "output_type": "execute_result"
    }
   ],
   "source": [
    "import almond.interpreter.api._\n",
    "val picData = pics.map(p => DisplayData.svg(p.toString))"
   ]
  },
  {
   "cell_type": "code",
   "execution_count": 7,
   "metadata": {},
   "outputs": [
    {
     "data": {
      "image/svg+xml": [
       "<svg version=\"1.1\" baseProfile=\"full\" width=\"1000\" height=\"350\" xmlns=\"http://www.w3.org/2000/svg\">\n",
       "           <line x1=\"140\" x2=\"110\" y1=\"80\" y2=\"131\" stroke=\"red\" stroke-width=\"1\" xmlns=\"http://www.w3.org/2000/svg\"></line><line x1=\"117\" x2=\"116\" y1=\"118\" y2=\"114\" stroke=\"black\" stroke-width=\"1\" xmlns=\"http://www.w3.org/2000/svg\"></line><line x1=\"117\" x2=\"121\" y1=\"118\" y2=\"117\" stroke=\"black\" stroke-width=\"1\" xmlns=\"http://www.w3.org/2000/svg\"></line><text x=\"132\" y=\"92\">6</text><line x1=\"110\" x2=\"50\" y1=\"131\" y2=\"131\" stroke=\"gold\" stroke-width=\"1\" xmlns=\"http://www.w3.org/2000/svg\"></line><line x1=\"65\" x2=\"68\" y1=\"131\" y2=\"128\" stroke=\"black\" stroke-width=\"1\" xmlns=\"http://www.w3.org/2000/svg\"></line><line x1=\"65\" x2=\"68\" y1=\"131\" y2=\"134\" stroke=\"black\" stroke-width=\"1\" xmlns=\"http://www.w3.org/2000/svg\"></line><text x=\"95\" y=\"131\">12</text><line x1=\"50\" x2=\"20\" y1=\"131\" y2=\"80\" stroke=\"orange\" stroke-width=\"1\" xmlns=\"http://www.w3.org/2000/svg\"></line><line x1=\"27\" x2=\"31\" y1=\"92\" y2=\"94\" stroke=\"black\" stroke-width=\"1\" xmlns=\"http://www.w3.org/2000/svg\"></line><line x1=\"27\" x2=\"26\" y1=\"92\" y2=\"97\" stroke=\"black\" stroke-width=\"1\" xmlns=\"http://www.w3.org/2000/svg\"></line><text x=\"42\" y=\"118\">4</text><line x1=\"20\" x2=\"49\" y1=\"80\" y2=\"28\" stroke=\"grey\" stroke-width=\"1\" xmlns=\"http://www.w3.org/2000/svg\"></line><line x1=\"42\" x2=\"43\" y1=\"41\" y2=\"45\" stroke=\"black\" stroke-width=\"1\" xmlns=\"http://www.w3.org/2000/svg\"></line><line x1=\"42\" x2=\"38\" y1=\"41\" y2=\"42\" stroke=\"black\" stroke-width=\"1\" xmlns=\"http://www.w3.org/2000/svg\"></line><text x=\"27\" y=\"67\">8</text><line x1=\"49\" x2=\"110\" y1=\"28\" y2=\"28\" stroke=\"darkcyan\" stroke-width=\"1\" xmlns=\"http://www.w3.org/2000/svg\"></line><line x1=\"95\" x2=\"92\" y1=\"28\" y2=\"31\" stroke=\"black\" stroke-width=\"1\" xmlns=\"http://www.w3.org/2000/svg\"></line><line x1=\"95\" x2=\"92\" y1=\"28\" y2=\"25\" stroke=\"black\" stroke-width=\"1\" xmlns=\"http://www.w3.org/2000/svg\"></line><text x=\"64\" y=\"28\">11</text><line x1=\"110\" x2=\"140\" y1=\"28\" y2=\"79\" stroke=\"black\" stroke-width=\"1\" xmlns=\"http://www.w3.org/2000/svg\"></line><line x1=\"132\" x2=\"128\" y1=\"67\" y2=\"65\" stroke=\"black\" stroke-width=\"1\" xmlns=\"http://www.w3.org/2000/svg\"></line><line x1=\"132\" x2=\"133\" y1=\"67\" y2=\"62\" stroke=\"black\" stroke-width=\"1\" xmlns=\"http://www.w3.org/2000/svg\"></line><text x=\"117\" y=\"41\">3</text><line x1=\"140\" x2=\"110\" y1=\"230\" y2=\"281\" stroke=\"green\" stroke-width=\"1\" xmlns=\"http://www.w3.org/2000/svg\"></line><line x1=\"117\" x2=\"116\" y1=\"268\" y2=\"264\" stroke=\"black\" stroke-width=\"1\" xmlns=\"http://www.w3.org/2000/svg\"></line><line x1=\"117\" x2=\"121\" y1=\"268\" y2=\"267\" stroke=\"black\" stroke-width=\"1\" xmlns=\"http://www.w3.org/2000/svg\"></line><text x=\"132\" y=\"242\">2</text><line x1=\"110\" x2=\"50\" y1=\"281\" y2=\"281\" stroke=\"gold\" stroke-width=\"1\" xmlns=\"http://www.w3.org/2000/svg\"></line><line x1=\"65\" x2=\"68\" y1=\"281\" y2=\"278\" stroke=\"black\" stroke-width=\"1\" xmlns=\"http://www.w3.org/2000/svg\"></line><line x1=\"65\" x2=\"68\" y1=\"281\" y2=\"284\" stroke=\"black\" stroke-width=\"1\" xmlns=\"http://www.w3.org/2000/svg\"></line><text x=\"95\" y=\"281\">12</text><line x1=\"50\" x2=\"20\" y1=\"281\" y2=\"230\" stroke=\"yellow\" stroke-width=\"1\" xmlns=\"http://www.w3.org/2000/svg\"></line><line x1=\"27\" x2=\"31\" y1=\"242\" y2=\"244\" stroke=\"black\" stroke-width=\"1\" xmlns=\"http://www.w3.org/2000/svg\"></line><line x1=\"27\" x2=\"26\" y1=\"242\" y2=\"247\" stroke=\"black\" stroke-width=\"1\" xmlns=\"http://www.w3.org/2000/svg\"></line><text x=\"42\" y=\"268\">10</text><line x1=\"20\" x2=\"49\" y1=\"230\" y2=\"178\" stroke=\"grey\" stroke-width=\"1\" xmlns=\"http://www.w3.org/2000/svg\"></line><line x1=\"42\" x2=\"43\" y1=\"191\" y2=\"195\" stroke=\"black\" stroke-width=\"1\" xmlns=\"http://www.w3.org/2000/svg\"></line><line x1=\"42\" x2=\"38\" y1=\"191\" y2=\"192\" stroke=\"black\" stroke-width=\"1\" xmlns=\"http://www.w3.org/2000/svg\"></line><text x=\"27\" y=\"217\">8</text><line x1=\"49\" x2=\"110\" y1=\"178\" y2=\"178\" stroke=\"magenta\" stroke-width=\"1\" xmlns=\"http://www.w3.org/2000/svg\"></line><line x1=\"95\" x2=\"92\" y1=\"178\" y2=\"181\" stroke=\"black\" stroke-width=\"1\" xmlns=\"http://www.w3.org/2000/svg\"></line><line x1=\"95\" x2=\"92\" y1=\"178\" y2=\"175\" stroke=\"black\" stroke-width=\"1\" xmlns=\"http://www.w3.org/2000/svg\"></line><text x=\"64\" y=\"178\">9</text><line x1=\"110\" x2=\"140\" y1=\"178\" y2=\"229\" stroke=\"black\" stroke-width=\"1\" xmlns=\"http://www.w3.org/2000/svg\"></line><line x1=\"132\" x2=\"128\" y1=\"217\" y2=\"215\" stroke=\"black\" stroke-width=\"1\" xmlns=\"http://www.w3.org/2000/svg\"></line><line x1=\"132\" x2=\"133\" y1=\"217\" y2=\"212\" stroke=\"black\" stroke-width=\"1\" xmlns=\"http://www.w3.org/2000/svg\"></line><text x=\"117\" y=\"191\">3</text><line x1=\"260\" x2=\"290\" y1=\"131\" y2=\"80\" stroke=\"red\" stroke-width=\"1\" xmlns=\"http://www.w3.org/2000/svg\"></line><line x1=\"282\" x2=\"283\" y1=\"92\" y2=\"97\" stroke=\"black\" stroke-width=\"1\" xmlns=\"http://www.w3.org/2000/svg\"></line><line x1=\"282\" x2=\"278\" y1=\"92\" y2=\"94\" stroke=\"black\" stroke-width=\"1\" xmlns=\"http://www.w3.org/2000/svg\"></line><text x=\"267\" y=\"118\">6</text><line x1=\"260\" x2=\"200\" y1=\"131\" y2=\"131\" stroke=\"cyan\" stroke-width=\"1\" xmlns=\"http://www.w3.org/2000/svg\"></line><line x1=\"215\" x2=\"218\" y1=\"131\" y2=\"128\" stroke=\"black\" stroke-width=\"1\" xmlns=\"http://www.w3.org/2000/svg\"></line><line x1=\"215\" x2=\"218\" y1=\"131\" y2=\"134\" stroke=\"black\" stroke-width=\"1\" xmlns=\"http://www.w3.org/2000/svg\"></line><text x=\"245\" y=\"131\">5</text><line x1=\"170\" x2=\"200\" y1=\"80\" y2=\"131\" stroke=\"orange\" stroke-width=\"1\" xmlns=\"http://www.w3.org/2000/svg\"></line><line x1=\"192\" x2=\"188\" y1=\"118\" y2=\"117\" stroke=\"black\" stroke-width=\"1\" xmlns=\"http://www.w3.org/2000/svg\"></line><line x1=\"192\" x2=\"193\" y1=\"118\" y2=\"114\" stroke=\"black\" stroke-width=\"1\" xmlns=\"http://www.w3.org/2000/svg\"></line><text x=\"177\" y=\"92\">4</text><line x1=\"170\" x2=\"199\" y1=\"80\" y2=\"28\" stroke=\"brown\" stroke-width=\"1\" xmlns=\"http://www.w3.org/2000/svg\"></line><line x1=\"192\" x2=\"193\" y1=\"41\" y2=\"45\" stroke=\"black\" stroke-width=\"1\" xmlns=\"http://www.w3.org/2000/svg\"></line><line x1=\"192\" x2=\"188\" y1=\"41\" y2=\"42\" stroke=\"black\" stroke-width=\"1\" xmlns=\"http://www.w3.org/2000/svg\"></line><text x=\"177\" y=\"67\">7</text><line x1=\"260\" x2=\"199\" y1=\"28\" y2=\"28\" stroke=\"darkcyan\" stroke-width=\"1\" xmlns=\"http://www.w3.org/2000/svg\"></line><line x1=\"214\" x2=\"217\" y1=\"28\" y2=\"25\" stroke=\"black\" stroke-width=\"1\" xmlns=\"http://www.w3.org/2000/svg\"></line><line x1=\"214\" x2=\"217\" y1=\"28\" y2=\"31\" stroke=\"black\" stroke-width=\"1\" xmlns=\"http://www.w3.org/2000/svg\"></line><text x=\"245\" y=\"28\">11</text><line x1=\"260\" x2=\"290\" y1=\"28\" y2=\"79\" stroke=\"blue\" stroke-width=\"1\" xmlns=\"http://www.w3.org/2000/svg\"></line><line x1=\"282\" x2=\"278\" y1=\"67\" y2=\"65\" stroke=\"black\" stroke-width=\"1\" xmlns=\"http://www.w3.org/2000/svg\"></line><line x1=\"282\" x2=\"283\" y1=\"67\" y2=\"62\" stroke=\"black\" stroke-width=\"1\" xmlns=\"http://www.w3.org/2000/svg\"></line><text x=\"267\" y=\"41\">1</text><line x1=\"260\" x2=\"290\" y1=\"281\" y2=\"230\" stroke=\"green\" stroke-width=\"1\" xmlns=\"http://www.w3.org/2000/svg\"></line><line x1=\"282\" x2=\"283\" y1=\"242\" y2=\"247\" stroke=\"black\" stroke-width=\"1\" xmlns=\"http://www.w3.org/2000/svg\"></line><line x1=\"282\" x2=\"278\" y1=\"242\" y2=\"244\" stroke=\"black\" stroke-width=\"1\" xmlns=\"http://www.w3.org/2000/svg\"></line><text x=\"267\" y=\"268\">2</text><line x1=\"260\" x2=\"200\" y1=\"281\" y2=\"281\" stroke=\"cyan\" stroke-width=\"1\" xmlns=\"http://www.w3.org/2000/svg\"></line><line x1=\"215\" x2=\"218\" y1=\"281\" y2=\"278\" stroke=\"black\" stroke-width=\"1\" xmlns=\"http://www.w3.org/2000/svg\"></line><line x1=\"215\" x2=\"218\" y1=\"281\" y2=\"284\" stroke=\"black\" stroke-width=\"1\" xmlns=\"http://www.w3.org/2000/svg\"></line><text x=\"245\" y=\"281\">5</text><line x1=\"170\" x2=\"200\" y1=\"230\" y2=\"281\" stroke=\"yellow\" stroke-width=\"1\" xmlns=\"http://www.w3.org/2000/svg\"></line><line x1=\"192\" x2=\"188\" y1=\"268\" y2=\"267\" stroke=\"black\" stroke-width=\"1\" xmlns=\"http://www.w3.org/2000/svg\"></line><line x1=\"192\" x2=\"193\" y1=\"268\" y2=\"264\" stroke=\"black\" stroke-width=\"1\" xmlns=\"http://www.w3.org/2000/svg\"></line><text x=\"177\" y=\"242\">10</text><line x1=\"170\" x2=\"199\" y1=\"230\" y2=\"178\" stroke=\"brown\" stroke-width=\"1\" xmlns=\"http://www.w3.org/2000/svg\"></line><line x1=\"192\" x2=\"193\" y1=\"191\" y2=\"195\" stroke=\"black\" stroke-width=\"1\" xmlns=\"http://www.w3.org/2000/svg\"></line><line x1=\"192\" x2=\"188\" y1=\"191\" y2=\"192\" stroke=\"black\" stroke-width=\"1\" xmlns=\"http://www.w3.org/2000/svg\"></line><text x=\"177\" y=\"217\">7</text><line x1=\"260\" x2=\"199\" y1=\"178\" y2=\"178\" stroke=\"magenta\" stroke-width=\"1\" xmlns=\"http://www.w3.org/2000/svg\"></line><line x1=\"214\" x2=\"217\" y1=\"178\" y2=\"175\" stroke=\"black\" stroke-width=\"1\" xmlns=\"http://www.w3.org/2000/svg\"></line><line x1=\"214\" x2=\"217\" y1=\"178\" y2=\"181\" stroke=\"black\" stroke-width=\"1\" xmlns=\"http://www.w3.org/2000/svg\"></line><text x=\"245\" y=\"178\">9</text><line x1=\"260\" x2=\"290\" y1=\"178\" y2=\"229\" stroke=\"blue\" stroke-width=\"1\" xmlns=\"http://www.w3.org/2000/svg\"></line><line x1=\"282\" x2=\"278\" y1=\"217\" y2=\"215\" stroke=\"black\" stroke-width=\"1\" xmlns=\"http://www.w3.org/2000/svg\"></line><line x1=\"282\" x2=\"283\" y1=\"217\" y2=\"212\" stroke=\"black\" stroke-width=\"1\" xmlns=\"http://www.w3.org/2000/svg\"></line><text x=\"267\" y=\"191\">1</text> </svg>"
      ]
     },
     "metadata": {},
     "output_type": "display_data"
    }
   ],
   "source": [
    "display(picData(0))"
   ]
  },
  {
   "cell_type": "code",
   "execution_count": 8,
   "metadata": {},
   "outputs": [
    {
     "data": {
      "image/svg+xml": [
       "<svg version=\"1.1\" baseProfile=\"full\" width=\"1000\" height=\"350\" xmlns=\"http://www.w3.org/2000/svg\">\n",
       "           <line x1=\"140\" x2=\"110\" y1=\"80\" y2=\"131\" stroke=\"green\" stroke-width=\"1\" xmlns=\"http://www.w3.org/2000/svg\"></line><line x1=\"117\" x2=\"116\" y1=\"118\" y2=\"114\" stroke=\"black\" stroke-width=\"1\" xmlns=\"http://www.w3.org/2000/svg\"></line><line x1=\"117\" x2=\"121\" y1=\"118\" y2=\"117\" stroke=\"black\" stroke-width=\"1\" xmlns=\"http://www.w3.org/2000/svg\"></line><text x=\"132\" y=\"92\">2</text><line x1=\"110\" x2=\"50\" y1=\"131\" y2=\"131\" stroke=\"magenta\" stroke-width=\"1\" xmlns=\"http://www.w3.org/2000/svg\"></line><line x1=\"65\" x2=\"68\" y1=\"131\" y2=\"128\" stroke=\"black\" stroke-width=\"1\" xmlns=\"http://www.w3.org/2000/svg\"></line><line x1=\"65\" x2=\"68\" y1=\"131\" y2=\"134\" stroke=\"black\" stroke-width=\"1\" xmlns=\"http://www.w3.org/2000/svg\"></line><text x=\"95\" y=\"131\">9</text><line x1=\"20\" x2=\"50\" y1=\"80\" y2=\"131\" stroke=\"green\" stroke-width=\"1\" xmlns=\"http://www.w3.org/2000/svg\"></line><line x1=\"42\" x2=\"38\" y1=\"118\" y2=\"117\" stroke=\"black\" stroke-width=\"1\" xmlns=\"http://www.w3.org/2000/svg\"></line><line x1=\"42\" x2=\"43\" y1=\"118\" y2=\"114\" stroke=\"black\" stroke-width=\"1\" xmlns=\"http://www.w3.org/2000/svg\"></line><text x=\"27\" y=\"92\">2</text><line x1=\"20\" x2=\"49\" y1=\"80\" y2=\"28\" stroke=\"darkcyan\" stroke-width=\"1\" xmlns=\"http://www.w3.org/2000/svg\"></line><line x1=\"42\" x2=\"43\" y1=\"41\" y2=\"45\" stroke=\"black\" stroke-width=\"1\" xmlns=\"http://www.w3.org/2000/svg\"></line><line x1=\"42\" x2=\"38\" y1=\"41\" y2=\"42\" stroke=\"black\" stroke-width=\"1\" xmlns=\"http://www.w3.org/2000/svg\"></line><text x=\"27\" y=\"67\">11</text><line x1=\"49\" x2=\"110\" y1=\"28\" y2=\"28\" stroke=\"grey\" stroke-width=\"1\" xmlns=\"http://www.w3.org/2000/svg\"></line><line x1=\"95\" x2=\"92\" y1=\"28\" y2=\"31\" stroke=\"black\" stroke-width=\"1\" xmlns=\"http://www.w3.org/2000/svg\"></line><line x1=\"95\" x2=\"92\" y1=\"28\" y2=\"25\" stroke=\"black\" stroke-width=\"1\" xmlns=\"http://www.w3.org/2000/svg\"></line><text x=\"64\" y=\"28\">8</text><line x1=\"110\" x2=\"140\" y1=\"28\" y2=\"79\" stroke=\"gold\" stroke-width=\"1\" xmlns=\"http://www.w3.org/2000/svg\"></line><line x1=\"132\" x2=\"128\" y1=\"67\" y2=\"65\" stroke=\"black\" stroke-width=\"1\" xmlns=\"http://www.w3.org/2000/svg\"></line><line x1=\"132\" x2=\"133\" y1=\"67\" y2=\"62\" stroke=\"black\" stroke-width=\"1\" xmlns=\"http://www.w3.org/2000/svg\"></line><text x=\"117\" y=\"41\">12</text><line x1=\"140\" x2=\"110\" y1=\"230\" y2=\"281\" stroke=\"blue\" stroke-width=\"1\" xmlns=\"http://www.w3.org/2000/svg\"></line><line x1=\"117\" x2=\"116\" y1=\"268\" y2=\"264\" stroke=\"black\" stroke-width=\"1\" xmlns=\"http://www.w3.org/2000/svg\"></line><line x1=\"117\" x2=\"121\" y1=\"268\" y2=\"267\" stroke=\"black\" stroke-width=\"1\" xmlns=\"http://www.w3.org/2000/svg\"></line><text x=\"132\" y=\"242\">1</text><line x1=\"110\" x2=\"50\" y1=\"281\" y2=\"281\" stroke=\"magenta\" stroke-width=\"1\" xmlns=\"http://www.w3.org/2000/svg\"></line><line x1=\"65\" x2=\"68\" y1=\"281\" y2=\"278\" stroke=\"black\" stroke-width=\"1\" xmlns=\"http://www.w3.org/2000/svg\"></line><line x1=\"65\" x2=\"68\" y1=\"281\" y2=\"284\" stroke=\"black\" stroke-width=\"1\" xmlns=\"http://www.w3.org/2000/svg\"></line><text x=\"95\" y=\"281\">9</text><line x1=\"20\" x2=\"50\" y1=\"230\" y2=\"281\" stroke=\"blue\" stroke-width=\"1\" xmlns=\"http://www.w3.org/2000/svg\"></line><line x1=\"42\" x2=\"38\" y1=\"268\" y2=\"267\" stroke=\"black\" stroke-width=\"1\" xmlns=\"http://www.w3.org/2000/svg\"></line><line x1=\"42\" x2=\"43\" y1=\"268\" y2=\"264\" stroke=\"black\" stroke-width=\"1\" xmlns=\"http://www.w3.org/2000/svg\"></line><text x=\"27\" y=\"242\">1</text><line x1=\"20\" x2=\"49\" y1=\"230\" y2=\"178\" stroke=\"darkcyan\" stroke-width=\"1\" xmlns=\"http://www.w3.org/2000/svg\"></line><line x1=\"42\" x2=\"43\" y1=\"191\" y2=\"195\" stroke=\"black\" stroke-width=\"1\" xmlns=\"http://www.w3.org/2000/svg\"></line><line x1=\"42\" x2=\"38\" y1=\"191\" y2=\"192\" stroke=\"black\" stroke-width=\"1\" xmlns=\"http://www.w3.org/2000/svg\"></line><text x=\"27\" y=\"217\">11</text><line x1=\"49\" x2=\"110\" y1=\"178\" y2=\"178\" stroke=\"black\" stroke-width=\"1\" xmlns=\"http://www.w3.org/2000/svg\"></line><line x1=\"95\" x2=\"92\" y1=\"178\" y2=\"181\" stroke=\"black\" stroke-width=\"1\" xmlns=\"http://www.w3.org/2000/svg\"></line><line x1=\"95\" x2=\"92\" y1=\"178\" y2=\"175\" stroke=\"black\" stroke-width=\"1\" xmlns=\"http://www.w3.org/2000/svg\"></line><text x=\"64\" y=\"178\">3</text><line x1=\"110\" x2=\"140\" y1=\"178\" y2=\"229\" stroke=\"gold\" stroke-width=\"1\" xmlns=\"http://www.w3.org/2000/svg\"></line><line x1=\"132\" x2=\"128\" y1=\"217\" y2=\"215\" stroke=\"black\" stroke-width=\"1\" xmlns=\"http://www.w3.org/2000/svg\"></line><line x1=\"132\" x2=\"133\" y1=\"217\" y2=\"212\" stroke=\"black\" stroke-width=\"1\" xmlns=\"http://www.w3.org/2000/svg\"></line><text x=\"117\" y=\"191\">12</text><line x1=\"260\" x2=\"290\" y1=\"131\" y2=\"80\" stroke=\"grey\" stroke-width=\"1\" xmlns=\"http://www.w3.org/2000/svg\"></line><line x1=\"282\" x2=\"283\" y1=\"92\" y2=\"97\" stroke=\"black\" stroke-width=\"1\" xmlns=\"http://www.w3.org/2000/svg\"></line><line x1=\"282\" x2=\"278\" y1=\"92\" y2=\"94\" stroke=\"black\" stroke-width=\"1\" xmlns=\"http://www.w3.org/2000/svg\"></line><text x=\"267\" y=\"118\">8</text><line x1=\"260\" x2=\"200\" y1=\"131\" y2=\"131\" stroke=\"red\" stroke-width=\"1\" xmlns=\"http://www.w3.org/2000/svg\"></line><line x1=\"215\" x2=\"218\" y1=\"131\" y2=\"128\" stroke=\"black\" stroke-width=\"1\" xmlns=\"http://www.w3.org/2000/svg\"></line><line x1=\"215\" x2=\"218\" y1=\"131\" y2=\"134\" stroke=\"black\" stroke-width=\"1\" xmlns=\"http://www.w3.org/2000/svg\"></line><text x=\"245\" y=\"131\">6</text><line x1=\"200\" x2=\"170\" y1=\"131\" y2=\"80\" stroke=\"cyan\" stroke-width=\"1\" xmlns=\"http://www.w3.org/2000/svg\"></line><line x1=\"177\" x2=\"181\" y1=\"92\" y2=\"94\" stroke=\"black\" stroke-width=\"1\" xmlns=\"http://www.w3.org/2000/svg\"></line><line x1=\"177\" x2=\"176\" y1=\"92\" y2=\"97\" stroke=\"black\" stroke-width=\"1\" xmlns=\"http://www.w3.org/2000/svg\"></line><text x=\"192\" y=\"118\">5</text><line x1=\"170\" x2=\"199\" y1=\"80\" y2=\"28\" stroke=\"brown\" stroke-width=\"1\" xmlns=\"http://www.w3.org/2000/svg\"></line><line x1=\"192\" x2=\"193\" y1=\"41\" y2=\"45\" stroke=\"black\" stroke-width=\"1\" xmlns=\"http://www.w3.org/2000/svg\"></line><line x1=\"192\" x2=\"188\" y1=\"41\" y2=\"42\" stroke=\"black\" stroke-width=\"1\" xmlns=\"http://www.w3.org/2000/svg\"></line><text x=\"177\" y=\"67\">7</text><line x1=\"260\" x2=\"199\" y1=\"28\" y2=\"28\" stroke=\"cyan\" stroke-width=\"1\" xmlns=\"http://www.w3.org/2000/svg\"></line><line x1=\"214\" x2=\"217\" y1=\"28\" y2=\"25\" stroke=\"black\" stroke-width=\"1\" xmlns=\"http://www.w3.org/2000/svg\"></line><line x1=\"214\" x2=\"217\" y1=\"28\" y2=\"31\" stroke=\"black\" stroke-width=\"1\" xmlns=\"http://www.w3.org/2000/svg\"></line><text x=\"245\" y=\"28\">5</text><line x1=\"260\" x2=\"290\" y1=\"28\" y2=\"79\" stroke=\"orange\" stroke-width=\"1\" xmlns=\"http://www.w3.org/2000/svg\"></line><line x1=\"282\" x2=\"278\" y1=\"67\" y2=\"65\" stroke=\"black\" stroke-width=\"1\" xmlns=\"http://www.w3.org/2000/svg\"></line><line x1=\"282\" x2=\"283\" y1=\"67\" y2=\"62\" stroke=\"black\" stroke-width=\"1\" xmlns=\"http://www.w3.org/2000/svg\"></line><text x=\"267\" y=\"41\">4</text><line x1=\"260\" x2=\"290\" y1=\"281\" y2=\"230\" stroke=\"black\" stroke-width=\"1\" xmlns=\"http://www.w3.org/2000/svg\"></line><line x1=\"282\" x2=\"283\" y1=\"242\" y2=\"247\" stroke=\"black\" stroke-width=\"1\" xmlns=\"http://www.w3.org/2000/svg\"></line><line x1=\"282\" x2=\"278\" y1=\"242\" y2=\"244\" stroke=\"black\" stroke-width=\"1\" xmlns=\"http://www.w3.org/2000/svg\"></line><text x=\"267\" y=\"268\">3</text><line x1=\"260\" x2=\"200\" y1=\"281\" y2=\"281\" stroke=\"red\" stroke-width=\"1\" xmlns=\"http://www.w3.org/2000/svg\"></line><line x1=\"215\" x2=\"218\" y1=\"281\" y2=\"278\" stroke=\"black\" stroke-width=\"1\" xmlns=\"http://www.w3.org/2000/svg\"></line><line x1=\"215\" x2=\"218\" y1=\"281\" y2=\"284\" stroke=\"black\" stroke-width=\"1\" xmlns=\"http://www.w3.org/2000/svg\"></line><text x=\"245\" y=\"281\">6</text><line x1=\"200\" x2=\"170\" y1=\"281\" y2=\"230\" stroke=\"yellow\" stroke-width=\"1\" xmlns=\"http://www.w3.org/2000/svg\"></line><line x1=\"177\" x2=\"181\" y1=\"242\" y2=\"244\" stroke=\"black\" stroke-width=\"1\" xmlns=\"http://www.w3.org/2000/svg\"></line><line x1=\"177\" x2=\"176\" y1=\"242\" y2=\"247\" stroke=\"black\" stroke-width=\"1\" xmlns=\"http://www.w3.org/2000/svg\"></line><text x=\"192\" y=\"268\">10</text><line x1=\"170\" x2=\"199\" y1=\"230\" y2=\"178\" stroke=\"brown\" stroke-width=\"1\" xmlns=\"http://www.w3.org/2000/svg\"></line><line x1=\"192\" x2=\"193\" y1=\"191\" y2=\"195\" stroke=\"black\" stroke-width=\"1\" xmlns=\"http://www.w3.org/2000/svg\"></line><line x1=\"192\" x2=\"188\" y1=\"191\" y2=\"192\" stroke=\"black\" stroke-width=\"1\" xmlns=\"http://www.w3.org/2000/svg\"></line><text x=\"177\" y=\"217\">7</text><line x1=\"260\" x2=\"199\" y1=\"178\" y2=\"178\" stroke=\"yellow\" stroke-width=\"1\" xmlns=\"http://www.w3.org/2000/svg\"></line><line x1=\"214\" x2=\"217\" y1=\"178\" y2=\"175\" stroke=\"black\" stroke-width=\"1\" xmlns=\"http://www.w3.org/2000/svg\"></line><line x1=\"214\" x2=\"217\" y1=\"178\" y2=\"181\" stroke=\"black\" stroke-width=\"1\" xmlns=\"http://www.w3.org/2000/svg\"></line><text x=\"245\" y=\"178\">10</text><line x1=\"260\" x2=\"290\" y1=\"178\" y2=\"229\" stroke=\"orange\" stroke-width=\"1\" xmlns=\"http://www.w3.org/2000/svg\"></line><line x1=\"282\" x2=\"278\" y1=\"217\" y2=\"215\" stroke=\"black\" stroke-width=\"1\" xmlns=\"http://www.w3.org/2000/svg\"></line><line x1=\"282\" x2=\"283\" y1=\"217\" y2=\"212\" stroke=\"black\" stroke-width=\"1\" xmlns=\"http://www.w3.org/2000/svg\"></line><text x=\"267\" y=\"191\">4</text> </svg>"
      ]
     },
     "metadata": {},
     "output_type": "display_data"
    }
   ],
   "source": [
    "display(picData(1))"
   ]
  },
  {
   "cell_type": "code",
   "execution_count": null,
   "metadata": {},
   "outputs": [],
   "source": []
  }
 ],
 "metadata": {
  "kernelspec": {
   "display_name": "Scala",
   "language": "scala",
   "name": "scala"
  },
  "language_info": {
   "codemirror_mode": "text/x-scala",
   "file_extension": ".scala",
   "mimetype": "text/x-scala",
   "name": "scala",
   "nbconvert_exporter": "script",
   "version": "2.12.8"
  }
 },
 "nbformat": 4,
 "nbformat_minor": 2
}
