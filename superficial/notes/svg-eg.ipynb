{
 "cells": [
  {
   "cell_type": "markdown",
   "metadata": {},
   "source": [
    "# This is to test the setup for Jupyter, Jekyll, SVG etc"
   ]
  },
  {
   "cell_type": "code",
   "execution_count": 1,
   "metadata": {},
   "outputs": [
    {
     "data": {
      "text/plain": [
       "\u001b[32mimport \u001b[39m\u001b[36m$cp.$                \u001b[39m"
      ]
     },
     "execution_count": 1,
     "metadata": {},
     "output_type": "execute_result"
    }
   ],
   "source": [
    "import $cp.`superficial.jar`"
   ]
  },
  {
   "cell_type": "code",
   "execution_count": 2,
   "metadata": {},
   "outputs": [
    {
     "data": {
      "text/plain": [
       "\u001b[32mimport \u001b[39m\u001b[36msuperficial._\u001b[39m"
      ]
     },
     "execution_count": 2,
     "metadata": {},
     "output_type": "execute_result"
    }
   ],
   "source": [
    "import superficial._"
   ]
  },
  {
   "cell_type": "code",
   "execution_count": 3,
   "metadata": {},
   "outputs": [
    {
     "data": {
      "text/plain": [
       "\u001b[32mimport \u001b[39m\u001b[36malmond.interpreter.api._\n",
       "\u001b[39m"
      ]
     },
     "execution_count": 3,
     "metadata": {},
     "output_type": "execute_result"
    }
   ],
   "source": [
    "import almond.interpreter.api._\n"
   ]
  },
  {
   "cell_type": "code",
   "execution_count": 4,
   "metadata": {},
   "outputs": [
    {
     "data": {
      "text/plain": [
       "\u001b[36msvEg\u001b[39m: \u001b[32mDisplayData\u001b[39m = \u001b[33mDisplayData\u001b[39m(\n",
       "  \u001b[33mMap\u001b[39m(\n",
       "    \u001b[32m\"image/svg+xml\"\u001b[39m -> \u001b[32m\"\"\"<svg version=\"1.1\" baseProfile=\"full\" viewBox=\"0 0 1000 400\" xmlns=\"http://www.w3.org/2000/svg\">\n",
       "           <line x1=\"200\" x2=\"150\" y1=\"100\" y2=\"186\" stroke=\"hsl(0, 100%, 50%)\" stroke-width=\"1\" xmlns=\"http://www.w3.org/2000/svg\"></line><line x1=\"162\" x2=\"161\" y1=\"164\" y2=\"160\" stroke=\"black\" stroke-width=\"1\" xmlns=\"http://www.w3.org/2000/svg\"></line><line x1=\"162\" x2=\"166\" y1=\"164\" y2=\"163\" stroke=\"black\" stroke-width=\"1\" xmlns=\"http://www.w3.org/2000/svg\"></line><text x=\"187\" y=\"121\"></text><line x1=\"150\" x2=\"50\" y1=\"186\" y2=\"186\" stroke=\"hsl(81, 100%, 50%)\" stroke-width=\"1\" xmlns=\"http://www.w3.org/2000/svg\"></line><line x1=\"75\" x2=\"78\" y1=\"186\" y2=\"183\" stroke=\"black\" stroke-width=\"1\" xmlns=\"http://www.w3.org/2000/svg\"></line><line x1=\"75\" x2=\"78\" y1=\"186\" y2=\"189\" stroke=\"black\" stroke-width=\"1\" xmlns=\"http://www.w3.org/2000/svg\"></line><text x=\"125\" y=\"186\"></text><line x1=\"50\" x2=\"0\" y1=\"186\" y2=\"100\" stroke=\"hsl(162, 100%, 50%)\" stroke-width=\"1\" xmlns=\"http://www.w3.org/2000/svg\"></line><line x1=\"12\" x2=\"16\" y1=\"121\" y2=\"122\" stroke=\"black\" stroke-width=\"1\" xmlns=\"http://www.w3.org/2000/svg\"></line><line x1=\"12\" x2=\"11\" y1=\"121\" y2=\"125\" stroke=\"black\" stroke-width=\"1\" xmlns=\"http://www.w3.org/2000/svg\"></line><text x=\"37\" y=\"164\"></text><line x1=\"0\" x2=\"49\" y1=\"100\" y2=\"13\" stroke=\"hsl(243, 100%, 50%)\" stroke-width=\"1\" xmlns=\"http://www.w3.org/2000/svg\"></line><line x1=\"37\" x2=\"38\" y1=\"35\" y2=\"39\" stroke=\"black\" stroke-width=\"1\" xmlns=\"http://www.w3.org/2000/svg\"></line><line x1=\"37\" x2=\"33\" y1=\"35\" y2=\"36\" stroke=\"black\" stroke-width=\"1\" xmlns=\"http://www.w3.org/2000/svg\"></line><text x=\"12\" y=\"78\"></text><line x1=\"49\" x2=\"150\" y1=\"13\" y2=\"13\" stroke=\"hsl(324, 100%, 50%)\" stroke-width=\"1\" xmlns=\"http://www.w3.org/2000/svg\"></line><line x1=\"124\" x2=\"121\" y1=\"13\" y2=\"16\" stroke=\"black\" stroke-width=\"1\" xmlns=\"http://www.w3.org/2000/svg\"></line><line x1=\"124\" x2=\"121\" y1=\"13\" y2=\"10\" stroke=\"black\" stroke-width=\"1\" xmlns=\"http://www.w3.org/2000/svg\"></line><text x=\"74\" y=\"13\"></text><line x1=\"150\" x2=\"200\" y1=\"13\" y2=\"99\" stroke=\"hsl(405, 100%, 50%)\" stroke-width=\"1\" xmlns=\"http://www.w3.org/2000/svg\"></line><line x1=\"187\" x2=\"183\" y1=\"78\" y2=\"77\" stroke=\"black\" stroke-width=\"1\" xmlns=\"http://www.w3.org/2000/svg\"></line><line x1=\"187\" x2=\"188\" y1=\"78\" y2=\"74\" stroke=\"black\" stroke-width=\"1\" xmlns=\"http://www.w3.org/2000/svg\"></line><text x=\"162\" y=\"35\"></text> </svg>\"\"\"\u001b[39m\n",
       "  ),\n",
       "  \u001b[33mMap\u001b[39m(),\n",
       "  \u001b[32mNone\u001b[39m\n",
       ")"
      ]
     },
     "execution_count": 4,
     "metadata": {},
     "output_type": "execute_result"
    }
   ],
   "source": [
    "val svEg =  DisplayData.svg(SvgPlot.eg.toString)"
   ]
  },
  {
   "cell_type": "code",
   "execution_count": 5,
   "metadata": {},
   "outputs": [
    {
     "data": {
      "image/svg+xml": [
       "<svg version=\"1.1\" baseProfile=\"full\" viewBox=\"0 0 1000 400\" xmlns=\"http://www.w3.org/2000/svg\">\n",
       "           <line x1=\"200\" x2=\"150\" y1=\"100\" y2=\"186\" stroke=\"hsl(0, 100%, 50%)\" stroke-width=\"1\" xmlns=\"http://www.w3.org/2000/svg\"></line><line x1=\"162\" x2=\"161\" y1=\"164\" y2=\"160\" stroke=\"black\" stroke-width=\"1\" xmlns=\"http://www.w3.org/2000/svg\"></line><line x1=\"162\" x2=\"166\" y1=\"164\" y2=\"163\" stroke=\"black\" stroke-width=\"1\" xmlns=\"http://www.w3.org/2000/svg\"></line><text x=\"187\" y=\"121\"></text><line x1=\"150\" x2=\"50\" y1=\"186\" y2=\"186\" stroke=\"hsl(81, 100%, 50%)\" stroke-width=\"1\" xmlns=\"http://www.w3.org/2000/svg\"></line><line x1=\"75\" x2=\"78\" y1=\"186\" y2=\"183\" stroke=\"black\" stroke-width=\"1\" xmlns=\"http://www.w3.org/2000/svg\"></line><line x1=\"75\" x2=\"78\" y1=\"186\" y2=\"189\" stroke=\"black\" stroke-width=\"1\" xmlns=\"http://www.w3.org/2000/svg\"></line><text x=\"125\" y=\"186\"></text><line x1=\"50\" x2=\"0\" y1=\"186\" y2=\"100\" stroke=\"hsl(162, 100%, 50%)\" stroke-width=\"1\" xmlns=\"http://www.w3.org/2000/svg\"></line><line x1=\"12\" x2=\"16\" y1=\"121\" y2=\"122\" stroke=\"black\" stroke-width=\"1\" xmlns=\"http://www.w3.org/2000/svg\"></line><line x1=\"12\" x2=\"11\" y1=\"121\" y2=\"125\" stroke=\"black\" stroke-width=\"1\" xmlns=\"http://www.w3.org/2000/svg\"></line><text x=\"37\" y=\"164\"></text><line x1=\"0\" x2=\"49\" y1=\"100\" y2=\"13\" stroke=\"hsl(243, 100%, 50%)\" stroke-width=\"1\" xmlns=\"http://www.w3.org/2000/svg\"></line><line x1=\"37\" x2=\"38\" y1=\"35\" y2=\"39\" stroke=\"black\" stroke-width=\"1\" xmlns=\"http://www.w3.org/2000/svg\"></line><line x1=\"37\" x2=\"33\" y1=\"35\" y2=\"36\" stroke=\"black\" stroke-width=\"1\" xmlns=\"http://www.w3.org/2000/svg\"></line><text x=\"12\" y=\"78\"></text><line x1=\"49\" x2=\"150\" y1=\"13\" y2=\"13\" stroke=\"hsl(324, 100%, 50%)\" stroke-width=\"1\" xmlns=\"http://www.w3.org/2000/svg\"></line><line x1=\"124\" x2=\"121\" y1=\"13\" y2=\"16\" stroke=\"black\" stroke-width=\"1\" xmlns=\"http://www.w3.org/2000/svg\"></line><line x1=\"124\" x2=\"121\" y1=\"13\" y2=\"10\" stroke=\"black\" stroke-width=\"1\" xmlns=\"http://www.w3.org/2000/svg\"></line><text x=\"74\" y=\"13\"></text><line x1=\"150\" x2=\"200\" y1=\"13\" y2=\"99\" stroke=\"hsl(405, 100%, 50%)\" stroke-width=\"1\" xmlns=\"http://www.w3.org/2000/svg\"></line><line x1=\"187\" x2=\"183\" y1=\"78\" y2=\"77\" stroke=\"black\" stroke-width=\"1\" xmlns=\"http://www.w3.org/2000/svg\"></line><line x1=\"187\" x2=\"188\" y1=\"78\" y2=\"74\" stroke=\"black\" stroke-width=\"1\" xmlns=\"http://www.w3.org/2000/svg\"></line><text x=\"162\" y=\"35\"></text> </svg>"
      ]
     },
     "metadata": {},
     "output_type": "display_data"
    }
   ],
   "source": [
    "display(svEg)"
   ]
  }
 ],
 "metadata": {
  "kernelspec": {
   "display_name": "Scala",
   "language": "scala",
   "name": "scala"
  },
  "language_info": {
   "codemirror_mode": "text/x-scala",
   "file_extension": ".scala",
   "mimetype": "text/x-scala",
   "name": "scala",
   "nbconvert_exporter": "script",
   "version": "2.12.8"
  }
 },
 "nbformat": 4,
 "nbformat_minor": 2
}
