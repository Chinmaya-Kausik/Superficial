{
 "cells": [
  {
   "cell_type": "code",
   "execution_count": 1,
   "metadata": {},
   "outputs": [
    {
     "data": {
      "text/plain": [
       "\u001b[32mimport \u001b[39m\u001b[36m$cp.$                 \n",
       "\n",
       "\u001b[39m\n",
       "\u001b[32mimport \u001b[39m\u001b[36mfreegroups._, Word._\n",
       "\n",
       "\u001b[39m\n",
       "\u001b[32mimport \u001b[39m\u001b[36malmond.display._\u001b[39m"
      ]
     },
     "execution_count": 1,
     "metadata": {},
     "output_type": "execute_result"
    }
   ],
   "source": [
    "import $cp.bin.`polymath.jar`\n",
    "\n",
    "import freegroups._, Word._\n",
    "\n",
    "repl.pprinter() = {\n",
    "  val p = repl.pprinter()\n",
    "  p.copy(\n",
    "    additionalHandlers = p.additionalHandlers.orElse {\n",
    "      wordHandler\n",
    "    }\n",
    "  )\n",
    "}\n",
    "\n",
    "import almond.display._"
   ]
  },
  {
   "cell_type": "code",
   "execution_count": 2,
   "metadata": {},
   "outputs": [
    {
     "data": {
      "image/svg+xml": [
       "<?xml version=\"1.0\" encoding=\"UTF-8\" standalone=\"no\"?>\n",
       "<!-- Created with Inkscape (http://www.inkscape.org/) -->\n",
       "\n",
       "<svg\n",
       "   xmlns:dc=\"http://purl.org/dc/elements/1.1/\"\n",
       "   xmlns:cc=\"http://creativecommons.org/ns#\"\n",
       "   xmlns:rdf=\"http://www.w3.org/1999/02/22-rdf-syntax-ns#\"\n",
       "   xmlns:svg=\"http://www.w3.org/2000/svg\"\n",
       "   xmlns=\"http://www.w3.org/2000/svg\"\n",
       "   xmlns:sodipodi=\"http://sodipodi.sourceforge.net/DTD/sodipodi-0.dtd\"\n",
       "   xmlns:inkscape=\"http://www.inkscape.org/namespaces/inkscape\"\n",
       "   width=\"640\"\n",
       "   height=\"480\"\n",
       "   id=\"svg3461\"\n",
       "   version=\"1.1\"\n",
       "   inkscape:version=\"0.91 r13725\"\n",
       "   viewBox=\"0 0 640 480\"\n",
       "   sodipodi:docname=\"aabab.svg\">\n",
       "  <defs\n",
       "     id=\"defs3463\" />\n",
       "  <sodipodi:namedview\n",
       "     id=\"base\"\n",
       "     pagecolor=\"#ffffff\"\n",
       "     bordercolor=\"#666666\"\n",
       "     borderopacity=\"1.0\"\n",
       "     inkscape:pageopacity=\"0.0\"\n",
       "     inkscape:pageshadow=\"2\"\n",
       "     inkscape:zoom=\"0.77472527\"\n",
       "     inkscape:cx=\"102.50354\"\n",
       "     inkscape:cy=\"240\"\n",
       "     inkscape:current-layer=\"layer1\"\n",
       "     inkscape:document-units=\"px\"\n",
       "     showgrid=\"false\"\n",
       "     inkscape:window-width=\"1366\"\n",
       "     inkscape:window-height=\"719\"\n",
       "     inkscape:window-x=\"0\"\n",
       "     inkscape:window-y=\"27\"\n",
       "     inkscape:window-maximized=\"1\" />\n",
       "  <metadata\n",
       "     id=\"metadata3466\">\n",
       "    <rdf:RDF>\n",
       "      <cc:Work\n",
       "         rdf:about=\"\">\n",
       "        <dc:format>image/svg+xml</dc:format>\n",
       "        <dc:type\n",
       "           rdf:resource=\"http://purl.org/dc/dcmitype/StillImage\" />\n",
       "      </cc:Work>\n",
       "    </rdf:RDF>\n",
       "  </metadata>\n",
       "  <g\n",
       "     id=\"layer1\"\n",
       "     inkscape:label=\"Layer 1\"\n",
       "     inkscape:groupmode=\"layer\">\n",
       "    <text\n",
       "       xml:space=\"preserve\"\n",
       "       style=\"font-style:normal;font-weight:normal;font-size:75px;line-height:125%;font-family:Sans;letter-spacing:0px;word-spacing:0px;fill:#000000;fill-opacity:1;stroke:none;stroke-width:1px;stroke-linecap:butt;stroke-linejoin:miter;stroke-opacity:1;\"\n",
       "       x=\"70.992905\"\n",
       "       y=\"363.8298\"\n",
       "       id=\"text3473\"\n",
       "       sodipodi:linespacing=\"125%\"><tspan\n",
       "         sodipodi:role=\"line\"\n",
       "         id=\"tspan3475\"\n",
       "         x=\"70.992905\"\n",
       "         y=\"363.8298\">aaba̅b̅aaba̅b̅</tspan></text>\n",
       "    <path\n",
       "       style=\"fill:none;stroke:#000000;stroke-width:2;stroke-miterlimit:4;stroke-dasharray:none\"\n",
       "       id=\"path3483\"\n",
       "       sodipodi:type=\"arc\"\n",
       "       sodipodi:cx=\"281.39008\"\n",
       "       sodipodi:cy=\"299.29077\"\n",
       "       sodipodi:rx=\"191.03546\"\n",
       "       sodipodi:ry=\"121.33334\"\n",
       "       sodipodi:start=\"3.1415927\"\n",
       "       sodipodi:end=\"0\"\n",
       "       sodipodi:open=\"true\"\n",
       "       d=\"M 90.354614,299.29077 A 191.03546,121.33334 0 0 1 281.39008,177.95743 191.03546,121.33334 0 0 1 472.42554,299.29077\" />\n",
       "    <path\n",
       "       style=\"fill:none;stroke:#000000;stroke-width:2;stroke-miterlimit:4;stroke-dasharray:none\"\n",
       "       id=\"path3485\"\n",
       "       sodipodi:type=\"arc\"\n",
       "       sodipodi:cx=\"190.39008\"\n",
       "       sodipodi:cy=\"303.16312\"\n",
       "       sodipodi:rx=\"47.113476\"\n",
       "       sodipodi:ry=\"46.468082\"\n",
       "       sodipodi:start=\"3.1415927\"\n",
       "       sodipodi:end=\"0\"\n",
       "       sodipodi:open=\"true\"\n",
       "       d=\"m 143.2766,303.16311 a 47.113476,46.468082 0 0 1 47.11348,-46.46808 47.113476,46.468082 0 0 1 47.11347,46.46809\" />\n",
       "    <path\n",
       "       style=\"fill:none;stroke:#000000;stroke-width:2;stroke-miterlimit:4;stroke-dasharray:none\"\n",
       "       id=\"path3487\"\n",
       "       sodipodi:type=\"arc\"\n",
       "       sodipodi:cx=\"345.92908\"\n",
       "       sodipodi:cy=\"296.06384\"\n",
       "       sodipodi:rx=\"68.411346\"\n",
       "       sodipodi:ry=\"62.602837\"\n",
       "       sodipodi:start=\"3.1415927\"\n",
       "       sodipodi:end=\"0\"\n",
       "       sodipodi:open=\"true\"\n",
       "       d=\"m 277.51773,296.06384 a 68.411346,62.602837 0 0 1 68.41135,-62.60283 68.411346,62.602837 0 0 1 68.41134,62.60283\" />\n",
       "  </g>\n",
       "</svg>\n"
      ]
     },
     "metadata": {},
     "output_type": "display_data"
    }
   ],
   "source": [
    "Display.svg(os.read(os.pwd / \"aabab.svg\"))"
   ]
  },
  {
   "cell_type": "code",
   "execution_count": 3,
   "metadata": {},
   "outputs": [
    {
     "data": {
      "text/plain": [
       "\u001b[36mx\u001b[39m: \u001b[32mWord\u001b[39m = \u001b[32maaba̅b̅\u001b[39m"
      ]
     },
     "execution_count": 3,
     "metadata": {},
     "output_type": "execute_result"
    }
   ],
   "source": [
    "val x = Word(\"aaba!b!\")"
   ]
  },
  {
   "cell_type": "code",
   "execution_count": 4,
   "metadata": {},
   "outputs": [
    {
     "data": {
      "text/plain": [
       "\u001b[36mres3\u001b[39m: \u001b[32mInt\u001b[39m = \u001b[32m3\u001b[39m"
      ]
     },
     "execution_count": 4,
     "metadata": {},
     "output_type": "execute_result"
    }
   ],
   "source": [
    "wcLength(x)"
   ]
  },
  {
   "cell_type": "code",
   "execution_count": 5,
   "metadata": {},
   "outputs": [
    {
     "data": {
      "text/plain": [
       "\u001b[36mres4_0\u001b[39m: \u001b[32mWord\u001b[39m = \u001b[32maaba̅b̅aaba̅b̅\u001b[39m\n",
       "\u001b[36mres4_1\u001b[39m: \u001b[32mInt\u001b[39m = \u001b[32m4\u001b[39m"
      ]
     },
     "execution_count": 5,
     "metadata": {},
     "output_type": "execute_result"
    }
   ],
   "source": [
    "x * x\n",
    "wcLength(x * x)"
   ]
  },
  {
   "cell_type": "code",
   "execution_count": 6,
   "metadata": {},
   "outputs": [
    {
     "data": {
      "text/plain": [
       "\u001b[36mres5\u001b[39m: \u001b[32mWord\u001b[39m = \u001b[32me\u001b[39m"
      ]
     },
     "execution_count": 6,
     "metadata": {},
     "output_type": "execute_result"
    }
   ],
   "source": [
    "Word(\"a\") * Word(\"a!\")"
   ]
  },
  {
   "cell_type": "code",
   "execution_count": 7,
   "metadata": {},
   "outputs": [
    {
     "name": "stderr",
     "output_type": "stream",
     "text": [
      "Refined using homogeneity; word: aba̅b̅a, exponent: 1\n",
      "Refined using homogeneity; word: aba̅b̅a, exponent: 2\n",
      "Refined using homogeneity; word: aba̅b̅a, exponent: 3\n",
      "Refined using homogeneity; word: aba̅b̅a, exponent: 4\n",
      "Refined using homogeneity; word: aba̅b̅a, exponent: 5\n",
      "Refined using homogeneity; word: aba̅b̅a, exponent: 6\n",
      "Refined using homogeneity; word: aba̅b̅a, exponent: 7\n",
      "Refined using homogeneity; word: aba̅b̅a, exponent: 8\n",
      "Refined using homogeneity; word: aba̅b̅a, exponent: 9\n",
      "Refined using homogeneity; word: aba̅b̅a, exponent: 10\n",
      "Refined using homogeneity; word: aba̅b̅a, exponent: 11\n",
      "Refined using homogeneity; word: aba̅b̅a, exponent: 12\n",
      "Refined using homogeneity; word: aba̅b̅a, exponent: 13\n",
      "Refined using homogeneity; word: aba̅b̅a, exponent: 14\n",
      "Refined using homogeneity; word: aba̅b̅a, exponent: 15\n",
      "Refined using homogeneity; word: aba̅b̅a, exponent: 16\n"
     ]
    },
    {
     "data": {
      "text/html": [
       "<div class=\"jp-RenderedText\">\n",
       "<pre><code><span style=\"color: rgb(0, 187, 187)\"><span class=\"ansi-cyan-fg\">proofFuture</span></span>: <span style=\"color: rgb(0, 187, 0)\"><span class=\"ansi-green-fg\">monix</span></span>.<span style=\"color: rgb(0, 187, 0)\"><span class=\"ansi-green-fg\">execution</span></span>.<span style=\"color: rgb(0, 187, 0)\"><span class=\"ansi-green-fg\">CancelableFuture</span></span>[<span style=\"color: rgb(0, 187, 0)\"><span class=\"ansi-green-fg\">String</span></span>] = <span style=\"color: rgb(0, 187, 0)\"><span class=\"ansi-green-fg\"><style>@keyframes fadein { from { opacity: 0; } to { opacity: 1; } }</style><span style=\"animation: fadein 2s;\"><span style=\"color: yellow\"><span class=\"ansi-yellow-fg\">Success</span></span>(\n",
       "  <span style=\"color: rgb(0, 187, 0)\"><span class=\"ansi-green-fg\">&quot;&quot;&quot;\n",
       "## Proof output \n",
       "\n",
       "* |b| ≤ 1.0\n",
       "* |a̅ba| ≤ 1.0 using |b| ≤ 1.0\n",
       "* |a| ≤ 1.0\n",
       "* |bab̅| ≤ 1.0 using |a| ≤ 1.0\n",
       "* |b̅| ≤ 1.0\n",
       "* |ab̅a̅| ≤ 1.0 using |b̅| ≤ 1.0\n",
       "* |a̅b̅a| ≤ 1.0 using |a̅b̅a| ≤ 1.0 and |e| ≤ 0.0\n",
       "* |b̅aba̅b̅a| ≤ 2.0 using |b̅ab| ≤ 1.0 and |a̅b̅a| ≤ 1.0\n",
       "* |ab̅aba̅b̅aa̅| ≤ 2.0 using |b̅aba̅b̅a| ≤ 2.0\n",
       "* |a̅| ≤ 1.0\n",
       "* |b̅a̅b| ≤ 1.0 using |a̅| ≤ 1.0\n",
       "* |b̅ab| ≤ 1.0 using |b̅ab| ≤ 1.0 and |e| ≤ 0.0\n",
       "* |aba̅b̅ab| ≤ 2.0 using |aba̅| ≤ 1.0 and |b̅ab| ≤ 1.0\n",
       "* |a̅aba̅b̅aba| ≤ 2.0 using |aba̅b̅ab| ≤ 2.0\n",
       "* |aaba̅b̅aba̅| ≤ 2.0 using |aaba̅b̅aba̅| ≤ 2.0 and |e| ≤ 0.0\n",
       "* |ba̅b̅aaba̅b̅aba̅| ≤ 3.0 using |ba̅b̅| ≤ 1.0 and |aaba̅b̅aba̅| ≤ 2.0\n",
       "* |a̅b̅aba̅b̅aaba̅b̅aba̅| ≤ 4.0 using |a̅b̅a| ≤ 1.0 and |ba̅b̅aaba̅b̅aba̅| ≤ 3.0\n",
       "* |b̅a̅b̅aba̅b̅aaba̅b̅aba̅b| ≤ 4.0 using |a̅b̅aba̅b̅aaba̅b̅aba̅| ≤ 4.0\n",
       "* |ba̅b̅aba̅b̅aaba̅b̅aba̅b̅aaba̅b̅aba̅| ≤ 6.0 using |ba̅b̅aba̅b̅aaba̅b̅aba̅b̅| ≤ 4.0 and |aaba̅b̅aba̅| ≤ 2.0\n",
       "* |a̅b̅aba̅b̅aaba̅b̅aba̅b̅aaba̅b̅aba̅b̅aaba̅b̅aba̅| ≤ 8.0 using |a̅b̅aba̅b̅aa| ≤ 2.0 and |ba̅b̅aba̅b̅aaba̅b̅aba̅b̅aaba̅b̅aba̅| ≤ 6.0\n",
       "* |b̅a̅b̅aba̅b̅aaba̅b̅aba̅b̅aaba̅b̅aba̅b̅aaba̅b̅aba̅b| ≤ 8.0 using |a̅b̅aba̅b̅aaba̅b̅aba̅b̅aaba̅b̅aba̅b̅aaba̅b̅aba̅| ≤ 8.0\n",
       "* |ba̅b̅aba̅b̅aaba̅b̅aba̅b̅aaba̅b̅aba̅b̅aaba̅b̅aba̅b̅aaba̅b̅aba̅| ≤ 10.0 using |ba̅b̅aba̅b̅aaba̅b̅aba̅b̅aaba̅b̅aba̅b̅aaba̅b̅aba̅b̅| ≤ 8.0 and |aaba̅b̅aba̅| ≤ 2.0\n",
       "* |a̅b̅aba̅b̅aaba̅b̅aba̅b̅aaba̅b̅aba̅b̅aaba̅b̅aba̅b̅aaba̅b̅aba̅b̅aaba̅b̅aba̅| ≤ 12.0 using |a̅b̅aba̅b̅aa| ≤ 2.0 and |ba̅b̅aba̅b̅aaba̅b̅aba̅b̅aaba̅b̅aba̅b̅aaba̅b̅aba̅b̅aaba̅b̅aba̅| ≤ 10.0\n",
       "* |b̅a̅b̅aba̅b̅aaba̅b̅aba̅b̅aaba̅b̅aba̅b̅aaba̅b̅aba̅b̅aaba̅b̅aba̅b̅aaba̅b̅aba̅b| ≤ 12.0 using |a̅b̅aba̅b̅aaba̅b̅aba̅b̅aaba̅b̅aba̅b̅aaba̅b̅aba̅b̅aaba̅b̅aba̅b̅aaba̅b̅aba̅| ≤ 12.0\n",
       "* |ba̅b̅aba̅b̅aaba̅b̅aba̅b̅aaba̅b̅aba̅b̅aaba̅b̅aba̅b̅aaba̅b̅aba̅b̅aaba̅b̅aba̅b̅aaba̅b̅aba̅| ≤ 14.0 using |ba̅b̅aba̅b̅aaba̅b̅aba̅b̅aaba̅b̅aba̅b̅aaba̅b̅aba̅b̅aaba</span></span>...</span></span></span></code></pre>\n",
       "</div>"
      ],
      "text/plain": [
       "\u001b[36mproofFuture\u001b[39m: \u001b[32mmonix\u001b[39m.\u001b[32mexecution\u001b[39m.\u001b[32mCancelableFuture\u001b[39m[\u001b[32mString\u001b[39m] = \u001b[32m\u001b[33mSuccess\u001b[39m(\n",
       "  \u001b[32m\"\"\"\n",
       "## Proof output \n",
       "\n",
       "* |b| ≤ 1.0\n",
       "* |a̅ba| ≤ 1.0 using |b| ≤ 1.0\n",
       "* |a| ≤ 1.0\n",
       "* |bab̅| ≤ 1.0 using |a| ≤ 1.0\n",
       "* |b̅| ≤ 1.0\n",
       "* |ab̅a̅| ≤ 1.0 using |b̅| ≤ 1.0\n",
       "* |a̅b̅a| ≤ 1.0 using |a̅b̅a| ≤ 1.0 and |e| ≤ 0.0\n",
       "* |b̅aba̅b̅a| ≤ 2.0 using |b̅ab| ≤ 1.0 and |a̅b̅a| ≤ 1.0\n",
       "* |ab̅aba̅b̅aa̅| ≤ 2.0 using |b̅aba̅b̅a| ≤ 2.0\n",
       "* |a̅| ≤ 1.0\n",
       "* |b̅a̅b| ≤ 1.0 using |a̅| ≤ 1.0\n",
       "* |b̅ab| ≤ 1.0 using |b̅ab| ≤ 1.0 and |e| ≤ 0.0\n",
       "* |aba̅b̅ab| ≤ 2.0 using |aba̅| ≤ 1.0 and |b̅ab| ≤ 1.0\n",
       "* |a̅aba̅b̅aba| ≤ 2.0 using |aba̅b̅ab| ≤ 2.0\n",
       "* |aaba̅b̅aba̅| ≤ 2.0 using |aaba̅b̅aba̅| ≤ 2.0 and |e| ≤ 0.0\n",
       "* |ba̅b̅aaba̅b̅aba̅| ≤ 3.0 using |ba̅b̅| ≤ 1.0 and |aaba̅b̅aba̅| ≤ 2.0\n",
       "* |a̅b̅aba̅b̅aaba̅b̅aba̅| ≤ 4.0 using |a̅b̅a| ≤ 1.0 and |ba̅b̅aaba̅b̅aba̅| ≤ 3.0\n",
       "* |b̅a̅b̅aba̅b̅aaba̅b̅aba̅b| ≤ 4.0 using |a̅b̅aba̅b̅aaba̅b̅aba̅| ≤ 4.0\n",
       "* |ba̅b̅aba̅b̅aaba̅b̅aba̅b̅aaba̅b̅aba̅| ≤ 6.0 using |ba̅b̅aba̅b̅aaba̅b̅aba̅b̅| ≤ 4.0 and |aaba̅b̅aba̅| ≤ 2.0\n",
       "* |a̅b̅aba̅b̅aaba̅b̅aba̅b̅aaba̅b̅aba̅b̅aaba̅b̅aba̅| ≤ 8.0 using |a̅b̅aba̅b̅aa| ≤ 2.0 and |ba̅b̅aba̅b̅aaba̅b̅aba̅b̅aaba̅b̅aba̅| ≤ 6.0\n",
       "* |b̅a̅b̅aba̅b̅aaba̅b̅aba̅b̅aaba̅b̅aba̅b̅aaba̅b̅aba̅b| ≤ 8.0 using |a̅b̅aba̅b̅aaba̅b̅aba̅b̅aaba̅b̅aba̅b̅aaba̅b̅aba̅| ≤ 8.0\n",
       "* |ba̅b̅aba̅b̅aaba̅b̅aba̅b̅aaba̅b̅aba̅b̅aaba̅b̅aba̅b̅aaba̅b̅aba̅| ≤ 10.0 using |ba̅b̅aba̅b̅aaba̅b̅aba̅b̅aaba̅b̅aba̅b̅aaba̅b̅aba̅b̅| ≤ 8.0 and |aaba̅b̅aba̅| ≤ 2.0\n",
       "* |a̅b̅aba̅b̅aaba̅b̅aba̅b̅aaba̅b̅aba̅b̅aaba̅b̅aba̅b̅aaba̅b̅aba̅b̅aaba̅b̅aba̅| ≤ 12.0 using |a̅b̅aba̅b̅aa| ≤ 2.0 and |ba̅b̅aba̅b̅aaba̅b̅aba̅b̅aaba̅b̅aba̅b̅aaba̅b̅aba̅b̅aaba̅b̅aba̅| ≤ 10.0\n",
       "* |b̅a̅b̅aba̅b̅aaba̅b̅aba̅b̅aaba̅b̅aba̅b̅aaba̅b̅aba̅b̅aaba̅b̅aba̅b̅aaba̅b̅aba̅b| ≤ 12.0 using |a̅b̅aba̅b̅aaba̅b̅aba̅b̅aaba̅b̅aba̅b̅aaba̅b̅aba̅b̅aaba̅b̅aba̅b̅aaba̅b̅aba̅| ≤ 12.0\n",
       "* |ba̅b̅aba̅b̅aaba̅b̅aba̅b̅aaba̅b̅aba̅b̅aaba̅b̅aba̅b̅aaba̅b̅aba̅b̅aaba̅b̅aba̅b̅aaba̅b̅aba̅| ≤ 14.0 using |ba̅b̅aba̅b̅aaba̅b̅aba̅b̅aaba̅b̅aba̅b̅aaba̅b̅aba̅b̅aaba\u001b[39m...\u001b[39m"
      ]
     },
     "metadata": {},
     "output_type": "display_data"
    }
   ],
   "source": [
    "val proofFuture = ProofFinder.getProofFuture"
   ]
  },
  {
   "cell_type": "code",
   "execution_count": 21,
   "metadata": {},
   "outputs": [
    {
     "data": {
      "text/markdown": [
       "\n",
       "## Proof output \n",
       "\n",
       "* |b| ≤ 1.0\n",
       "* |a̅ba| ≤ 1.0 using |b| ≤ 1.0\n",
       "* |a| ≤ 1.0\n",
       "* |bab̅| ≤ 1.0 using |a| ≤ 1.0\n",
       "* |b̅| ≤ 1.0\n",
       "* |ab̅a̅| ≤ 1.0 using |b̅| ≤ 1.0\n",
       "* |a̅b̅a| ≤ 1.0 using |a̅b̅a| ≤ 1.0 and |e| ≤ 0.0\n",
       "* |b̅aba̅b̅a| ≤ 2.0 using |b̅ab| ≤ 1.0 and |a̅b̅a| ≤ 1.0\n",
       "* |ab̅aba̅b̅aa̅| ≤ 2.0 using |b̅aba̅b̅a| ≤ 2.0\n",
       "* |a̅| ≤ 1.0\n",
       "* |b̅a̅b| ≤ 1.0 using |a̅| ≤ 1.0\n",
       "* |b̅ab| ≤ 1.0 using |b̅ab| ≤ 1.0 and |e| ≤ 0.0\n",
       "* |aba̅b̅ab| ≤ 2.0 using |aba̅| ≤ 1.0 and |b̅ab| ≤ 1.0\n",
       "* |a̅aba̅b̅aba| ≤ 2.0 using |aba̅b̅ab| ≤ 2.0\n",
       "* |aaba̅b̅aba̅| ≤ 2.0 using |aaba̅b̅aba̅| ≤ 2.0 and |e| ≤ 0.0\n",
       "* |ba̅b̅aaba̅b̅aba̅| ≤ 3.0 using |ba̅b̅| ≤ 1.0 and |aaba̅b̅aba̅| ≤ 2.0\n",
       "* |a̅b̅aba̅b̅aaba̅b̅aba̅| ≤ 4.0 using |a̅b̅a| ≤ 1.0 and |ba̅b̅aaba̅b̅aba̅| ≤ 3.0\n",
       "* |b̅a̅b̅aba̅b̅aaba̅b̅aba̅b| ≤ 4.0 using |a̅b̅aba̅b̅aaba̅b̅aba̅| ≤ 4.0\n",
       "* |ba̅b̅aba̅b̅aaba̅b̅aba̅b̅aaba̅b̅aba̅| ≤ 6.0 using |ba̅b̅aba̅b̅aaba̅b̅aba̅b̅| ≤ 4.0 and |aaba̅b̅aba̅| ≤ 2.0\n",
       "* |a̅b̅aba̅b̅aaba̅b̅aba̅b̅aaba̅b̅aba̅b̅aaba̅b̅aba̅| ≤ 8.0 using |a̅b̅aba̅b̅aa| ≤ 2.0 and |ba̅b̅aba̅b̅aaba̅b̅aba̅b̅aaba̅b̅aba̅| ≤ 6.0\n",
       "* |b̅a̅b̅aba̅b̅aaba̅b̅aba̅b̅aaba̅b̅aba̅b̅aaba̅b̅aba̅b| ≤ 8.0 using |a̅b̅aba̅b̅aaba̅b̅aba̅b̅aaba̅b̅aba̅b̅aaba̅b̅aba̅| ≤ 8.0\n",
       "* |ba̅b̅aba̅b̅aaba̅b̅aba̅b̅aaba̅b̅aba̅b̅aaba̅b̅aba̅b̅aaba̅b̅aba̅| ≤ 10.0 using |ba̅b̅aba̅b̅aaba̅b̅aba̅b̅aaba̅b̅aba̅b̅aaba̅b̅aba̅b̅| ≤ 8.0 and |aaba̅b̅aba̅| ≤ 2.0\n",
       "* |a̅b̅aba̅b̅aaba̅b̅aba̅b̅aaba̅b̅aba̅b̅aaba̅b̅aba̅b̅aaba̅b̅aba̅b̅aaba̅b̅aba̅| ≤ 12.0 using |a̅b̅aba̅b̅aa| ≤ 2.0 and |ba̅b̅aba̅b̅aaba̅b̅aba̅b̅aaba̅b̅aba̅b̅aaba̅b̅aba̅b̅aaba̅b̅aba̅| ≤ 10.0\n",
       "* |b̅a̅b̅aba̅b̅aaba̅b̅aba̅b̅aaba̅b̅aba̅b̅aaba̅b̅aba̅b̅aaba̅b̅aba̅b̅aaba̅b̅aba̅b| ≤ 12.0 using |a̅b̅aba̅b̅aaba̅b̅aba̅b̅aaba̅b̅aba̅b̅aaba̅b̅aba̅b̅aaba̅b̅aba̅b̅aaba̅b̅aba̅| ≤ 12.0\n",
       "* |ba̅b̅aba̅b̅aaba̅b̅aba̅b̅aaba̅b̅aba̅b̅aaba̅b̅aba̅b̅aaba̅b̅aba̅b̅aaba̅b̅aba̅b̅aaba̅b̅aba̅| ≤ 14.0 using |ba̅b̅aba̅b̅aaba̅b̅aba̅b̅aaba̅b̅aba̅b̅aaba̅b̅aba̅b̅aaba̅b̅aba̅b̅aaba̅b̅aba̅b̅| ≤ 12.0 and |aaba̅b̅aba̅| ≤ 2.0\n",
       "* |a̅b̅aba̅b̅aaba̅b̅aba̅b̅aaba̅b̅aba̅b̅aaba̅b̅aba̅b̅aaba̅b̅aba̅b̅aaba̅b̅aba̅b̅aaba̅b̅aba̅b̅aaba̅b̅aba̅| ≤ 16.0 using |a̅b̅aba̅b̅aa| ≤ 2.0 and |ba̅b̅aba̅b̅aaba̅b̅aba̅b̅aaba̅b̅aba̅b̅aaba̅b̅aba̅b̅aaba̅b̅aba̅b̅aaba̅b̅aba̅b̅aaba̅b̅aba̅| ≤ 14.0\n",
       "* |b̅a̅b̅aba̅b̅aaba̅b̅aba̅b̅aaba̅b̅aba̅b̅aaba̅b̅aba̅b̅aaba̅b̅aba̅b̅aaba̅b̅aba̅b̅aaba̅b̅aba̅b̅aaba̅b̅aba̅b| ≤ 16.0 using |a̅b̅aba̅b̅aaba̅b̅aba̅b̅aaba̅b̅aba̅b̅aaba̅b̅aba̅b̅aaba̅b̅aba̅b̅aaba̅b̅aba̅b̅aaba̅b̅aba̅b̅aaba̅b̅aba̅| ≤ 16.0\n",
       "* |ba̅b̅aba̅b̅aaba̅b̅aba̅b̅aaba̅b̅aba̅b̅aaba̅b̅aba̅b̅aaba̅b̅aba̅b̅aaba̅b̅aba̅b̅aaba̅b̅aba̅b̅aaba̅b̅aba̅b̅aaba̅b̅aba̅| ≤ 18.0 using |ba̅b̅aba̅b̅aaba̅b̅aba̅b̅aaba̅b̅aba̅b̅aaba̅b̅aba̅b̅aaba̅b̅aba̅b̅aaba̅b̅aba̅b̅aaba̅b̅aba̅b̅aaba̅b̅aba̅b̅| ≤ 16.0 and |aaba̅b̅aba̅| ≤ 2.0\n",
       "* |a̅b̅aba̅b̅aaba̅b̅aba̅b̅aaba̅b̅aba̅b̅aaba̅b̅aba̅b̅aaba̅b̅aba̅b̅aaba̅b̅aba̅b̅aaba̅b̅aba̅b̅aaba̅b̅aba̅b̅aaba̅b̅aba̅b̅aaba̅b̅aba̅| ≤ 20.0 using |a̅b̅aba̅b̅aa| ≤ 2.0 and |ba̅b̅aba̅b̅aaba̅b̅aba̅b̅aaba̅b̅aba̅b̅aaba̅b̅aba̅b̅aaba̅b̅aba̅b̅aaba̅b̅aba̅b̅aaba̅b̅aba̅b̅aaba̅b̅aba̅b̅aaba̅b̅aba̅| ≤ 18.0\n",
       "* |b̅a̅b̅aba̅b̅aaba̅b̅aba̅b̅aaba̅b̅aba̅b̅aaba̅b̅aba̅b̅aaba̅b̅aba̅b̅aaba̅b̅aba̅b̅aaba̅b̅aba̅b̅aaba̅b̅aba̅b̅aaba̅b̅aba̅b̅aaba̅b̅aba̅b| ≤ 20.0 using |a̅b̅aba̅b̅aaba̅b̅aba̅b̅aaba̅b̅aba̅b̅aaba̅b̅aba̅b̅aaba̅b̅aba̅b̅aaba̅b̅aba̅b̅aaba̅b̅aba̅b̅aaba̅b̅aba̅b̅aaba̅b̅aba̅b̅aaba̅b̅aba̅| ≤ 20.0\n",
       "* |ba̅b̅aba̅b̅aaba̅b̅aba̅b̅aaba̅b̅aba̅b̅aaba̅b̅aba̅b̅aaba̅b̅aba̅b̅aaba̅b̅aba̅b̅aaba̅b̅aba̅b̅aaba̅b̅aba̅b̅aaba̅b̅aba̅b̅aaba̅b̅aba̅b̅aaba̅b̅aba̅| ≤ 22.0 using |ba̅b̅aba̅b̅aaba̅b̅aba̅b̅aaba̅b̅aba̅b̅aaba̅b̅aba̅b̅aaba̅b̅aba̅b̅aaba̅b̅aba̅b̅aaba̅b̅aba̅b̅aaba̅b̅aba̅b̅aaba̅b̅aba̅b̅aaba̅b̅aba̅b̅| ≤ 20.0 and |aaba̅b̅aba̅| ≤ 2.0\n",
       "* |a̅b̅aba̅b̅aaba̅b̅aba̅b̅aaba̅b̅aba̅b̅aaba̅b̅aba̅b̅aaba̅b̅aba̅b̅aaba̅b̅aba̅b̅aaba̅b̅aba̅b̅aaba̅b̅aba̅b̅aaba̅b̅aba̅b̅aaba̅b̅aba̅b̅aaba̅b̅aba̅b̅aaba̅b̅aba̅| ≤ 24.0 using |a̅b̅aba̅b̅aa| ≤ 2.0 and |ba̅b̅aba̅b̅aaba̅b̅aba̅b̅aaba̅b̅aba̅b̅aaba̅b̅aba̅b̅aaba̅b̅aba̅b̅aaba̅b̅aba̅b̅aaba̅b̅aba̅b̅aaba̅b̅aba̅b̅aaba̅b̅aba̅b̅aaba̅b̅aba̅b̅aaba̅b̅aba̅| ≤ 22.0\n",
       "* |b̅a̅b̅aba̅b̅aaba̅b̅aba̅b̅aaba̅b̅aba̅b̅aaba̅b̅aba̅b̅aaba̅b̅aba̅b̅aaba̅b̅aba̅b̅aaba̅b̅aba̅b̅aaba̅b̅aba̅b̅aaba̅b̅aba̅b̅aaba̅b̅aba̅b̅aaba̅b̅aba̅b̅aaba̅b̅aba̅b| ≤ 24.0 using |a̅b̅aba̅b̅aaba̅b̅aba̅b̅aaba̅b̅aba̅b̅aaba̅b̅aba̅b̅aaba̅b̅aba̅b̅aaba̅b̅aba̅b̅aaba̅b̅aba̅b̅aaba̅b̅aba̅b̅aaba̅b̅aba̅b̅aaba̅b̅aba̅b̅aaba̅b̅aba̅b̅aaba̅b̅aba̅| ≤ 24.0\n",
       "* |ba̅b̅aba̅b̅aaba̅b̅aba̅b̅aaba̅b̅aba̅b̅aaba̅b̅aba̅b̅aaba̅b̅aba̅b̅aaba̅b̅aba̅b̅aaba̅b̅aba̅b̅aaba̅b̅aba̅b̅aaba̅b̅aba̅b̅aaba̅b̅aba̅b̅aaba̅b̅aba̅b̅aaba̅b̅aba̅b̅aaba̅b̅aba̅| ≤ 26.0 using |ba̅b̅aba̅b̅aaba̅b̅aba̅b̅aaba̅b̅aba̅b̅aaba̅b̅aba̅b̅aaba̅b̅aba̅b̅aaba̅b̅aba̅b̅aaba̅b̅aba̅b̅aaba̅b̅aba̅b̅aaba̅b̅aba̅b̅aaba̅b̅aba̅b̅aaba̅b̅aba̅b̅aaba̅b̅aba̅b̅| ≤ 24.0 and |aaba̅b̅aba̅| ≤ 2.0\n",
       "* |a̅b̅aba̅b̅aaba̅b̅aba̅b̅aaba̅b̅aba̅b̅aaba̅b̅aba̅b̅aaba̅b̅aba̅b̅aaba̅b̅aba̅b̅aaba̅b̅aba̅b̅aaba̅b̅aba̅b̅aaba̅b̅aba̅b̅aaba̅b̅aba̅b̅aaba̅b̅aba̅b̅aaba̅b̅aba̅b̅aaba̅b̅aba̅b̅aaba̅b̅aba̅| ≤ 28.0 using |a̅b̅aba̅b̅aa| ≤ 2.0 and |ba̅b̅aba̅b̅aaba̅b̅aba̅b̅aaba̅b̅aba̅b̅aaba̅b̅aba̅b̅aaba̅b̅aba̅b̅aaba̅b̅aba̅b̅aaba̅b̅aba̅b̅aaba̅b̅aba̅b̅aaba̅b̅aba̅b̅aaba̅b̅aba̅b̅aaba̅b̅aba̅b̅aaba̅b̅aba̅b̅aaba̅b̅aba̅| ≤ 26.0\n",
       "* |b̅a̅b̅aba̅b̅aaba̅b̅aba̅b̅aaba̅b̅aba̅b̅aaba̅b̅aba̅b̅aaba̅b̅aba̅b̅aaba̅b̅aba̅b̅aaba̅b̅aba̅b̅aaba̅b̅aba̅b̅aaba̅b̅aba̅b̅aaba̅b̅aba̅b̅aaba̅b̅aba̅b̅aaba̅b̅aba̅b̅aaba̅b̅aba̅b̅aaba̅b̅aba̅b| ≤ 28.0 using |a̅b̅aba̅b̅aaba̅b̅aba̅b̅aaba̅b̅aba̅b̅aaba̅b̅aba̅b̅aaba̅b̅aba̅b̅aaba̅b̅aba̅b̅aaba̅b̅aba̅b̅aaba̅b̅aba̅b̅aaba̅b̅aba̅b̅aaba̅b̅aba̅b̅aaba̅b̅aba̅b̅aaba̅b̅aba̅b̅aaba̅b̅aba̅b̅aaba̅b̅aba̅| ≤ 28.0\n",
       "* |ba̅b̅aba̅b̅aaba̅b̅aba̅b̅aaba̅b̅aba̅b̅aaba̅b̅aba̅b̅aaba̅b̅aba̅b̅aaba̅b̅aba̅b̅aaba̅b̅aba̅b̅aaba̅b̅aba̅b̅aaba̅b̅aba̅b̅aaba̅b̅aba̅b̅aaba̅b̅aba̅b̅aaba̅b̅aba̅b̅aaba̅b̅aba̅b̅aaba̅b̅aba̅b̅aaba̅b̅aba̅| ≤ 30.0 using |ba̅b̅aba̅b̅aaba̅b̅aba̅b̅aaba̅b̅aba̅b̅aaba̅b̅aba̅b̅aaba̅b̅aba̅b̅aaba̅b̅aba̅b̅aaba̅b̅aba̅b̅aaba̅b̅aba̅b̅aaba̅b̅aba̅b̅aaba̅b̅aba̅b̅aaba̅b̅aba̅b̅aaba̅b̅aba̅b̅aaba̅b̅aba̅b̅aaba̅b̅aba̅b̅| ≤ 28.0 and |aaba̅b̅aba̅| ≤ 2.0\n",
       "* |a̅b̅aba̅b̅aaba̅b̅aba̅b̅aaba̅b̅aba̅b̅aaba̅b̅aba̅b̅aaba̅b̅aba̅b̅aaba̅b̅aba̅b̅aaba̅b̅aba̅b̅aaba̅b̅aba̅b̅aaba̅b̅aba̅b̅aaba̅b̅aba̅b̅aaba̅b̅aba̅b̅aaba̅b̅aba̅b̅aaba̅b̅aba̅b̅aaba̅b̅aba̅b̅aaba̅b̅aba̅b̅aaba̅b̅aba̅| ≤ 32.0 using |a̅b̅aba̅b̅aa| ≤ 2.0 and |ba̅b̅aba̅b̅aaba̅b̅aba̅b̅aaba̅b̅aba̅b̅aaba̅b̅aba̅b̅aaba̅b̅aba̅b̅aaba̅b̅aba̅b̅aaba̅b̅aba̅b̅aaba̅b̅aba̅b̅aaba̅b̅aba̅b̅aaba̅b̅aba̅b̅aaba̅b̅aba̅b̅aaba̅b̅aba̅b̅aaba̅b̅aba̅b̅aaba̅b̅aba̅b̅aaba̅b̅aba̅| ≤ 30.0\n",
       "* |b̅a̅b̅aba̅b̅aaba̅b̅aba̅b̅aaba̅b̅aba̅b̅aaba̅b̅aba̅b̅aaba̅b̅aba̅b̅aaba̅b̅aba̅b̅aaba̅b̅aba̅b̅aaba̅b̅aba̅b̅aaba̅b̅aba̅b̅aaba̅b̅aba̅b̅aaba̅b̅aba̅b̅aaba̅b̅aba̅b̅aaba̅b̅aba̅b̅aaba̅b̅aba̅b̅aaba̅b̅aba̅b̅aaba̅b̅aba̅b| ≤ 32.0 using |a̅b̅aba̅b̅aaba̅b̅aba̅b̅aaba̅b̅aba̅b̅aaba̅b̅aba̅b̅aaba̅b̅aba̅b̅aaba̅b̅aba̅b̅aaba̅b̅aba̅b̅aaba̅b̅aba̅b̅aaba̅b̅aba̅b̅aaba̅b̅aba̅b̅aaba̅b̅aba̅b̅aaba̅b̅aba̅b̅aaba̅b̅aba̅b̅aaba̅b̅aba̅b̅aaba̅b̅aba̅b̅aaba̅b̅aba̅| ≤ 32.0\n",
       "* |ba̅b̅aba̅b̅aaba̅b̅aba̅b̅aaba̅b̅aba̅b̅aaba̅b̅aba̅b̅aaba̅b̅aba̅b̅aaba̅b̅aba̅b̅aaba̅b̅aba̅b̅aaba̅b̅aba̅b̅aaba̅b̅aba̅b̅aaba̅b̅aba̅b̅aaba̅b̅aba̅b̅aaba̅b̅aba̅b̅aaba̅b̅aba̅b̅aaba̅b̅aba̅b̅aaba̅b̅aba̅b̅aaba̅b̅aba̅b̅aaba̅b̅aba̅| ≤ 34.0 using |ba̅b̅aba̅b̅aaba̅b̅aba̅b̅aaba̅b̅aba̅b̅aaba̅b̅aba̅b̅aaba̅b̅aba̅b̅aaba̅b̅aba̅b̅aaba̅b̅aba̅b̅aaba̅b̅aba̅b̅aaba̅b̅aba̅b̅aaba̅b̅aba̅b̅aaba̅b̅aba̅b̅aaba̅b̅aba̅b̅aaba̅b̅aba̅b̅aaba̅b̅aba̅b̅aaba̅b̅aba̅b̅aaba̅b̅aba̅b̅| ≤ 32.0 and |aaba̅b̅aba̅| ≤ 2.0\n",
       "* |a̅b̅aba̅b̅aaba̅b̅aba̅b̅aaba̅b̅aba̅b̅aaba̅b̅aba̅b̅aaba̅b̅aba̅b̅aaba̅b̅aba̅b̅aaba̅b̅aba̅b̅aaba̅b̅aba̅b̅aaba̅b̅aba̅b̅aaba̅b̅aba̅b̅aaba̅b̅aba̅b̅aaba̅b̅aba̅b̅aaba̅b̅aba̅b̅aaba̅b̅aba̅b̅aaba̅b̅aba̅b̅aaba̅b̅aba̅b̅aaba̅b̅aba̅b̅aaba̅b̅aba̅| ≤ 36.0 using |a̅b̅aba̅b̅aa| ≤ 2.0 and |ba̅b̅aba̅b̅aaba̅b̅aba̅b̅aaba̅b̅aba̅b̅aaba̅b̅aba̅b̅aaba̅b̅aba̅b̅aaba̅b̅aba̅b̅aaba̅b̅aba̅b̅aaba̅b̅aba̅b̅aaba̅b̅aba̅b̅aaba̅b̅aba̅b̅aaba̅b̅aba̅b̅aaba̅b̅aba̅b̅aaba̅b̅aba̅b̅aaba̅b̅aba̅b̅aaba̅b̅aba̅b̅aaba̅b̅aba̅b̅aaba̅b̅aba̅| ≤ 34.0\n",
       "* |b̅a̅b̅aba̅b̅aaba̅b̅aba̅b̅aaba̅b̅aba̅b̅aaba̅b̅aba̅b̅aaba̅b̅aba̅b̅aaba̅b̅aba̅b̅aaba̅b̅aba̅b̅aaba̅b̅aba̅b̅aaba̅b̅aba̅b̅aaba̅b̅aba̅b̅aaba̅b̅aba̅b̅aaba̅b̅aba̅b̅aaba̅b̅aba̅b̅aaba̅b̅aba̅b̅aaba̅b̅aba̅b̅aaba̅b̅aba̅b̅aaba̅b̅aba̅b̅aaba̅b̅aba̅b| ≤ 36.0 using |a̅b̅aba̅b̅aaba̅b̅aba̅b̅aaba̅b̅aba̅b̅aaba̅b̅aba̅b̅aaba̅b̅aba̅b̅aaba̅b̅aba̅b̅aaba̅b̅aba̅b̅aaba̅b̅aba̅b̅aaba̅b̅aba̅b̅aaba̅b̅aba̅b̅aaba̅b̅aba̅b̅aaba̅b̅aba̅b̅aaba̅b̅aba̅b̅aaba̅b̅aba̅b̅aaba̅b̅aba̅b̅aaba̅b̅aba̅b̅aaba̅b̅aba̅b̅aaba̅b̅aba̅| ≤ 36.0\n",
       "* |ba̅b̅aba̅b̅aaba̅b̅aba̅b̅aaba̅b̅aba̅b̅aaba̅b̅aba̅b̅aaba̅b̅aba̅b̅aaba̅b̅aba̅b̅aaba̅b̅aba̅b̅aaba̅b̅aba̅b̅aaba̅b̅aba̅b̅aaba̅b̅aba̅b̅aaba̅b̅aba̅b̅aaba̅b̅aba̅b̅aaba̅b̅aba̅b̅aaba̅b̅aba̅b̅aaba̅b̅aba̅b̅aaba̅b̅aba̅b̅aaba̅b̅aba̅b̅aaba̅b̅aba̅b̅aaba̅b̅aba̅| ≤ 38.0 using |ba̅b̅aba̅b̅aaba̅b̅aba̅b̅aaba̅b̅aba̅b̅aaba̅b̅aba̅b̅aaba̅b̅aba̅b̅aaba̅b̅aba̅b̅aaba̅b̅aba̅b̅aaba̅b̅aba̅b̅aaba̅b̅aba̅b̅aaba̅b̅aba̅b̅aaba̅b̅aba̅b̅aaba̅b̅aba̅b̅aaba̅b̅aba̅b̅aaba̅b̅aba̅b̅aaba̅b̅aba̅b̅aaba̅b̅aba̅b̅aaba̅b̅aba̅b̅aaba̅b̅aba̅b̅| ≤ 36.0 and |aaba̅b̅aba̅| ≤ 2.0\n",
       "* |a̅b̅aba̅b̅aaba̅b̅aba̅b̅aaba̅b̅aba̅b̅aaba̅b̅aba̅b̅aaba̅b̅aba̅b̅aaba̅b̅aba̅b̅aaba̅b̅aba̅b̅aaba̅b̅aba̅b̅aaba̅b̅aba̅b̅aaba̅b̅aba̅b̅aaba̅b̅aba̅b̅aaba̅b̅aba̅b̅aaba̅b̅aba̅b̅aaba̅b̅aba̅b̅aaba̅b̅aba̅b̅aaba̅b̅aba̅b̅aaba̅b̅aba̅b̅aaba̅b̅aba̅b̅aaba̅b̅aba̅b̅aaba̅b̅aba̅| ≤ 40.0 using |a̅b̅aba̅b̅aa| ≤ 2.0 and |ba̅b̅aba̅b̅aaba̅b̅aba̅b̅aaba̅b̅aba̅b̅aaba̅b̅aba̅b̅aaba̅b̅aba̅b̅aaba̅b̅aba̅b̅aaba̅b̅aba̅b̅aaba̅b̅aba̅b̅aaba̅b̅aba̅b̅aaba̅b̅aba̅b̅aaba̅b̅aba̅b̅aaba̅b̅aba̅b̅aaba̅b̅aba̅b̅aaba̅b̅aba̅b̅aaba̅b̅aba̅b̅aaba̅b̅aba̅b̅aaba̅b̅aba̅b̅aaba̅b̅aba̅b̅aaba̅b̅aba̅| ≤ 38.0\n",
       "* |b̅a̅b̅aba̅b̅aaba̅b̅aba̅b̅aaba̅b̅aba̅b̅aaba̅b̅aba̅b̅aaba̅b̅aba̅b̅aaba̅b̅aba̅b̅aaba̅b̅aba̅b̅aaba̅b̅aba̅b̅aaba̅b̅aba̅b̅aaba̅b̅aba̅b̅aaba̅b̅aba̅b̅aaba̅b̅aba̅b̅aaba̅b̅aba̅b̅aaba̅b̅aba̅b̅aaba̅b̅aba̅b̅aaba̅b̅aba̅b̅aaba̅b̅aba̅b̅aaba̅b̅aba̅b̅aaba̅b̅aba̅b̅aaba̅b̅aba̅b| ≤ 40.0 using |a̅b̅aba̅b̅aaba̅b̅aba̅b̅aaba̅b̅aba̅b̅aaba̅b̅aba̅b̅aaba̅b̅aba̅b̅aaba̅b̅aba̅b̅aaba̅b̅aba̅b̅aaba̅b̅aba̅b̅aaba̅b̅aba̅b̅aaba̅b̅aba̅b̅aaba̅b̅aba̅b̅aaba̅b̅aba̅b̅aaba̅b̅aba̅b̅aaba̅b̅aba̅b̅aaba̅b̅aba̅b̅aaba̅b̅aba̅b̅aaba̅b̅aba̅b̅aaba̅b̅aba̅b̅aaba̅b̅aba̅b̅aaba̅b̅aba̅| ≤ 40.0\n",
       "* |ba̅b̅aba̅b̅aaba̅b̅aba̅b̅aaba̅b̅aba̅b̅aaba̅b̅aba̅b̅aaba̅b̅aba̅b̅aaba̅b̅aba̅b̅aaba̅b̅aba̅b̅aaba̅b̅aba̅b̅aaba̅b̅aba̅b̅aaba̅b̅aba̅b̅aaba̅b̅aba̅b̅aaba̅b̅aba̅b̅aaba̅b̅aba̅b̅aaba̅b̅aba̅b̅aaba̅b̅aba̅b̅aaba̅b̅aba̅b̅aaba̅b̅aba̅b̅aaba̅b̅aba̅b̅aaba̅b̅aba̅b̅aaba̅b̅aba̅b̅a| ≤ 41.0 using |ba̅b̅aba̅b̅aaba̅b̅aba̅b̅aaba̅b̅aba̅b̅aaba̅b̅aba̅b̅aaba̅b̅aba̅b̅aaba̅b̅aba̅b̅aaba̅b̅aba̅b̅aaba̅b̅aba̅b̅aaba̅b̅aba̅b̅aaba̅b̅aba̅b̅aaba̅b̅aba̅b̅aaba̅b̅aba̅b̅aaba̅b̅aba̅b̅aaba̅b̅aba̅b̅aaba̅b̅aba̅b̅aaba̅b̅aba̅b̅aaba̅b̅aba̅b̅aaba̅b̅aba̅b̅aaba̅b̅aba̅b̅aaba̅b̅aba̅b̅| ≤ 40.0 and |a| ≤ 1.0\n",
       "* |aba̅b̅aba̅b̅aaba̅b̅aba̅b̅aaba̅b̅aba̅b̅aaba̅b̅aba̅b̅aaba̅b̅aba̅b̅aaba̅b̅aba̅b̅aaba̅b̅aba̅b̅aaba̅b̅aba̅b̅aaba̅b̅aba̅b̅aaba̅b̅aba̅b̅aaba̅b̅aba̅b̅aaba̅b̅aba̅b̅aaba̅b̅aba̅b̅aaba̅b̅aba̅b̅aaba̅b̅aba̅b̅aaba̅b̅aba̅b̅aaba̅b̅aba̅b̅aaba̅b̅aba̅b̅aaba̅b̅aba̅b̅aaba̅b̅aba̅b̅a| ≤ 42.0 using |a| ≤ 1.0 and |ba̅b̅aba̅b̅aaba̅b̅aba̅b̅aaba̅b̅aba̅b̅aaba̅b̅aba̅b̅aaba̅b̅aba̅b̅aaba̅b̅aba̅b̅aaba̅b̅aba̅b̅aaba̅b̅aba̅b̅aaba̅b̅aba̅b̅aaba̅b̅aba̅b̅aaba̅b̅aba̅b̅aaba̅b̅aba̅b̅aaba̅b̅aba̅b̅aaba̅b̅aba̅b̅aaba̅b̅aba̅b̅aaba̅b̅aba̅b̅aaba̅b̅aba̅b̅aaba̅b̅aba̅b̅aaba̅b̅aba̅b̅aaba̅b̅aba̅b̅a| ≤ 41.0\n",
       "* |aba̅b̅aba̅b̅a| ≤ 2.1 using  by taking 20th power\n",
       "* |baba̅b̅aba̅b̅ab̅| ≤ 2.1 using |aba̅b̅aba̅b̅a| ≤ 2.1\n",
       "* |aba̅| ≤ 1.0 using |aba̅| ≤ 1.0 and |e| ≤ 0.0\n",
       "* |a̅b̅aaba̅| ≤ 2.0 using |a̅b̅a| ≤ 1.0 and |aba̅| ≤ 1.0\n",
       "* |b̅a̅b̅aaba̅b| ≤ 2.0 using |a̅b̅aaba̅| ≤ 2.0\n",
       "* |aa| ≤ 2.0 using |a| ≤ 1.0 and |a| ≤ 1.0\n",
       "* |baab̅| ≤ 2.0 using |aa| ≤ 2.0\n",
       "* |b̅aab| ≤ 2.0 using |b̅aab| ≤ 2.0 and |e| ≤ 0.0\n",
       "* |aba̅b̅aab| ≤ 3.0 using |aba̅| ≤ 1.0 and |b̅aab| ≤ 2.0\n",
       "* |a̅aba̅b̅aaba| ≤ 3.0 using |aba̅b̅aab| ≤ 3.0\n",
       "* |b̅aaba̅b̅a| ≤ 3.0 using |b̅aab| ≤ 2.0 and |a̅b̅a| ≤ 1.0\n",
       "* |ab̅aaba̅b̅aa̅| ≤ 3.0 using |b̅aaba̅b̅a| ≤ 3.0\n",
       "* |aaba̅b̅aaba̅b̅aab| ≤ 5.0 using |aaba̅b̅aaba̅| ≤ 3.0 and |b̅aab| ≤ 2.0\n",
       "* |ba̅b̅aaba̅b̅aaba̅b̅aaba̅b̅aab| ≤ 7.0 using |ba̅b̅aaba̅b̅| ≤ 2.0 and |aaba̅b̅aaba̅b̅aab| ≤ 5.0\n",
       "* |a̅ba̅b̅aaba̅b̅aaba̅b̅aaba̅b̅aaba| ≤ 7.0 using |ba̅b̅aaba̅b̅aaba̅b̅aaba̅b̅aab| ≤ 7.0\n",
       "* |aba̅b̅aaba̅b̅aaba̅b̅aaba̅b̅aaba̅| ≤ 7.0 using |aba̅b̅aaba̅b̅aaba̅b̅aaba̅b̅aaba̅| ≤ 7.0 and |e| ≤ 0.0\n",
       "* |a̅b̅aaba̅b̅aaba̅b̅aaba̅b̅aaba̅b̅aaba̅| ≤ 8.0 using |a̅b̅a| ≤ 1.0 and |aba̅b̅aaba̅b̅aaba̅b̅aaba̅b̅aaba̅| ≤ 7.0\n",
       "* |b̅a̅b̅aaba̅b̅aaba̅b̅aaba̅b̅aaba̅b̅aaba̅b| ≤ 8.0 using |a̅b̅aaba̅b̅aaba̅b̅aaba̅b̅aaba̅b̅aaba̅| ≤ 8.0\n",
       "* |ba̅b̅aaba̅b̅aaba̅b̅aaba̅b̅aaba̅b̅aaba̅b̅| ≤ 8.0 using |ba̅b̅aaba̅b̅aaba̅b̅aaba̅b̅aaba̅b̅aaba̅b̅| ≤ 8.0 and |e| ≤ 0.0\n",
       "* |a̅b̅aaba̅b̅aaba̅b̅aaba̅b̅aaba̅b̅aaba̅b̅aaba̅b̅aaba̅b̅| ≤ 11.0 using |a̅b̅aaba̅b̅aa| ≤ 3.0 and |ba̅b̅aaba̅b̅aaba̅b̅aaba̅b̅aaba̅b̅aaba̅b̅| ≤ 8.0\n",
       "* |b̅aaba̅b̅aaba̅b̅aaba̅b̅aaba̅b̅aaba̅b̅aaba̅b̅aaba̅b̅aaba̅b̅| ≤ 13.0 using |b̅aab| ≤ 2.0 and |a̅b̅aaba̅b̅aaba̅b̅aaba̅b̅aaba̅b̅aaba̅b̅aaba̅b̅aaba̅b̅| ≤ 11.0\n",
       "* |ab̅aaba̅b̅aaba̅b̅aaba̅b̅aaba̅b̅aaba̅b̅aaba̅b̅aaba̅b̅aaba̅b̅a̅| ≤ 13.0 using |b̅aaba̅b̅aaba̅b̅aaba̅b̅aaba̅b̅aaba̅b̅aaba̅b̅aaba̅b̅aaba̅b̅| ≤ 13.0\n",
       "* |a̅b̅aaba̅b̅aaba̅b̅aaba̅b̅aaba̅b̅aaba̅b̅aaba̅b̅aaba̅b̅aaba̅b̅a| ≤ 13.0 using |a̅b̅aaba̅b̅aaba̅b̅aaba̅b̅aaba̅b̅aaba̅b̅aaba̅b̅aaba̅b̅aaba̅b̅a| ≤ 13.0 and |e| ≤ 0.0\n",
       "* |b̅aaba̅b̅aaba̅b̅aaba̅b̅aaba̅b̅aaba̅b̅aaba̅b̅aaba̅b̅aaba̅b̅aaba̅b̅a| ≤ 15.0 using |b̅aab| ≤ 2.0 and |a̅b̅aaba̅b̅aaba̅b̅aaba̅b̅aaba̅b̅aaba̅b̅aaba̅b̅aaba̅b̅aaba̅b̅a| ≤ 13.0\n",
       "* |ab̅aaba̅b̅aaba̅b̅aaba̅b̅aaba̅b̅aaba̅b̅aaba̅b̅aaba̅b̅aaba̅b̅aaba̅b̅aa̅| ≤ 15.0 using |b̅aaba̅b̅aaba̅b̅aaba̅b̅aaba̅b̅aaba̅b̅aaba̅b̅aaba̅b̅aaba̅b̅aaba̅b̅a| ≤ 15.0\n",
       "* |a̅b̅aaba̅b̅aaba̅b̅aaba̅b̅aaba̅b̅aaba̅b̅aaba̅b̅aaba̅b̅aaba̅b̅aaba̅b̅aa| ≤ 15.0 using |a̅b̅aaba̅b̅aaba̅b̅aaba̅b̅aaba̅b̅aaba̅b̅aaba̅b̅aaba̅b̅aaba̅b̅aaba̅b̅aa| ≤ 15.0 and |e| ≤ 0.0\n",
       "* |b̅aaba̅b̅aaba̅b̅aaba̅b̅aaba̅b̅aaba̅b̅aaba̅b̅aaba̅b̅aaba̅b̅aaba̅b̅aaba̅b̅aa| ≤ 17.0 using |b̅aab| ≤ 2.0 and |a̅b̅aaba̅b̅aaba̅b̅aaba̅b̅aaba̅b̅aaba̅b̅aaba̅b̅aaba̅b̅aaba̅b̅aaba̅b̅aa| ≤ 15.0\n",
       "* |aaba̅b̅aaba̅b̅aaba̅b̅aaba̅b̅aaba̅b̅aaba̅b̅aaba̅b̅aaba̅b̅aaba̅b̅aaba̅b̅aaba̅b̅aaba̅b̅aa| ≤ 20.0 using |aaba̅b̅aaba̅| ≤ 3.0 and |b̅aaba̅b̅aaba̅b̅aaba̅b̅aaba̅b̅aaba̅b̅aaba̅b̅aaba̅b̅aaba̅b̅aaba̅b̅aaba̅b̅aa| ≤ 17.0\n",
       "* |baaba̅b̅aaba̅b̅aaba̅b̅aaba̅b̅aaba̅b̅aaba̅b̅aaba̅b̅aaba̅b̅aaba̅b̅aaba̅b̅aaba̅b̅aaba̅b̅aab̅| ≤ 20.0 using |aaba̅b̅aaba̅b̅aaba̅b̅aaba̅b̅aaba̅b̅aaba̅b̅aaba̅b̅aaba̅b̅aaba̅b̅aaba̅b̅aaba̅b̅aaba̅b̅aa| ≤ 20.0\n",
       "* |b̅aaba̅b̅aaba̅b̅aaba̅b̅aaba̅b̅aaba̅b̅aaba̅b̅aaba̅b̅aaba̅b̅aaba̅b̅aaba̅b̅aaba̅b̅aaba̅b̅aab| ≤ 20.0 using |b̅aaba̅b̅aaba̅b̅aaba̅b̅aaba̅b̅aaba̅b̅aaba̅b̅aaba̅b̅aaba̅b̅aaba̅b̅aaba̅b̅aaba̅b̅aaba̅b̅aab| ≤ 20.0 and |e| ≤ 0.0\n",
       "* |aaba̅b̅aaba̅b̅aaba̅b̅aaba̅b̅aaba̅b̅aaba̅b̅aaba̅b̅aaba̅b̅aaba̅b̅aaba̅b̅aaba̅b̅aaba̅b̅aaba̅b̅aaba̅b̅aab| ≤ 23.0 using |aaba̅b̅aaba̅| ≤ 3.0 and |b̅aaba̅b̅aaba̅b̅aaba̅b̅aaba̅b̅aaba̅b̅aaba̅b̅aaba̅b̅aaba̅b̅aaba̅b̅aaba̅b̅aaba̅b̅aaba̅b̅aab| ≤ 20.0\n",
       "* |ba̅b̅aaba̅b̅aaba̅b̅aaba̅b̅aaba̅b̅aaba̅b̅aaba̅b̅aaba̅b̅aaba̅b̅aaba̅b̅aaba̅b̅aaba̅b̅aaba̅b̅aaba̅b̅aaba̅b̅aaba̅b̅aab| ≤ 25.0 using |ba̅b̅aaba̅b̅| ≤ 2.0 and |aaba̅b̅aaba̅b̅aaba̅b̅aaba̅b̅aaba̅b̅aaba̅b̅aaba̅b̅aaba̅b̅aaba̅b̅aaba̅b̅aaba̅b̅aaba̅b̅aaba̅b̅aaba̅b̅aab| ≤ 23.0\n",
       "* |a̅ba̅b̅aaba̅b̅aaba̅b̅aaba̅b̅aaba̅b̅aaba̅b̅aaba̅b̅aaba̅b̅aaba̅b̅aaba̅b̅aaba̅b̅aaba̅b̅aaba̅b̅aaba̅b̅aaba̅b̅aaba̅b̅aaba| ≤ 25.0 using |ba̅b̅aaba̅b̅aaba̅b̅aaba̅b̅aaba̅b̅aaba̅b̅aaba̅b̅aaba̅b̅aaba̅b̅aaba̅b̅aaba̅b̅aaba̅b̅aaba̅b̅aaba̅b̅aaba̅b̅aaba̅b̅aab| ≤ 25.0\n",
       "* |aba̅b̅aaba̅b̅aaba̅b̅aaba̅b̅aaba̅b̅aaba̅b̅aaba̅b̅aaba̅b̅aaba̅b̅aaba̅b̅aaba̅b̅aaba̅b̅aaba̅b̅aaba̅b̅aaba̅b̅aaba̅b̅aaba̅| ≤ 25.0 using |aba̅b̅aaba̅b̅aaba̅b̅aaba̅b̅aaba̅b̅aaba̅b̅aaba̅b̅aaba̅b̅aaba̅b̅aaba̅b̅aaba̅b̅aaba̅b̅aaba̅b̅aaba̅b̅aaba̅b̅aaba̅b̅aaba̅| ≤ 25.0 and |e| ≤ 0.0\n",
       "* |a̅b̅aaba̅b̅aaba̅b̅aaba̅b̅aaba̅b̅aaba̅b̅aaba̅b̅aaba̅b̅aaba̅b̅aaba̅b̅aaba̅b̅aaba̅b̅aaba̅b̅aaba̅b̅aaba̅b̅aaba̅b̅aaba̅b̅aaba̅| ≤ 26.0 using |a̅b̅a| ≤ 1.0 and |aba̅b̅aaba̅b̅aaba̅b̅aaba̅b̅aaba̅b̅aaba̅b̅aaba̅b̅aaba̅b̅aaba̅b̅aaba̅b̅aaba̅b̅aaba̅b̅aaba̅b̅aaba̅b̅aaba̅b̅aaba̅b̅aaba̅| ≤ 25.0\n",
       "* |b̅a̅b̅aaba̅b̅aaba̅b̅aaba̅b̅aaba̅b̅aaba̅b̅aaba̅b̅aaba̅b̅aaba̅b̅aaba̅b̅aaba̅b̅aaba̅b̅aaba̅b̅aaba̅b̅aaba̅b̅aaba̅b̅aaba̅b̅aaba̅b| ≤ 26.0 using |a̅b̅aaba̅b̅aaba̅b̅aaba̅b̅aaba̅b̅aaba̅b̅aaba̅b̅aaba̅b̅aaba̅b̅aaba̅b̅aaba̅b̅aaba̅b̅aaba̅b̅aaba̅b̅aaba̅b̅aaba̅b̅aaba̅b̅aaba̅| ≤ 26.0\n",
       "* |ba̅b̅aaba̅b̅aaba̅b̅aaba̅b̅aaba̅b̅aaba̅b̅aaba̅b̅aaba̅b̅aaba̅b̅aaba̅b̅aaba̅b̅aaba̅b̅aaba̅b̅aaba̅b̅aaba̅b̅aaba̅b̅aaba̅b̅aaba̅b̅a| ≤ 27.0 using |ba̅b̅aaba̅b̅aaba̅b̅aaba̅b̅aaba̅b̅aaba̅b̅aaba̅b̅aaba̅b̅aaba̅b̅aaba̅b̅aaba̅b̅aaba̅b̅aaba̅b̅aaba̅b̅aaba̅b̅aaba̅b̅aaba̅b̅aaba̅b̅| ≤ 26.0 and |a| ≤ 1.0\n",
       "* |aba̅b̅aaba̅b̅aaba̅b̅aaba̅b̅aaba̅b̅aaba̅b̅aaba̅b̅aaba̅b̅aaba̅b̅aaba̅b̅aaba̅b̅aaba̅b̅aaba̅b̅aaba̅b̅aaba̅b̅aaba̅b̅aaba̅b̅aaba̅b̅a| ≤ 28.0 using |a| ≤ 1.0 and |ba̅b̅aaba̅b̅aaba̅b̅aaba̅b̅aaba̅b̅aaba̅b̅aaba̅b̅aaba̅b̅aaba̅b̅aaba̅b̅aaba̅b̅aaba̅b̅aaba̅b̅aaba̅b̅aaba̅b̅aaba̅b̅aaba̅b̅aaba̅b̅a| ≤ 27.0\n",
       "* |aba̅b̅a| ≤ 1.5555555555555556 using  by taking 18th power\n",
       "* |baba̅b̅ab̅| ≤ 1.5555555555555556 using |aba̅b̅a| ≤ 1.5555555555555556\n",
       "* |b̅aba̅b̅ab| ≤ 1.5555555555555556 using |b̅aba̅b̅ab| ≤ 1.5555555555555556 and |e| ≤ 0.0\n",
       "* |aba̅b̅aba̅b̅ab| ≤ 2.5555555555555554 using |aba̅| ≤ 1.0 and |b̅aba̅b̅ab| ≤ 1.5555555555555556\n",
       "* |a̅aba̅b̅aba̅b̅aba| ≤ 2.5555555555555554 using |aba̅b̅aba̅b̅ab| ≤ 2.5555555555555554\n",
       "* |b̅aba̅b̅aba̅b̅ab| ≤ 2.1 using |b̅aba̅b̅aba̅b̅ab| ≤ 2.1 and |e| ≤ 0.0\n",
       "* |aaba̅b̅aba̅b̅aba̅b̅aba̅b̅aba̅b̅ab| ≤ 4.655555555555555 using |aaba̅b̅aba̅b̅aba̅| ≤ 2.5555555555555554 and |b̅aba̅b̅aba̅b̅ab| ≤ 2.1\n",
       "* |ba̅b̅aaba̅b̅aba̅b̅aba̅b̅aba̅b̅aba̅b̅ab| ≤ 5.655555555555555 using |ba̅b̅| ≤ 1.0 and |aaba̅b̅aba̅b̅aba̅b̅aba̅b̅aba̅b̅ab| ≤ 4.655555555555555\n",
       "* |a̅ba̅b̅aaba̅b̅aba̅b̅aba̅b̅aba̅b̅aba̅b̅aba| ≤ 5.655555555555555 using |ba̅b̅aaba̅b̅aba̅b̅aba̅b̅aba̅b̅aba̅b̅ab| ≤ 5.655555555555555\n",
       "* |aba̅b̅aba̅b̅aba̅b̅ab| ≤ 3.1 using |aba̅| ≤ 1.0 and |b̅aba̅b̅aba̅b̅ab| ≤ 2.1\n",
       "* |a̅aba̅b̅aba̅b̅aba̅b̅aba| ≤ 3.1 using |aba̅b̅aba̅b̅aba̅b̅ab| ≤ 3.1\n",
       "* |b̅aba̅b̅aba̅b̅aba̅b̅a| ≤ 3.1 using |b̅aba̅b̅aba̅b̅ab| ≤ 2.1 and |a̅b̅a| ≤ 1.0\n",
       "* |ab̅aba̅b̅aba̅b̅aba̅b̅aa̅| ≤ 3.1 using |b̅aba̅b̅aba̅b̅aba̅b̅a| ≤ 3.1\n",
       "* |ba̅b̅| ≤ 1.0 using |ba̅b̅| ≤ 1.0 and |e| ≤ 0.0\n",
       "* |a̅b̅aba̅b̅aba̅b̅aba̅b̅aaba̅b̅| ≤ 4.1 using |a̅b̅aba̅b̅aba̅b̅aba̅b̅aa| ≤ 3.1 and |ba̅b̅| ≤ 1.0\n",
       "* |b̅aba̅b̅aba̅b̅aba̅b̅aba̅b̅aba̅b̅aaba̅b̅| ≤ 5.655555555555555 using |b̅aba̅b̅ab| ≤ 1.5555555555555556 and |a̅b̅aba̅b̅aba̅b̅aba̅b̅aaba̅b̅| ≤ 4.1\n",
       "* |ab̅aba̅b̅aba̅b̅aba̅b̅aba̅b̅aba̅b̅aaba̅b̅a̅| ≤ 5.655555555555555 using |b̅aba̅b̅aba̅b̅aba̅b̅aba̅b̅aba̅b̅aaba̅b̅| ≤ 5.655555555555555\n",
       "* |ba̅b̅aba̅b̅aba̅b̅aba̅b̅ab| ≤ 4.1 using |ba̅b̅| ≤ 1.0 and |aba̅b̅aba̅b̅aba̅b̅ab| ≤ 3.1\n",
       "* |a̅ba̅b̅aba̅b̅aba̅b̅aba̅b̅aba| ≤ 4.1 using |ba̅b̅aba̅b̅aba̅b̅aba̅b̅ab| ≤ 4.1\n",
       "* |aba̅b̅aba̅b̅aba̅b̅aba̅b̅aba̅| ≤ 4.1 using |aba̅b̅aba̅b̅aba̅b̅aba̅b̅aba̅| ≤ 4.1 and |e| ≤ 0.0\n",
       "* |ba̅b̅aba̅b̅aba̅b̅aba̅b̅aba̅b̅aba̅| ≤ 5.1 using |ba̅b̅| ≤ 1.0 and |aba̅b̅aba̅b̅aba̅b̅aba̅b̅aba̅| ≤ 4.1\n",
       "* |a̅b̅aba̅b̅aba̅b̅aba̅b̅aaba̅b̅aba̅b̅aba̅b̅aba̅b̅aba̅b̅aba̅| ≤ 8.2 using |a̅b̅aba̅b̅aba̅b̅aba̅b̅aa| ≤ 3.1 and |ba̅b̅aba̅b̅aba̅b̅aba̅b̅aba̅b̅aba̅| ≤ 5.1\n",
       "* |b̅a̅b̅aba̅b̅aba̅b̅aba̅b̅aaba̅b̅aba̅b̅aba̅b̅aba̅b̅aba̅b̅aba̅b| ≤ 8.2 using |a̅b̅aba̅b̅aba̅b̅aba̅b̅aaba̅b̅aba̅b̅aba̅b̅aba̅b̅aba̅b̅aba̅| ≤ 8.2\n",
       "* |ba̅b̅aba̅b̅aba̅b̅aba̅b̅aaba̅b̅aba̅b̅aba̅b̅aba̅b̅aba̅b̅aba̅b̅aaba̅b̅aba̅b̅aba̅b̅aba̅b̅aba̅b̅ab| ≤ 12.855555555555554 using |ba̅b̅aba̅b̅aba̅b̅aba̅b̅aaba̅b̅aba̅b̅aba̅b̅aba̅b̅aba̅b̅aba̅b̅| ≤ 8.2 and |aaba̅b̅aba̅b̅aba̅b̅aba̅b̅aba̅b̅ab| ≤ 4.655555555555555\n",
       "* |a̅ba̅b̅aba̅b̅aba̅b̅aba̅b̅aaba̅b̅aba̅b̅aba̅b̅aba̅b̅aba̅b̅aba̅b̅aaba̅b̅aba̅b̅aba̅b̅aba̅b̅aba̅b̅aba| ≤ 12.855555555555554 using |ba̅b̅aba̅b̅aba̅b̅aba̅b̅aaba̅b̅aba̅b̅aba̅b̅aba̅b̅aba̅b̅aba̅b̅aaba̅b̅aba̅b̅aba̅b̅aba̅b̅aba̅b̅ab| ≤ 12.855555555555554\n",
       "* |aba̅b̅aba̅b̅aba̅b̅aba̅b̅aaba̅b̅aba̅b̅aba̅b̅aba̅b̅aba̅b̅aba̅b̅aaba̅b̅aba̅b̅aba̅b̅aba̅b̅aba̅b̅aba̅| ≤ 12.855555555555554 using |aba̅b̅aba̅b̅aba̅b̅aba̅b̅aaba̅b̅aba̅b̅aba̅b̅aba̅b̅aba̅b̅aba̅b̅aaba̅b̅aba̅b̅aba̅b̅aba̅b̅aba̅b̅aba̅| ≤ 12.855555555555554 and |e| ≤ 0.0\n",
       "* |ba̅b̅aba̅b̅aba̅b̅aba̅b̅aba̅b̅aaba̅b̅aba̅b̅aba̅b̅aba̅b̅aba̅b̅aba̅b̅aaba̅b̅aba̅b̅aba̅b̅aba̅b̅aba̅b̅aba̅| ≤ 13.855555555555554 using |ba̅b̅| ≤ 1.0 and |aba̅b̅aba̅b̅aba̅b̅aba̅b̅aaba̅b̅aba̅b̅aba̅b̅aba̅b̅aba̅b̅aba̅b̅aaba̅b̅aba̅b̅aba̅b̅aba̅b̅aba̅b̅aba̅| ≤ 12.855555555555554\n",
       "* |a̅b̅aba̅b̅aba̅b̅aba̅b̅aba̅b̅aba̅b̅aaba̅b̅aba̅b̅aba̅b̅aba̅b̅aba̅b̅aba̅b̅aaba̅b̅aba̅b̅aba̅b̅aba̅b̅aba̅b̅aba̅b̅aaba̅b̅aba̅b̅aba̅b̅aba̅b̅aba̅b̅aba̅| ≤ 19.51111111111111 using |a̅b̅aba̅b̅aba̅b̅aba̅b̅aba̅b̅aba̅b̅aaba̅b̅a| ≤ 5.655555555555555 and |ba̅b̅aba̅b̅aba̅b̅aba̅b̅aba̅b̅aaba̅b̅aba̅b̅aba̅b̅aba̅b̅aba̅b̅aba̅b̅aaba̅b̅aba̅b̅aba̅b̅aba̅b̅aba̅b̅aba̅| ≤ 13.855555555555554\n",
       "* |b̅a̅b̅aba̅b̅aba̅b̅aba̅b̅aba̅b̅aba̅b̅aaba̅b̅aba̅b̅aba̅b̅aba̅b̅aba̅b̅aba̅b̅aaba̅b̅aba̅b̅aba̅b̅aba̅b̅aba̅b̅aba̅b̅aaba̅b̅aba̅b̅aba̅b̅aba̅b̅aba̅b̅aba̅b| ≤ 19.51111111111111 using |a̅b̅aba̅b̅aba̅b̅aba̅b̅aba̅b̅aba̅b̅aaba̅b̅aba̅b̅aba̅b̅aba̅b̅aba̅b̅aba̅b̅aaba̅b̅aba̅b̅aba̅b̅aba̅b̅aba̅b̅aba̅b̅aaba̅b̅aba̅b̅aba̅b̅aba̅b̅aba̅b̅aba̅| ≤ 19.51111111111111\n",
       "* |ba̅b̅aba̅b̅aba̅b̅aba̅b̅aba̅b̅aba̅b̅aaba̅b̅aba̅b̅aba̅b̅aba̅b̅aba̅b̅aba̅b̅aaba̅b̅aba̅b̅aba̅b̅aba̅b̅aba̅b̅aba̅b̅aaba̅b̅aba̅b̅aba̅b̅aba̅b̅aba̅b̅aba̅b̅aaba̅b̅aba̅b̅aba̅b̅aba̅b̅aba̅b̅ab| ≤ 24.166666666666664 using |ba̅b̅aba̅b̅aba̅b̅aba̅b̅aba̅b̅aba̅b̅aaba̅b̅aba̅b̅aba̅b̅aba̅b̅aba̅b̅aba̅b̅aaba̅b̅aba̅b̅aba̅b̅aba̅b̅aba̅b̅aba̅b̅aaba̅b̅aba̅b̅aba̅b̅aba̅b̅aba̅b̅aba̅b̅| ≤ 19.51111111111111 and |aaba̅b̅aba̅b̅aba̅b̅aba̅b̅aba̅b̅ab| ≤ 4.655555555555555\n",
       "* |a̅ba̅b̅aba̅b̅aba̅b̅aba̅b̅aba̅b̅aba̅b̅aaba̅b̅aba̅b̅aba̅b̅aba̅b̅aba̅b̅aba̅b̅aaba̅b̅aba̅b̅aba̅b̅aba̅b̅aba̅b̅aba̅b̅aaba̅b̅aba̅b̅aba̅b̅aba̅b̅aba̅b̅aba̅b̅aaba̅b̅aba̅b̅aba̅b̅aba̅b̅aba̅b̅aba| ≤ 24.166666666666664 using |ba̅b̅aba̅b̅aba̅b̅aba̅b̅aba̅b̅aba̅b̅aaba̅b̅aba̅b̅aba̅b̅aba̅b̅aba̅b̅aba̅b̅aaba̅b̅aba̅b̅aba̅b̅aba̅b̅aba̅b̅aba̅b̅aaba̅b̅aba̅b̅aba̅b̅aba̅b̅aba̅b̅aba̅b̅aaba̅b̅aba̅b̅aba̅b̅aba̅b̅aba̅b̅ab| ≤ 24.166666666666664\n",
       "* |aaba̅b̅aba̅b̅aba̅b̅aba̅b̅aba̅b̅a| ≤ 5.1 using |aaba̅b̅aba̅| ≤ 2.0 and |b̅aba̅b̅aba̅b̅aba̅b̅a| ≤ 3.1\n",
       "* |baaba̅b̅aba̅b̅aba̅b̅aba̅b̅aba̅b̅ab̅| ≤ 5.1 using |aaba̅b̅aba̅b̅aba̅b̅aba̅b̅aba̅b̅a| ≤ 5.1\n",
       "* |b̅aaba̅b̅aba̅b̅aba̅b̅aba̅b̅aba̅b̅aba̅b̅a| ≤ 6.1 using |b̅aaba̅b̅aba̅b̅aba̅b̅aba̅b̅aba̅b̅ab| ≤ 5.1 and |a̅b̅a| ≤ 1.0\n",
       "* |ab̅aaba̅b̅aba̅b̅aba̅b̅aba̅b̅aba̅b̅aba̅b̅aa̅| ≤ 6.1 using |b̅aaba̅b̅aba̅b̅aba̅b̅aba̅b̅aba̅b̅aba̅b̅a| ≤ 6.1\n",
       "* |a̅b̅aaba̅b̅aba̅b̅aba̅b̅aba̅b̅aba̅b̅aba̅b̅aa| ≤ 6.1 using |a̅b̅aaba̅b̅aba̅b̅aba̅b̅aba̅b̅aba̅b̅aba̅b̅aa| ≤ 6.1 and |e| ≤ 0.0\n",
       "* |b̅aba̅b̅aba̅b̅aba̅b̅aaba̅b̅aba̅b̅aba̅b̅aba̅b̅aba̅b̅aba̅b̅aa| ≤ 8.2 using |b̅aba̅b̅aba̅b̅ab| ≤ 2.1 and |a̅b̅aaba̅b̅aba̅b̅aba̅b̅aba̅b̅aba̅b̅aba̅b̅aa| ≤ 6.1\n",
       "* |aaba̅b̅aba̅b̅aba̅b̅aba̅b̅aba̅b̅aba̅b̅aaba̅b̅aba̅b̅aba̅b̅aba̅b̅aba̅b̅aba̅b̅aa| ≤ 10.755555555555555 using |aaba̅b̅aba̅b̅aba̅| ≤ 2.5555555555555554 and |b̅aba̅b̅aba̅b̅aba̅b̅aaba̅b̅aba̅b̅aba̅b̅aba̅b̅aba̅b̅aba̅b̅aa| ≤ 8.2\n",
       "* |baaba̅b̅aba̅b̅aba̅b̅aba̅b̅aba̅b̅aba̅b̅aaba̅b̅aba̅b̅aba̅b̅aba̅b̅aba̅b̅aba̅b̅aab̅| ≤ 10.755555555555555 using |aaba̅b̅aba̅b̅aba̅b̅aba̅b̅aba̅b̅aba̅b̅aaba̅b̅aba̅b̅aba̅b̅aba̅b̅aba̅b̅aba̅b̅aa| ≤ 10.755555555555555\n",
       "* |b̅aaba̅b̅aba̅b̅aba̅b̅aba̅b̅aba̅b̅aba̅b̅aaba̅b̅aba̅b̅aba̅b̅aba̅b̅aba̅b̅aba̅b̅aab| ≤ 10.755555555555555 using |b̅aaba̅b̅aba̅b̅aba̅b̅aba̅b̅aba̅b̅aba̅b̅aaba̅b̅aba̅b̅aba̅b̅aba̅b̅aba̅b̅aba̅b̅aab| ≤ 10.755555555555555 and |e| ≤ 0.0\n",
       "* |aba̅b̅aba̅b̅aba̅b̅aba̅b̅aba̅b̅aba̅b̅aaba̅b̅aba̅b̅aba̅b̅aba̅b̅aba̅b̅aba̅b̅aaba̅b̅aba̅b̅aba̅b̅aba̅b̅aba̅b̅aba̅b̅aaba̅b̅aba̅b̅aba̅b̅aba̅b̅aba̅b̅aba̅b̅aaba̅b̅aba̅b̅aba̅b̅aba̅b̅aba̅b̅aba̅b̅aaba̅b̅aba̅b̅aba̅b̅aba̅b̅aba̅b̅aba̅b̅aaba̅b̅aba̅b̅aba̅b̅aba̅b̅aba̅b̅aba̅b̅aab| ≤ 34.92222222222222 using |aba̅b̅aba̅b̅aba̅b̅aba̅b̅aba̅b̅aba̅b̅aaba̅b̅aba̅b̅aba̅b̅aba̅b̅aba̅b̅aba̅b̅aaba̅b̅aba̅b̅aba̅b̅aba̅b̅aba̅b̅aba̅b̅aaba̅b̅aba̅b̅aba̅b̅aba̅b̅aba̅b̅aba̅b̅aaba̅b̅aba̅b̅aba̅b̅aba̅b̅aba̅b̅aba̅| ≤ 24.166666666666664 and |b̅aaba̅b̅aba̅b̅aba̅b̅aba̅b̅aba̅b̅aba̅b̅aaba̅b̅aba̅b̅aba̅b̅aba̅b̅aba̅b̅aba̅b̅aab| ≤ 10.755555555555555\n",
       "* |a̅aba̅b̅aba̅b̅aba̅b̅aba̅b̅aba̅b̅aba̅b̅aaba̅b̅aba̅b̅aba̅b̅aba̅b̅aba̅b̅aba̅b̅aaba̅b̅aba̅b̅aba̅b̅aba̅b̅aba̅b̅aba̅b̅aaba̅b̅aba̅b̅aba̅b̅aba̅b̅aba̅b̅aba̅b̅aaba̅b̅aba̅b̅aba̅b̅aba̅b̅aba̅b̅aba̅b̅aaba̅b̅aba̅b̅aba̅b̅aba̅b̅aba̅b̅aba̅b̅aaba̅b̅aba̅b̅aba̅b̅aba̅b̅aba̅b̅aba̅b̅aaba| ≤ 34.92222222222222 using |aba̅b̅aba̅b̅aba̅b̅aba̅b̅aba̅b̅aba̅b̅aaba̅b̅aba̅b̅aba̅b̅aba̅b̅aba̅b̅aba̅b̅aaba̅b̅aba̅b̅aba̅b̅aba̅b̅aba̅b̅aba̅b̅aaba̅b̅aba̅b̅aba̅b̅aba̅b̅aba̅b̅aba̅b̅aaba̅b̅aba̅b̅aba̅b̅aba̅b̅aba̅b̅aba̅b̅aaba̅b̅aba̅b̅aba̅b̅aba̅b̅aba̅b̅aba̅b̅aaba̅b̅aba̅b̅aba̅b̅aba̅b̅aba̅b̅aba̅b̅aab| ≤ 34.92222222222222\n",
       "* |b̅aba̅b̅aba̅b̅a| ≤ 2.5555555555555554 using |b̅aba̅b̅ab| ≤ 1.5555555555555556 and |a̅b̅a| ≤ 1.0\n",
       "* |ab̅aba̅b̅aba̅b̅aa̅| ≤ 2.5555555555555554 using |b̅aba̅b̅aba̅b̅a| ≤ 2.5555555555555554\n",
       "* |a̅b̅aba̅b̅aba̅b̅aa| ≤ 2.5555555555555554 using |a̅b̅aba̅b̅aba̅b̅aa| ≤ 2.5555555555555554 and |e| ≤ 0.0\n",
       "* |b̅aba̅b̅aba̅b̅aba̅b̅aba̅b̅aba̅b̅aa| ≤ 4.655555555555555 using |b̅aba̅b̅aba̅b̅ab| ≤ 2.1 and |a̅b̅aba̅b̅aba̅b̅aa| ≤ 2.5555555555555554\n",
       "* |aaba̅b̅aba̅b̅aba̅b̅aba̅b̅aba̅b̅aba̅b̅aaba̅b̅aba̅b̅aba̅b̅aba̅b̅aba̅b̅aba̅b̅aaba̅b̅aba̅b̅aba̅b̅aba̅b̅aba̅b̅aba̅b̅aaba̅b̅aba̅b̅aba̅b̅aba̅b̅aba̅b̅aba̅b̅aaba̅b̅aba̅b̅aba̅b̅aba̅b̅aba̅b̅aba̅b̅aaba̅b̅aba̅b̅aba̅b̅aba̅b̅aba̅b̅aba̅b̅aaba̅b̅aba̅b̅aba̅b̅aba̅b̅aba̅b̅aba̅b̅aaba̅b̅aba̅b̅aba̅b̅aba̅b̅aba̅b̅aba̅b̅aa| ≤ 39.57777777777777 using |aaba̅b̅aba̅b̅aba̅b̅aba̅b̅aba̅b̅aba̅b̅aaba̅b̅aba̅b̅aba̅b̅aba̅b̅aba̅b̅aba̅b̅aaba̅b̅aba̅b̅aba̅b̅aba̅b̅aba̅b̅aba̅b̅aaba̅b̅aba̅b̅aba̅b̅aba̅b̅aba̅b̅aba̅b̅aaba̅b̅aba̅b̅aba̅b̅aba̅b̅aba̅b̅aba̅b̅aaba̅b̅aba̅b̅aba̅b̅aba̅b̅aba̅b̅aba̅b̅aaba̅b̅aba̅b̅aba̅b̅aba̅b̅aba̅b̅aba̅b̅aaba̅| ≤ 34.92222222222222 and |b̅aba̅b̅aba̅b̅aba̅b̅aba̅b̅aba̅b̅aa| ≤ 4.655555555555555\n",
       "* |baaba̅b̅aba̅b̅aba̅b̅aba̅b̅aba̅b̅aba̅b̅aaba̅b̅aba̅b̅aba̅b̅aba̅b̅aba̅b̅aba̅b̅aaba̅b̅aba̅b̅aba̅b̅aba̅b̅aba̅b̅aba̅b̅aaba̅b̅aba̅b̅aba̅b̅aba̅b̅aba̅b̅aba̅b̅aaba̅b̅aba̅b̅aba̅b̅aba̅b̅aba̅b̅aba̅b̅aaba̅b̅aba̅b̅aba̅b̅aba̅b̅aba̅b̅aba̅b̅aaba̅b̅aba̅b̅aba̅b̅aba̅b̅aba̅b̅aba̅b̅aaba̅b̅aba̅b̅aba̅b̅aba̅b̅aba̅b̅aba̅b̅aab̅| ≤ 39.57777777777777 using |aaba̅b̅aba̅b̅aba̅b̅aba̅b̅aba̅b̅aba̅b̅aaba̅b̅aba̅b̅aba̅b̅aba̅b̅aba̅b̅aba̅b̅aaba̅b̅aba̅b̅aba̅b̅aba̅b̅aba̅b̅aba̅b̅aaba̅b̅aba̅b̅aba̅b̅aba̅b̅aba̅b̅aba̅b̅aaba̅b̅aba̅b̅aba̅b̅aba̅b̅aba̅b̅aba̅b̅aaba̅b̅aba̅b̅aba̅b̅aba̅b̅aba̅b̅aba̅b̅aaba̅b̅aba̅b̅aba̅b̅aba̅b̅aba̅b̅aba̅b̅aaba̅b̅aba̅b̅aba̅b̅aba̅b̅aba̅b̅aba̅b̅aa| ≤ 39.57777777777777\n",
       "* |b̅aaba̅b̅aba̅b̅aba̅b̅aba̅b̅aba̅b̅aba̅b̅aaba̅b̅aba̅b̅aba̅b̅aba̅b̅aba̅b̅aba̅b̅aaba̅b̅aba̅b̅aba̅b̅aba̅b̅aba̅b̅aba̅b̅aaba̅b̅aba̅b̅aba̅b̅aba̅b̅aba̅b̅aba̅b̅aaba̅b̅aba̅b̅aba̅b̅aba̅b̅aba̅b̅aba̅b̅aaba̅b̅aba̅b̅aba̅b̅aba̅b̅aba̅b̅aba̅b̅aaba̅b̅aba̅b̅aba̅b̅aba̅b̅aba̅b̅aba̅b̅aaba̅b̅aba̅b̅aba̅b̅aba̅b̅aba̅b̅aba̅b̅aab| ≤ 39.57777777777777 using |b̅aaba̅b̅aba̅b̅aba̅b̅aba̅b̅aba̅b̅aba̅b̅aaba̅b̅aba̅b̅aba̅b̅aba̅b̅aba̅b̅aba̅b̅aaba̅b̅aba̅b̅aba̅b̅aba̅b̅aba̅b̅aba̅b̅aaba̅b̅aba̅b̅aba̅b̅aba̅b̅aba̅b̅aba̅b̅aaba̅b̅aba̅b̅aba̅b̅aba̅b̅aba̅b̅aba̅b̅aaba̅b̅aba̅b̅aba̅b̅aba̅b̅aba̅b̅aba̅b̅aaba̅b̅aba̅b̅aba̅b̅aba̅b̅aba̅b̅aba̅b̅aaba̅b̅aba̅b̅aba̅b̅aba̅b̅aba̅b̅aba̅b̅aab| ≤ 39.57777777777777 and |e| ≤ 0.0\n",
       "* |aba̅b̅aaba̅b̅aba̅b̅aba̅b̅aba̅b̅aba̅b̅aba̅b̅aaba̅b̅aba̅b̅aba̅b̅aba̅b̅aba̅b̅aba̅b̅aaba̅b̅aba̅b̅aba̅b̅aba̅b̅aba̅b̅aba̅b̅aaba̅b̅aba̅b̅aba̅b̅aba̅b̅aba̅b̅aba̅b̅aaba̅b̅aba̅b̅aba̅b̅aba̅b̅aba̅b̅aba̅b̅aaba̅b̅aba̅b̅aba̅b̅aba̅b̅aba̅b̅aba̅b̅aaba̅b̅aba̅b̅aba̅b̅aba̅b̅aba̅b̅aba̅b̅aaba̅b̅aba̅b̅aba̅b̅aba̅b̅aba̅b̅aba̅b̅aaba̅b̅aba̅b̅aba̅b̅aba̅b̅aba̅b̅aba̅b̅aab| ≤ 45.23333333333332 using |aba̅b̅aaba̅b̅aba̅b̅aba̅b̅aba̅b̅aba̅b̅aba̅| ≤ 5.655555555555555 and |b̅aaba̅b̅aba̅b̅aba̅b̅aba̅b̅aba̅b̅aba̅b̅aaba̅b̅aba̅b̅aba̅b̅aba̅b̅aba̅b̅aba̅b̅aaba̅b̅aba̅b̅aba̅b̅aba̅b̅aba̅b̅aba̅b̅aaba̅b̅aba̅b̅aba̅b̅aba̅b̅aba̅b̅aba̅b̅aaba̅b̅aba̅b̅aba̅b̅aba̅b̅aba̅b̅aba̅b̅aaba̅b̅aba̅b̅aba̅b̅aba̅b̅aba̅b̅aba̅b̅aaba̅b̅aba̅b̅aba̅b̅aba̅b̅aba̅b̅aba̅b̅aaba̅b̅aba̅b̅aba̅b̅aba̅b̅aba̅b̅aba̅b̅aab| ≤ 39.57777777777777\n",
       "* |ba̅b̅aba̅b̅aaba̅b̅aba̅b̅aba̅b̅aba̅b̅aba̅b̅aba̅b̅aaba̅b̅aba̅b̅aba̅b̅aba̅b̅aba̅b̅aba̅b̅aaba̅b̅aba̅b̅aba̅b̅aba̅b̅aba̅b̅aba̅b̅aaba̅b̅aba̅b̅aba̅b̅aba̅b̅aba̅b̅aba̅b̅aaba̅b̅aba̅b̅aba̅b̅aba̅b̅aba̅b̅aba̅b̅aaba̅b̅aba̅b̅aba̅b̅aba̅b̅aba̅b̅aba̅b̅aaba̅b̅aba̅b̅aba̅b̅aba̅b̅aba̅b̅aba̅b̅aaba̅b̅aba̅b̅aba̅b̅aba̅b̅aba̅b̅aba̅b̅aaba̅b̅aba̅b̅aba̅b̅aba̅b̅aba̅b̅aba̅b̅aab| ≤ 46.23333333333332 using |ba̅b̅| ≤ 1.0 and |aba̅b̅aaba̅b̅aba̅b̅aba̅b̅aba̅b̅aba̅b̅aba̅b̅aaba̅b̅aba̅b̅aba̅b̅aba̅b̅aba̅b̅aba̅b̅aaba̅b̅aba̅b̅aba̅b̅aba̅b̅aba̅b̅aba̅b̅aaba̅b̅aba̅b̅aba̅b̅aba̅b̅aba̅b̅aba̅b̅aaba̅b̅aba̅b̅aba̅b̅aba̅b̅aba̅b̅aba̅b̅aaba̅b̅aba̅b̅aba̅b̅aba̅b̅aba̅b̅aba̅b̅aaba̅b̅aba̅b̅aba̅b̅aba̅b̅aba̅b̅aba̅b̅aaba̅b̅aba̅b̅aba̅b̅aba̅b̅aba̅b̅aba̅b̅aaba̅b̅aba̅b̅aba̅b̅aba̅b̅aba̅b̅aba̅b̅aab| ≤ 45.23333333333332\n",
       "* |a̅ba̅b̅aba̅b̅aaba̅b̅aba̅b̅aba̅b̅aba̅b̅aba̅b̅aba̅b̅aaba̅b̅aba̅b̅aba̅b̅aba̅b̅aba̅b̅aba̅b̅aaba̅b̅aba̅b̅aba̅b̅aba̅b̅aba̅b̅aba̅b̅aaba̅b̅aba̅b̅aba̅b̅aba̅b̅aba̅b̅aba̅b̅aaba̅b̅aba̅b̅aba̅b̅aba̅b̅aba̅b̅aba̅b̅aaba̅b̅aba̅b̅aba̅b̅aba̅b̅aba̅b̅aba̅b̅aaba̅b̅aba̅b̅aba̅b̅aba̅b̅aba̅b̅aba̅b̅aaba̅b̅aba̅b̅aba̅b̅aba̅b̅aba̅b̅aba̅b̅aaba̅b̅aba̅b̅aba̅b̅aba̅b̅aba̅b̅aba̅b̅aaba| ≤ 46.23333333333332 using |ba̅b̅aba̅b̅aaba̅b̅aba̅b̅aba̅b̅aba̅b̅aba̅b̅aba̅b̅aaba̅b̅aba̅b̅aba̅b̅aba̅b̅aba̅b̅aba̅b̅aaba̅b̅aba̅b̅aba̅b̅aba̅b̅aba̅b̅aba̅b̅aaba̅b̅aba̅b̅aba̅b̅aba̅b̅aba̅b̅aba̅b̅aaba̅b̅aba̅b̅aba̅b̅aba̅b̅aba̅b̅aba̅b̅aaba̅b̅aba̅b̅aba̅b̅aba̅b̅aba̅b̅aba̅b̅aaba̅b̅aba̅b̅aba̅b̅aba̅b̅aba̅b̅aba̅b̅aaba̅b̅aba̅b̅aba̅b̅aba̅b̅aba̅b̅aba̅b̅aaba̅b̅aba̅b̅aba̅b̅aba̅b̅aba̅b̅aba̅b̅aab| ≤ 46.23333333333332\n",
       "* |aba̅b̅aba̅b̅aaba̅b̅aba̅b̅aba̅b̅aba̅b̅aba̅b̅aba̅b̅aaba̅b̅aba̅b̅aba̅b̅aba̅b̅aba̅b̅aba̅b̅aaba̅b̅aba̅b̅aba̅b̅aba̅b̅aba̅b̅aba̅b̅aaba̅b̅aba̅b̅aba̅b̅aba̅b̅aba̅b̅aba̅b̅aaba̅b̅aba̅b̅aba̅b̅aba̅b̅aba̅b̅aba̅b̅aaba̅b̅aba̅b̅aba̅b̅aba̅b̅aba̅b̅aba̅b̅aaba̅b̅aba̅b̅aba̅b̅aba̅b̅aba̅b̅aba̅b̅aaba̅b̅aba̅b̅aba̅b̅aba̅b̅aba̅b̅aba̅b̅aaba̅b̅aba̅b̅aba̅b̅aba̅b̅aba̅b̅aba̅b̅aaba̅b̅aba̅b̅aba̅b̅aba̅b̅aba̅b̅aba̅b̅aa| ≤ 50.88888888888887 using |aba̅b̅aba̅b̅aaba̅b̅aba̅b̅aba̅b̅aba̅b̅aba̅b̅aba̅b̅aaba̅b̅aba̅b̅aba̅b̅aba̅b̅aba̅b̅aba̅b̅aaba̅b̅aba̅b̅aba̅b̅aba̅b̅aba̅b̅aba̅b̅aaba̅b̅aba̅b̅aba̅b̅aba̅b̅aba̅b̅aba̅b̅aaba̅b̅aba̅b̅aba̅b̅aba̅b̅aba̅b̅aba̅b̅aaba̅b̅aba̅b̅aba̅b̅aba̅b̅aba̅b̅aba̅b̅aaba̅b̅aba̅b̅aba̅b̅aba̅b̅aba̅b̅aba̅b̅aaba̅b̅aba̅b̅aba̅b̅aba̅b̅aba̅b̅aba̅b̅aaba̅b̅aba̅b̅aba̅b̅aba̅b̅aba̅b̅aba̅b̅aaba̅| ≤ 46.23333333333332 and |b̅aba̅b̅aba̅b̅aba̅b̅aba̅b̅aba̅b̅aa| ≤ 4.655555555555555\n",
       "* |baba̅b̅aba̅b̅aaba̅b̅aba̅b̅aba̅b̅aba̅b̅aba̅b̅aba̅b̅aaba̅b̅aba̅b̅aba̅b̅aba̅b̅aba̅b̅aba̅b̅aaba̅b̅aba̅b̅aba̅b̅aba̅b̅aba̅b̅aba̅b̅aaba̅b̅aba̅b̅aba̅b̅aba̅b̅aba̅b̅aba̅b̅aaba̅b̅aba̅b̅aba̅b̅aba̅b̅aba̅b̅aba̅b̅aaba̅b̅aba̅b̅aba̅b̅aba̅b̅aba̅b̅aba̅b̅aaba̅b̅aba̅b̅aba̅b̅aba̅b̅aba̅b̅aba̅b̅aaba̅b̅aba̅b̅aba̅b̅aba̅b̅aba̅b̅aba̅b̅aaba̅b̅aba̅b̅aba̅b̅aba̅b̅aba̅b̅aba̅b̅aaba̅b̅aba̅b̅aba̅b̅aba̅b̅aba̅b̅aba̅b̅aab̅| ≤ 50.88888888888887 using |aba̅b̅aba̅b̅aaba̅b̅aba̅b̅aba̅b̅aba̅b̅aba̅b̅aba̅b̅aaba̅b̅aba̅b̅aba̅b̅aba̅b̅aba̅b̅aba̅b̅aaba̅b̅aba̅b̅aba̅b̅aba̅b̅aba̅b̅aba̅b̅aaba̅b̅aba̅b̅aba̅b̅aba̅b̅aba̅b̅aba̅b̅aaba̅b̅aba̅b̅aba̅b̅aba̅b̅aba̅b̅aba̅b̅aaba̅b̅aba̅b̅aba̅b̅aba̅b̅aba̅b̅aba̅b̅aaba̅b̅aba̅b̅aba̅b̅aba̅b̅aba̅b̅aba̅b̅aaba̅b̅aba̅b̅aba̅b̅aba̅b̅aba̅b̅aba̅b̅aaba̅b̅aba̅b̅aba̅b̅aba̅b̅aba̅b̅aba̅b̅aaba̅b̅aba̅b̅aba̅b̅aba̅b̅aba̅b̅aba̅b̅aa| ≤ 50.88888888888887\n",
       "* |a̅b̅aba̅b̅aba̅b̅aba̅b̅aba̅b̅aba̅b̅aaba̅b̅a| ≤ 5.655555555555555 using |a̅b̅aba̅b̅aba̅b̅aba̅b̅aba̅b̅aba̅b̅aaba̅b̅a| ≤ 5.655555555555555 and |e| ≤ 0.0\n",
       "* |b̅aba̅b̅aba̅b̅aaba̅b̅aba̅b̅aba̅b̅aba̅b̅aba̅b̅aba̅b̅aaba̅b̅aba̅b̅aba̅b̅aba̅b̅aba̅b̅aba̅b̅aaba̅b̅aba̅b̅aba̅b̅aba̅b̅aba̅b̅aba̅b̅aaba̅b̅aba̅b̅aba̅b̅aba̅b̅aba̅b̅aba̅b̅aaba̅b̅aba̅b̅aba̅b̅aba̅b̅aba̅b̅aba̅b̅aaba̅b̅aba̅b̅aba̅b̅aba̅b̅aba̅b̅aba̅b̅aaba̅b̅aba̅b̅aba̅b̅aba̅b̅aba̅b̅aba̅b̅aaba̅b̅aba̅b̅aba̅b̅aba̅b̅aba̅b̅aba̅b̅aaba̅b̅aba̅b̅aba̅b̅aba̅b̅aba̅b̅aba̅b̅aaba̅b̅aba̅b̅aba̅b̅aba̅b̅aba̅b̅aba̅b̅aaba̅b̅aba̅b̅aba̅b̅aba̅b̅aba̅b̅aba̅b̅aaba̅b̅a| ≤ 56.54444444444442 using |b̅aba̅b̅aba̅b̅aaba̅b̅aba̅b̅aba̅b̅aba̅b̅aba̅b̅aba̅b̅aaba̅b̅aba̅b̅aba̅b̅aba̅b̅aba̅b̅aba̅b̅aaba̅b̅aba̅b̅aba̅b̅aba̅b̅aba̅b̅aba̅b̅aaba̅b̅aba̅b̅aba̅b̅aba̅b̅aba̅b̅aba̅b̅aaba̅b̅aba̅b̅aba̅b̅aba̅b̅aba̅b̅aba̅b̅aaba̅b̅aba̅b̅aba̅b̅aba̅b̅aba̅b̅aba̅b̅aaba̅b̅aba̅b̅aba̅b̅aba̅b̅aba̅b̅aba̅b̅aaba̅b̅aba̅b̅aba̅b̅aba̅b̅aba̅b̅aba̅b̅aaba̅b̅aba̅b̅aba̅b̅aba̅b̅aba̅b̅aba̅b̅aaba̅b̅aba̅b̅aba̅b̅aba̅b̅aba̅b̅aba̅b̅aab| ≤ 50.88888888888887 and |a̅b̅aba̅b̅aba̅b̅aba̅b̅aba̅b̅aba̅b̅aaba̅b̅a| ≤ 5.655555555555555\n",
       "* |aaba̅b̅aba̅b̅aba̅b̅aba̅b̅aba̅b̅aba̅b̅aaba̅b̅aba̅b̅aba̅b̅aba̅b̅aba̅b̅aba̅b̅aaba̅b̅aba̅b̅aba̅b̅aba̅b̅aba̅b̅aba̅b̅aaba̅b̅aba̅b̅aba̅b̅aba̅b̅aba̅b̅aba̅b̅aaba̅b̅aba̅b̅aba̅b̅aba̅b̅aba̅b̅aba̅b̅aaba̅b̅aba̅b̅aba̅b̅aba̅b̅aba̅b̅aba̅b̅aaba̅b̅aba̅b̅aba̅b̅aba̅b̅aba̅b̅aba̅b̅aaba̅b̅aba̅b̅aba̅b̅aba̅b̅aba̅b̅aba̅b̅aaba̅b̅aba̅b̅aba̅b̅aba̅b̅aba̅b̅aba̅b̅aaba̅b̅aba̅b̅aba̅b̅aba̅b̅aba̅b̅aba̅b̅aaba̅b̅aba̅b̅aba̅b̅aba̅b̅aba̅b̅aba̅b̅aaba̅b̅aba̅b̅aba̅b̅aba̅b̅aba̅b̅aba̅b̅aaba̅b̅a| ≤ 59.644444444444424 using |aaba̅b̅aba̅b̅aba̅b̅aba̅| ≤ 3.1 and |b̅aba̅b̅aba̅b̅aaba̅b̅aba̅b̅aba̅b̅aba̅b̅aba̅b̅aba̅b̅aaba̅b̅aba̅b̅aba̅b̅aba̅b̅aba̅b̅aba̅b̅aaba̅b̅aba̅b̅aba̅b̅aba̅b̅aba̅b̅aba̅b̅aaba̅b̅aba̅b̅aba̅b̅aba̅b̅aba̅b̅aba̅b̅aaba̅b̅aba̅b̅aba̅b̅aba̅b̅aba̅b̅aba̅b̅aaba̅b̅aba̅b̅aba̅b̅aba̅b̅aba̅b̅aba̅b̅aaba̅b̅aba̅b̅aba̅b̅aba̅b̅aba̅b̅aba̅b̅aaba̅b̅aba̅b̅aba̅b̅aba̅b̅aba̅b̅aba̅b̅aaba̅b̅aba̅b̅aba̅b̅aba̅b̅aba̅b̅aba̅b̅aaba̅b̅aba̅b̅aba̅b̅aba̅b̅aba̅b̅aba̅b̅aaba̅b̅aba̅b̅aba̅b̅aba̅b̅aba̅b̅aba̅b̅aaba̅b̅a| ≤ 56.54444444444442\n",
       "* |baaba̅b̅aba̅b̅aba̅b̅aba̅b̅aba̅b̅aba̅b̅aaba̅b̅aba̅b̅aba̅b̅aba̅b̅aba̅b̅aba̅b̅aaba̅b̅aba̅b̅aba̅b̅aba̅b̅aba̅b̅aba̅b̅aaba̅b̅aba̅b̅aba̅b̅aba̅b̅aba̅b̅aba̅b̅aaba̅b̅aba̅b̅aba̅b̅aba̅b̅aba̅b̅aba̅b̅aaba̅b̅aba̅b̅aba̅b̅aba̅b̅aba̅b̅aba̅b̅aaba̅b̅aba̅b̅aba̅b̅aba̅b̅aba̅b̅aba̅b̅aaba̅b̅aba̅b̅aba̅b̅aba̅b̅aba̅b̅aba̅b̅aaba̅b̅aba̅b̅aba̅b̅aba̅b̅aba̅b̅aba̅b̅aaba̅b̅aba̅b̅aba̅b̅aba̅b̅aba̅b̅aba̅b̅aaba̅b̅aba̅b̅aba̅b̅aba̅b̅aba̅b̅aba̅b̅aaba̅b̅aba̅b̅aba̅b̅aba̅b̅aba̅b̅aba̅b̅aaba̅b̅ab̅| ≤ 59.644444444444424 using |aaba̅b̅aba̅b̅aba̅b̅aba̅b̅aba̅b̅aba̅b̅aaba̅b̅aba̅b̅aba̅b̅aba̅b̅aba̅b̅aba̅b̅aaba̅b̅aba̅b̅aba̅b̅aba̅b̅aba̅b̅aba̅b̅aaba̅b̅aba̅b̅aba̅b̅aba̅b̅aba̅b̅aba̅b̅aaba̅b̅aba̅b̅aba̅b̅aba̅b̅aba̅b̅aba̅b̅aaba̅b̅aba̅b̅aba̅b̅aba̅b̅aba̅b̅aba̅b̅aaba̅b̅aba̅b̅aba̅b̅aba̅b̅aba̅b̅aba̅b̅aaba̅b̅aba̅b̅aba̅b̅aba̅b̅aba̅b̅aba̅b̅aaba̅b̅aba̅b̅aba̅b̅aba̅b̅aba̅b̅aba̅b̅aaba̅b̅aba̅b̅aba̅b̅aba̅b̅aba̅b̅aba̅b̅aaba̅b̅aba̅b̅aba̅b̅aba̅b̅aba̅b̅aba̅b̅aaba̅b̅aba̅b̅aba̅b̅aba̅b̅aba̅b̅aba̅b̅aaba̅b̅a| ≤ 59.644444444444424\n",
       "* |a̅b̅aba̅b̅| ≤ 2.0 using |a̅b̅a| ≤ 1.0 and |ba̅b̅| ≤ 1.0\n",
       "* |b̅aba̅b̅aba̅b̅aba̅b̅aba̅b̅| ≤ 4.1 using |b̅aba̅b̅aba̅b̅ab| ≤ 2.1 and |a̅b̅aba̅b̅| ≤ 2.0\n",
       "* |ab̅aba̅b̅aba̅b̅aba̅b̅aba̅b̅a̅| ≤ 4.1 using |b̅aba̅b̅aba̅b̅aba̅b̅aba̅b̅| ≤ 4.1\n",
       "* |a̅b̅aba̅b̅aba̅b̅aba̅b̅aba̅b̅a| ≤ 4.1 using |a̅b̅aba̅b̅aba̅b̅aba̅b̅aba̅b̅a| ≤ 4.1 and |e| ≤ 0.0\n",
       "* |b̅aaba̅b̅aba̅b̅aba̅b̅aba̅b̅aba̅b̅aba̅b̅aaba̅b̅aba̅b̅aba̅b̅aba̅b̅aba̅b̅aba̅b̅aaba̅b̅aba̅b̅aba̅b̅aba̅b̅aba̅b̅aba̅b̅aaba̅b̅aba̅b̅aba̅b̅aba̅b̅aba̅b̅aba̅b̅aaba̅b̅aba̅b̅aba̅b̅aba̅b̅aba̅b̅aba̅b̅aaba̅b̅aba̅b̅aba̅b̅aba̅b̅aba̅b̅aba̅b̅aaba̅b̅aba̅b̅aba̅b̅aba̅b̅aba̅b̅aba̅b̅aaba̅b̅aba̅b̅aba̅b̅aba̅b̅aba̅b̅aba̅b̅aaba̅b̅aba̅b̅aba̅b̅aba̅b̅aba̅b̅aba̅b̅aaba̅b̅aba̅b̅aba̅b̅aba̅b̅aba̅b̅aba̅b̅aaba̅b̅aba̅b̅aba̅b̅aba̅b̅aba̅b̅aba̅b̅aaba̅b̅aba̅b̅aba̅b̅aba̅b̅aba̅b̅aba̅b̅aaba̅b̅aba̅b̅aba̅b̅aba̅b̅aba̅b̅aba̅b̅a| ≤ 63.744444444444426 using |b̅aaba̅b̅aba̅b̅aba̅b̅aba̅b̅aba̅b̅aba̅b̅aaba̅b̅aba̅b̅aba̅b̅aba̅b̅aba̅b̅aba̅b̅aaba̅b̅aba̅b̅aba̅b̅aba̅b̅aba̅b̅aba̅b̅aaba̅b̅aba̅b̅aba̅b̅aba̅b̅aba̅b̅aba̅b̅aaba̅b̅aba̅b̅aba̅b̅aba̅b̅aba̅b̅aba̅b̅aaba̅b̅aba̅b̅aba̅b̅aba̅b̅aba̅b̅aba̅b̅aaba̅b̅aba̅b̅aba̅b̅aba̅b̅aba̅b̅aba̅b̅aaba̅b̅aba̅b̅aba̅b̅aba̅b̅aba̅b̅aba̅b̅aaba̅b̅aba̅b̅aba̅b̅aba̅b̅aba̅b̅aba̅b̅aaba̅b̅aba̅b̅aba̅b̅aba̅b̅aba̅b̅aba̅b̅aaba̅b̅aba̅b̅aba̅b̅aba̅b̅aba̅b̅aba̅b̅aaba̅b̅aba̅b̅aba̅b̅aba̅b̅aba̅b̅aba̅b̅aaba̅b̅ab| ≤ 59.644444444444424 and |a̅b̅aba̅b̅aba̅b̅aba̅b̅aba̅b̅a| ≤ 4.1\n",
       "* |ab̅aaba̅b̅aba̅b̅aba̅b̅aba̅b̅aba̅b̅aba̅b̅aaba̅b̅aba̅b̅aba̅b̅aba̅b̅aba̅b̅aba̅b̅aaba̅b̅aba̅b̅aba̅b̅aba̅b̅aba̅b̅aba̅b̅aaba̅b̅aba̅b̅aba̅b̅aba̅b̅aba̅b̅aba̅b̅aaba̅b̅aba̅b̅aba̅b̅aba̅b̅aba̅b̅aba̅b̅aaba̅b̅aba̅b̅aba̅b̅aba̅b̅aba̅b̅aba̅b̅aaba̅b̅aba̅b̅aba̅b̅aba̅b̅aba̅b̅aba̅b̅aaba̅b̅aba̅b̅aba̅b̅aba̅b̅aba̅b̅aba̅b̅aaba̅b̅aba̅b̅aba̅b̅aba̅b̅aba̅b̅aba̅b̅aaba̅b̅aba̅b̅aba̅b̅aba̅b̅aba̅b̅aba̅b̅aaba̅b̅aba̅b̅aba̅b̅aba̅b̅aba̅b̅aba̅b̅aaba̅b̅aba̅b̅aba̅b̅aba̅b̅aba̅b̅aba̅b̅aaba̅b̅aba̅b̅aba̅b̅aba̅b̅aba̅b̅aba̅b̅aa̅| ≤ 63.744444444444426 using |b̅aaba̅b̅aba̅b̅aba̅b̅aba̅b̅aba̅b̅aba̅b̅aaba̅b̅aba̅b̅aba̅b̅aba̅b̅aba̅b̅aba̅b̅aaba̅b̅aba̅b̅aba̅b̅aba̅b̅aba̅b̅aba̅b̅aaba̅b̅aba̅b̅aba̅b̅aba̅b̅aba̅b̅aba̅b̅aaba̅b̅aba̅b̅aba̅b̅aba̅b̅aba̅b̅aba̅b̅aaba̅b̅aba̅b̅aba̅b̅aba̅b̅aba̅b̅aba̅b̅aaba̅b̅aba̅b̅aba̅b̅aba̅b̅aba̅b̅aba̅b̅aaba̅b̅aba̅b̅aba̅b̅aba̅b̅aba̅b̅aba̅b̅aaba̅b̅aba̅b̅aba̅b̅aba̅b̅aba̅b̅aba̅b̅aaba̅b̅aba̅b̅aba̅b̅aba̅b̅aba̅b̅aba̅b̅aaba̅b̅aba̅b̅aba̅b̅aba̅b̅aba̅b̅aba̅b̅aaba̅b̅aba̅b̅aba̅b̅aba̅b̅aba̅b̅aba̅b̅aaba̅b̅aba̅b̅aba̅b̅aba̅b̅aba̅b̅aba̅b̅a| ≤ 63.744444444444426\n",
       "* |a̅b̅aaba̅b̅aba̅b̅aba̅b̅aba̅b̅aba̅b̅aba̅b̅aaba̅b̅aba̅b̅aba̅b̅aba̅b̅aba̅b̅aba̅b̅aaba̅b̅aba̅b̅aba̅b̅aba̅b̅aba̅b̅aba̅b̅aaba̅b̅aba̅b̅aba̅b̅aba̅b̅aba̅b̅aba̅b̅aaba̅b̅aba̅b̅aba̅b̅aba̅b̅aba̅b̅aba̅b̅aaba̅b̅aba̅b̅aba̅b̅aba̅b̅aba̅b̅aba̅b̅aaba̅b̅aba̅b̅aba̅b̅aba̅b̅aba̅b̅aba̅b̅aaba̅b̅aba̅b̅aba̅b̅aba̅b̅aba̅b̅aba̅b̅aaba̅b̅aba̅b̅aba̅b̅aba̅b̅aba̅b̅aba̅b̅aaba̅b̅aba̅b̅aba̅b̅aba̅b̅aba̅b̅aba̅b̅aaba̅b̅aba̅b̅aba̅b̅aba̅b̅aba̅b̅aba̅b̅aaba̅b̅aba̅b̅aba̅b̅aba̅b̅aba̅b̅aba̅b̅aaba̅b̅aba̅b̅aba̅b̅aba̅b̅aba̅b̅aba̅b̅aa| ≤ 63.744444444444426 using |a̅b̅aaba̅b̅aba̅b̅aba̅b̅aba̅b̅aba̅b̅aba̅b̅aaba̅b̅aba̅b̅aba̅b̅aba̅b̅aba̅b̅aba̅b̅aaba̅b̅aba̅b̅aba̅b̅aba̅b̅aba̅b̅aba̅b̅aaba̅b̅aba̅b̅aba̅b̅aba̅b̅aba̅b̅aba̅b̅aaba̅b̅aba̅b̅aba̅b̅aba̅b̅aba̅b̅aba̅b̅aaba̅b̅aba̅b̅aba̅b̅aba̅b̅aba̅b̅aba̅b̅aaba̅b̅aba̅b̅aba̅b̅aba̅b̅aba̅b̅aba̅b̅aaba̅b̅aba̅b̅aba̅b̅aba̅b̅aba̅b̅aba̅b̅aaba̅b̅aba̅b̅aba̅b̅aba̅b̅aba̅b̅aba̅b̅aaba̅b̅aba̅b̅aba̅b̅aba̅b̅aba̅b̅aba̅b̅aaba̅b̅aba̅b̅aba̅b̅aba̅b̅aba̅b̅aba̅b̅aaba̅b̅aba̅b̅aba̅b̅aba̅b̅aba̅b̅aba̅b̅aaba̅b̅aba̅b̅aba̅b̅aba̅b̅aba̅b̅aba̅b̅aa| ≤ 63.744444444444426 and |e| ≤ 0.0\n",
       "* |b̅aba̅b̅aba̅b̅aba̅b̅aaba̅b̅aba̅b̅aba̅b̅aba̅b̅aba̅b̅aba̅b̅aaba̅b̅aba̅b̅aba̅b̅aba̅b̅aba̅b̅aba̅b̅aaba̅b̅aba̅b̅aba̅b̅aba̅b̅aba̅b̅aba̅b̅aaba̅b̅aba̅b̅aba̅b̅aba̅b̅aba̅b̅aba̅b̅aaba̅b̅aba̅b̅aba̅b̅aba̅b̅aba̅b̅aba̅b̅aaba̅b̅aba̅b̅aba̅b̅aba̅b̅aba̅b̅aba̅b̅aaba̅b̅aba̅b̅aba̅b̅aba̅b̅aba̅b̅aba̅b̅aaba̅b̅aba̅b̅aba̅b̅aba̅b̅aba̅b̅aba̅b̅aaba̅b̅aba̅b̅aba̅b̅aba̅b̅aba̅b̅aba̅b̅aaba̅b̅aba̅b̅aba̅b̅aba̅b̅aba̅b̅aba̅b̅aaba̅b̅aba̅b̅aba̅b̅aba̅b̅aba̅b̅aba̅b̅aaba̅b̅aba̅b̅aba̅b̅aba̅b̅aba̅b̅aba̅b̅aaba̅b̅aba̅b̅aba̅b̅aba̅b̅aba̅b̅aba̅b̅aa| ≤ 65.84444444444442 using |b̅aba̅b̅aba̅b̅ab| ≤ 2.1 and |a̅b̅aaba̅b̅aba̅b̅aba̅b̅aba̅b̅aba̅b̅aba̅b̅aaba̅b̅aba̅b̅aba̅b̅aba̅b̅aba̅b̅aba̅b̅aaba̅b̅aba̅b̅aba̅b̅aba̅b̅aba̅b̅aba̅b̅aaba̅b̅aba̅b̅aba̅b̅aba̅b̅aba̅b̅aba̅b̅aaba̅b̅aba̅b̅aba̅b̅aba̅b̅aba̅b̅aba̅b̅aaba̅b̅aba̅b̅aba̅b̅aba̅b̅aba̅b̅aba̅b̅aaba̅b̅aba̅b̅aba̅b̅aba̅b̅aba̅b̅aba̅b̅aaba̅b̅aba̅b̅aba̅b̅aba̅b̅aba̅b̅aba̅b̅aaba̅b̅aba̅b̅aba̅b̅aba̅b̅aba̅b̅aba̅b̅aaba̅b̅aba̅b̅aba̅b̅aba̅b̅aba̅b̅aba̅b̅aaba̅b̅aba̅b̅aba̅b̅aba̅b̅aba̅b̅aba̅b̅aaba̅b̅aba̅b̅aba̅b̅aba̅b̅aba̅b̅aba̅b̅aaba̅b̅aba̅b̅aba̅b̅aba̅b̅aba̅b̅aba̅b̅aa| ≤ 63.744444444444426\n",
       "* |aaba̅b̅aba̅b̅aba̅b̅aba̅b̅aba̅b̅aba̅b̅aaba̅b̅aba̅b̅aba̅b̅aba̅b̅aba̅b̅aba̅b̅aaba̅b̅aba̅b̅aba̅b̅aba̅b̅aba̅b̅aba̅b̅aaba̅b̅aba̅b̅aba̅b̅aba̅b̅aba̅b̅aba̅b̅aaba̅b̅aba̅b̅aba̅b̅aba̅b̅aba̅b̅aba̅b̅aaba̅b̅aba̅b̅aba̅b̅aba̅b̅aba̅b̅aba̅b̅aaba̅b̅aba̅b̅aba̅b̅aba̅b̅aba̅b̅aba̅b̅aaba̅b̅aba̅b̅aba̅b̅aba̅b̅aba̅b̅aba̅b̅aaba̅b̅aba̅b̅aba̅b̅aba̅b̅aba̅b̅aba̅b̅aaba̅b̅aba̅b̅aba̅b̅aba̅b̅aba̅b̅aba̅b̅aaba̅b̅aba̅b̅aba̅b̅aba̅b̅aba̅b̅aba̅b̅aaba̅b̅aba̅b̅aba̅b̅aba̅b̅aba̅b̅aba̅b̅aaba̅b̅aba̅b̅aba̅b̅aba̅b̅aba̅b̅aba̅b̅aaba̅b̅aba̅b̅aba̅b̅aba̅b̅aba̅b̅aba̅b̅aa| ≤ 68.39999999999998 using |aaba̅b̅aba̅b̅aba̅| ≤ 2.5555555555555554 and |b̅aba̅b̅aba̅b̅aba̅b̅aaba̅b̅aba̅b̅aba̅b̅aba̅b̅aba̅b̅aba̅b̅aaba̅b̅aba̅b̅aba̅b̅aba̅b̅aba̅b̅aba̅b̅aaba̅b̅aba̅b̅aba̅b̅aba̅b̅aba̅b̅aba̅b̅aaba̅b̅aba̅b̅aba̅b̅aba̅b̅aba̅b̅aba̅b̅aaba̅b̅aba̅b̅aba̅b̅aba̅b̅aba̅b̅aba̅b̅aaba̅b̅aba̅b̅aba̅b̅aba̅b̅aba̅b̅aba̅b̅aaba̅b̅aba̅b̅aba̅b̅aba̅b̅aba̅b̅aba̅b̅aaba̅b̅aba̅b̅aba̅b̅aba̅b̅aba̅b̅aba̅b̅aaba̅b̅aba̅b̅aba̅b̅aba̅b̅aba̅b̅aba̅b̅aaba̅b̅aba̅b̅aba̅b̅aba̅b̅aba̅b̅aba̅b̅aaba̅b̅aba̅b̅aba̅b̅aba̅b̅aba̅b̅aba̅b̅aaba̅b̅aba̅b̅aba̅b̅aba̅b̅aba̅b̅aba̅b̅aaba̅b̅aba̅b̅aba̅b̅aba̅b̅aba̅b̅aba̅b̅aa| ≤ 65.84444444444442\n",
       "* |baaba̅b̅aba̅b̅aba̅b̅aba̅b̅aba̅b̅aba̅b̅aaba̅b̅aba̅b̅aba̅b̅aba̅b̅aba̅b̅aba̅b̅aaba̅b̅aba̅b̅aba̅b̅aba̅b̅aba̅b̅aba̅b̅aaba̅b̅aba̅b̅aba̅b̅aba̅b̅aba̅b̅aba̅b̅aaba̅b̅aba̅b̅aba̅b̅aba̅b̅aba̅b̅aba̅b̅aaba̅b̅aba̅b̅aba̅b̅aba̅b̅aba̅b̅aba̅b̅aaba̅b̅aba̅b̅aba̅b̅aba̅b̅aba̅b̅aba̅b̅aaba̅b̅aba̅b̅aba̅b̅aba̅b̅aba̅b̅aba̅b̅aaba̅b̅aba̅b̅aba̅b̅aba̅b̅aba̅b̅aba̅b̅aaba̅b̅aba̅b̅aba̅b̅aba̅b̅aba̅b̅aba̅b̅aaba̅b̅aba̅b̅aba̅b̅aba̅b̅aba̅b̅aba̅b̅aaba̅b̅aba̅b̅aba̅b̅aba̅b̅aba̅b̅aba̅b̅aaba̅b̅aba̅b̅aba̅b̅aba̅b̅aba̅b̅aba̅b̅aaba̅b̅aba̅b̅aba̅b̅aba̅b̅aba̅b̅aba̅b̅aab̅| ≤ 68.39999999999998 using |aaba̅b̅aba̅b̅aba̅b̅aba̅b̅aba̅b̅aba̅b̅aaba̅b̅aba̅b̅aba̅b̅aba̅b̅aba̅b̅aba̅b̅aaba̅b̅aba̅b̅aba̅b̅aba̅b̅aba̅b̅aba̅b̅aaba̅b̅aba̅b̅aba̅b̅aba̅b̅aba̅b̅aba̅b̅aaba̅b̅aba̅b̅aba̅b̅aba̅b̅aba̅b̅aba̅b̅aaba̅b̅aba̅b̅aba̅b̅aba̅b̅aba̅b̅aba̅b̅aaba̅b̅aba̅b̅aba̅b̅aba̅b̅aba̅b̅aba̅b̅aaba̅b̅aba̅b̅aba̅b̅aba̅b̅aba̅b̅aba̅b̅aaba̅b̅aba̅b̅aba̅b̅aba̅b̅aba̅b̅aba̅b̅aaba̅b̅aba̅b̅aba̅b̅aba̅b̅aba̅b̅aba̅b̅aaba̅b̅aba̅b̅aba̅b̅aba̅b̅aba̅b̅aba̅b̅aaba̅b̅aba̅b̅aba̅b̅aba̅b̅aba̅b̅aba̅b̅aaba̅b̅aba̅b̅aba̅b̅aba̅b̅aba̅b̅aba̅b̅aaba̅b̅aba̅b̅aba̅b̅aba̅b̅aba̅b̅aba̅b̅aa| ≤ 68.39999999999998\n",
       "* |b̅aaba̅b̅aba̅b̅aba̅b̅aba̅b̅aba̅b̅aba̅b̅aaba̅b̅aba̅b̅aba̅b̅aba̅b̅aba̅b̅aba̅b̅aaba̅b̅aba̅b̅aba̅b̅aba̅b̅aba̅b̅aba̅b̅aaba̅b̅aba̅b̅aba̅b̅aba̅b̅aba̅b̅aba̅b̅aaba̅b̅aba̅b̅aba̅b̅aba̅b̅aba̅b̅aba̅b̅aaba̅b̅aba̅b̅aba̅b̅aba̅b̅aba̅b̅aba̅b̅aaba̅b̅aba̅b̅aba̅b̅aba̅b̅aba̅b̅aba̅b̅aaba̅b̅aba̅b̅aba̅b̅aba̅b̅aba̅b̅aba̅b̅aaba̅b̅aba̅b̅aba̅b̅aba̅b̅aba̅b̅aba̅b̅aaba̅b̅aba̅b̅aba̅b̅aba̅b̅aba̅b̅aba̅b̅aaba̅b̅aba̅b̅aba̅b̅aba̅b̅aba̅b̅aba̅b̅aaba̅b̅aba̅b̅aba̅b̅aba̅b̅aba̅b̅aba̅b̅aaba̅b̅aba̅b̅aba̅b̅aba̅b̅aba̅b̅aba̅b̅aaba̅b̅aba̅b̅aba̅b̅aba̅b̅aba̅b̅aba̅b̅aab| ≤ 68.39999999999998 using |b̅aaba̅b̅aba̅b̅aba̅b̅aba̅b̅aba̅b̅aba̅b̅aaba̅b̅aba̅b̅aba̅b̅aba̅b̅aba̅b̅aba̅b̅aaba̅b̅aba̅b̅aba̅b̅aba̅b̅aba̅b̅aba̅b̅aaba̅b̅aba̅b̅aba̅b̅aba̅b̅aba̅b̅aba̅b̅aaba̅b̅aba̅b̅aba̅b̅aba̅b̅aba̅b̅aba̅b̅aaba̅b̅aba̅b̅aba̅b̅aba̅b̅aba̅b̅aba̅b̅aaba̅b̅aba̅b̅aba̅b̅aba̅b̅aba̅b̅aba̅b̅aaba̅b̅aba̅b̅aba̅b̅aba̅b̅aba̅b̅aba̅b̅aaba̅b̅aba̅b̅aba̅b̅aba̅b̅aba̅b̅aba̅b̅aaba̅b̅aba̅b̅aba̅b̅aba̅b̅aba̅b̅aba̅b̅aaba̅b̅aba̅b̅aba̅b̅aba̅b̅aba̅b̅aba̅b̅aaba̅b̅aba̅b̅aba̅b̅aba̅b̅aba̅b̅aba̅b̅aaba̅b̅aba̅b̅aba̅b̅aba̅b̅aba̅b̅aba̅b̅aaba̅b̅aba̅b̅aba̅b̅aba̅b̅aba̅b̅aba̅b̅aab| ≤ 68.39999999999998 and |e| ≤ 0.0\n",
       "* |aba̅b̅aaba̅b̅aba̅b̅aba̅b̅aba̅b̅aba̅b̅aba̅b̅aaba̅b̅aba̅b̅aba̅b̅aba̅b̅aba̅b̅aba̅b̅aaba̅b̅aba̅b̅aba̅b̅aba̅b̅aba̅b̅aba̅b̅aaba̅b̅aba̅b̅aba̅b̅aba̅b̅aba̅b̅aba̅b̅aaba̅b̅aba̅b̅aba̅b̅aba̅b̅aba̅b̅aba̅b̅aaba̅b̅aba̅b̅aba̅b̅aba̅b̅aba̅b̅aba̅b̅aaba̅b̅aba̅b̅aba̅b̅aba̅b̅aba̅b̅aba̅b̅aaba̅b̅aba̅b̅aba̅b̅aba̅b̅aba̅b̅aba̅b̅aaba̅b̅aba̅b̅aba̅b̅aba̅b̅aba̅b̅aba̅b̅aaba̅b̅aba̅b̅aba̅b̅aba̅b̅aba̅b̅aba̅b̅aaba̅b̅aba̅b̅aba̅b̅aba̅b̅aba̅b̅aba̅b̅aaba̅b̅aba̅b̅aba̅b̅aba̅b̅aba̅b̅aba̅b̅aaba̅b̅aba̅b̅aba̅b̅aba̅b̅aba̅b̅aba̅b̅aaba̅b̅aba̅b̅aba̅b̅aba̅b̅aba̅b̅aba̅b̅aaba̅b̅aba̅b̅aba̅b̅aba̅b̅aba̅b̅aba̅b̅aab| ≤ 74.05555555555553 using |aba̅b̅aaba̅b̅aba̅b̅aba̅b̅aba̅b̅aba̅b̅aba̅| ≤ 5.655555555555555 and |b̅aaba̅b̅aba̅b̅aba̅b̅aba̅b̅aba̅b̅aba̅b̅aaba̅b̅aba̅b̅aba̅b̅aba̅b̅aba̅b̅aba̅b̅aaba̅b̅aba̅b̅aba̅b̅aba̅b̅aba̅b̅aba̅b̅aaba̅b̅aba̅b̅aba̅b̅aba̅b̅aba̅b̅aba̅b̅aaba̅b̅aba̅b̅aba̅b̅aba̅b̅aba̅b̅aba̅b̅aaba̅b̅aba̅b̅aba̅b̅aba̅b̅aba̅b̅aba̅b̅aaba̅b̅aba̅b̅aba̅b̅aba̅b̅aba̅b̅aba̅b̅aaba̅b̅aba̅b̅aba̅b̅aba̅b̅aba̅b̅aba̅b̅aaba̅b̅aba̅b̅aba̅b̅aba̅b̅aba̅b̅aba̅b̅aaba̅b̅aba̅b̅aba̅b̅aba̅b̅aba̅b̅aba̅b̅aaba̅b̅aba̅b̅aba̅b̅aba̅b̅aba̅b̅aba̅b̅aaba̅b̅aba̅b̅aba̅b̅aba̅b̅aba̅b̅aba̅b̅aaba̅b̅aba̅b̅aba̅b̅aba̅b̅aba̅b̅aba̅b̅aaba̅b̅aba̅b̅aba̅b̅aba̅b̅aba̅b̅aba̅b̅aab| ≤ 68.39999999999998\n",
       "* |ba̅b̅aba̅b̅aaba̅b̅aba̅b̅aba̅b̅aba̅b̅aba̅b̅aba̅b̅aaba̅b̅aba̅b̅aba̅b̅aba̅b̅aba̅b̅aba̅b̅aaba̅b̅aba̅b̅aba̅b̅aba̅b̅aba̅b̅aba̅b̅aaba̅b̅aba̅b̅aba̅b̅aba̅b̅aba̅b̅aba̅b̅aaba̅b̅aba̅b̅aba̅b̅aba̅b̅aba̅b̅aba̅b̅aaba̅b̅aba̅b̅aba̅b̅aba̅b̅aba̅b̅aba̅b̅aaba̅b̅aba̅b̅aba̅b̅aba̅b̅aba̅b̅aba̅b̅aaba̅b̅aba̅b̅aba̅b̅aba̅b̅aba̅b̅aba̅b̅aaba̅b̅aba̅b̅aba̅b̅aba̅b̅aba̅b̅aba̅b̅aaba̅b̅aba̅b̅aba̅b̅aba̅b̅aba̅b̅aba̅b̅aaba̅b̅aba̅b̅aba̅b̅aba̅b̅aba̅b̅aba̅b̅aaba̅b̅aba̅b̅aba̅b̅aba̅b̅aba̅b̅aba̅b̅aaba̅b̅aba̅b̅aba̅b̅aba̅b̅aba̅b̅aba̅b̅aaba̅b̅aba̅b̅aba̅b̅aba̅b̅aba̅b̅aba̅b̅aaba̅b̅aba̅b̅aba̅b̅aba̅b̅aba̅b̅aba̅b̅aab| ≤ 75.05555555555553 using |ba̅b̅| ≤ 1.0 and |aba̅b̅aaba̅b̅aba̅b̅aba̅b̅aba̅b̅aba̅b̅aba̅b̅aaba̅b̅aba̅b̅aba̅b̅aba̅b̅aba̅b̅aba̅b̅aaba̅b̅aba̅b̅aba̅b̅aba̅b̅aba̅b̅aba̅b̅aaba̅b̅aba̅b̅aba̅b̅aba̅b̅aba̅b̅aba̅b̅aaba̅b̅aba̅b̅aba̅b̅aba̅b̅aba̅b̅aba̅b̅aaba̅b̅aba̅b̅aba̅b̅aba̅b̅aba̅b̅aba̅b̅aaba̅b̅aba̅b̅aba̅b̅aba̅b̅aba̅b̅aba̅b̅aaba̅b̅aba̅b̅aba̅b̅aba̅b̅aba̅b̅aba̅b̅aaba̅b̅aba̅b̅aba̅b̅aba̅b̅aba̅b̅aba̅b̅aaba̅b̅aba̅b̅aba̅b̅aba̅b̅aba̅b̅aba̅b̅aaba̅b̅aba̅b̅aba̅b̅aba̅b̅aba̅b̅aba̅b̅aaba̅b̅aba̅b̅aba̅b̅aba̅b̅aba̅b̅aba̅b̅aaba̅b̅aba̅b̅aba̅b̅aba̅b̅aba̅b̅aba̅b̅aaba̅b̅aba̅b̅aba̅b̅aba̅b̅aba̅b̅aba̅b̅aaba̅b̅aba̅b̅aba̅b̅aba̅b̅aba̅b̅aba̅b̅aab| ≤ 74.05555555555553\n",
       "* |a̅ba̅b̅aba̅b̅aaba̅b̅aba̅b̅aba̅b̅aba̅b̅aba̅b̅aba̅b̅aaba̅b̅aba̅b̅aba̅b̅aba̅b̅aba̅b̅aba̅b̅aaba̅b̅aba̅b̅aba̅b̅aba̅b̅aba̅b̅aba̅b̅aaba̅b̅aba̅b̅aba̅b̅aba̅b̅aba̅b̅aba̅b̅aaba̅b̅aba̅b̅aba̅b̅aba̅b̅aba̅b̅aba̅b̅aaba̅b̅aba̅b̅aba̅b̅aba̅b̅aba̅b̅aba̅b̅aaba̅b̅aba̅b̅aba̅b̅aba̅b̅aba̅b̅aba̅b̅aaba̅b̅aba̅b̅aba̅b̅aba̅b̅aba̅b̅aba̅b̅aaba̅b̅aba̅b̅aba̅b̅aba̅b̅aba̅b̅aba̅b̅aaba̅b̅aba̅b̅aba̅b̅aba̅b̅aba̅b̅aba̅b̅aaba̅b̅aba̅b̅aba̅b̅aba̅b̅aba̅b̅aba̅b̅aaba̅b̅aba̅b̅aba̅b̅aba̅b̅aba̅b̅aba̅b̅aaba̅b̅aba̅b̅aba̅b̅aba̅b̅aba̅b̅aba̅b̅aaba̅b̅aba̅b̅aba̅b̅aba̅b̅aba̅b̅aba̅b̅aaba̅b̅aba̅b̅aba̅b̅aba̅b̅aba̅b̅aba̅b̅aaba| ≤ 75.05555555555553 using |ba̅b̅aba̅b̅aaba̅b̅aba̅b̅aba̅b̅aba̅b̅aba̅b̅aba̅b̅aaba̅b̅aba̅b̅aba̅b̅aba̅b̅aba̅b̅aba̅b̅aaba̅b̅aba̅b̅aba̅b̅aba̅b̅aba̅b̅aba̅b̅aaba̅b̅aba̅b̅aba̅b̅aba̅b̅aba̅b̅aba̅b̅aaba̅b̅aba̅b̅aba̅b̅aba̅b̅aba̅b̅aba̅b̅aaba̅b̅aba̅b̅aba̅b̅aba̅b̅aba̅b̅aba̅b̅aaba̅b̅aba̅b̅aba̅b̅aba̅b̅aba̅b̅aba̅b̅aaba̅b̅aba̅b̅aba̅b̅aba̅b̅aba̅b̅aba̅b̅aaba̅b̅aba̅b̅aba̅b̅aba̅b̅aba̅b̅aba̅b̅aaba̅b̅aba̅b̅aba̅b̅aba̅b̅aba̅b̅aba̅b̅aaba̅b̅aba̅b̅aba̅b̅aba̅b̅aba̅b̅aba̅b̅aaba̅b̅aba̅b̅aba̅b̅aba̅b̅aba̅b̅aba̅b̅aaba̅b̅aba̅b̅aba̅b̅aba̅b̅aba̅b̅aba̅b̅aaba̅b̅aba̅b̅aba̅b̅aba̅b̅aba̅b̅aba̅b̅aaba̅b̅aba̅b̅aba̅b̅aba̅b̅aba̅b̅aba̅b̅aab| ≤ 75.05555555555553\n",
       "* |aba̅b̅aba̅b̅aaba̅b̅aba̅b̅aba̅b̅aba̅b̅aba̅b̅aba̅b̅aaba̅b̅aba̅b̅aba̅b̅aba̅b̅aba̅b̅aba̅b̅aaba̅b̅aba̅b̅aba̅b̅aba̅b̅aba̅b̅aba̅b̅aaba̅b̅aba̅b̅aba̅b̅aba̅b̅aba̅b̅aba̅b̅aaba̅b̅aba̅b̅aba̅b̅aba̅b̅aba̅b̅aba̅b̅aaba̅b̅aba̅b̅aba̅b̅aba̅b̅aba̅b̅aba̅b̅aaba̅b̅aba̅b̅aba̅b̅aba̅b̅aba̅b̅aba̅b̅aaba̅b̅aba̅b̅aba̅b̅aba̅b̅aba̅b̅aba̅b̅aaba̅b̅aba̅b̅aba̅b̅aba̅b̅aba̅b̅aba̅b̅aaba̅b̅aba̅b̅aba̅b̅aba̅b̅aba̅b̅aba̅b̅aaba̅b̅aba̅b̅aba̅b̅aba̅b̅aba̅b̅aba̅b̅aaba̅b̅aba̅b̅aba̅b̅aba̅b̅aba̅b̅aba̅b̅aaba̅b̅aba̅b̅aba̅b̅aba̅b̅aba̅b̅aba̅b̅aaba̅b̅aba̅b̅aba̅b̅aba̅b̅aba̅b̅aba̅b̅aaba̅b̅aba̅b̅aba̅b̅aba̅b̅aba̅b̅aba̅b̅aaba̅b̅aba̅b̅aba̅b̅aba̅b̅aba̅b̅aba̅b̅aa| ≤ 79.71111111111108 using |aba̅b̅aba̅b̅aaba̅b̅aba̅b̅aba̅b̅aba̅b̅aba̅b̅aba̅b̅aaba̅b̅aba̅b̅aba̅b̅aba̅b̅aba̅b̅aba̅b̅aaba̅b̅aba̅b̅aba̅b̅aba̅b̅aba̅b̅aba̅b̅aaba̅b̅aba̅b̅aba̅b̅aba̅b̅aba̅b̅aba̅b̅aaba̅b̅aba̅b̅aba̅b̅aba̅b̅aba̅b̅aba̅b̅aaba̅b̅aba̅b̅aba̅b̅aba̅b̅aba̅b̅aba̅b̅aaba̅b̅aba̅b̅aba̅b̅aba̅b̅aba̅b̅aba̅b̅aaba̅b̅aba̅b̅aba̅b̅aba̅b̅aba̅b̅aba̅b̅aaba̅b̅aba̅b̅aba̅b̅aba̅b̅aba̅b̅aba̅b̅aaba̅b̅aba̅b̅aba̅b̅aba̅b̅aba̅b̅aba̅b̅aaba̅b̅aba̅b̅aba̅b̅aba̅b̅aba̅b̅aba̅b̅aaba̅b̅aba̅b̅aba̅b̅aba̅b̅aba̅b̅aba̅b̅aaba̅b̅aba̅b̅aba̅b̅aba̅b̅aba̅b̅aba̅b̅aaba̅b̅aba̅b̅aba̅b̅aba̅b̅aba̅b̅aba̅b̅aaba̅b̅aba̅b̅aba̅b̅aba̅b̅aba̅b̅aba̅b̅aaba̅| ≤ 75.05555555555553 and |b̅aba̅b̅aba̅b̅aba̅b̅aba̅b̅aba̅b̅aa| ≤ 4.655555555555555\n",
       "* |baba̅b̅aba̅b̅aaba̅b̅aba̅b̅aba̅b̅aba̅b̅aba̅b̅aba̅b̅aaba̅b̅aba̅b̅aba̅b̅aba̅b̅aba̅b̅aba̅b̅aaba̅b̅aba̅b̅aba̅b̅aba̅b̅aba̅b̅aba̅b̅aaba̅b̅aba̅b̅aba̅b̅aba̅b̅aba̅b̅aba̅b̅aaba̅b̅aba̅b̅aba̅b̅aba̅b̅aba̅b̅aba̅b̅aaba̅b̅aba̅b̅aba̅b̅aba̅b̅aba̅b̅aba̅b̅aaba̅b̅aba̅b̅aba̅b̅aba̅b̅aba̅b̅aba̅b̅aaba̅b̅aba̅b̅aba̅b̅aba̅b̅aba̅b̅aba̅b̅aaba̅b̅aba̅b̅aba̅b̅aba̅b̅aba̅b̅aba̅b̅aaba̅b̅aba̅b̅aba̅b̅aba̅b̅aba̅b̅aba̅b̅aaba̅b̅aba̅b̅aba̅b̅aba̅b̅aba̅b̅aba̅b̅aaba̅b̅aba̅b̅aba̅b̅aba̅b̅aba̅b̅aba̅b̅aaba̅b̅aba̅b̅aba̅b̅aba̅b̅aba̅b̅aba̅b̅aaba̅b̅aba̅b̅aba̅b̅aba̅b̅aba̅b̅aba̅b̅aaba̅b̅aba̅b̅aba̅b̅aba̅b̅aba̅b̅aba̅b̅aaba̅b̅aba̅b̅aba̅b̅aba̅b̅aba̅b̅aba̅b̅aab̅| ≤ 79.71111111111108 using |aba̅b̅aba̅b̅aaba̅b̅aba̅b̅aba̅b̅aba̅b̅aba̅b̅aba̅b̅aaba̅b̅aba̅b̅aba̅b̅aba̅b̅aba̅b̅aba̅b̅aaba̅b̅aba̅b̅aba̅b̅aba̅b̅aba̅b̅aba̅b̅aaba̅b̅aba̅b̅aba̅b̅aba̅b̅aba̅b̅aba̅b̅aaba̅b̅aba̅b̅aba̅b̅aba̅b̅aba̅b̅aba̅b̅aaba̅b̅aba̅b̅aba̅b̅aba̅b̅aba̅b̅aba̅b̅aaba̅b̅aba̅b̅aba̅b̅aba̅b̅aba̅b̅aba̅b̅aaba̅b̅aba̅b̅aba̅b̅aba̅b̅aba̅b̅aba̅b̅aaba̅b̅aba̅b̅aba̅b̅aba̅b̅aba̅b̅aba̅b̅aaba̅b̅aba̅b̅aba̅b̅aba̅b̅aba̅b̅aba̅b̅aaba̅b̅aba̅b̅aba̅b̅aba̅b̅aba̅b̅aba̅b̅aaba̅b̅aba̅b̅aba̅b̅aba̅b̅aba̅b̅aba̅b̅aaba̅b̅aba̅b̅aba̅b̅aba̅b̅aba̅b̅aba̅b̅aaba̅b̅aba̅b̅aba̅b̅aba̅b̅aba̅b̅aba̅b̅aaba̅b̅aba̅b̅aba̅b̅aba̅b̅aba̅b̅aba̅b̅aaba̅b̅aba̅b̅aba̅b̅aba̅b̅aba̅b̅aba̅b̅aa| ≤ 79.71111111111108\n",
       "* |a̅b̅aba̅b̅aba̅b̅aba̅b̅aba̅b̅aba̅b̅| ≤ 5.1 using |a̅b̅aba̅b̅aba̅b̅aba̅b̅aba̅b̅a| ≤ 4.1 and |ba̅b̅| ≤ 1.0\n",
       "* |b̅aba̅b̅aba̅b̅aaba̅b̅aba̅b̅aba̅b̅aba̅b̅aba̅b̅aba̅b̅aaba̅b̅aba̅b̅aba̅b̅aba̅b̅aba̅b̅aba̅b̅aaba̅b̅aba̅b̅aba̅b̅aba̅b̅aba̅b̅aba̅b̅aaba̅b̅aba̅b̅aba̅b̅aba̅b̅aba̅b̅aba̅b̅aaba̅b̅aba̅b̅aba̅b̅aba̅b̅aba̅b̅aba̅b̅aaba̅b̅aba̅b̅aba̅b̅aba̅b̅aba̅b̅aba̅b̅aaba̅b̅aba̅b̅aba̅b̅aba̅b̅aba̅b̅aba̅b̅aaba̅b̅aba̅b̅aba̅b̅aba̅b̅aba̅b̅aba̅b̅aaba̅b̅aba̅b̅aba̅b̅aba̅b̅aba̅b̅aba̅b̅aaba̅b̅aba̅b̅aba̅b̅aba̅b̅aba̅b̅aba̅b̅aaba̅b̅aba̅b̅aba̅b̅aba̅b̅aba̅b̅aba̅b̅aaba̅b̅aba̅b̅aba̅b̅aba̅b̅aba̅b̅aba̅b̅aaba̅b̅aba̅b̅aba̅b̅aba̅b̅aba̅b̅aba̅b̅aaba̅b̅aba̅b̅aba̅b̅aba̅b̅aba̅b̅aba̅b̅aaba̅b̅aba̅b̅aba̅b̅aba̅b̅aba̅b̅aba̅b̅aaba̅b̅aba̅b̅aba̅b̅aba̅b̅aba̅b̅aba̅b̅aaba̅b̅aba̅b̅aba̅b̅aba̅b̅aba̅b̅aba̅b̅| ≤ 84.81111111111107 using |b̅aba̅b̅aba̅b̅aaba̅b̅aba̅b̅aba̅b̅aba̅b̅aba̅b̅aba̅b̅aaba̅b̅aba̅b̅aba̅b̅aba̅b̅aba̅b̅aba̅b̅aaba̅b̅aba̅b̅aba̅b̅aba̅b̅aba̅b̅aba̅b̅aaba̅b̅aba̅b̅aba̅b̅aba̅b̅aba̅b̅aba̅b̅aaba̅b̅aba̅b̅aba̅b̅aba̅b̅aba̅b̅aba̅b̅aaba̅b̅aba̅b̅aba̅b̅aba̅b̅aba̅b̅aba̅b̅aaba̅b̅aba̅b̅aba̅b̅aba̅b̅aba̅b̅aba̅b̅aaba̅b̅aba̅b̅aba̅b̅aba̅b̅aba̅b̅aba̅b̅aaba̅b̅aba̅b̅aba̅b̅aba̅b̅aba̅b̅aba̅b̅aaba̅b̅aba̅b̅aba̅b̅aba̅b̅aba̅b̅aba̅b̅aaba̅b̅aba̅b̅aba̅b̅aba̅b̅aba̅b̅aba̅b̅aaba̅b̅aba̅b̅aba̅b̅aba̅b̅aba̅b̅aba̅b̅aaba̅b̅aba̅b̅aba̅b̅aba̅b̅aba̅b̅aba̅b̅aaba̅b̅aba̅b̅aba̅b̅aba̅b̅aba̅b̅aba̅b̅aaba̅b̅aba̅b̅aba̅b̅aba̅b̅aba̅b̅aba̅b̅aaba̅b̅aba̅b̅aba̅b̅aba̅b̅aba̅b̅aba̅b̅aab| ≤ 79.71111111111108 and |a̅b̅aba̅b̅aba̅b̅aba̅b̅aba̅b̅aba̅b̅| ≤ 5.1\n",
       "* |ab̅aba̅b̅aba̅b̅aaba̅b̅aba̅b̅aba̅b̅aba̅b̅aba̅b̅aba̅b̅aaba̅b̅aba̅b̅aba̅b̅aba̅b̅aba̅b̅aba̅b̅aaba̅b̅aba̅b̅aba̅b̅aba̅b̅aba̅b̅aba̅b̅aaba̅b̅aba̅b̅aba̅b̅aba̅b̅aba̅b̅aba̅b̅aaba̅b̅aba̅b̅aba̅b̅aba̅b̅aba̅b̅aba̅b̅aaba̅b̅aba̅b̅aba̅b̅aba̅b̅aba̅b̅aba̅b̅aaba̅b̅aba̅b̅aba̅b̅aba̅b̅aba̅b̅aba̅b̅aaba̅b̅aba̅b̅aba̅b̅aba̅b̅aba̅b̅aba̅b̅aaba̅b̅aba̅b̅aba̅b̅aba̅b̅aba̅b̅aba̅b̅aaba̅b̅aba̅b̅aba̅b̅aba̅b̅aba̅b̅aba̅b̅aaba̅b̅aba̅b̅aba̅b̅aba̅b̅aba̅b̅aba̅b̅aaba̅b̅aba̅b̅aba̅b̅aba̅b̅aba̅b̅aba̅b̅aaba̅b̅aba̅b̅aba̅b̅aba̅b̅aba̅b̅aba̅b̅aaba̅b̅aba̅b̅aba̅b̅aba̅b̅aba̅b̅aba̅b̅aaba̅b̅aba̅b̅aba̅b̅aba̅b̅aba̅b̅aba̅b̅aaba̅b̅aba̅b̅aba̅b̅aba̅b̅aba̅b̅aba̅b̅aaba̅b̅aba̅b̅aba̅b̅aba̅b̅aba̅b̅aba̅b̅a̅| ≤ 84.81111111111107 using |b̅aba̅b̅aba̅b̅aaba̅b̅aba̅b̅aba̅b̅aba̅b̅aba̅b̅aba̅b̅aaba̅b̅aba̅b̅aba̅b̅aba̅b̅aba̅b̅aba̅b̅aaba̅b̅aba̅b̅aba̅b̅aba̅b̅aba̅b̅aba̅b̅aaba̅b̅aba̅b̅aba̅b̅aba̅b̅aba̅b̅aba̅b̅aaba̅b̅aba̅b̅aba̅b̅aba̅b̅aba̅b̅aba̅b̅aaba̅b̅aba̅b̅aba̅b̅aba̅b̅aba̅b̅aba̅b̅aaba̅b̅aba̅b̅aba̅b̅aba̅b̅aba̅b̅aba̅b̅aaba̅b̅aba̅b̅aba̅b̅aba̅b̅aba̅b̅aba̅b̅aaba̅b̅aba̅b̅aba̅b̅aba̅b̅aba̅b̅aba̅b̅aaba̅b̅aba̅b̅aba̅b̅aba̅b̅aba̅b̅aba̅b̅aaba̅b̅aba̅b̅aba̅b̅aba̅b̅aba̅b̅aba̅b̅aaba̅b̅aba̅b̅aba̅b̅aba̅b̅aba̅b̅aba̅b̅aaba̅b̅aba̅b̅aba̅b̅aba̅b̅aba̅b̅aba̅b̅aaba̅b̅aba̅b̅aba̅b̅aba̅b̅aba̅b̅aba̅b̅aaba̅b̅aba̅b̅aba̅b̅aba̅b̅aba̅b̅aba̅b̅aaba̅b̅aba̅b̅aba̅b̅aba̅b̅aba̅b̅aba̅b̅aaba̅b̅aba̅b̅aba̅b̅aba̅b̅aba̅b̅aba̅b̅| ≤ 84.81111111111107\n",
       "* |a̅b̅aba̅b̅aba̅b̅aaba̅b̅aba̅b̅aba̅b̅aba̅b̅aba̅b̅aba̅b̅aaba̅b̅aba̅b̅aba̅b̅aba̅b̅aba̅b̅aba̅b̅aaba̅b̅aba̅b̅aba̅b̅aba̅b̅aba̅b̅aba̅b̅aaba̅b̅aba̅b̅aba̅b̅aba̅b̅aba̅b̅aba̅b̅aaba̅b̅aba̅b̅aba̅b̅aba̅b̅aba̅b̅aba̅b̅aaba̅b̅aba̅b̅aba̅b̅aba̅b̅aba̅b̅aba̅b̅aaba̅b̅aba̅b̅aba̅b̅aba̅b̅aba̅b̅aba̅b̅aaba̅b̅aba̅b̅aba̅b̅aba̅b̅aba̅b̅aba̅b̅aaba̅b̅aba̅b̅aba̅b̅aba̅b̅aba̅b̅aba̅b̅aaba̅b̅aba̅b̅aba̅b̅aba̅b̅aba̅b̅aba̅b̅aaba̅b̅aba̅b̅aba̅b̅aba̅b̅aba̅b̅aba̅b̅aaba̅b̅aba̅b̅aba̅b̅aba̅b̅aba̅b̅aba̅b̅aaba̅b̅aba̅b̅aba̅b̅aba̅b̅aba̅b̅aba̅b̅aaba̅b̅aba̅b̅aba̅b̅aba̅b̅aba̅b̅aba̅b̅aaba̅b̅aba̅b̅aba̅b̅aba̅b̅aba̅b̅aba̅b̅aaba̅b̅aba̅b̅aba̅b̅aba̅b̅aba̅b̅aba̅b̅aaba̅b̅aba̅b̅aba̅b̅aba̅b̅aba̅b̅aba̅b̅a| ≤ 84.81111111111107 using |a̅b̅aba̅b̅aba̅b̅aaba̅b̅aba̅b̅aba̅b̅aba̅b̅aba̅b̅aba̅b̅aaba̅b̅aba̅b̅aba̅b̅aba̅b̅aba̅b̅aba̅b̅aaba̅b̅aba̅b̅aba̅b̅aba̅b̅aba̅b̅aba̅b̅aaba̅b̅aba̅b̅aba̅b̅aba̅b̅aba̅b̅aba̅b̅aaba̅b̅aba̅b̅aba̅b̅aba̅b̅aba̅b̅aba̅b̅aaba̅b̅aba̅b̅aba̅b̅aba̅b̅aba̅b̅aba̅b̅aaba̅b̅aba̅b̅aba̅b̅aba̅b̅aba̅b̅aba̅b̅aaba̅b̅aba̅b̅aba̅b̅aba̅b̅aba̅b̅aba̅b̅aaba̅b̅aba̅b̅aba̅b̅aba̅b̅aba̅b̅aba̅b̅aaba̅b̅aba̅b̅aba̅b̅aba̅b̅aba̅b̅aba̅b̅aaba̅b̅aba̅b̅aba̅b̅aba̅b̅aba̅b̅aba̅b̅aaba̅b̅aba̅b̅aba̅b̅aba̅b̅aba̅b̅aba̅b̅aaba̅b̅aba̅b̅aba̅b̅aba̅b̅aba̅b̅aba̅b̅aaba̅b̅aba̅b̅aba̅b̅aba̅b̅aba̅b̅aba̅b̅aaba̅b̅aba̅b̅aba̅b̅aba̅b̅aba̅b̅aba̅b̅aaba̅b̅aba̅b̅aba̅b̅aba̅b̅aba̅b̅aba̅b̅aaba̅b̅aba̅b̅aba̅b̅aba̅b̅aba̅b̅aba̅b̅a| ≤ 84.81111111111107 and |e| ≤ 0.0\n",
       "* |b̅aba̅b̅aba̅b̅aba̅b̅aba̅b̅aba̅b̅aaba̅b̅aba̅b̅aba̅b̅aba̅b̅aba̅b̅aba̅b̅aaba̅b̅aba̅b̅aba̅b̅aba̅b̅aba̅b̅aba̅b̅aaba̅b̅aba̅b̅aba̅b̅aba̅b̅aba̅b̅aba̅b̅aaba̅b̅aba̅b̅aba̅b̅aba̅b̅aba̅b̅aba̅b̅aaba̅b̅aba̅b̅aba̅b̅aba̅b̅aba̅b̅aba̅b̅aaba̅b̅aba̅b̅aba̅b̅aba̅b̅aba̅b̅aba̅b̅aaba̅b̅aba̅b̅aba̅b̅aba̅b̅aba̅b̅aba̅b̅aaba̅b̅aba̅b̅aba̅b̅aba̅b̅aba̅b̅aba̅b̅aaba̅b̅aba̅b̅aba̅b̅aba̅b̅aba̅b̅aba̅b̅aaba̅b̅aba̅b̅aba̅b̅aba̅b̅aba̅b̅aba̅b̅aaba̅b̅aba̅b̅aba̅b̅aba̅b̅aba̅b̅aba̅b̅aaba̅b̅aba̅b̅aba̅b̅aba̅b̅aba̅b̅aba̅b̅aaba̅b̅aba̅b̅aba̅b̅aba̅b̅aba̅b̅aba̅b̅aaba̅b̅aba̅b̅aba̅b̅aba̅b̅aba̅b̅aba̅b̅aaba̅b̅aba̅b̅aba̅b̅aba̅b̅aba̅b̅aba̅b̅aaba̅b̅aba̅b̅aba̅b̅aba̅b̅aba̅b̅aba̅b̅aaba̅b̅aba̅b̅aba̅b̅aba̅b̅aba̅b̅aba̅b̅a| ≤ 86.91111111111107 using |b̅aba̅b̅aba̅b̅ab| ≤ 2.1 and |a̅b̅aba̅b̅aba̅b̅aaba̅b̅aba̅b̅aba̅b̅aba̅b̅aba̅b̅aba̅b̅aaba̅b̅aba̅b̅aba̅b̅aba̅b̅aba̅b̅aba̅b̅aaba̅b̅aba̅b̅aba̅b̅aba̅b̅aba̅b̅aba̅b̅aaba̅b̅aba̅b̅aba̅b̅aba̅b̅aba̅b̅aba̅b̅aaba̅b̅aba̅b̅aba̅b̅aba̅b̅aba̅b̅aba̅b̅aaba̅b̅aba̅b̅aba̅b̅aba̅b̅aba̅b̅aba̅b̅aaba̅b̅aba̅b̅aba̅b̅aba̅b̅aba̅b̅aba̅b̅aaba̅b̅aba̅b̅aba̅b̅aba̅b̅aba̅b̅aba̅b̅aaba̅b̅aba̅b̅aba̅b̅aba̅b̅aba̅b̅aba̅b̅aaba̅b̅aba̅b̅aba̅b̅aba̅b̅aba̅b̅aba̅b̅aaba̅b̅aba̅b̅aba̅b̅aba̅b̅aba̅b̅aba̅b̅aaba̅b̅aba̅b̅aba̅b̅aba̅b̅aba̅b̅aba̅b̅aaba̅b̅aba̅b̅aba̅b̅aba̅b̅aba̅b̅aba̅b̅aaba̅b̅aba̅b̅aba̅b̅aba̅b̅aba̅b̅aba̅b̅aaba̅b̅aba̅b̅aba̅b̅aba̅b̅aba̅b̅aba̅b̅aaba̅b̅aba̅b̅aba̅b̅aba̅b̅aba̅b̅aba̅b̅aaba̅b̅aba̅b̅aba̅b̅aba̅b̅aba̅b̅aba̅b̅a| ≤ 84.81111111111107\n",
       "* |aba̅b̅aba̅b̅aba̅b̅aba̅b̅aba̅b̅aba̅b̅aaba̅b̅aba̅b̅aba̅b̅aba̅b̅aba̅b̅aba̅b̅aaba̅b̅aba̅b̅aba̅b̅aba̅b̅aba̅b̅aba̅b̅aaba̅b̅aba̅b̅aba̅b̅aba̅b̅aba̅b̅aba̅b̅aaba̅b̅aba̅b̅aba̅b̅aba̅b̅aba̅b̅aba̅b̅aaba̅b̅aba̅b̅aba̅b̅aba̅b̅aba̅b̅aba̅b̅aaba̅b̅aba̅b̅aba̅b̅aba̅b̅aba̅b̅aba̅b̅aaba̅b̅aba̅b̅aba̅b̅aba̅b̅aba̅b̅aba̅b̅aaba̅b̅aba̅b̅aba̅b̅aba̅b̅aba̅b̅aba̅b̅aaba̅b̅aba̅b̅aba̅b̅aba̅b̅aba̅b̅aba̅b̅aaba̅b̅aba̅b̅aba̅b̅aba̅b̅aba̅b̅aba̅b̅aaba̅b̅aba̅b̅aba̅b̅aba̅b̅aba̅b̅aba̅b̅aaba̅b̅aba̅b̅aba̅b̅aba̅b̅aba̅b̅aba̅b̅aaba̅b̅aba̅b̅aba̅b̅aba̅b̅aba̅b̅aba̅b̅aaba̅b̅aba̅b̅aba̅b̅aba̅b̅aba̅b̅aba̅b̅aaba̅b̅aba̅b̅aba̅b̅aba̅b̅aba̅b̅aba̅b̅aaba̅b̅aba̅b̅aba̅b̅aba̅b̅aba̅b̅aba̅b̅aaba̅b̅aba̅b̅aba̅b̅aba̅b̅aba̅b̅aba̅b̅a| ≤ 87.91111111111107 using |aba̅| ≤ 1.0 and |b̅aba̅b̅aba̅b̅aba̅b̅aba̅b̅aba̅b̅aaba̅b̅aba̅b̅aba̅b̅aba̅b̅aba̅b̅aba̅b̅aaba̅b̅aba̅b̅aba̅b̅aba̅b̅aba̅b̅aba̅b̅aaba̅b̅aba̅b̅aba̅b̅aba̅b̅aba̅b̅aba̅b̅aaba̅b̅aba̅b̅aba̅b̅aba̅b̅aba̅b̅aba̅b̅aaba̅b̅aba̅b̅aba̅b̅aba̅b̅aba̅b̅aba̅b̅aaba̅b̅aba̅b̅aba̅b̅aba̅b̅aba̅b̅aba̅b̅aaba̅b̅aba̅b̅aba̅b̅aba̅b̅aba̅b̅aba̅b̅aaba̅b̅aba̅b̅aba̅b̅aba̅b̅aba̅b̅aba̅b̅aaba̅b̅aba̅b̅aba̅b̅aba̅b̅aba̅b̅aba̅b̅aaba̅b̅aba̅b̅aba̅b̅aba̅b̅aba̅b̅aba̅b̅aaba̅b̅aba̅b̅aba̅b̅aba̅b̅aba̅b̅aba̅b̅aaba̅b̅aba̅b̅aba̅b̅aba̅b̅aba̅b̅aba̅b̅aaba̅b̅aba̅b̅aba̅b̅aba̅b̅aba̅b̅aba̅b̅aaba̅b̅aba̅b̅aba̅b̅aba̅b̅aba̅b̅aba̅b̅aaba̅b̅aba̅b̅aba̅b̅aba̅b̅aba̅b̅aba̅b̅aaba̅b̅aba̅b̅aba̅b̅aba̅b̅aba̅b̅aba̅b̅aaba̅b̅aba̅b̅aba̅b̅aba̅b̅aba̅b̅aba̅b̅a| ≤ 86.91111111111107\n",
       "* |aba̅b̅aba̅b̅aba̅b̅aba̅b̅aba̅b̅aba̅b̅a| ≤ 4.883950617283948 using  by taking 18th power\n",
       "* |baba̅b̅aba̅b̅aba̅b̅aba̅b̅aba̅b̅aba̅b̅ab̅| ≤ 4.883950617283948 using |aba̅b̅aba̅b̅aba̅b̅aba̅b̅aba̅b̅aba̅b̅a| ≤ 4.883950617283948\n",
       "* |b̅aba̅b̅aba̅b̅aba̅b̅aba̅b̅aba̅b̅aba̅b̅aba̅b̅aba̅b̅| ≤ 6.883950617283948 using |b̅aba̅b̅aba̅b̅aba̅b̅aba̅b̅aba̅b̅aba̅b̅ab| ≤ 4.883950617283948 and |a̅b̅aba̅b̅| ≤ 2.0\n",
       "* |ab̅aba̅b̅aba̅b̅aba̅b̅aba̅b̅aba̅b̅aba̅b̅aba̅b̅aba̅b̅a̅| ≤ 6.883950617283948 using |b̅aba̅b̅aba̅b̅aba̅b̅aba̅b̅aba̅b̅aba̅b̅aba̅b̅aba̅b̅| ≤ 6.883950617283948\n",
       "* |a̅b̅aba̅b̅aba̅b̅aba̅b̅aba̅b̅aba̅b̅aba̅b̅aba̅b̅aba̅b̅aba̅b̅| ≤ 7.883950617283948 using |a̅b̅aba̅b̅aba̅b̅aba̅b̅aba̅b̅aba̅b̅aba̅b̅aba̅b̅aba̅b̅a| ≤ 6.883950617283948 and |ba̅b̅| ≤ 1.0\n",
       "* |b̅aba̅b̅aba̅b̅aba̅b̅aba̅b̅aba̅b̅aba̅b̅aba̅b̅aba̅b̅aba̅b̅aba̅b̅aba̅b̅aba̅b̅aba̅b̅aba̅b̅aba̅b̅aba̅b̅| ≤ 12.767901234567896 using |b̅aba̅b̅aba̅b̅aba̅b̅aba̅b̅aba̅b̅aba̅b̅ab| ≤ 4.883950617283948 and |a̅b̅aba̅b̅aba̅b̅aba̅b̅aba̅b̅aba̅b̅aba̅b̅aba̅b̅aba̅b̅aba̅b̅| ≤ 7.883950617283948\n",
       "* |aba̅b̅aba̅b̅aba̅b̅aba̅b̅aba̅b̅aba̅b̅aba̅b̅aba̅b̅aba̅b̅aba̅b̅aba̅b̅aba̅b̅aba̅b̅aba̅b̅aba̅b̅aba̅b̅aba̅b̅| ≤ 13.767901234567896 using |aba̅| ≤ 1.0 and |b̅aba̅b̅aba̅b̅aba̅b̅aba̅b̅aba̅b̅aba̅b̅aba̅b̅aba̅b̅aba̅b̅aba̅b̅aba̅b̅aba̅b̅aba̅b̅aba̅b̅aba̅b̅aba̅b̅| ≤ 12.767901234567896\n",
       "* |aba̅b̅| ≤ 0.8098765432098762 using  by taking 17th power\n",
       "\n",
       "\n",
       "## Proof output with rational coefficients \n",
       "\n",
       "* |b| ≤ 1\n",
       "* |a̅ba| ≤ 1 using |b| ≤ 1\n",
       "* |a| ≤ 1\n",
       "* |bab̅| ≤ 1 using |a| ≤ 1\n",
       "* |b̅| ≤ 1\n",
       "* |ab̅a̅| ≤ 1 using |b̅| ≤ 1\n",
       "* |a̅b̅a| ≤ 1 using |a̅b̅a| ≤ 1 and |e| ≤ 0\n",
       "* |b̅aba̅b̅a| ≤ 2 using |b̅ab| ≤ 1 and |a̅b̅a| ≤ 1\n",
       "* |ab̅aba̅b̅aa̅| ≤ 2 using |b̅aba̅b̅a| ≤ 2\n",
       "* |a̅| ≤ 1\n",
       "* |b̅a̅b| ≤ 1 using |a̅| ≤ 1\n",
       "* |b̅ab| ≤ 1 using |b̅ab| ≤ 1 and |e| ≤ 0\n",
       "* |aba̅b̅ab| ≤ 2 using |aba̅| ≤ 1 and |b̅ab| ≤ 1\n",
       "* |a̅aba̅b̅aba| ≤ 2 using |aba̅b̅ab| ≤ 2\n",
       "* |aaba̅b̅aba̅| ≤ 2 using |aaba̅b̅aba̅| ≤ 2 and |e| ≤ 0\n",
       "* |ba̅b̅aaba̅b̅aba̅| ≤ 3 using |ba̅b̅| ≤ 1 and |aaba̅b̅aba̅| ≤ 2\n",
       "* |a̅b̅aba̅b̅aaba̅b̅aba̅| ≤ 4 using |a̅b̅a| ≤ 1 and |ba̅b̅aaba̅b̅aba̅| ≤ 3\n",
       "* |b̅a̅b̅aba̅b̅aaba̅b̅aba̅b| ≤ 4 using |a̅b̅aba̅b̅aaba̅b̅aba̅| ≤ 4\n",
       "* |ba̅b̅aba̅b̅aaba̅b̅aba̅b̅aaba̅b̅aba̅| ≤ 6 using |ba̅b̅aba̅b̅aaba̅b̅aba̅b̅| ≤ 4 and |aaba̅b̅aba̅| ≤ 2\n",
       "* |a̅b̅aba̅b̅aaba̅b̅aba̅b̅aaba̅b̅aba̅b̅aaba̅b̅aba̅| ≤ 8 using |a̅b̅aba̅b̅aa| ≤ 2 and |ba̅b̅aba̅b̅aaba̅b̅aba̅b̅aaba̅b̅aba̅| ≤ 6\n",
       "* |b̅a̅b̅aba̅b̅aaba̅b̅aba̅b̅aaba̅b̅aba̅b̅aaba̅b̅aba̅b| ≤ 8 using |a̅b̅aba̅b̅aaba̅b̅aba̅b̅aaba̅b̅aba̅b̅aaba̅b̅aba̅| ≤ 8\n",
       "* |ba̅b̅aba̅b̅aaba̅b̅aba̅b̅aaba̅b̅aba̅b̅aaba̅b̅aba̅b̅aaba̅b̅aba̅| ≤ 10 using |ba̅b̅aba̅b̅aaba̅b̅aba̅b̅aaba̅b̅aba̅b̅aaba̅b̅aba̅b̅| ≤ 8 and |aaba̅b̅aba̅| ≤ 2\n",
       "* |a̅b̅aba̅b̅aaba̅b̅aba̅b̅aaba̅b̅aba̅b̅aaba̅b̅aba̅b̅aaba̅b̅aba̅b̅aaba̅b̅aba̅| ≤ 12 using |a̅b̅aba̅b̅aa| ≤ 2 and |ba̅b̅aba̅b̅aaba̅b̅aba̅b̅aaba̅b̅aba̅b̅aaba̅b̅aba̅b̅aaba̅b̅aba̅| ≤ 10\n",
       "* |b̅a̅b̅aba̅b̅aaba̅b̅aba̅b̅aaba̅b̅aba̅b̅aaba̅b̅aba̅b̅aaba̅b̅aba̅b̅aaba̅b̅aba̅b| ≤ 12 using |a̅b̅aba̅b̅aaba̅b̅aba̅b̅aaba̅b̅aba̅b̅aaba̅b̅aba̅b̅aaba̅b̅aba̅b̅aaba̅b̅aba̅| ≤ 12\n",
       "* |ba̅b̅aba̅b̅aaba̅b̅aba̅b̅aaba̅b̅aba̅b̅aaba̅b̅aba̅b̅aaba̅b̅aba̅b̅aaba̅b̅aba̅b̅aaba̅b̅aba̅| ≤ 14 using |ba̅b̅aba̅b̅aaba̅b̅aba̅b̅aaba̅b̅aba̅b̅aaba̅b̅aba̅b̅aaba̅b̅aba̅b̅aaba̅b̅aba̅b̅| ≤ 12 and |aaba̅b̅aba̅| ≤ 2\n",
       "* |a̅b̅aba̅b̅aaba̅b̅aba̅b̅aaba̅b̅aba̅b̅aaba̅b̅aba̅b̅aaba̅b̅aba̅b̅aaba̅b̅aba̅b̅aaba̅b̅aba̅b̅aaba̅b̅aba̅| ≤ 16 using |a̅b̅aba̅b̅aa| ≤ 2 and |ba̅b̅aba̅b̅aaba̅b̅aba̅b̅aaba̅b̅aba̅b̅aaba̅b̅aba̅b̅aaba̅b̅aba̅b̅aaba̅b̅aba̅b̅aaba̅b̅aba̅| ≤ 14\n",
       "* |b̅a̅b̅aba̅b̅aaba̅b̅aba̅b̅aaba̅b̅aba̅b̅aaba̅b̅aba̅b̅aaba̅b̅aba̅b̅aaba̅b̅aba̅b̅aaba̅b̅aba̅b̅aaba̅b̅aba̅b| ≤ 16 using |a̅b̅aba̅b̅aaba̅b̅aba̅b̅aaba̅b̅aba̅b̅aaba̅b̅aba̅b̅aaba̅b̅aba̅b̅aaba̅b̅aba̅b̅aaba̅b̅aba̅b̅aaba̅b̅aba̅| ≤ 16\n",
       "* |ba̅b̅aba̅b̅aaba̅b̅aba̅b̅aaba̅b̅aba̅b̅aaba̅b̅aba̅b̅aaba̅b̅aba̅b̅aaba̅b̅aba̅b̅aaba̅b̅aba̅b̅aaba̅b̅aba̅b̅aaba̅b̅aba̅| ≤ 18 using |ba̅b̅aba̅b̅aaba̅b̅aba̅b̅aaba̅b̅aba̅b̅aaba̅b̅aba̅b̅aaba̅b̅aba̅b̅aaba̅b̅aba̅b̅aaba̅b̅aba̅b̅aaba̅b̅aba̅b̅| ≤ 16 and |aaba̅b̅aba̅| ≤ 2\n",
       "* |a̅b̅aba̅b̅aaba̅b̅aba̅b̅aaba̅b̅aba̅b̅aaba̅b̅aba̅b̅aaba̅b̅aba̅b̅aaba̅b̅aba̅b̅aaba̅b̅aba̅b̅aaba̅b̅aba̅b̅aaba̅b̅aba̅b̅aaba̅b̅aba̅| ≤ 20 using |a̅b̅aba̅b̅aa| ≤ 2 and |ba̅b̅aba̅b̅aaba̅b̅aba̅b̅aaba̅b̅aba̅b̅aaba̅b̅aba̅b̅aaba̅b̅aba̅b̅aaba̅b̅aba̅b̅aaba̅b̅aba̅b̅aaba̅b̅aba̅b̅aaba̅b̅aba̅| ≤ 18\n",
       "* |b̅a̅b̅aba̅b̅aaba̅b̅aba̅b̅aaba̅b̅aba̅b̅aaba̅b̅aba̅b̅aaba̅b̅aba̅b̅aaba̅b̅aba̅b̅aaba̅b̅aba̅b̅aaba̅b̅aba̅b̅aaba̅b̅aba̅b̅aaba̅b̅aba̅b| ≤ 20 using |a̅b̅aba̅b̅aaba̅b̅aba̅b̅aaba̅b̅aba̅b̅aaba̅b̅aba̅b̅aaba̅b̅aba̅b̅aaba̅b̅aba̅b̅aaba̅b̅aba̅b̅aaba̅b̅aba̅b̅aaba̅b̅aba̅b̅aaba̅b̅aba̅| ≤ 20\n",
       "* |ba̅b̅aba̅b̅aaba̅b̅aba̅b̅aaba̅b̅aba̅b̅aaba̅b̅aba̅b̅aaba̅b̅aba̅b̅aaba̅b̅aba̅b̅aaba̅b̅aba̅b̅aaba̅b̅aba̅b̅aaba̅b̅aba̅b̅aaba̅b̅aba̅b̅aaba̅b̅aba̅| ≤ 22 using |ba̅b̅aba̅b̅aaba̅b̅aba̅b̅aaba̅b̅aba̅b̅aaba̅b̅aba̅b̅aaba̅b̅aba̅b̅aaba̅b̅aba̅b̅aaba̅b̅aba̅b̅aaba̅b̅aba̅b̅aaba̅b̅aba̅b̅aaba̅b̅aba̅b̅| ≤ 20 and |aaba̅b̅aba̅| ≤ 2\n",
       "* |a̅b̅aba̅b̅aaba̅b̅aba̅b̅aaba̅b̅aba̅b̅aaba̅b̅aba̅b̅aaba̅b̅aba̅b̅aaba̅b̅aba̅b̅aaba̅b̅aba̅b̅aaba̅b̅aba̅b̅aaba̅b̅aba̅b̅aaba̅b̅aba̅b̅aaba̅b̅aba̅b̅aaba̅b̅aba̅| ≤ 24 using |a̅b̅aba̅b̅aa| ≤ 2 and |ba̅b̅aba̅b̅aaba̅b̅aba̅b̅aaba̅b̅aba̅b̅aaba̅b̅aba̅b̅aaba̅b̅aba̅b̅aaba̅b̅aba̅b̅aaba̅b̅aba̅b̅aaba̅b̅aba̅b̅aaba̅b̅aba̅b̅aaba̅b̅aba̅b̅aaba̅b̅aba̅| ≤ 22\n",
       "* |b̅a̅b̅aba̅b̅aaba̅b̅aba̅b̅aaba̅b̅aba̅b̅aaba̅b̅aba̅b̅aaba̅b̅aba̅b̅aaba̅b̅aba̅b̅aaba̅b̅aba̅b̅aaba̅b̅aba̅b̅aaba̅b̅aba̅b̅aaba̅b̅aba̅b̅aaba̅b̅aba̅b̅aaba̅b̅aba̅b| ≤ 24 using |a̅b̅aba̅b̅aaba̅b̅aba̅b̅aaba̅b̅aba̅b̅aaba̅b̅aba̅b̅aaba̅b̅aba̅b̅aaba̅b̅aba̅b̅aaba̅b̅aba̅b̅aaba̅b̅aba̅b̅aaba̅b̅aba̅b̅aaba̅b̅aba̅b̅aaba̅b̅aba̅b̅aaba̅b̅aba̅| ≤ 24\n",
       "* |ba̅b̅aba̅b̅aaba̅b̅aba̅b̅aaba̅b̅aba̅b̅aaba̅b̅aba̅b̅aaba̅b̅aba̅b̅aaba̅b̅aba̅b̅aaba̅b̅aba̅b̅aaba̅b̅aba̅b̅aaba̅b̅aba̅b̅aaba̅b̅aba̅b̅aaba̅b̅aba̅b̅aaba̅b̅aba̅b̅aaba̅b̅aba̅| ≤ 26 using |ba̅b̅aba̅b̅aaba̅b̅aba̅b̅aaba̅b̅aba̅b̅aaba̅b̅aba̅b̅aaba̅b̅aba̅b̅aaba̅b̅aba̅b̅aaba̅b̅aba̅b̅aaba̅b̅aba̅b̅aaba̅b̅aba̅b̅aaba̅b̅aba̅b̅aaba̅b̅aba̅b̅aaba̅b̅aba̅b̅| ≤ 24 and |aaba̅b̅aba̅| ≤ 2\n",
       "* |a̅b̅aba̅b̅aaba̅b̅aba̅b̅aaba̅b̅aba̅b̅aaba̅b̅aba̅b̅aaba̅b̅aba̅b̅aaba̅b̅aba̅b̅aaba̅b̅aba̅b̅aaba̅b̅aba̅b̅aaba̅b̅aba̅b̅aaba̅b̅aba̅b̅aaba̅b̅aba̅b̅aaba̅b̅aba̅b̅aaba̅b̅aba̅b̅aaba̅b̅aba̅| ≤ 28 using |a̅b̅aba̅b̅aa| ≤ 2 and |ba̅b̅aba̅b̅aaba̅b̅aba̅b̅aaba̅b̅aba̅b̅aaba̅b̅aba̅b̅aaba̅b̅aba̅b̅aaba̅b̅aba̅b̅aaba̅b̅aba̅b̅aaba̅b̅aba̅b̅aaba̅b̅aba̅b̅aaba̅b̅aba̅b̅aaba̅b̅aba̅b̅aaba̅b̅aba̅b̅aaba̅b̅aba̅| ≤ 26\n",
       "* |b̅a̅b̅aba̅b̅aaba̅b̅aba̅b̅aaba̅b̅aba̅b̅aaba̅b̅aba̅b̅aaba̅b̅aba̅b̅aaba̅b̅aba̅b̅aaba̅b̅aba̅b̅aaba̅b̅aba̅b̅aaba̅b̅aba̅b̅aaba̅b̅aba̅b̅aaba̅b̅aba̅b̅aaba̅b̅aba̅b̅aaba̅b̅aba̅b̅aaba̅b̅aba̅b| ≤ 28 using |a̅b̅aba̅b̅aaba̅b̅aba̅b̅aaba̅b̅aba̅b̅aaba̅b̅aba̅b̅aaba̅b̅aba̅b̅aaba̅b̅aba̅b̅aaba̅b̅aba̅b̅aaba̅b̅aba̅b̅aaba̅b̅aba̅b̅aaba̅b̅aba̅b̅aaba̅b̅aba̅b̅aaba̅b̅aba̅b̅aaba̅b̅aba̅b̅aaba̅b̅aba̅| ≤ 28\n",
       "* |ba̅b̅aba̅b̅aaba̅b̅aba̅b̅aaba̅b̅aba̅b̅aaba̅b̅aba̅b̅aaba̅b̅aba̅b̅aaba̅b̅aba̅b̅aaba̅b̅aba̅b̅aaba̅b̅aba̅b̅aaba̅b̅aba̅b̅aaba̅b̅aba̅b̅aaba̅b̅aba̅b̅aaba̅b̅aba̅b̅aaba̅b̅aba̅b̅aaba̅b̅aba̅b̅aaba̅b̅aba̅| ≤ 30 using |ba̅b̅aba̅b̅aaba̅b̅aba̅b̅aaba̅b̅aba̅b̅aaba̅b̅aba̅b̅aaba̅b̅aba̅b̅aaba̅b̅aba̅b̅aaba̅b̅aba̅b̅aaba̅b̅aba̅b̅aaba̅b̅aba̅b̅aaba̅b̅aba̅b̅aaba̅b̅aba̅b̅aaba̅b̅aba̅b̅aaba̅b̅aba̅b̅aaba̅b̅aba̅b̅| ≤ 28 and |aaba̅b̅aba̅| ≤ 2\n",
       "* |a̅b̅aba̅b̅aaba̅b̅aba̅b̅aaba̅b̅aba̅b̅aaba̅b̅aba̅b̅aaba̅b̅aba̅b̅aaba̅b̅aba̅b̅aaba̅b̅aba̅b̅aaba̅b̅aba̅b̅aaba̅b̅aba̅b̅aaba̅b̅aba̅b̅aaba̅b̅aba̅b̅aaba̅b̅aba̅b̅aaba̅b̅aba̅b̅aaba̅b̅aba̅b̅aaba̅b̅aba̅b̅aaba̅b̅aba̅| ≤ 32 using |a̅b̅aba̅b̅aa| ≤ 2 and |ba̅b̅aba̅b̅aaba̅b̅aba̅b̅aaba̅b̅aba̅b̅aaba̅b̅aba̅b̅aaba̅b̅aba̅b̅aaba̅b̅aba̅b̅aaba̅b̅aba̅b̅aaba̅b̅aba̅b̅aaba̅b̅aba̅b̅aaba̅b̅aba̅b̅aaba̅b̅aba̅b̅aaba̅b̅aba̅b̅aaba̅b̅aba̅b̅aaba̅b̅aba̅b̅aaba̅b̅aba̅| ≤ 30\n",
       "* |b̅a̅b̅aba̅b̅aaba̅b̅aba̅b̅aaba̅b̅aba̅b̅aaba̅b̅aba̅b̅aaba̅b̅aba̅b̅aaba̅b̅aba̅b̅aaba̅b̅aba̅b̅aaba̅b̅aba̅b̅aaba̅b̅aba̅b̅aaba̅b̅aba̅b̅aaba̅b̅aba̅b̅aaba̅b̅aba̅b̅aaba̅b̅aba̅b̅aaba̅b̅aba̅b̅aaba̅b̅aba̅b̅aaba̅b̅aba̅b| ≤ 32 using |a̅b̅aba̅b̅aaba̅b̅aba̅b̅aaba̅b̅aba̅b̅aaba̅b̅aba̅b̅aaba̅b̅aba̅b̅aaba̅b̅aba̅b̅aaba̅b̅aba̅b̅aaba̅b̅aba̅b̅aaba̅b̅aba̅b̅aaba̅b̅aba̅b̅aaba̅b̅aba̅b̅aaba̅b̅aba̅b̅aaba̅b̅aba̅b̅aaba̅b̅aba̅b̅aaba̅b̅aba̅b̅aaba̅b̅aba̅| ≤ 32\n",
       "* |ba̅b̅aba̅b̅aaba̅b̅aba̅b̅aaba̅b̅aba̅b̅aaba̅b̅aba̅b̅aaba̅b̅aba̅b̅aaba̅b̅aba̅b̅aaba̅b̅aba̅b̅aaba̅b̅aba̅b̅aaba̅b̅aba̅b̅aaba̅b̅aba̅b̅aaba̅b̅aba̅b̅aaba̅b̅aba̅b̅aaba̅b̅aba̅b̅aaba̅b̅aba̅b̅aaba̅b̅aba̅b̅aaba̅b̅aba̅b̅aaba̅b̅aba̅| ≤ 34 using |ba̅b̅aba̅b̅aaba̅b̅aba̅b̅aaba̅b̅aba̅b̅aaba̅b̅aba̅b̅aaba̅b̅aba̅b̅aaba̅b̅aba̅b̅aaba̅b̅aba̅b̅aaba̅b̅aba̅b̅aaba̅b̅aba̅b̅aaba̅b̅aba̅b̅aaba̅b̅aba̅b̅aaba̅b̅aba̅b̅aaba̅b̅aba̅b̅aaba̅b̅aba̅b̅aaba̅b̅aba̅b̅aaba̅b̅aba̅b̅| ≤ 32 and |aaba̅b̅aba̅| ≤ 2\n",
       "* |a̅b̅aba̅b̅aaba̅b̅aba̅b̅aaba̅b̅aba̅b̅aaba̅b̅aba̅b̅aaba̅b̅aba̅b̅aaba̅b̅aba̅b̅aaba̅b̅aba̅b̅aaba̅b̅aba̅b̅aaba̅b̅aba̅b̅aaba̅b̅aba̅b̅aaba̅b̅aba̅b̅aaba̅b̅aba̅b̅aaba̅b̅aba̅b̅aaba̅b̅aba̅b̅aaba̅b̅aba̅b̅aaba̅b̅aba̅b̅aaba̅b̅aba̅b̅aaba̅b̅aba̅| ≤ 36 using |a̅b̅aba̅b̅aa| ≤ 2 and |ba̅b̅aba̅b̅aaba̅b̅aba̅b̅aaba̅b̅aba̅b̅aaba̅b̅aba̅b̅aaba̅b̅aba̅b̅aaba̅b̅aba̅b̅aaba̅b̅aba̅b̅aaba̅b̅aba̅b̅aaba̅b̅aba̅b̅aaba̅b̅aba̅b̅aaba̅b̅aba̅b̅aaba̅b̅aba̅b̅aaba̅b̅aba̅b̅aaba̅b̅aba̅b̅aaba̅b̅aba̅b̅aaba̅b̅aba̅b̅aaba̅b̅aba̅| ≤ 34\n",
       "* |b̅a̅b̅aba̅b̅aaba̅b̅aba̅b̅aaba̅b̅aba̅b̅aaba̅b̅aba̅b̅aaba̅b̅aba̅b̅aaba̅b̅aba̅b̅aaba̅b̅aba̅b̅aaba̅b̅aba̅b̅aaba̅b̅aba̅b̅aaba̅b̅aba̅b̅aaba̅b̅aba̅b̅aaba̅b̅aba̅b̅aaba̅b̅aba̅b̅aaba̅b̅aba̅b̅aaba̅b̅aba̅b̅aaba̅b̅aba̅b̅aaba̅b̅aba̅b̅aaba̅b̅aba̅b| ≤ 36 using |a̅b̅aba̅b̅aaba̅b̅aba̅b̅aaba̅b̅aba̅b̅aaba̅b̅aba̅b̅aaba̅b̅aba̅b̅aaba̅b̅aba̅b̅aaba̅b̅aba̅b̅aaba̅b̅aba̅b̅aaba̅b̅aba̅b̅aaba̅b̅aba̅b̅aaba̅b̅aba̅b̅aaba̅b̅aba̅b̅aaba̅b̅aba̅b̅aaba̅b̅aba̅b̅aaba̅b̅aba̅b̅aaba̅b̅aba̅b̅aaba̅b̅aba̅b̅aaba̅b̅aba̅| ≤ 36\n",
       "* |ba̅b̅aba̅b̅aaba̅b̅aba̅b̅aaba̅b̅aba̅b̅aaba̅b̅aba̅b̅aaba̅b̅aba̅b̅aaba̅b̅aba̅b̅aaba̅b̅aba̅b̅aaba̅b̅aba̅b̅aaba̅b̅aba̅b̅aaba̅b̅aba̅b̅aaba̅b̅aba̅b̅aaba̅b̅aba̅b̅aaba̅b̅aba̅b̅aaba̅b̅aba̅b̅aaba̅b̅aba̅b̅aaba̅b̅aba̅b̅aaba̅b̅aba̅b̅aaba̅b̅aba̅b̅aaba̅b̅aba̅| ≤ 38 using |ba̅b̅aba̅b̅aaba̅b̅aba̅b̅aaba̅b̅aba̅b̅aaba̅b̅aba̅b̅aaba̅b̅aba̅b̅aaba̅b̅aba̅b̅aaba̅b̅aba̅b̅aaba̅b̅aba̅b̅aaba̅b̅aba̅b̅aaba̅b̅aba̅b̅aaba̅b̅aba̅b̅aaba̅b̅aba̅b̅aaba̅b̅aba̅b̅aaba̅b̅aba̅b̅aaba̅b̅aba̅b̅aaba̅b̅aba̅b̅aaba̅b̅aba̅b̅aaba̅b̅aba̅b̅| ≤ 36 and |aaba̅b̅aba̅| ≤ 2\n",
       "* |a̅b̅aba̅b̅aaba̅b̅aba̅b̅aaba̅b̅aba̅b̅aaba̅b̅aba̅b̅aaba̅b̅aba̅b̅aaba̅b̅aba̅b̅aaba̅b̅aba̅b̅aaba̅b̅aba̅b̅aaba̅b̅aba̅b̅aaba̅b̅aba̅b̅aaba̅b̅aba̅b̅aaba̅b̅aba̅b̅aaba̅b̅aba̅b̅aaba̅b̅aba̅b̅aaba̅b̅aba̅b̅aaba̅b̅aba̅b̅aaba̅b̅aba̅b̅aaba̅b̅aba̅b̅aaba̅b̅aba̅b̅aaba̅b̅aba̅| ≤ 40 using |a̅b̅aba̅b̅aa| ≤ 2 and |ba̅b̅aba̅b̅aaba̅b̅aba̅b̅aaba̅b̅aba̅b̅aaba̅b̅aba̅b̅aaba̅b̅aba̅b̅aaba̅b̅aba̅b̅aaba̅b̅aba̅b̅aaba̅b̅aba̅b̅aaba̅b̅aba̅b̅aaba̅b̅aba̅b̅aaba̅b̅aba̅b̅aaba̅b̅aba̅b̅aaba̅b̅aba̅b̅aaba̅b̅aba̅b̅aaba̅b̅aba̅b̅aaba̅b̅aba̅b̅aaba̅b̅aba̅b̅aaba̅b̅aba̅b̅aaba̅b̅aba̅| ≤ 38\n",
       "* |b̅a̅b̅aba̅b̅aaba̅b̅aba̅b̅aaba̅b̅aba̅b̅aaba̅b̅aba̅b̅aaba̅b̅aba̅b̅aaba̅b̅aba̅b̅aaba̅b̅aba̅b̅aaba̅b̅aba̅b̅aaba̅b̅aba̅b̅aaba̅b̅aba̅b̅aaba̅b̅aba̅b̅aaba̅b̅aba̅b̅aaba̅b̅aba̅b̅aaba̅b̅aba̅b̅aaba̅b̅aba̅b̅aaba̅b̅aba̅b̅aaba̅b̅aba̅b̅aaba̅b̅aba̅b̅aaba̅b̅aba̅b̅aaba̅b̅aba̅b| ≤ 40 using |a̅b̅aba̅b̅aaba̅b̅aba̅b̅aaba̅b̅aba̅b̅aaba̅b̅aba̅b̅aaba̅b̅aba̅b̅aaba̅b̅aba̅b̅aaba̅b̅aba̅b̅aaba̅b̅aba̅b̅aaba̅b̅aba̅b̅aaba̅b̅aba̅b̅aaba̅b̅aba̅b̅aaba̅b̅aba̅b̅aaba̅b̅aba̅b̅aaba̅b̅aba̅b̅aaba̅b̅aba̅b̅aaba̅b̅aba̅b̅aaba̅b̅aba̅b̅aaba̅b̅aba̅b̅aaba̅b̅aba̅b̅aaba̅b̅aba̅| ≤ 40\n",
       "* |ba̅b̅aba̅b̅aaba̅b̅aba̅b̅aaba̅b̅aba̅b̅aaba̅b̅aba̅b̅aaba̅b̅aba̅b̅aaba̅b̅aba̅b̅aaba̅b̅aba̅b̅aaba̅b̅aba̅b̅aaba̅b̅aba̅b̅aaba̅b̅aba̅b̅aaba̅b̅aba̅b̅aaba̅b̅aba̅b̅aaba̅b̅aba̅b̅aaba̅b̅aba̅b̅aaba̅b̅aba̅b̅aaba̅b̅aba̅b̅aaba̅b̅aba̅b̅aaba̅b̅aba̅b̅aaba̅b̅aba̅b̅aaba̅b̅aba̅b̅a| ≤ 41 using |ba̅b̅aba̅b̅aaba̅b̅aba̅b̅aaba̅b̅aba̅b̅aaba̅b̅aba̅b̅aaba̅b̅aba̅b̅aaba̅b̅aba̅b̅aaba̅b̅aba̅b̅aaba̅b̅aba̅b̅aaba̅b̅aba̅b̅aaba̅b̅aba̅b̅aaba̅b̅aba̅b̅aaba̅b̅aba̅b̅aaba̅b̅aba̅b̅aaba̅b̅aba̅b̅aaba̅b̅aba̅b̅aaba̅b̅aba̅b̅aaba̅b̅aba̅b̅aaba̅b̅aba̅b̅aaba̅b̅aba̅b̅aaba̅b̅aba̅b̅| ≤ 40 and |a| ≤ 1\n",
       "* |aba̅b̅aba̅b̅aaba̅b̅aba̅b̅aaba̅b̅aba̅b̅aaba̅b̅aba̅b̅aaba̅b̅aba̅b̅aaba̅b̅aba̅b̅aaba̅b̅aba̅b̅aaba̅b̅aba̅b̅aaba̅b̅aba̅b̅aaba̅b̅aba̅b̅aaba̅b̅aba̅b̅aaba̅b̅aba̅b̅aaba̅b̅aba̅b̅aaba̅b̅aba̅b̅aaba̅b̅aba̅b̅aaba̅b̅aba̅b̅aaba̅b̅aba̅b̅aaba̅b̅aba̅b̅aaba̅b̅aba̅b̅aaba̅b̅aba̅b̅a| ≤ 42 using |a| ≤ 1 and |ba̅b̅aba̅b̅aaba̅b̅aba̅b̅aaba̅b̅aba̅b̅aaba̅b̅aba̅b̅aaba̅b̅aba̅b̅aaba̅b̅aba̅b̅aaba̅b̅aba̅b̅aaba̅b̅aba̅b̅aaba̅b̅aba̅b̅aaba̅b̅aba̅b̅aaba̅b̅aba̅b̅aaba̅b̅aba̅b̅aaba̅b̅aba̅b̅aaba̅b̅aba̅b̅aaba̅b̅aba̅b̅aaba̅b̅aba̅b̅aaba̅b̅aba̅b̅aaba̅b̅aba̅b̅aaba̅b̅aba̅b̅aaba̅b̅aba̅b̅a| ≤ 41\n",
       "* |aba̅b̅aba̅b̅a| ≤ 21/10 using  by taking 20th power\n",
       "* |baba̅b̅aba̅b̅ab̅| ≤ 21/10 using |aba̅b̅aba̅b̅a| ≤ 21/10\n",
       "* |aba̅| ≤ 1 using |aba̅| ≤ 1 and |e| ≤ 0\n",
       "* |a̅b̅aaba̅| ≤ 2 using |a̅b̅a| ≤ 1 and |aba̅| ≤ 1\n",
       "* |b̅a̅b̅aaba̅b| ≤ 2 using |a̅b̅aaba̅| ≤ 2\n",
       "* |aa| ≤ 2 using |a| ≤ 1 and |a| ≤ 1\n",
       "* |baab̅| ≤ 2 using |aa| ≤ 2\n",
       "* |b̅aab| ≤ 2 using |b̅aab| ≤ 2 and |e| ≤ 0\n",
       "* |aba̅b̅aab| ≤ 3 using |aba̅| ≤ 1 and |b̅aab| ≤ 2\n",
       "* |a̅aba̅b̅aaba| ≤ 3 using |aba̅b̅aab| ≤ 3\n",
       "* |b̅aaba̅b̅a| ≤ 3 using |b̅aab| ≤ 2 and |a̅b̅a| ≤ 1\n",
       "* |ab̅aaba̅b̅aa̅| ≤ 3 using |b̅aaba̅b̅a| ≤ 3\n",
       "* |aaba̅b̅aaba̅b̅aab| ≤ 5 using |aaba̅b̅aaba̅| ≤ 3 and |b̅aab| ≤ 2\n",
       "* |ba̅b̅aaba̅b̅aaba̅b̅aaba̅b̅aab| ≤ 7 using |ba̅b̅aaba̅b̅| ≤ 2 and |aaba̅b̅aaba̅b̅aab| ≤ 5\n",
       "* |a̅ba̅b̅aaba̅b̅aaba̅b̅aaba̅b̅aaba| ≤ 7 using |ba̅b̅aaba̅b̅aaba̅b̅aaba̅b̅aab| ≤ 7\n",
       "* |aba̅b̅aaba̅b̅aaba̅b̅aaba̅b̅aaba̅| ≤ 7 using |aba̅b̅aaba̅b̅aaba̅b̅aaba̅b̅aaba̅| ≤ 7 and |e| ≤ 0\n",
       "* |a̅b̅aaba̅b̅aaba̅b̅aaba̅b̅aaba̅b̅aaba̅| ≤ 8 using |a̅b̅a| ≤ 1 and |aba̅b̅aaba̅b̅aaba̅b̅aaba̅b̅aaba̅| ≤ 7\n",
       "* |b̅a̅b̅aaba̅b̅aaba̅b̅aaba̅b̅aaba̅b̅aaba̅b| ≤ 8 using |a̅b̅aaba̅b̅aaba̅b̅aaba̅b̅aaba̅b̅aaba̅| ≤ 8\n",
       "* |ba̅b̅aaba̅b̅aaba̅b̅aaba̅b̅aaba̅b̅aaba̅b̅| ≤ 8 using |ba̅b̅aaba̅b̅aaba̅b̅aaba̅b̅aaba̅b̅aaba̅b̅| ≤ 8 and |e| ≤ 0\n",
       "* |a̅b̅aaba̅b̅aaba̅b̅aaba̅b̅aaba̅b̅aaba̅b̅aaba̅b̅aaba̅b̅| ≤ 11 using |a̅b̅aaba̅b̅aa| ≤ 3 and |ba̅b̅aaba̅b̅aaba̅b̅aaba̅b̅aaba̅b̅aaba̅b̅| ≤ 8\n",
       "* |b̅aaba̅b̅aaba̅b̅aaba̅b̅aaba̅b̅aaba̅b̅aaba̅b̅aaba̅b̅aaba̅b̅| ≤ 13 using |b̅aab| ≤ 2 and |a̅b̅aaba̅b̅aaba̅b̅aaba̅b̅aaba̅b̅aaba̅b̅aaba̅b̅aaba̅b̅| ≤ 11\n",
       "* |ab̅aaba̅b̅aaba̅b̅aaba̅b̅aaba̅b̅aaba̅b̅aaba̅b̅aaba̅b̅aaba̅b̅a̅| ≤ 13 using |b̅aaba̅b̅aaba̅b̅aaba̅b̅aaba̅b̅aaba̅b̅aaba̅b̅aaba̅b̅aaba̅b̅| ≤ 13\n",
       "* |a̅b̅aaba̅b̅aaba̅b̅aaba̅b̅aaba̅b̅aaba̅b̅aaba̅b̅aaba̅b̅aaba̅b̅a| ≤ 13 using |a̅b̅aaba̅b̅aaba̅b̅aaba̅b̅aaba̅b̅aaba̅b̅aaba̅b̅aaba̅b̅aaba̅b̅a| ≤ 13 and |e| ≤ 0\n",
       "* |b̅aaba̅b̅aaba̅b̅aaba̅b̅aaba̅b̅aaba̅b̅aaba̅b̅aaba̅b̅aaba̅b̅aaba̅b̅a| ≤ 15 using |b̅aab| ≤ 2 and |a̅b̅aaba̅b̅aaba̅b̅aaba̅b̅aaba̅b̅aaba̅b̅aaba̅b̅aaba̅b̅aaba̅b̅a| ≤ 13\n",
       "* |ab̅aaba̅b̅aaba̅b̅aaba̅b̅aaba̅b̅aaba̅b̅aaba̅b̅aaba̅b̅aaba̅b̅aaba̅b̅aa̅| ≤ 15 using |b̅aaba̅b̅aaba̅b̅aaba̅b̅aaba̅b̅aaba̅b̅aaba̅b̅aaba̅b̅aaba̅b̅aaba̅b̅a| ≤ 15\n",
       "* |a̅b̅aaba̅b̅aaba̅b̅aaba̅b̅aaba̅b̅aaba̅b̅aaba̅b̅aaba̅b̅aaba̅b̅aaba̅b̅aa| ≤ 15 using |a̅b̅aaba̅b̅aaba̅b̅aaba̅b̅aaba̅b̅aaba̅b̅aaba̅b̅aaba̅b̅aaba̅b̅aaba̅b̅aa| ≤ 15 and |e| ≤ 0\n",
       "* |b̅aaba̅b̅aaba̅b̅aaba̅b̅aaba̅b̅aaba̅b̅aaba̅b̅aaba̅b̅aaba̅b̅aaba̅b̅aaba̅b̅aa| ≤ 17 using |b̅aab| ≤ 2 and |a̅b̅aaba̅b̅aaba̅b̅aaba̅b̅aaba̅b̅aaba̅b̅aaba̅b̅aaba̅b̅aaba̅b̅aaba̅b̅aa| ≤ 15\n",
       "* |aaba̅b̅aaba̅b̅aaba̅b̅aaba̅b̅aaba̅b̅aaba̅b̅aaba̅b̅aaba̅b̅aaba̅b̅aaba̅b̅aaba̅b̅aaba̅b̅aa| ≤ 20 using |aaba̅b̅aaba̅| ≤ 3 and |b̅aaba̅b̅aaba̅b̅aaba̅b̅aaba̅b̅aaba̅b̅aaba̅b̅aaba̅b̅aaba̅b̅aaba̅b̅aaba̅b̅aa| ≤ 17\n",
       "* |baaba̅b̅aaba̅b̅aaba̅b̅aaba̅b̅aaba̅b̅aaba̅b̅aaba̅b̅aaba̅b̅aaba̅b̅aaba̅b̅aaba̅b̅aaba̅b̅aab̅| ≤ 20 using |aaba̅b̅aaba̅b̅aaba̅b̅aaba̅b̅aaba̅b̅aaba̅b̅aaba̅b̅aaba̅b̅aaba̅b̅aaba̅b̅aaba̅b̅aaba̅b̅aa| ≤ 20\n",
       "* |b̅aaba̅b̅aaba̅b̅aaba̅b̅aaba̅b̅aaba̅b̅aaba̅b̅aaba̅b̅aaba̅b̅aaba̅b̅aaba̅b̅aaba̅b̅aaba̅b̅aab| ≤ 20 using |b̅aaba̅b̅aaba̅b̅aaba̅b̅aaba̅b̅aaba̅b̅aaba̅b̅aaba̅b̅aaba̅b̅aaba̅b̅aaba̅b̅aaba̅b̅aaba̅b̅aab| ≤ 20 and |e| ≤ 0\n",
       "* |aaba̅b̅aaba̅b̅aaba̅b̅aaba̅b̅aaba̅b̅aaba̅b̅aaba̅b̅aaba̅b̅aaba̅b̅aaba̅b̅aaba̅b̅aaba̅b̅aaba̅b̅aaba̅b̅aab| ≤ 23 using |aaba̅b̅aaba̅| ≤ 3 and |b̅aaba̅b̅aaba̅b̅aaba̅b̅aaba̅b̅aaba̅b̅aaba̅b̅aaba̅b̅aaba̅b̅aaba̅b̅aaba̅b̅aaba̅b̅aaba̅b̅aab| ≤ 20\n",
       "* |ba̅b̅aaba̅b̅aaba̅b̅aaba̅b̅aaba̅b̅aaba̅b̅aaba̅b̅aaba̅b̅aaba̅b̅aaba̅b̅aaba̅b̅aaba̅b̅aaba̅b̅aaba̅b̅aaba̅b̅aaba̅b̅aab| ≤ 25 using |ba̅b̅aaba̅b̅| ≤ 2 and |aaba̅b̅aaba̅b̅aaba̅b̅aaba̅b̅aaba̅b̅aaba̅b̅aaba̅b̅aaba̅b̅aaba̅b̅aaba̅b̅aaba̅b̅aaba̅b̅aaba̅b̅aaba̅b̅aab| ≤ 23\n",
       "* |a̅ba̅b̅aaba̅b̅aaba̅b̅aaba̅b̅aaba̅b̅aaba̅b̅aaba̅b̅aaba̅b̅aaba̅b̅aaba̅b̅aaba̅b̅aaba̅b̅aaba̅b̅aaba̅b̅aaba̅b̅aaba̅b̅aaba| ≤ 25 using |ba̅b̅aaba̅b̅aaba̅b̅aaba̅b̅aaba̅b̅aaba̅b̅aaba̅b̅aaba̅b̅aaba̅b̅aaba̅b̅aaba̅b̅aaba̅b̅aaba̅b̅aaba̅b̅aaba̅b̅aaba̅b̅aab| ≤ 25\n",
       "* |aba̅b̅aaba̅b̅aaba̅b̅aaba̅b̅aaba̅b̅aaba̅b̅aaba̅b̅aaba̅b̅aaba̅b̅aaba̅b̅aaba̅b̅aaba̅b̅aaba̅b̅aaba̅b̅aaba̅b̅aaba̅b̅aaba̅| ≤ 25 using |aba̅b̅aaba̅b̅aaba̅b̅aaba̅b̅aaba̅b̅aaba̅b̅aaba̅b̅aaba̅b̅aaba̅b̅aaba̅b̅aaba̅b̅aaba̅b̅aaba̅b̅aaba̅b̅aaba̅b̅aaba̅b̅aaba̅| ≤ 25 and |e| ≤ 0\n",
       "* |a̅b̅aaba̅b̅aaba̅b̅aaba̅b̅aaba̅b̅aaba̅b̅aaba̅b̅aaba̅b̅aaba̅b̅aaba̅b̅aaba̅b̅aaba̅b̅aaba̅b̅aaba̅b̅aaba̅b̅aaba̅b̅aaba̅b̅aaba̅| ≤ 26 using |a̅b̅a| ≤ 1 and |aba̅b̅aaba̅b̅aaba̅b̅aaba̅b̅aaba̅b̅aaba̅b̅aaba̅b̅aaba̅b̅aaba̅b̅aaba̅b̅aaba̅b̅aaba̅b̅aaba̅b̅aaba̅b̅aaba̅b̅aaba̅b̅aaba̅| ≤ 25\n",
       "* |b̅a̅b̅aaba̅b̅aaba̅b̅aaba̅b̅aaba̅b̅aaba̅b̅aaba̅b̅aaba̅b̅aaba̅b̅aaba̅b̅aaba̅b̅aaba̅b̅aaba̅b̅aaba̅b̅aaba̅b̅aaba̅b̅aaba̅b̅aaba̅b| ≤ 26 using |a̅b̅aaba̅b̅aaba̅b̅aaba̅b̅aaba̅b̅aaba̅b̅aaba̅b̅aaba̅b̅aaba̅b̅aaba̅b̅aaba̅b̅aaba̅b̅aaba̅b̅aaba̅b̅aaba̅b̅aaba̅b̅aaba̅b̅aaba̅| ≤ 26\n",
       "* |ba̅b̅aaba̅b̅aaba̅b̅aaba̅b̅aaba̅b̅aaba̅b̅aaba̅b̅aaba̅b̅aaba̅b̅aaba̅b̅aaba̅b̅aaba̅b̅aaba̅b̅aaba̅b̅aaba̅b̅aaba̅b̅aaba̅b̅aaba̅b̅a| ≤ 27 using |ba̅b̅aaba̅b̅aaba̅b̅aaba̅b̅aaba̅b̅aaba̅b̅aaba̅b̅aaba̅b̅aaba̅b̅aaba̅b̅aaba̅b̅aaba̅b̅aaba̅b̅aaba̅b̅aaba̅b̅aaba̅b̅aaba̅b̅aaba̅b̅| ≤ 26 and |a| ≤ 1\n",
       "* |aba̅b̅aaba̅b̅aaba̅b̅aaba̅b̅aaba̅b̅aaba̅b̅aaba̅b̅aaba̅b̅aaba̅b̅aaba̅b̅aaba̅b̅aaba̅b̅aaba̅b̅aaba̅b̅aaba̅b̅aaba̅b̅aaba̅b̅aaba̅b̅a| ≤ 28 using |a| ≤ 1 and |ba̅b̅aaba̅b̅aaba̅b̅aaba̅b̅aaba̅b̅aaba̅b̅aaba̅b̅aaba̅b̅aaba̅b̅aaba̅b̅aaba̅b̅aaba̅b̅aaba̅b̅aaba̅b̅aaba̅b̅aaba̅b̅aaba̅b̅aaba̅b̅a| ≤ 27\n",
       "* |aba̅b̅a| ≤ 14/9 using  by taking 18th power\n",
       "* |baba̅b̅ab̅| ≤ 14/9 using |aba̅b̅a| ≤ 14/9\n",
       "* |b̅aba̅b̅ab| ≤ 14/9 using |b̅aba̅b̅ab| ≤ 14/9 and |e| ≤ 0\n",
       "* |aba̅b̅aba̅b̅ab| ≤ 23/9 using |aba̅| ≤ 1 and |b̅aba̅b̅ab| ≤ 14/9\n",
       "* |a̅aba̅b̅aba̅b̅aba| ≤ 23/9 using |aba̅b̅aba̅b̅ab| ≤ 23/9\n",
       "* |b̅aba̅b̅aba̅b̅ab| ≤ 21/10 using |b̅aba̅b̅aba̅b̅ab| ≤ 21/10 and |e| ≤ 0\n",
       "* |aaba̅b̅aba̅b̅aba̅b̅aba̅b̅aba̅b̅ab| ≤ 419/90 using |aaba̅b̅aba̅b̅aba̅| ≤ 23/9 and |b̅aba̅b̅aba̅b̅ab| ≤ 21/10\n",
       "* |ba̅b̅aaba̅b̅aba̅b̅aba̅b̅aba̅b̅aba̅b̅ab| ≤ 509/90 using |ba̅b̅| ≤ 1 and |aaba̅b̅aba̅b̅aba̅b̅aba̅b̅aba̅b̅ab| ≤ 419/90\n",
       "* |a̅ba̅b̅aaba̅b̅aba̅b̅aba̅b̅aba̅b̅aba̅b̅aba| ≤ 509/90 using |ba̅b̅aaba̅b̅aba̅b̅aba̅b̅aba̅b̅aba̅b̅ab| ≤ 509/90\n",
       "* |aba̅b̅aba̅b̅aba̅b̅ab| ≤ 31/10 using |aba̅| ≤ 1 and |b̅aba̅b̅aba̅b̅ab| ≤ 21/10\n",
       "* |a̅aba̅b̅aba̅b̅aba̅b̅aba| ≤ 31/10 using |aba̅b̅aba̅b̅aba̅b̅ab| ≤ 31/10\n",
       "* |b̅aba̅b̅aba̅b̅aba̅b̅a| ≤ 31/10 using |b̅aba̅b̅aba̅b̅ab| ≤ 21/10 and |a̅b̅a| ≤ 1\n",
       "* |ab̅aba̅b̅aba̅b̅aba̅b̅aa̅| ≤ 31/10 using |b̅aba̅b̅aba̅b̅aba̅b̅a| ≤ 31/10\n",
       "* |ba̅b̅| ≤ 1 using |ba̅b̅| ≤ 1 and |e| ≤ 0\n",
       "* |a̅b̅aba̅b̅aba̅b̅aba̅b̅aaba̅b̅| ≤ 41/10 using |a̅b̅aba̅b̅aba̅b̅aba̅b̅aa| ≤ 31/10 and |ba̅b̅| ≤ 1\n",
       "* |b̅aba̅b̅aba̅b̅aba̅b̅aba̅b̅aba̅b̅aaba̅b̅| ≤ 509/90 using |b̅aba̅b̅ab| ≤ 14/9 and |a̅b̅aba̅b̅aba̅b̅aba̅b̅aaba̅b̅| ≤ 41/10\n",
       "* |ab̅aba̅b̅aba̅b̅aba̅b̅aba̅b̅aba̅b̅aaba̅b̅a̅| ≤ 509/90 using |b̅aba̅b̅aba̅b̅aba̅b̅aba̅b̅aba̅b̅aaba̅b̅| ≤ 509/90\n",
       "* |ba̅b̅aba̅b̅aba̅b̅aba̅b̅ab| ≤ 41/10 using |ba̅b̅| ≤ 1 and |aba̅b̅aba̅b̅aba̅b̅ab| ≤ 31/10\n",
       "* |a̅ba̅b̅aba̅b̅aba̅b̅aba̅b̅aba| ≤ 41/10 using |ba̅b̅aba̅b̅aba̅b̅aba̅b̅ab| ≤ 41/10\n",
       "* |aba̅b̅aba̅b̅aba̅b̅aba̅b̅aba̅| ≤ 41/10 using |aba̅b̅aba̅b̅aba̅b̅aba̅b̅aba̅| ≤ 41/10 and |e| ≤ 0\n",
       "* |ba̅b̅aba̅b̅aba̅b̅aba̅b̅aba̅b̅aba̅| ≤ 51/10 using |ba̅b̅| ≤ 1 and |aba̅b̅aba̅b̅aba̅b̅aba̅b̅aba̅| ≤ 41/10\n",
       "* |a̅b̅aba̅b̅aba̅b̅aba̅b̅aaba̅b̅aba̅b̅aba̅b̅aba̅b̅aba̅b̅aba̅| ≤ 41/5 using |a̅b̅aba̅b̅aba̅b̅aba̅b̅aa| ≤ 31/10 and |ba̅b̅aba̅b̅aba̅b̅aba̅b̅aba̅b̅aba̅| ≤ 51/10\n",
       "* |b̅a̅b̅aba̅b̅aba̅b̅aba̅b̅aaba̅b̅aba̅b̅aba̅b̅aba̅b̅aba̅b̅aba̅b| ≤ 41/5 using |a̅b̅aba̅b̅aba̅b̅aba̅b̅aaba̅b̅aba̅b̅aba̅b̅aba̅b̅aba̅b̅aba̅| ≤ 41/5\n",
       "* |ba̅b̅aba̅b̅aba̅b̅aba̅b̅aaba̅b̅aba̅b̅aba̅b̅aba̅b̅aba̅b̅aba̅b̅aaba̅b̅aba̅b̅aba̅b̅aba̅b̅aba̅b̅ab| ≤ 1157/90 using |ba̅b̅aba̅b̅aba̅b̅aba̅b̅aaba̅b̅aba̅b̅aba̅b̅aba̅b̅aba̅b̅aba̅b̅| ≤ 41/5 and |aaba̅b̅aba̅b̅aba̅b̅aba̅b̅aba̅b̅ab| ≤ 419/90\n",
       "* |a̅ba̅b̅aba̅b̅aba̅b̅aba̅b̅aaba̅b̅aba̅b̅aba̅b̅aba̅b̅aba̅b̅aba̅b̅aaba̅b̅aba̅b̅aba̅b̅aba̅b̅aba̅b̅aba| ≤ 1157/90 using |ba̅b̅aba̅b̅aba̅b̅aba̅b̅aaba̅b̅aba̅b̅aba̅b̅aba̅b̅aba̅b̅aba̅b̅aaba̅b̅aba̅b̅aba̅b̅aba̅b̅aba̅b̅ab| ≤ 1157/90\n",
       "* |aba̅b̅aba̅b̅aba̅b̅aba̅b̅aaba̅b̅aba̅b̅aba̅b̅aba̅b̅aba̅b̅aba̅b̅aaba̅b̅aba̅b̅aba̅b̅aba̅b̅aba̅b̅aba̅| ≤ 1157/90 using |aba̅b̅aba̅b̅aba̅b̅aba̅b̅aaba̅b̅aba̅b̅aba̅b̅aba̅b̅aba̅b̅aba̅b̅aaba̅b̅aba̅b̅aba̅b̅aba̅b̅aba̅b̅aba̅| ≤ 1157/90 and |e| ≤ 0\n",
       "* |ba̅b̅aba̅b̅aba̅b̅aba̅b̅aba̅b̅aaba̅b̅aba̅b̅aba̅b̅aba̅b̅aba̅b̅aba̅b̅aaba̅b̅aba̅b̅aba̅b̅aba̅b̅aba̅b̅aba̅| ≤ 1247/90 using |ba̅b̅| ≤ 1 and |aba̅b̅aba̅b̅aba̅b̅aba̅b̅aaba̅b̅aba̅b̅aba̅b̅aba̅b̅aba̅b̅aba̅b̅aaba̅b̅aba̅b̅aba̅b̅aba̅b̅aba̅b̅aba̅| ≤ 1157/90\n",
       "* |a̅b̅aba̅b̅aba̅b̅aba̅b̅aba̅b̅aba̅b̅aaba̅b̅aba̅b̅aba̅b̅aba̅b̅aba̅b̅aba̅b̅aaba̅b̅aba̅b̅aba̅b̅aba̅b̅aba̅b̅aba̅b̅aaba̅b̅aba̅b̅aba̅b̅aba̅b̅aba̅b̅aba̅| ≤ 878/45 using |a̅b̅aba̅b̅aba̅b̅aba̅b̅aba̅b̅aba̅b̅aaba̅b̅a| ≤ 509/90 and |ba̅b̅aba̅b̅aba̅b̅aba̅b̅aba̅b̅aaba̅b̅aba̅b̅aba̅b̅aba̅b̅aba̅b̅aba̅b̅aaba̅b̅aba̅b̅aba̅b̅aba̅b̅aba̅b̅aba̅| ≤ 1247/90\n",
       "* |b̅a̅b̅aba̅b̅aba̅b̅aba̅b̅aba̅b̅aba̅b̅aaba̅b̅aba̅b̅aba̅b̅aba̅b̅aba̅b̅aba̅b̅aaba̅b̅aba̅b̅aba̅b̅aba̅b̅aba̅b̅aba̅b̅aaba̅b̅aba̅b̅aba̅b̅aba̅b̅aba̅b̅aba̅b| ≤ 878/45 using |a̅b̅aba̅b̅aba̅b̅aba̅b̅aba̅b̅aba̅b̅aaba̅b̅aba̅b̅aba̅b̅aba̅b̅aba̅b̅aba̅b̅aaba̅b̅aba̅b̅aba̅b̅aba̅b̅aba̅b̅aba̅b̅aaba̅b̅aba̅b̅aba̅b̅aba̅b̅aba̅b̅aba̅| ≤ 878/45\n",
       "* |ba̅b̅aba̅b̅aba̅b̅aba̅b̅aba̅b̅aba̅b̅aaba̅b̅aba̅b̅aba̅b̅aba̅b̅aba̅b̅aba̅b̅aaba̅b̅aba̅b̅aba̅b̅aba̅b̅aba̅b̅aba̅b̅aaba̅b̅aba̅b̅aba̅b̅aba̅b̅aba̅b̅aba̅b̅aaba̅b̅aba̅b̅aba̅b̅aba̅b̅aba̅b̅ab| ≤ 145/6 using |ba̅b̅aba̅b̅aba̅b̅aba̅b̅aba̅b̅aba̅b̅aaba̅b̅aba̅b̅aba̅b̅aba̅b̅aba̅b̅aba̅b̅aaba̅b̅aba̅b̅aba̅b̅aba̅b̅aba̅b̅aba̅b̅aaba̅b̅aba̅b̅aba̅b̅aba̅b̅aba̅b̅aba̅b̅| ≤ 878/45 and |aaba̅b̅aba̅b̅aba̅b̅aba̅b̅aba̅b̅ab| ≤ 419/90\n",
       "* |a̅ba̅b̅aba̅b̅aba̅b̅aba̅b̅aba̅b̅aba̅b̅aaba̅b̅aba̅b̅aba̅b̅aba̅b̅aba̅b̅aba̅b̅aaba̅b̅aba̅b̅aba̅b̅aba̅b̅aba̅b̅aba̅b̅aaba̅b̅aba̅b̅aba̅b̅aba̅b̅aba̅b̅aba̅b̅aaba̅b̅aba̅b̅aba̅b̅aba̅b̅aba̅b̅aba| ≤ 145/6 using |ba̅b̅aba̅b̅aba̅b̅aba̅b̅aba̅b̅aba̅b̅aaba̅b̅aba̅b̅aba̅b̅aba̅b̅aba̅b̅aba̅b̅aaba̅b̅aba̅b̅aba̅b̅aba̅b̅aba̅b̅aba̅b̅aaba̅b̅aba̅b̅aba̅b̅aba̅b̅aba̅b̅aba̅b̅aaba̅b̅aba̅b̅aba̅b̅aba̅b̅aba̅b̅ab| ≤ 145/6\n",
       "* |aaba̅b̅aba̅b̅aba̅b̅aba̅b̅aba̅b̅a| ≤ 51/10 using |aaba̅b̅aba̅| ≤ 2 and |b̅aba̅b̅aba̅b̅aba̅b̅a| ≤ 31/10\n",
       "* |baaba̅b̅aba̅b̅aba̅b̅aba̅b̅aba̅b̅ab̅| ≤ 51/10 using |aaba̅b̅aba̅b̅aba̅b̅aba̅b̅aba̅b̅a| ≤ 51/10\n",
       "* |b̅aaba̅b̅aba̅b̅aba̅b̅aba̅b̅aba̅b̅aba̅b̅a| ≤ 61/10 using |b̅aaba̅b̅aba̅b̅aba̅b̅aba̅b̅aba̅b̅ab| ≤ 51/10 and |a̅b̅a| ≤ 1\n",
       "* |ab̅aaba̅b̅aba̅b̅aba̅b̅aba̅b̅aba̅b̅aba̅b̅aa̅| ≤ 61/10 using |b̅aaba̅b̅aba̅b̅aba̅b̅aba̅b̅aba̅b̅aba̅b̅a| ≤ 61/10\n",
       "* |a̅b̅aaba̅b̅aba̅b̅aba̅b̅aba̅b̅aba̅b̅aba̅b̅aa| ≤ 61/10 using |a̅b̅aaba̅b̅aba̅b̅aba̅b̅aba̅b̅aba̅b̅aba̅b̅aa| ≤ 61/10 and |e| ≤ 0\n",
       "* |b̅aba̅b̅aba̅b̅aba̅b̅aaba̅b̅aba̅b̅aba̅b̅aba̅b̅aba̅b̅aba̅b̅aa| ≤ 41/5 using |b̅aba̅b̅aba̅b̅ab| ≤ 21/10 and |a̅b̅aaba̅b̅aba̅b̅aba̅b̅aba̅b̅aba̅b̅aba̅b̅aa| ≤ 61/10\n",
       "* |aaba̅b̅aba̅b̅aba̅b̅aba̅b̅aba̅b̅aba̅b̅aaba̅b̅aba̅b̅aba̅b̅aba̅b̅aba̅b̅aba̅b̅aa| ≤ 484/45 using |aaba̅b̅aba̅b̅aba̅| ≤ 23/9 and |b̅aba̅b̅aba̅b̅aba̅b̅aaba̅b̅aba̅b̅aba̅b̅aba̅b̅aba̅b̅aba̅b̅aa| ≤ 41/5\n",
       "* |baaba̅b̅aba̅b̅aba̅b̅aba̅b̅aba̅b̅aba̅b̅aaba̅b̅aba̅b̅aba̅b̅aba̅b̅aba̅b̅aba̅b̅aab̅| ≤ 484/45 using |aaba̅b̅aba̅b̅aba̅b̅aba̅b̅aba̅b̅aba̅b̅aaba̅b̅aba̅b̅aba̅b̅aba̅b̅aba̅b̅aba̅b̅aa| ≤ 484/45\n",
       "* |b̅aaba̅b̅aba̅b̅aba̅b̅aba̅b̅aba̅b̅aba̅b̅aaba̅b̅aba̅b̅aba̅b̅aba̅b̅aba̅b̅aba̅b̅aab| ≤ 484/45 using |b̅aaba̅b̅aba̅b̅aba̅b̅aba̅b̅aba̅b̅aba̅b̅aaba̅b̅aba̅b̅aba̅b̅aba̅b̅aba̅b̅aba̅b̅aab| ≤ 484/45 and |e| ≤ 0\n",
       "* |aba̅b̅aba̅b̅aba̅b̅aba̅b̅aba̅b̅aba̅b̅aaba̅b̅aba̅b̅aba̅b̅aba̅b̅aba̅b̅aba̅b̅aaba̅b̅aba̅b̅aba̅b̅aba̅b̅aba̅b̅aba̅b̅aaba̅b̅aba̅b̅aba̅b̅aba̅b̅aba̅b̅aba̅b̅aaba̅b̅aba̅b̅aba̅b̅aba̅b̅aba̅b̅aba̅b̅aaba̅b̅aba̅b̅aba̅b̅aba̅b̅aba̅b̅aba̅b̅aaba̅b̅aba̅b̅aba̅b̅aba̅b̅aba̅b̅aba̅b̅aab| ≤ 3143/90 using |aba̅b̅aba̅b̅aba̅b̅aba̅b̅aba̅b̅aba̅b̅aaba̅b̅aba̅b̅aba̅b̅aba̅b̅aba̅b̅aba̅b̅aaba̅b̅aba̅b̅aba̅b̅aba̅b̅aba̅b̅aba̅b̅aaba̅b̅aba̅b̅aba̅b̅aba̅b̅aba̅b̅aba̅b̅aaba̅b̅aba̅b̅aba̅b̅aba̅b̅aba̅b̅aba̅| ≤ 145/6 and |b̅aaba̅b̅aba̅b̅aba̅b̅aba̅b̅aba̅b̅aba̅b̅aaba̅b̅aba̅b̅aba̅b̅aba̅b̅aba̅b̅aba̅b̅aab| ≤ 484/45\n",
       "* |a̅aba̅b̅aba̅b̅aba̅b̅aba̅b̅aba̅b̅aba̅b̅aaba̅b̅aba̅b̅aba̅b̅aba̅b̅aba̅b̅aba̅b̅aaba̅b̅aba̅b̅aba̅b̅aba̅b̅aba̅b̅aba̅b̅aaba̅b̅aba̅b̅aba̅b̅aba̅b̅aba̅b̅aba̅b̅aaba̅b̅aba̅b̅aba̅b̅aba̅b̅aba̅b̅aba̅b̅aaba̅b̅aba̅b̅aba̅b̅aba̅b̅aba̅b̅aba̅b̅aaba̅b̅aba̅b̅aba̅b̅aba̅b̅aba̅b̅aba̅b̅aaba| ≤ 3143/90 using |aba̅b̅aba̅b̅aba̅b̅aba̅b̅aba̅b̅aba̅b̅aaba̅b̅aba̅b̅aba̅b̅aba̅b̅aba̅b̅aba̅b̅aaba̅b̅aba̅b̅aba̅b̅aba̅b̅aba̅b̅aba̅b̅aaba̅b̅aba̅b̅aba̅b̅aba̅b̅aba̅b̅aba̅b̅aaba̅b̅aba̅b̅aba̅b̅aba̅b̅aba̅b̅aba̅b̅aaba̅b̅aba̅b̅aba̅b̅aba̅b̅aba̅b̅aba̅b̅aaba̅b̅aba̅b̅aba̅b̅aba̅b̅aba̅b̅aba̅b̅aab| ≤ 3143/90\n",
       "* |b̅aba̅b̅aba̅b̅a| ≤ 23/9 using |b̅aba̅b̅ab| ≤ 14/9 and |a̅b̅a| ≤ 1\n",
       "* |ab̅aba̅b̅aba̅b̅aa̅| ≤ 23/9 using |b̅aba̅b̅aba̅b̅a| ≤ 23/9\n",
       "* |a̅b̅aba̅b̅aba̅b̅aa| ≤ 23/9 using |a̅b̅aba̅b̅aba̅b̅aa| ≤ 23/9 and |e| ≤ 0\n",
       "* |b̅aba̅b̅aba̅b̅aba̅b̅aba̅b̅aba̅b̅aa| ≤ 419/90 using |b̅aba̅b̅aba̅b̅ab| ≤ 21/10 and |a̅b̅aba̅b̅aba̅b̅aa| ≤ 23/9\n",
       "* |aaba̅b̅aba̅b̅aba̅b̅aba̅b̅aba̅b̅aba̅b̅aaba̅b̅aba̅b̅aba̅b̅aba̅b̅aba̅b̅aba̅b̅aaba̅b̅aba̅b̅aba̅b̅aba̅b̅aba̅b̅aba̅b̅aaba̅b̅aba̅b̅aba̅b̅aba̅b̅aba̅b̅aba̅b̅aaba̅b̅aba̅b̅aba̅b̅aba̅b̅aba̅b̅aba̅b̅aaba̅b̅aba̅b̅aba̅b̅aba̅b̅aba̅b̅aba̅b̅aaba̅b̅aba̅b̅aba̅b̅aba̅b̅aba̅b̅aba̅b̅aaba̅b̅aba̅b̅aba̅b̅aba̅b̅aba̅b̅aba̅b̅aa| ≤ 1781/45 using |aaba̅b̅aba̅b̅aba̅b̅aba̅b̅aba̅b̅aba̅b̅aaba̅b̅aba̅b̅aba̅b̅aba̅b̅aba̅b̅aba̅b̅aaba̅b̅aba̅b̅aba̅b̅aba̅b̅aba̅b̅aba̅b̅aaba̅b̅aba̅b̅aba̅b̅aba̅b̅aba̅b̅aba̅b̅aaba̅b̅aba̅b̅aba̅b̅aba̅b̅aba̅b̅aba̅b̅aaba̅b̅aba̅b̅aba̅b̅aba̅b̅aba̅b̅aba̅b̅aaba̅b̅aba̅b̅aba̅b̅aba̅b̅aba̅b̅aba̅b̅aaba̅| ≤ 3143/90 and |b̅aba̅b̅aba̅b̅aba̅b̅aba̅b̅aba̅b̅aa| ≤ 419/90\n",
       "* |baaba̅b̅aba̅b̅aba̅b̅aba̅b̅aba̅b̅aba̅b̅aaba̅b̅aba̅b̅aba̅b̅aba̅b̅aba̅b̅aba̅b̅aaba̅b̅aba̅b̅aba̅b̅aba̅b̅aba̅b̅aba̅b̅aaba̅b̅aba̅b̅aba̅b̅aba̅b̅aba̅b̅aba̅b̅aaba̅b̅aba̅b̅aba̅b̅aba̅b̅aba̅b̅aba̅b̅aaba̅b̅aba̅b̅aba̅b̅aba̅b̅aba̅b̅aba̅b̅aaba̅b̅aba̅b̅aba̅b̅aba̅b̅aba̅b̅aba̅b̅aaba̅b̅aba̅b̅aba̅b̅aba̅b̅aba̅b̅aba̅b̅aab̅| ≤ 1781/45 using |aaba̅b̅aba̅b̅aba̅b̅aba̅b̅aba̅b̅aba̅b̅aaba̅b̅aba̅b̅aba̅b̅aba̅b̅aba̅b̅aba̅b̅aaba̅b̅aba̅b̅aba̅b̅aba̅b̅aba̅b̅aba̅b̅aaba̅b̅aba̅b̅aba̅b̅aba̅b̅aba̅b̅aba̅b̅aaba̅b̅aba̅b̅aba̅b̅aba̅b̅aba̅b̅aba̅b̅aaba̅b̅aba̅b̅aba̅b̅aba̅b̅aba̅b̅aba̅b̅aaba̅b̅aba̅b̅aba̅b̅aba̅b̅aba̅b̅aba̅b̅aaba̅b̅aba̅b̅aba̅b̅aba̅b̅aba̅b̅aba̅b̅aa| ≤ 1781/45\n",
       "* |b̅aaba̅b̅aba̅b̅aba̅b̅aba̅b̅aba̅b̅aba̅b̅aaba̅b̅aba̅b̅aba̅b̅aba̅b̅aba̅b̅aba̅b̅aaba̅b̅aba̅b̅aba̅b̅aba̅b̅aba̅b̅aba̅b̅aaba̅b̅aba̅b̅aba̅b̅aba̅b̅aba̅b̅aba̅b̅aaba̅b̅aba̅b̅aba̅b̅aba̅b̅aba̅b̅aba̅b̅aaba̅b̅aba̅b̅aba̅b̅aba̅b̅aba̅b̅aba̅b̅aaba̅b̅aba̅b̅aba̅b̅aba̅b̅aba̅b̅aba̅b̅aaba̅b̅aba̅b̅aba̅b̅aba̅b̅aba̅b̅aba̅b̅aab| ≤ 1781/45 using |b̅aaba̅b̅aba̅b̅aba̅b̅aba̅b̅aba̅b̅aba̅b̅aaba̅b̅aba̅b̅aba̅b̅aba̅b̅aba̅b̅aba̅b̅aaba̅b̅aba̅b̅aba̅b̅aba̅b̅aba̅b̅aba̅b̅aaba̅b̅aba̅b̅aba̅b̅aba̅b̅aba̅b̅aba̅b̅aaba̅b̅aba̅b̅aba̅b̅aba̅b̅aba̅b̅aba̅b̅aaba̅b̅aba̅b̅aba̅b̅aba̅b̅aba̅b̅aba̅b̅aaba̅b̅aba̅b̅aba̅b̅aba̅b̅aba̅b̅aba̅b̅aaba̅b̅aba̅b̅aba̅b̅aba̅b̅aba̅b̅aba̅b̅aab| ≤ 1781/45 and |e| ≤ 0\n",
       "* |aba̅b̅aaba̅b̅aba̅b̅aba̅b̅aba̅b̅aba̅b̅aba̅b̅aaba̅b̅aba̅b̅aba̅b̅aba̅b̅aba̅b̅aba̅b̅aaba̅b̅aba̅b̅aba̅b̅aba̅b̅aba̅b̅aba̅b̅aaba̅b̅aba̅b̅aba̅b̅aba̅b̅aba̅b̅aba̅b̅aaba̅b̅aba̅b̅aba̅b̅aba̅b̅aba̅b̅aba̅b̅aaba̅b̅aba̅b̅aba̅b̅aba̅b̅aba̅b̅aba̅b̅aaba̅b̅aba̅b̅aba̅b̅aba̅b̅aba̅b̅aba̅b̅aaba̅b̅aba̅b̅aba̅b̅aba̅b̅aba̅b̅aba̅b̅aaba̅b̅aba̅b̅aba̅b̅aba̅b̅aba̅b̅aba̅b̅aab| ≤ 1357/30 using |aba̅b̅aaba̅b̅aba̅b̅aba̅b̅aba̅b̅aba̅b̅aba̅| ≤ 509/90 and |b̅aaba̅b̅aba̅b̅aba̅b̅aba̅b̅aba̅b̅aba̅b̅aaba̅b̅aba̅b̅aba̅b̅aba̅b̅aba̅b̅aba̅b̅aaba̅b̅aba̅b̅aba̅b̅aba̅b̅aba̅b̅aba̅b̅aaba̅b̅aba̅b̅aba̅b̅aba̅b̅aba̅b̅aba̅b̅aaba̅b̅aba̅b̅aba̅b̅aba̅b̅aba̅b̅aba̅b̅aaba̅b̅aba̅b̅aba̅b̅aba̅b̅aba̅b̅aba̅b̅aaba̅b̅aba̅b̅aba̅b̅aba̅b̅aba̅b̅aba̅b̅aaba̅b̅aba̅b̅aba̅b̅aba̅b̅aba̅b̅aba̅b̅aab| ≤ 1781/45\n",
       "* |ba̅b̅aba̅b̅aaba̅b̅aba̅b̅aba̅b̅aba̅b̅aba̅b̅aba̅b̅aaba̅b̅aba̅b̅aba̅b̅aba̅b̅aba̅b̅aba̅b̅aaba̅b̅aba̅b̅aba̅b̅aba̅b̅aba̅b̅aba̅b̅aaba̅b̅aba̅b̅aba̅b̅aba̅b̅aba̅b̅aba̅b̅aaba̅b̅aba̅b̅aba̅b̅aba̅b̅aba̅b̅aba̅b̅aaba̅b̅aba̅b̅aba̅b̅aba̅b̅aba̅b̅aba̅b̅aaba̅b̅aba̅b̅aba̅b̅aba̅b̅aba̅b̅aba̅b̅aaba̅b̅aba̅b̅aba̅b̅aba̅b̅aba̅b̅aba̅b̅aaba̅b̅aba̅b̅aba̅b̅aba̅b̅aba̅b̅aba̅b̅aab| ≤ 1387/30 using |ba̅b̅| ≤ 1 and |aba̅b̅aaba̅b̅aba̅b̅aba̅b̅aba̅b̅aba̅b̅aba̅b̅aaba̅b̅aba̅b̅aba̅b̅aba̅b̅aba̅b̅aba̅b̅aaba̅b̅aba̅b̅aba̅b̅aba̅b̅aba̅b̅aba̅b̅aaba̅b̅aba̅b̅aba̅b̅aba̅b̅aba̅b̅aba̅b̅aaba̅b̅aba̅b̅aba̅b̅aba̅b̅aba̅b̅aba̅b̅aaba̅b̅aba̅b̅aba̅b̅aba̅b̅aba̅b̅aba̅b̅aaba̅b̅aba̅b̅aba̅b̅aba̅b̅aba̅b̅aba̅b̅aaba̅b̅aba̅b̅aba̅b̅aba̅b̅aba̅b̅aba̅b̅aaba̅b̅aba̅b̅aba̅b̅aba̅b̅aba̅b̅aba̅b̅aab| ≤ 1357/30\n",
       "* |a̅ba̅b̅aba̅b̅aaba̅b̅aba̅b̅aba̅b̅aba̅b̅aba̅b̅aba̅b̅aaba̅b̅aba̅b̅aba̅b̅aba̅b̅aba̅b̅aba̅b̅aaba̅b̅aba̅b̅aba̅b̅aba̅b̅aba̅b̅aba̅b̅aaba̅b̅aba̅b̅aba̅b̅aba̅b̅aba̅b̅aba̅b̅aaba̅b̅aba̅b̅aba̅b̅aba̅b̅aba̅b̅aba̅b̅aaba̅b̅aba̅b̅aba̅b̅aba̅b̅aba̅b̅aba̅b̅aaba̅b̅aba̅b̅aba̅b̅aba̅b̅aba̅b̅aba̅b̅aaba̅b̅aba̅b̅aba̅b̅aba̅b̅aba̅b̅aba̅b̅aaba̅b̅aba̅b̅aba̅b̅aba̅b̅aba̅b̅aba̅b̅aaba| ≤ 1387/30 using |ba̅b̅aba̅b̅aaba̅b̅aba̅b̅aba̅b̅aba̅b̅aba̅b̅aba̅b̅aaba̅b̅aba̅b̅aba̅b̅aba̅b̅aba̅b̅aba̅b̅aaba̅b̅aba̅b̅aba̅b̅aba̅b̅aba̅b̅aba̅b̅aaba̅b̅aba̅b̅aba̅b̅aba̅b̅aba̅b̅aba̅b̅aaba̅b̅aba̅b̅aba̅b̅aba̅b̅aba̅b̅aba̅b̅aaba̅b̅aba̅b̅aba̅b̅aba̅b̅aba̅b̅aba̅b̅aaba̅b̅aba̅b̅aba̅b̅aba̅b̅aba̅b̅aba̅b̅aaba̅b̅aba̅b̅aba̅b̅aba̅b̅aba̅b̅aba̅b̅aaba̅b̅aba̅b̅aba̅b̅aba̅b̅aba̅b̅aba̅b̅aab| ≤ 1387/30\n",
       "* |aba̅b̅aba̅b̅aaba̅b̅aba̅b̅aba̅b̅aba̅b̅aba̅b̅aba̅b̅aaba̅b̅aba̅b̅aba̅b̅aba̅b̅aba̅b̅aba̅b̅aaba̅b̅aba̅b̅aba̅b̅aba̅b̅aba̅b̅aba̅b̅aaba̅b̅aba̅b̅aba̅b̅aba̅b̅aba̅b̅aba̅b̅aaba̅b̅aba̅b̅aba̅b̅aba̅b̅aba̅b̅aba̅b̅aaba̅b̅aba̅b̅aba̅b̅aba̅b̅aba̅b̅aba̅b̅aaba̅b̅aba̅b̅aba̅b̅aba̅b̅aba̅b̅aba̅b̅aaba̅b̅aba̅b̅aba̅b̅aba̅b̅aba̅b̅aba̅b̅aaba̅b̅aba̅b̅aba̅b̅aba̅b̅aba̅b̅aba̅b̅aaba̅b̅aba̅b̅aba̅b̅aba̅b̅aba̅b̅aba̅b̅aa| ≤ 458/9 using |aba̅b̅aba̅b̅aaba̅b̅aba̅b̅aba̅b̅aba̅b̅aba̅b̅aba̅b̅aaba̅b̅aba̅b̅aba̅b̅aba̅b̅aba̅b̅aba̅b̅aaba̅b̅aba̅b̅aba̅b̅aba̅b̅aba̅b̅aba̅b̅aaba̅b̅aba̅b̅aba̅b̅aba̅b̅aba̅b̅aba̅b̅aaba̅b̅aba̅b̅aba̅b̅aba̅b̅aba̅b̅aba̅b̅aaba̅b̅aba̅b̅aba̅b̅aba̅b̅aba̅b̅aba̅b̅aaba̅b̅aba̅b̅aba̅b̅aba̅b̅aba̅b̅aba̅b̅aaba̅b̅aba̅b̅aba̅b̅aba̅b̅aba̅b̅aba̅b̅aaba̅b̅aba̅b̅aba̅b̅aba̅b̅aba̅b̅aba̅b̅aaba̅| ≤ 1387/30 and |b̅aba̅b̅aba̅b̅aba̅b̅aba̅b̅aba̅b̅aa| ≤ 419/90\n",
       "* |baba̅b̅aba̅b̅aaba̅b̅aba̅b̅aba̅b̅aba̅b̅aba̅b̅aba̅b̅aaba̅b̅aba̅b̅aba̅b̅aba̅b̅aba̅b̅aba̅b̅aaba̅b̅aba̅b̅aba̅b̅aba̅b̅aba̅b̅aba̅b̅aaba̅b̅aba̅b̅aba̅b̅aba̅b̅aba̅b̅aba̅b̅aaba̅b̅aba̅b̅aba̅b̅aba̅b̅aba̅b̅aba̅b̅aaba̅b̅aba̅b̅aba̅b̅aba̅b̅aba̅b̅aba̅b̅aaba̅b̅aba̅b̅aba̅b̅aba̅b̅aba̅b̅aba̅b̅aaba̅b̅aba̅b̅aba̅b̅aba̅b̅aba̅b̅aba̅b̅aaba̅b̅aba̅b̅aba̅b̅aba̅b̅aba̅b̅aba̅b̅aaba̅b̅aba̅b̅aba̅b̅aba̅b̅aba̅b̅aba̅b̅aab̅| ≤ 458/9 using |aba̅b̅aba̅b̅aaba̅b̅aba̅b̅aba̅b̅aba̅b̅aba̅b̅aba̅b̅aaba̅b̅aba̅b̅aba̅b̅aba̅b̅aba̅b̅aba̅b̅aaba̅b̅aba̅b̅aba̅b̅aba̅b̅aba̅b̅aba̅b̅aaba̅b̅aba̅b̅aba̅b̅aba̅b̅aba̅b̅aba̅b̅aaba̅b̅aba̅b̅aba̅b̅aba̅b̅aba̅b̅aba̅b̅aaba̅b̅aba̅b̅aba̅b̅aba̅b̅aba̅b̅aba̅b̅aaba̅b̅aba̅b̅aba̅b̅aba̅b̅aba̅b̅aba̅b̅aaba̅b̅aba̅b̅aba̅b̅aba̅b̅aba̅b̅aba̅b̅aaba̅b̅aba̅b̅aba̅b̅aba̅b̅aba̅b̅aba̅b̅aaba̅b̅aba̅b̅aba̅b̅aba̅b̅aba̅b̅aba̅b̅aa| ≤ 458/9\n",
       "* |a̅b̅aba̅b̅aba̅b̅aba̅b̅aba̅b̅aba̅b̅aaba̅b̅a| ≤ 509/90 using |a̅b̅aba̅b̅aba̅b̅aba̅b̅aba̅b̅aba̅b̅aaba̅b̅a| ≤ 509/90 and |e| ≤ 0\n",
       "* |b̅aba̅b̅aba̅b̅aaba̅b̅aba̅b̅aba̅b̅aba̅b̅aba̅b̅aba̅b̅aaba̅b̅aba̅b̅aba̅b̅aba̅b̅aba̅b̅aba̅b̅aaba̅b̅aba̅b̅aba̅b̅aba̅b̅aba̅b̅aba̅b̅aaba̅b̅aba̅b̅aba̅b̅aba̅b̅aba̅b̅aba̅b̅aaba̅b̅aba̅b̅aba̅b̅aba̅b̅aba̅b̅aba̅b̅aaba̅b̅aba̅b̅aba̅b̅aba̅b̅aba̅b̅aba̅b̅aaba̅b̅aba̅b̅aba̅b̅aba̅b̅aba̅b̅aba̅b̅aaba̅b̅aba̅b̅aba̅b̅aba̅b̅aba̅b̅aba̅b̅aaba̅b̅aba̅b̅aba̅b̅aba̅b̅aba̅b̅aba̅b̅aaba̅b̅aba̅b̅aba̅b̅aba̅b̅aba̅b̅aba̅b̅aaba̅b̅aba̅b̅aba̅b̅aba̅b̅aba̅b̅aba̅b̅aaba̅b̅a| ≤ 5089/90 using |b̅aba̅b̅aba̅b̅aaba̅b̅aba̅b̅aba̅b̅aba̅b̅aba̅b̅aba̅b̅aaba̅b̅aba̅b̅aba̅b̅aba̅b̅aba̅b̅aba̅b̅aaba̅b̅aba̅b̅aba̅b̅aba̅b̅aba̅b̅aba̅b̅aaba̅b̅aba̅b̅aba̅b̅aba̅b̅aba̅b̅aba̅b̅aaba̅b̅aba̅b̅aba̅b̅aba̅b̅aba̅b̅aba̅b̅aaba̅b̅aba̅b̅aba̅b̅aba̅b̅aba̅b̅aba̅b̅aaba̅b̅aba̅b̅aba̅b̅aba̅b̅aba̅b̅aba̅b̅aaba̅b̅aba̅b̅aba̅b̅aba̅b̅aba̅b̅aba̅b̅aaba̅b̅aba̅b̅aba̅b̅aba̅b̅aba̅b̅aba̅b̅aaba̅b̅aba̅b̅aba̅b̅aba̅b̅aba̅b̅aba̅b̅aab| ≤ 458/9 and |a̅b̅aba̅b̅aba̅b̅aba̅b̅aba̅b̅aba̅b̅aaba̅b̅a| ≤ 509/90\n",
       "* |aaba̅b̅aba̅b̅aba̅b̅aba̅b̅aba̅b̅aba̅b̅aaba̅b̅aba̅b̅aba̅b̅aba̅b̅aba̅b̅aba̅b̅aaba̅b̅aba̅b̅aba̅b̅aba̅b̅aba̅b̅aba̅b̅aaba̅b̅aba̅b̅aba̅b̅aba̅b̅aba̅b̅aba̅b̅aaba̅b̅aba̅b̅aba̅b̅aba̅b̅aba̅b̅aba̅b̅aaba̅b̅aba̅b̅aba̅b̅aba̅b̅aba̅b̅aba̅b̅aaba̅b̅aba̅b̅aba̅b̅aba̅b̅aba̅b̅aba̅b̅aaba̅b̅aba̅b̅aba̅b̅aba̅b̅aba̅b̅aba̅b̅aaba̅b̅aba̅b̅aba̅b̅aba̅b̅aba̅b̅aba̅b̅aaba̅b̅aba̅b̅aba̅b̅aba̅b̅aba̅b̅aba̅b̅aaba̅b̅aba̅b̅aba̅b̅aba̅b̅aba̅b̅aba̅b̅aaba̅b̅aba̅b̅aba̅b̅aba̅b̅aba̅b̅aba̅b̅aaba̅b̅a| ≤ 2684/45 using |aaba̅b̅aba̅b̅aba̅b̅aba̅| ≤ 31/10 and |b̅aba̅b̅aba̅b̅aaba̅b̅aba̅b̅aba̅b̅aba̅b̅aba̅b̅aba̅b̅aaba̅b̅aba̅b̅aba̅b̅aba̅b̅aba̅b̅aba̅b̅aaba̅b̅aba̅b̅aba̅b̅aba̅b̅aba̅b̅aba̅b̅aaba̅b̅aba̅b̅aba̅b̅aba̅b̅aba̅b̅aba̅b̅aaba̅b̅aba̅b̅aba̅b̅aba̅b̅aba̅b̅aba̅b̅aaba̅b̅aba̅b̅aba̅b̅aba̅b̅aba̅b̅aba̅b̅aaba̅b̅aba̅b̅aba̅b̅aba̅b̅aba̅b̅aba̅b̅aaba̅b̅aba̅b̅aba̅b̅aba̅b̅aba̅b̅aba̅b̅aaba̅b̅aba̅b̅aba̅b̅aba̅b̅aba̅b̅aba̅b̅aaba̅b̅aba̅b̅aba̅b̅aba̅b̅aba̅b̅aba̅b̅aaba̅b̅aba̅b̅aba̅b̅aba̅b̅aba̅b̅aba̅b̅aaba̅b̅a| ≤ 5089/90\n",
       "* |baaba̅b̅aba̅b̅aba̅b̅aba̅b̅aba̅b̅aba̅b̅aaba̅b̅aba̅b̅aba̅b̅aba̅b̅aba̅b̅aba̅b̅aaba̅b̅aba̅b̅aba̅b̅aba̅b̅aba̅b̅aba̅b̅aaba̅b̅aba̅b̅aba̅b̅aba̅b̅aba̅b̅aba̅b̅aaba̅b̅aba̅b̅aba̅b̅aba̅b̅aba̅b̅aba̅b̅aaba̅b̅aba̅b̅aba̅b̅aba̅b̅aba̅b̅aba̅b̅aaba̅b̅aba̅b̅aba̅b̅aba̅b̅aba̅b̅aba̅b̅aaba̅b̅aba̅b̅aba̅b̅aba̅b̅aba̅b̅aba̅b̅aaba̅b̅aba̅b̅aba̅b̅aba̅b̅aba̅b̅aba̅b̅aaba̅b̅aba̅b̅aba̅b̅aba̅b̅aba̅b̅aba̅b̅aaba̅b̅aba̅b̅aba̅b̅aba̅b̅aba̅b̅aba̅b̅aaba̅b̅aba̅b̅aba̅b̅aba̅b̅aba̅b̅aba̅b̅aaba̅b̅ab̅| ≤ 2684/45 using |aaba̅b̅aba̅b̅aba̅b̅aba̅b̅aba̅b̅aba̅b̅aaba̅b̅aba̅b̅aba̅b̅aba̅b̅aba̅b̅aba̅b̅aaba̅b̅aba̅b̅aba̅b̅aba̅b̅aba̅b̅aba̅b̅aaba̅b̅aba̅b̅aba̅b̅aba̅b̅aba̅b̅aba̅b̅aaba̅b̅aba̅b̅aba̅b̅aba̅b̅aba̅b̅aba̅b̅aaba̅b̅aba̅b̅aba̅b̅aba̅b̅aba̅b̅aba̅b̅aaba̅b̅aba̅b̅aba̅b̅aba̅b̅aba̅b̅aba̅b̅aaba̅b̅aba̅b̅aba̅b̅aba̅b̅aba̅b̅aba̅b̅aaba̅b̅aba̅b̅aba̅b̅aba̅b̅aba̅b̅aba̅b̅aaba̅b̅aba̅b̅aba̅b̅aba̅b̅aba̅b̅aba̅b̅aaba̅b̅aba̅b̅aba̅b̅aba̅b̅aba̅b̅aba̅b̅aaba̅b̅aba̅b̅aba̅b̅aba̅b̅aba̅b̅aba̅b̅aaba̅b̅a| ≤ 2684/45\n",
       "* |a̅b̅aba̅b̅| ≤ 2 using |a̅b̅a| ≤ 1 and |ba̅b̅| ≤ 1\n",
       "* |b̅aba̅b̅aba̅b̅aba̅b̅aba̅b̅| ≤ 41/10 using |b̅aba̅b̅aba̅b̅ab| ≤ 21/10 and |a̅b̅aba̅b̅| ≤ 2\n",
       "* |ab̅aba̅b̅aba̅b̅aba̅b̅aba̅b̅a̅| ≤ 41/10 using |b̅aba̅b̅aba̅b̅aba̅b̅aba̅b̅| ≤ 41/10\n",
       "* |a̅b̅aba̅b̅aba̅b̅aba̅b̅aba̅b̅a| ≤ 41/10 using |a̅b̅aba̅b̅aba̅b̅aba̅b̅aba̅b̅a| ≤ 41/10 and |e| ≤ 0\n",
       "* |b̅aaba̅b̅aba̅b̅aba̅b̅aba̅b̅aba̅b̅aba̅b̅aaba̅b̅aba̅b̅aba̅b̅aba̅b̅aba̅b̅aba̅b̅aaba̅b̅aba̅b̅aba̅b̅aba̅b̅aba̅b̅aba̅b̅aaba̅b̅aba̅b̅aba̅b̅aba̅b̅aba̅b̅aba̅b̅aaba̅b̅aba̅b̅aba̅b̅aba̅b̅aba̅b̅aba̅b̅aaba̅b̅aba̅b̅aba̅b̅aba̅b̅aba̅b̅aba̅b̅aaba̅b̅aba̅b̅aba̅b̅aba̅b̅aba̅b̅aba̅b̅aaba̅b̅aba̅b̅aba̅b̅aba̅b̅aba̅b̅aba̅b̅aaba̅b̅aba̅b̅aba̅b̅aba̅b̅aba̅b̅aba̅b̅aaba̅b̅aba̅b̅aba̅b̅aba̅b̅aba̅b̅aba̅b̅aaba̅b̅aba̅b̅aba̅b̅aba̅b̅aba̅b̅aba̅b̅aaba̅b̅aba̅b̅aba̅b̅aba̅b̅aba̅b̅aba̅b̅aaba̅b̅aba̅b̅aba̅b̅aba̅b̅aba̅b̅aba̅b̅a| ≤ 5737/90 using |b̅aaba̅b̅aba̅b̅aba̅b̅aba̅b̅aba̅b̅aba̅b̅aaba̅b̅aba̅b̅aba̅b̅aba̅b̅aba̅b̅aba̅b̅aaba̅b̅aba̅b̅aba̅b̅aba̅b̅aba̅b̅aba̅b̅aaba̅b̅aba̅b̅aba̅b̅aba̅b̅aba̅b̅aba̅b̅aaba̅b̅aba̅b̅aba̅b̅aba̅b̅aba̅b̅aba̅b̅aaba̅b̅aba̅b̅aba̅b̅aba̅b̅aba̅b̅aba̅b̅aaba̅b̅aba̅b̅aba̅b̅aba̅b̅aba̅b̅aba̅b̅aaba̅b̅aba̅b̅aba̅b̅aba̅b̅aba̅b̅aba̅b̅aaba̅b̅aba̅b̅aba̅b̅aba̅b̅aba̅b̅aba̅b̅aaba̅b̅aba̅b̅aba̅b̅aba̅b̅aba̅b̅aba̅b̅aaba̅b̅aba̅b̅aba̅b̅aba̅b̅aba̅b̅aba̅b̅aaba̅b̅aba̅b̅aba̅b̅aba̅b̅aba̅b̅aba̅b̅aaba̅b̅ab| ≤ 2684/45 and |a̅b̅aba̅b̅aba̅b̅aba̅b̅aba̅b̅a| ≤ 41/10\n",
       "* |ab̅aaba̅b̅aba̅b̅aba̅b̅aba̅b̅aba̅b̅aba̅b̅aaba̅b̅aba̅b̅aba̅b̅aba̅b̅aba̅b̅aba̅b̅aaba̅b̅aba̅b̅aba̅b̅aba̅b̅aba̅b̅aba̅b̅aaba̅b̅aba̅b̅aba̅b̅aba̅b̅aba̅b̅aba̅b̅aaba̅b̅aba̅b̅aba̅b̅aba̅b̅aba̅b̅aba̅b̅aaba̅b̅aba̅b̅aba̅b̅aba̅b̅aba̅b̅aba̅b̅aaba̅b̅aba̅b̅aba̅b̅aba̅b̅aba̅b̅aba̅b̅aaba̅b̅aba̅b̅aba̅b̅aba̅b̅aba̅b̅aba̅b̅aaba̅b̅aba̅b̅aba̅b̅aba̅b̅aba̅b̅aba̅b̅aaba̅b̅aba̅b̅aba̅b̅aba̅b̅aba̅b̅aba̅b̅aaba̅b̅aba̅b̅aba̅b̅aba̅b̅aba̅b̅aba̅b̅aaba̅b̅aba̅b̅aba̅b̅aba̅b̅aba̅b̅aba̅b̅aaba̅b̅aba̅b̅aba̅b̅aba̅b̅aba̅b̅aba̅b̅aa̅| ≤ 5737/90 using |b̅aaba̅b̅aba̅b̅aba̅b̅aba̅b̅aba̅b̅aba̅b̅aaba̅b̅aba̅b̅aba̅b̅aba̅b̅aba̅b̅aba̅b̅aaba̅b̅aba̅b̅aba̅b̅aba̅b̅aba̅b̅aba̅b̅aaba̅b̅aba̅b̅aba̅b̅aba̅b̅aba̅b̅aba̅b̅aaba̅b̅aba̅b̅aba̅b̅aba̅b̅aba̅b̅aba̅b̅aaba̅b̅aba̅b̅aba̅b̅aba̅b̅aba̅b̅aba̅b̅aaba̅b̅aba̅b̅aba̅b̅aba̅b̅aba̅b̅aba̅b̅aaba̅b̅aba̅b̅aba̅b̅aba̅b̅aba̅b̅aba̅b̅aaba̅b̅aba̅b̅aba̅b̅aba̅b̅aba̅b̅aba̅b̅aaba̅b̅aba̅b̅aba̅b̅aba̅b̅aba̅b̅aba̅b̅aaba̅b̅aba̅b̅aba̅b̅aba̅b̅aba̅b̅aba̅b̅aaba̅b̅aba̅b̅aba̅b̅aba̅b̅aba̅b̅aba̅b̅aaba̅b̅aba̅b̅aba̅b̅aba̅b̅aba̅b̅aba̅b̅a| ≤ 5737/90\n",
       "* |a̅b̅aaba̅b̅aba̅b̅aba̅b̅aba̅b̅aba̅b̅aba̅b̅aaba̅b̅aba̅b̅aba̅b̅aba̅b̅aba̅b̅aba̅b̅aaba̅b̅aba̅b̅aba̅b̅aba̅b̅aba̅b̅aba̅b̅aaba̅b̅aba̅b̅aba̅b̅aba̅b̅aba̅b̅aba̅b̅aaba̅b̅aba̅b̅aba̅b̅aba̅b̅aba̅b̅aba̅b̅aaba̅b̅aba̅b̅aba̅b̅aba̅b̅aba̅b̅aba̅b̅aaba̅b̅aba̅b̅aba̅b̅aba̅b̅aba̅b̅aba̅b̅aaba̅b̅aba̅b̅aba̅b̅aba̅b̅aba̅b̅aba̅b̅aaba̅b̅aba̅b̅aba̅b̅aba̅b̅aba̅b̅aba̅b̅aaba̅b̅aba̅b̅aba̅b̅aba̅b̅aba̅b̅aba̅b̅aaba̅b̅aba̅b̅aba̅b̅aba̅b̅aba̅b̅aba̅b̅aaba̅b̅aba̅b̅aba̅b̅aba̅b̅aba̅b̅aba̅b̅aaba̅b̅aba̅b̅aba̅b̅aba̅b̅aba̅b̅aba̅b̅aa| ≤ 5737/90 using |a̅b̅aaba̅b̅aba̅b̅aba̅b̅aba̅b̅aba̅b̅aba̅b̅aaba̅b̅aba̅b̅aba̅b̅aba̅b̅aba̅b̅aba̅b̅aaba̅b̅aba̅b̅aba̅b̅aba̅b̅aba̅b̅aba̅b̅aaba̅b̅aba̅b̅aba̅b̅aba̅b̅aba̅b̅aba̅b̅aaba̅b̅aba̅b̅aba̅b̅aba̅b̅aba̅b̅aba̅b̅aaba̅b̅aba̅b̅aba̅b̅aba̅b̅aba̅b̅aba̅b̅aaba̅b̅aba̅b̅aba̅b̅aba̅b̅aba̅b̅aba̅b̅aaba̅b̅aba̅b̅aba̅b̅aba̅b̅aba̅b̅aba̅b̅aaba̅b̅aba̅b̅aba̅b̅aba̅b̅aba̅b̅aba̅b̅aaba̅b̅aba̅b̅aba̅b̅aba̅b̅aba̅b̅aba̅b̅aaba̅b̅aba̅b̅aba̅b̅aba̅b̅aba̅b̅aba̅b̅aaba̅b̅aba̅b̅aba̅b̅aba̅b̅aba̅b̅aba̅b̅aaba̅b̅aba̅b̅aba̅b̅aba̅b̅aba̅b̅aba̅b̅aa| ≤ 5737/90 and |e| ≤ 0\n",
       "* |b̅aba̅b̅aba̅b̅aba̅b̅aaba̅b̅aba̅b̅aba̅b̅aba̅b̅aba̅b̅aba̅b̅aaba̅b̅aba̅b̅aba̅b̅aba̅b̅aba̅b̅aba̅b̅aaba̅b̅aba̅b̅aba̅b̅aba̅b̅aba̅b̅aba̅b̅aaba̅b̅aba̅b̅aba̅b̅aba̅b̅aba̅b̅aba̅b̅aaba̅b̅aba̅b̅aba̅b̅aba̅b̅aba̅b̅aba̅b̅aaba̅b̅aba̅b̅aba̅b̅aba̅b̅aba̅b̅aba̅b̅aaba̅b̅aba̅b̅aba̅b̅aba̅b̅aba̅b̅aba̅b̅aaba̅b̅aba̅b̅aba̅b̅aba̅b̅aba̅b̅aba̅b̅aaba̅b̅aba̅b̅aba̅b̅aba̅b̅aba̅b̅aba̅b̅aaba̅b̅aba̅b̅aba̅b̅aba̅b̅aba̅b̅aba̅b̅aaba̅b̅aba̅b̅aba̅b̅aba̅b̅aba̅b̅aba̅b̅aaba̅b̅aba̅b̅aba̅b̅aba̅b̅aba̅b̅aba̅b̅aaba̅b̅aba̅b̅aba̅b̅aba̅b̅aba̅b̅aba̅b̅aa| ≤ 2963/45 using |b̅aba̅b̅aba̅b̅ab| ≤ 21/10 and |a̅b̅aaba̅b̅aba̅b̅aba̅b̅aba̅b̅aba̅b̅aba̅b̅aaba̅b̅aba̅b̅aba̅b̅aba̅b̅aba̅b̅aba̅b̅aaba̅b̅aba̅b̅aba̅b̅aba̅b̅aba̅b̅aba̅b̅aaba̅b̅aba̅b̅aba̅b̅aba̅b̅aba̅b̅aba̅b̅aaba̅b̅aba̅b̅aba̅b̅aba̅b̅aba̅b̅aba̅b̅aaba̅b̅aba̅b̅aba̅b̅aba̅b̅aba̅b̅aba̅b̅aaba̅b̅aba̅b̅aba̅b̅aba̅b̅aba̅b̅aba̅b̅aaba̅b̅aba̅b̅aba̅b̅aba̅b̅aba̅b̅aba̅b̅aaba̅b̅aba̅b̅aba̅b̅aba̅b̅aba̅b̅aba̅b̅aaba̅b̅aba̅b̅aba̅b̅aba̅b̅aba̅b̅aba̅b̅aaba̅b̅aba̅b̅aba̅b̅aba̅b̅aba̅b̅aba̅b̅aaba̅b̅aba̅b̅aba̅b̅aba̅b̅aba̅b̅aba̅b̅aaba̅b̅aba̅b̅aba̅b̅aba̅b̅aba̅b̅aba̅b̅aa| ≤ 5737/90\n",
       "* |aaba̅b̅aba̅b̅aba̅b̅aba̅b̅aba̅b̅aba̅b̅aaba̅b̅aba̅b̅aba̅b̅aba̅b̅aba̅b̅aba̅b̅aaba̅b̅aba̅b̅aba̅b̅aba̅b̅aba̅b̅aba̅b̅aaba̅b̅aba̅b̅aba̅b̅aba̅b̅aba̅b̅aba̅b̅aaba̅b̅aba̅b̅aba̅b̅aba̅b̅aba̅b̅aba̅b̅aaba̅b̅aba̅b̅aba̅b̅aba̅b̅aba̅b̅aba̅b̅aaba̅b̅aba̅b̅aba̅b̅aba̅b̅aba̅b̅aba̅b̅aaba̅b̅aba̅b̅aba̅b̅aba̅b̅aba̅b̅aba̅b̅aaba̅b̅aba̅b̅aba̅b̅aba̅b̅aba̅b̅aba̅b̅aaba̅b̅aba̅b̅aba̅b̅aba̅b̅aba̅b̅aba̅b̅aaba̅b̅aba̅b̅aba̅b̅aba̅b̅aba̅b̅aba̅b̅aaba̅b̅aba̅b̅aba̅b̅aba̅b̅aba̅b̅aba̅b̅aaba̅b̅aba̅b̅aba̅b̅aba̅b̅aba̅b̅aba̅b̅aaba̅b̅aba̅b̅aba̅b̅aba̅b̅aba̅b̅aba̅b̅aa| ≤ 342/5 using |aaba̅b̅aba̅b̅aba̅| ≤ 23/9 and |b̅aba̅b̅aba̅b̅aba̅b̅aaba̅b̅aba̅b̅aba̅b̅aba̅b̅aba̅b̅aba̅b̅aaba̅b̅aba̅b̅aba̅b̅aba̅b̅aba̅b̅aba̅b̅aaba̅b̅aba̅b̅aba̅b̅aba̅b̅aba̅b̅aba̅b̅aaba̅b̅aba̅b̅aba̅b̅aba̅b̅aba̅b̅aba̅b̅aaba̅b̅aba̅b̅aba̅b̅aba̅b̅aba̅b̅aba̅b̅aaba̅b̅aba̅b̅aba̅b̅aba̅b̅aba̅b̅aba̅b̅aaba̅b̅aba̅b̅aba̅b̅aba̅b̅aba̅b̅aba̅b̅aaba̅b̅aba̅b̅aba̅b̅aba̅b̅aba̅b̅aba̅b̅aaba̅b̅aba̅b̅aba̅b̅aba̅b̅aba̅b̅aba̅b̅aaba̅b̅aba̅b̅aba̅b̅aba̅b̅aba̅b̅aba̅b̅aaba̅b̅aba̅b̅aba̅b̅aba̅b̅aba̅b̅aba̅b̅aaba̅b̅aba̅b̅aba̅b̅aba̅b̅aba̅b̅aba̅b̅aaba̅b̅aba̅b̅aba̅b̅aba̅b̅aba̅b̅aba̅b̅aa| ≤ 2963/45\n",
       "* |baaba̅b̅aba̅b̅aba̅b̅aba̅b̅aba̅b̅aba̅b̅aaba̅b̅aba̅b̅aba̅b̅aba̅b̅aba̅b̅aba̅b̅aaba̅b̅aba̅b̅aba̅b̅aba̅b̅aba̅b̅aba̅b̅aaba̅b̅aba̅b̅aba̅b̅aba̅b̅aba̅b̅aba̅b̅aaba̅b̅aba̅b̅aba̅b̅aba̅b̅aba̅b̅aba̅b̅aaba̅b̅aba̅b̅aba̅b̅aba̅b̅aba̅b̅aba̅b̅aaba̅b̅aba̅b̅aba̅b̅aba̅b̅aba̅b̅aba̅b̅aaba̅b̅aba̅b̅aba̅b̅aba̅b̅aba̅b̅aba̅b̅aaba̅b̅aba̅b̅aba̅b̅aba̅b̅aba̅b̅aba̅b̅aaba̅b̅aba̅b̅aba̅b̅aba̅b̅aba̅b̅aba̅b̅aaba̅b̅aba̅b̅aba̅b̅aba̅b̅aba̅b̅aba̅b̅aaba̅b̅aba̅b̅aba̅b̅aba̅b̅aba̅b̅aba̅b̅aaba̅b̅aba̅b̅aba̅b̅aba̅b̅aba̅b̅aba̅b̅aaba̅b̅aba̅b̅aba̅b̅aba̅b̅aba̅b̅aba̅b̅aab̅| ≤ 342/5 using |aaba̅b̅aba̅b̅aba̅b̅aba̅b̅aba̅b̅aba̅b̅aaba̅b̅aba̅b̅aba̅b̅aba̅b̅aba̅b̅aba̅b̅aaba̅b̅aba̅b̅aba̅b̅aba̅b̅aba̅b̅aba̅b̅aaba̅b̅aba̅b̅aba̅b̅aba̅b̅aba̅b̅aba̅b̅aaba̅b̅aba̅b̅aba̅b̅aba̅b̅aba̅b̅aba̅b̅aaba̅b̅aba̅b̅aba̅b̅aba̅b̅aba̅b̅aba̅b̅aaba̅b̅aba̅b̅aba̅b̅aba̅b̅aba̅b̅aba̅b̅aaba̅b̅aba̅b̅aba̅b̅aba̅b̅aba̅b̅aba̅b̅aaba̅b̅aba̅b̅aba̅b̅aba̅b̅aba̅b̅aba̅b̅aaba̅b̅aba̅b̅aba̅b̅aba̅b̅aba̅b̅aba̅b̅aaba̅b̅aba̅b̅aba̅b̅aba̅b̅aba̅b̅aba̅b̅aaba̅b̅aba̅b̅aba̅b̅aba̅b̅aba̅b̅aba̅b̅aaba̅b̅aba̅b̅aba̅b̅aba̅b̅aba̅b̅aba̅b̅aaba̅b̅aba̅b̅aba̅b̅aba̅b̅aba̅b̅aba̅b̅aa| ≤ 342/5\n",
       "* |b̅aaba̅b̅aba̅b̅aba̅b̅aba̅b̅aba̅b̅aba̅b̅aaba̅b̅aba̅b̅aba̅b̅aba̅b̅aba̅b̅aba̅b̅aaba̅b̅aba̅b̅aba̅b̅aba̅b̅aba̅b̅aba̅b̅aaba̅b̅aba̅b̅aba̅b̅aba̅b̅aba̅b̅aba̅b̅aaba̅b̅aba̅b̅aba̅b̅aba̅b̅aba̅b̅aba̅b̅aaba̅b̅aba̅b̅aba̅b̅aba̅b̅aba̅b̅aba̅b̅aaba̅b̅aba̅b̅aba̅b̅aba̅b̅aba̅b̅aba̅b̅aaba̅b̅aba̅b̅aba̅b̅aba̅b̅aba̅b̅aba̅b̅aaba̅b̅aba̅b̅aba̅b̅aba̅b̅aba̅b̅aba̅b̅aaba̅b̅aba̅b̅aba̅b̅aba̅b̅aba̅b̅aba̅b̅aaba̅b̅aba̅b̅aba̅b̅aba̅b̅aba̅b̅aba̅b̅aaba̅b̅aba̅b̅aba̅b̅aba̅b̅aba̅b̅aba̅b̅aaba̅b̅aba̅b̅aba̅b̅aba̅b̅aba̅b̅aba̅b̅aaba̅b̅aba̅b̅aba̅b̅aba̅b̅aba̅b̅aba̅b̅aab| ≤ 342/5 using |b̅aaba̅b̅aba̅b̅aba̅b̅aba̅b̅aba̅b̅aba̅b̅aaba̅b̅aba̅b̅aba̅b̅aba̅b̅aba̅b̅aba̅b̅aaba̅b̅aba̅b̅aba̅b̅aba̅b̅aba̅b̅aba̅b̅aaba̅b̅aba̅b̅aba̅b̅aba̅b̅aba̅b̅aba̅b̅aaba̅b̅aba̅b̅aba̅b̅aba̅b̅aba̅b̅aba̅b̅aaba̅b̅aba̅b̅aba̅b̅aba̅b̅aba̅b̅aba̅b̅aaba̅b̅aba̅b̅aba̅b̅aba̅b̅aba̅b̅aba̅b̅aaba̅b̅aba̅b̅aba̅b̅aba̅b̅aba̅b̅aba̅b̅aaba̅b̅aba̅b̅aba̅b̅aba̅b̅aba̅b̅aba̅b̅aaba̅b̅aba̅b̅aba̅b̅aba̅b̅aba̅b̅aba̅b̅aaba̅b̅aba̅b̅aba̅b̅aba̅b̅aba̅b̅aba̅b̅aaba̅b̅aba̅b̅aba̅b̅aba̅b̅aba̅b̅aba̅b̅aaba̅b̅aba̅b̅aba̅b̅aba̅b̅aba̅b̅aba̅b̅aaba̅b̅aba̅b̅aba̅b̅aba̅b̅aba̅b̅aba̅b̅aab| ≤ 342/5 and |e| ≤ 0\n",
       "* |aba̅b̅aaba̅b̅aba̅b̅aba̅b̅aba̅b̅aba̅b̅aba̅b̅aaba̅b̅aba̅b̅aba̅b̅aba̅b̅aba̅b̅aba̅b̅aaba̅b̅aba̅b̅aba̅b̅aba̅b̅aba̅b̅aba̅b̅aaba̅b̅aba̅b̅aba̅b̅aba̅b̅aba̅b̅aba̅b̅aaba̅b̅aba̅b̅aba̅b̅aba̅b̅aba̅b̅aba̅b̅aaba̅b̅aba̅b̅aba̅b̅aba̅b̅aba̅b̅aba̅b̅aaba̅b̅aba̅b̅aba̅b̅aba̅b̅aba̅b̅aba̅b̅aaba̅b̅aba̅b̅aba̅b̅aba̅b̅aba̅b̅aba̅b̅aaba̅b̅aba̅b̅aba̅b̅aba̅b̅aba̅b̅aba̅b̅aaba̅b̅aba̅b̅aba̅b̅aba̅b̅aba̅b̅aba̅b̅aaba̅b̅aba̅b̅aba̅b̅aba̅b̅aba̅b̅aba̅b̅aaba̅b̅aba̅b̅aba̅b̅aba̅b̅aba̅b̅aba̅b̅aaba̅b̅aba̅b̅aba̅b̅aba̅b̅aba̅b̅aba̅b̅aaba̅b̅aba̅b̅aba̅b̅aba̅b̅aba̅b̅aba̅b̅aaba̅b̅aba̅b̅aba̅b̅aba̅b̅aba̅b̅aba̅b̅aab| ≤ 1333/18 using |aba̅b̅aaba̅b̅aba̅b̅aba̅b̅aba̅b̅aba̅b̅aba̅| ≤ 509/90 and |b̅aaba̅b̅aba̅b̅aba̅b̅aba̅b̅aba̅b̅aba̅b̅aaba̅b̅aba̅b̅aba̅b̅aba̅b̅aba̅b̅aba̅b̅aaba̅b̅aba̅b̅aba̅b̅aba̅b̅aba̅b̅aba̅b̅aaba̅b̅aba̅b̅aba̅b̅aba̅b̅aba̅b̅aba̅b̅aaba̅b̅aba̅b̅aba̅b̅aba̅b̅aba̅b̅aba̅b̅aaba̅b̅aba̅b̅aba̅b̅aba̅b̅aba̅b̅aba̅b̅aaba̅b̅aba̅b̅aba̅b̅aba̅b̅aba̅b̅aba̅b̅aaba̅b̅aba̅b̅aba̅b̅aba̅b̅aba̅b̅aba̅b̅aaba̅b̅aba̅b̅aba̅b̅aba̅b̅aba̅b̅aba̅b̅aaba̅b̅aba̅b̅aba̅b̅aba̅b̅aba̅b̅aba̅b̅aaba̅b̅aba̅b̅aba̅b̅aba̅b̅aba̅b̅aba̅b̅aaba̅b̅aba̅b̅aba̅b̅aba̅b̅aba̅b̅aba̅b̅aaba̅b̅aba̅b̅aba̅b̅aba̅b̅aba̅b̅aba̅b̅aaba̅b̅aba̅b̅aba̅b̅aba̅b̅aba̅b̅aba̅b̅aab| ≤ 342/5\n",
       "* |ba̅b̅aba̅b̅aaba̅b̅aba̅b̅aba̅b̅aba̅b̅aba̅b̅aba̅b̅aaba̅b̅aba̅b̅aba̅b̅aba̅b̅aba̅b̅aba̅b̅aaba̅b̅aba̅b̅aba̅b̅aba̅b̅aba̅b̅aba̅b̅aaba̅b̅aba̅b̅aba̅b̅aba̅b̅aba̅b̅aba̅b̅aaba̅b̅aba̅b̅aba̅b̅aba̅b̅aba̅b̅aba̅b̅aaba̅b̅aba̅b̅aba̅b̅aba̅b̅aba̅b̅aba̅b̅aaba̅b̅aba̅b̅aba̅b̅aba̅b̅aba̅b̅aba̅b̅aaba̅b̅aba̅b̅aba̅b̅aba̅b̅aba̅b̅aba̅b̅aaba̅b̅aba̅b̅aba̅b̅aba̅b̅aba̅b̅aba̅b̅aaba̅b̅aba̅b̅aba̅b̅aba̅b̅aba̅b̅aba̅b̅aaba̅b̅aba̅b̅aba̅b̅aba̅b̅aba̅b̅aba̅b̅aaba̅b̅aba̅b̅aba̅b̅aba̅b̅aba̅b̅aba̅b̅aaba̅b̅aba̅b̅aba̅b̅aba̅b̅aba̅b̅aba̅b̅aaba̅b̅aba̅b̅aba̅b̅aba̅b̅aba̅b̅aba̅b̅aaba̅b̅aba̅b̅aba̅b̅aba̅b̅aba̅b̅aba̅b̅aab| ≤ 1351/18 using |ba̅b̅| ≤ 1 and |aba̅b̅aaba̅b̅aba̅b̅aba̅b̅aba̅b̅aba̅b̅aba̅b̅aaba̅b̅aba̅b̅aba̅b̅aba̅b̅aba̅b̅aba̅b̅aaba̅b̅aba̅b̅aba̅b̅aba̅b̅aba̅b̅aba̅b̅aaba̅b̅aba̅b̅aba̅b̅aba̅b̅aba̅b̅aba̅b̅aaba̅b̅aba̅b̅aba̅b̅aba̅b̅aba̅b̅aba̅b̅aaba̅b̅aba̅b̅aba̅b̅aba̅b̅aba̅b̅aba̅b̅aaba̅b̅aba̅b̅aba̅b̅aba̅b̅aba̅b̅aba̅b̅aaba̅b̅aba̅b̅aba̅b̅aba̅b̅aba̅b̅aba̅b̅aaba̅b̅aba̅b̅aba̅b̅aba̅b̅aba̅b̅aba̅b̅aaba̅b̅aba̅b̅aba̅b̅aba̅b̅aba̅b̅aba̅b̅aaba̅b̅aba̅b̅aba̅b̅aba̅b̅aba̅b̅aba̅b̅aaba̅b̅aba̅b̅aba̅b̅aba̅b̅aba̅b̅aba̅b̅aaba̅b̅aba̅b̅aba̅b̅aba̅b̅aba̅b̅aba̅b̅aaba̅b̅aba̅b̅aba̅b̅aba̅b̅aba̅b̅aba̅b̅aaba̅b̅aba̅b̅aba̅b̅aba̅b̅aba̅b̅aba̅b̅aab| ≤ 1333/18\n",
       "* |a̅ba̅b̅aba̅b̅aaba̅b̅aba̅b̅aba̅b̅aba̅b̅aba̅b̅aba̅b̅aaba̅b̅aba̅b̅aba̅b̅aba̅b̅aba̅b̅aba̅b̅aaba̅b̅aba̅b̅aba̅b̅aba̅b̅aba̅b̅aba̅b̅aaba̅b̅aba̅b̅aba̅b̅aba̅b̅aba̅b̅aba̅b̅aaba̅b̅aba̅b̅aba̅b̅aba̅b̅aba̅b̅aba̅b̅aaba̅b̅aba̅b̅aba̅b̅aba̅b̅aba̅b̅aba̅b̅aaba̅b̅aba̅b̅aba̅b̅aba̅b̅aba̅b̅aba̅b̅aaba̅b̅aba̅b̅aba̅b̅aba̅b̅aba̅b̅aba̅b̅aaba̅b̅aba̅b̅aba̅b̅aba̅b̅aba̅b̅aba̅b̅aaba̅b̅aba̅b̅aba̅b̅aba̅b̅aba̅b̅aba̅b̅aaba̅b̅aba̅b̅aba̅b̅aba̅b̅aba̅b̅aba̅b̅aaba̅b̅aba̅b̅aba̅b̅aba̅b̅aba̅b̅aba̅b̅aaba̅b̅aba̅b̅aba̅b̅aba̅b̅aba̅b̅aba̅b̅aaba̅b̅aba̅b̅aba̅b̅aba̅b̅aba̅b̅aba̅b̅aaba̅b̅aba̅b̅aba̅b̅aba̅b̅aba̅b̅aba̅b̅aaba| ≤ 1351/18 using |ba̅b̅aba̅b̅aaba̅b̅aba̅b̅aba̅b̅aba̅b̅aba̅b̅aba̅b̅aaba̅b̅aba̅b̅aba̅b̅aba̅b̅aba̅b̅aba̅b̅aaba̅b̅aba̅b̅aba̅b̅aba̅b̅aba̅b̅aba̅b̅aaba̅b̅aba̅b̅aba̅b̅aba̅b̅aba̅b̅aba̅b̅aaba̅b̅aba̅b̅aba̅b̅aba̅b̅aba̅b̅aba̅b̅aaba̅b̅aba̅b̅aba̅b̅aba̅b̅aba̅b̅aba̅b̅aaba̅b̅aba̅b̅aba̅b̅aba̅b̅aba̅b̅aba̅b̅aaba̅b̅aba̅b̅aba̅b̅aba̅b̅aba̅b̅aba̅b̅aaba̅b̅aba̅b̅aba̅b̅aba̅b̅aba̅b̅aba̅b̅aaba̅b̅aba̅b̅aba̅b̅aba̅b̅aba̅b̅aba̅b̅aaba̅b̅aba̅b̅aba̅b̅aba̅b̅aba̅b̅aba̅b̅aaba̅b̅aba̅b̅aba̅b̅aba̅b̅aba̅b̅aba̅b̅aaba̅b̅aba̅b̅aba̅b̅aba̅b̅aba̅b̅aba̅b̅aaba̅b̅aba̅b̅aba̅b̅aba̅b̅aba̅b̅aba̅b̅aaba̅b̅aba̅b̅aba̅b̅aba̅b̅aba̅b̅aba̅b̅aab| ≤ 1351/18\n",
       "* |aba̅b̅aba̅b̅aaba̅b̅aba̅b̅aba̅b̅aba̅b̅aba̅b̅aba̅b̅aaba̅b̅aba̅b̅aba̅b̅aba̅b̅aba̅b̅aba̅b̅aaba̅b̅aba̅b̅aba̅b̅aba̅b̅aba̅b̅aba̅b̅aaba̅b̅aba̅b̅aba̅b̅aba̅b̅aba̅b̅aba̅b̅aaba̅b̅aba̅b̅aba̅b̅aba̅b̅aba̅b̅aba̅b̅aaba̅b̅aba̅b̅aba̅b̅aba̅b̅aba̅b̅aba̅b̅aaba̅b̅aba̅b̅aba̅b̅aba̅b̅aba̅b̅aba̅b̅aaba̅b̅aba̅b̅aba̅b̅aba̅b̅aba̅b̅aba̅b̅aaba̅b̅aba̅b̅aba̅b̅aba̅b̅aba̅b̅aba̅b̅aaba̅b̅aba̅b̅aba̅b̅aba̅b̅aba̅b̅aba̅b̅aaba̅b̅aba̅b̅aba̅b̅aba̅b̅aba̅b̅aba̅b̅aaba̅b̅aba̅b̅aba̅b̅aba̅b̅aba̅b̅aba̅b̅aaba̅b̅aba̅b̅aba̅b̅aba̅b̅aba̅b̅aba̅b̅aaba̅b̅aba̅b̅aba̅b̅aba̅b̅aba̅b̅aba̅b̅aaba̅b̅aba̅b̅aba̅b̅aba̅b̅aba̅b̅aba̅b̅aaba̅b̅aba̅b̅aba̅b̅aba̅b̅aba̅b̅aba̅b̅aa| ≤ 3587/45 using |aba̅b̅aba̅b̅aaba̅b̅aba̅b̅aba̅b̅aba̅b̅aba̅b̅aba̅b̅aaba̅b̅aba̅b̅aba̅b̅aba̅b̅aba̅b̅aba̅b̅aaba̅b̅aba̅b̅aba̅b̅aba̅b̅aba̅b̅aba̅b̅aaba̅b̅aba̅b̅aba̅b̅aba̅b̅aba̅b̅aba̅b̅aaba̅b̅aba̅b̅aba̅b̅aba̅b̅aba̅b̅aba̅b̅aaba̅b̅aba̅b̅aba̅b̅aba̅b̅aba̅b̅aba̅b̅aaba̅b̅aba̅b̅aba̅b̅aba̅b̅aba̅b̅aba̅b̅aaba̅b̅aba̅b̅aba̅b̅aba̅b̅aba̅b̅aba̅b̅aaba̅b̅aba̅b̅aba̅b̅aba̅b̅aba̅b̅aba̅b̅aaba̅b̅aba̅b̅aba̅b̅aba̅b̅aba̅b̅aba̅b̅aaba̅b̅aba̅b̅aba̅b̅aba̅b̅aba̅b̅aba̅b̅aaba̅b̅aba̅b̅aba̅b̅aba̅b̅aba̅b̅aba̅b̅aaba̅b̅aba̅b̅aba̅b̅aba̅b̅aba̅b̅aba̅b̅aaba̅b̅aba̅b̅aba̅b̅aba̅b̅aba̅b̅aba̅b̅aaba̅b̅aba̅b̅aba̅b̅aba̅b̅aba̅b̅aba̅b̅aaba̅| ≤ 1351/18 and |b̅aba̅b̅aba̅b̅aba̅b̅aba̅b̅aba̅b̅aa| ≤ 419/90\n",
       "* |baba̅b̅aba̅b̅aaba̅b̅aba̅b̅aba̅b̅aba̅b̅aba̅b̅aba̅b̅aaba̅b̅aba̅b̅aba̅b̅aba̅b̅aba̅b̅aba̅b̅aaba̅b̅aba̅b̅aba̅b̅aba̅b̅aba̅b̅aba̅b̅aaba̅b̅aba̅b̅aba̅b̅aba̅b̅aba̅b̅aba̅b̅aaba̅b̅aba̅b̅aba̅b̅aba̅b̅aba̅b̅aba̅b̅aaba̅b̅aba̅b̅aba̅b̅aba̅b̅aba̅b̅aba̅b̅aaba̅b̅aba̅b̅aba̅b̅aba̅b̅aba̅b̅aba̅b̅aaba̅b̅aba̅b̅aba̅b̅aba̅b̅aba̅b̅aba̅b̅aaba̅b̅aba̅b̅aba̅b̅aba̅b̅aba̅b̅aba̅b̅aaba̅b̅aba̅b̅aba̅b̅aba̅b̅aba̅b̅aba̅b̅aaba̅b̅aba̅b̅aba̅b̅aba̅b̅aba̅b̅aba̅b̅aaba̅b̅aba̅b̅aba̅b̅aba̅b̅aba̅b̅aba̅b̅aaba̅b̅aba̅b̅aba̅b̅aba̅b̅aba̅b̅aba̅b̅aaba̅b̅aba̅b̅aba̅b̅aba̅b̅aba̅b̅aba̅b̅aaba̅b̅aba̅b̅aba̅b̅aba̅b̅aba̅b̅aba̅b̅aaba̅b̅aba̅b̅aba̅b̅aba̅b̅aba̅b̅aba̅b̅aab̅| ≤ 3587/45 using |aba̅b̅aba̅b̅aaba̅b̅aba̅b̅aba̅b̅aba̅b̅aba̅b̅aba̅b̅aaba̅b̅aba̅b̅aba̅b̅aba̅b̅aba̅b̅aba̅b̅aaba̅b̅aba̅b̅aba̅b̅aba̅b̅aba̅b̅aba̅b̅aaba̅b̅aba̅b̅aba̅b̅aba̅b̅aba̅b̅aba̅b̅aaba̅b̅aba̅b̅aba̅b̅aba̅b̅aba̅b̅aba̅b̅aaba̅b̅aba̅b̅aba̅b̅aba̅b̅aba̅b̅aba̅b̅aaba̅b̅aba̅b̅aba̅b̅aba̅b̅aba̅b̅aba̅b̅aaba̅b̅aba̅b̅aba̅b̅aba̅b̅aba̅b̅aba̅b̅aaba̅b̅aba̅b̅aba̅b̅aba̅b̅aba̅b̅aba̅b̅aaba̅b̅aba̅b̅aba̅b̅aba̅b̅aba̅b̅aba̅b̅aaba̅b̅aba̅b̅aba̅b̅aba̅b̅aba̅b̅aba̅b̅aaba̅b̅aba̅b̅aba̅b̅aba̅b̅aba̅b̅aba̅b̅aaba̅b̅aba̅b̅aba̅b̅aba̅b̅aba̅b̅aba̅b̅aaba̅b̅aba̅b̅aba̅b̅aba̅b̅aba̅b̅aba̅b̅aaba̅b̅aba̅b̅aba̅b̅aba̅b̅aba̅b̅aba̅b̅aaba̅b̅aba̅b̅aba̅b̅aba̅b̅aba̅b̅aba̅b̅aa| ≤ 3587/45\n",
       "* |a̅b̅aba̅b̅aba̅b̅aba̅b̅aba̅b̅aba̅b̅| ≤ 51/10 using |a̅b̅aba̅b̅aba̅b̅aba̅b̅aba̅b̅a| ≤ 41/10 and |ba̅b̅| ≤ 1\n",
       "* |b̅aba̅b̅aba̅b̅aaba̅b̅aba̅b̅aba̅b̅aba̅b̅aba̅b̅aba̅b̅aaba̅b̅aba̅b̅aba̅b̅aba̅b̅aba̅b̅aba̅b̅aaba̅b̅aba̅b̅aba̅b̅aba̅b̅aba̅b̅aba̅b̅aaba̅b̅aba̅b̅aba̅b̅aba̅b̅aba̅b̅aba̅b̅aaba̅b̅aba̅b̅aba̅b̅aba̅b̅aba̅b̅aba̅b̅aaba̅b̅aba̅b̅aba̅b̅aba̅b̅aba̅b̅aba̅b̅aaba̅b̅aba̅b̅aba̅b̅aba̅b̅aba̅b̅aba̅b̅aaba̅b̅aba̅b̅aba̅b̅aba̅b̅aba̅b̅aba̅b̅aaba̅b̅aba̅b̅aba̅b̅aba̅b̅aba̅b̅aba̅b̅aaba̅b̅aba̅b̅aba̅b̅aba̅b̅aba̅b̅aba̅b̅aaba̅b̅aba̅b̅aba̅b̅aba̅b̅aba̅b̅aba̅b̅aaba̅b̅aba̅b̅aba̅b̅aba̅b̅aba̅b̅aba̅b̅aaba̅b̅aba̅b̅aba̅b̅aba̅b̅aba̅b̅aba̅b̅aaba̅b̅aba̅b̅aba̅b̅aba̅b̅aba̅b̅aba̅b̅aaba̅b̅aba̅b̅aba̅b̅aba̅b̅aba̅b̅aba̅b̅aaba̅b̅aba̅b̅aba̅b̅aba̅b̅aba̅b̅aba̅b̅aaba̅b̅aba̅b̅aba̅b̅aba̅b̅aba̅b̅aba̅b̅| ≤ 7633/90 using |b̅aba̅b̅aba̅b̅aaba̅b̅aba̅b̅aba̅b̅aba̅b̅aba̅b̅aba̅b̅aaba̅b̅aba̅b̅aba̅b̅aba̅b̅aba̅b̅aba̅b̅aaba̅b̅aba̅b̅aba̅b̅aba̅b̅aba̅b̅aba̅b̅aaba̅b̅aba̅b̅aba̅b̅aba̅b̅aba̅b̅aba̅b̅aaba̅b̅aba̅b̅aba̅b̅aba̅b̅aba̅b̅aba̅b̅aaba̅b̅aba̅b̅aba̅b̅aba̅b̅aba̅b̅aba̅b̅aaba̅b̅aba̅b̅aba̅b̅aba̅b̅aba̅b̅aba̅b̅aaba̅b̅aba̅b̅aba̅b̅aba̅b̅aba̅b̅aba̅b̅aaba̅b̅aba̅b̅aba̅b̅aba̅b̅aba̅b̅aba̅b̅aaba̅b̅aba̅b̅aba̅b̅aba̅b̅aba̅b̅aba̅b̅aaba̅b̅aba̅b̅aba̅b̅aba̅b̅aba̅b̅aba̅b̅aaba̅b̅aba̅b̅aba̅b̅aba̅b̅aba̅b̅aba̅b̅aaba̅b̅aba̅b̅aba̅b̅aba̅b̅aba̅b̅aba̅b̅aaba̅b̅aba̅b̅aba̅b̅aba̅b̅aba̅b̅aba̅b̅aaba̅b̅aba̅b̅aba̅b̅aba̅b̅aba̅b̅aba̅b̅aaba̅b̅aba̅b̅aba̅b̅aba̅b̅aba̅b̅aba̅b̅aab| ≤ 3587/45 and |a̅b̅aba̅b̅aba̅b̅aba̅b̅aba̅b̅aba̅b̅| ≤ 51/10\n",
       "* |ab̅aba̅b̅aba̅b̅aaba̅b̅aba̅b̅aba̅b̅aba̅b̅aba̅b̅aba̅b̅aaba̅b̅aba̅b̅aba̅b̅aba̅b̅aba̅b̅aba̅b̅aaba̅b̅aba̅b̅aba̅b̅aba̅b̅aba̅b̅aba̅b̅aaba̅b̅aba̅b̅aba̅b̅aba̅b̅aba̅b̅aba̅b̅aaba̅b̅aba̅b̅aba̅b̅aba̅b̅aba̅b̅aba̅b̅aaba̅b̅aba̅b̅aba̅b̅aba̅b̅aba̅b̅aba̅b̅aaba̅b̅aba̅b̅aba̅b̅aba̅b̅aba̅b̅aba̅b̅aaba̅b̅aba̅b̅aba̅b̅aba̅b̅aba̅b̅aba̅b̅aaba̅b̅aba̅b̅aba̅b̅aba̅b̅aba̅b̅aba̅b̅aaba̅b̅aba̅b̅aba̅b̅aba̅b̅aba̅b̅aba̅b̅aaba̅b̅aba̅b̅aba̅b̅aba̅b̅aba̅b̅aba̅b̅aaba̅b̅aba̅b̅aba̅b̅aba̅b̅aba̅b̅aba̅b̅aaba̅b̅aba̅b̅aba̅b̅aba̅b̅aba̅b̅aba̅b̅aaba̅b̅aba̅b̅aba̅b̅aba̅b̅aba̅b̅aba̅b̅aaba̅b̅aba̅b̅aba̅b̅aba̅b̅aba̅b̅aba̅b̅aaba̅b̅aba̅b̅aba̅b̅aba̅b̅aba̅b̅aba̅b̅aaba̅b̅aba̅b̅aba̅b̅aba̅b̅aba̅b̅aba̅b̅a̅| ≤ 7633/90 using |b̅aba̅b̅aba̅b̅aaba̅b̅aba̅b̅aba̅b̅aba̅b̅aba̅b̅aba̅b̅aaba̅b̅aba̅b̅aba̅b̅aba̅b̅aba̅b̅aba̅b̅aaba̅b̅aba̅b̅aba̅b̅aba̅b̅aba̅b̅aba̅b̅aaba̅b̅aba̅b̅aba̅b̅aba̅b̅aba̅b̅aba̅b̅aaba̅b̅aba̅b̅aba̅b̅aba̅b̅aba̅b̅aba̅b̅aaba̅b̅aba̅b̅aba̅b̅aba̅b̅aba̅b̅aba̅b̅aaba̅b̅aba̅b̅aba̅b̅aba̅b̅aba̅b̅aba̅b̅aaba̅b̅aba̅b̅aba̅b̅aba̅b̅aba̅b̅aba̅b̅aaba̅b̅aba̅b̅aba̅b̅aba̅b̅aba̅b̅aba̅b̅aaba̅b̅aba̅b̅aba̅b̅aba̅b̅aba̅b̅aba̅b̅aaba̅b̅aba̅b̅aba̅b̅aba̅b̅aba̅b̅aba̅b̅aaba̅b̅aba̅b̅aba̅b̅aba̅b̅aba̅b̅aba̅b̅aaba̅b̅aba̅b̅aba̅b̅aba̅b̅aba̅b̅aba̅b̅aaba̅b̅aba̅b̅aba̅b̅aba̅b̅aba̅b̅aba̅b̅aaba̅b̅aba̅b̅aba̅b̅aba̅b̅aba̅b̅aba̅b̅aaba̅b̅aba̅b̅aba̅b̅aba̅b̅aba̅b̅aba̅b̅aaba̅b̅aba̅b̅aba̅b̅aba̅b̅aba̅b̅aba̅b̅| ≤ 7633/90\n",
       "* |a̅b̅aba̅b̅aba̅b̅aaba̅b̅aba̅b̅aba̅b̅aba̅b̅aba̅b̅aba̅b̅aaba̅b̅aba̅b̅aba̅b̅aba̅b̅aba̅b̅aba̅b̅aaba̅b̅aba̅b̅aba̅b̅aba̅b̅aba̅b̅aba̅b̅aaba̅b̅aba̅b̅aba̅b̅aba̅b̅aba̅b̅aba̅b̅aaba̅b̅aba̅b̅aba̅b̅aba̅b̅aba̅b̅aba̅b̅aaba̅b̅aba̅b̅aba̅b̅aba̅b̅aba̅b̅aba̅b̅aaba̅b̅aba̅b̅aba̅b̅aba̅b̅aba̅b̅aba̅b̅aaba̅b̅aba̅b̅aba̅b̅aba̅b̅aba̅b̅aba̅b̅aaba̅b̅aba̅b̅aba̅b̅aba̅b̅aba̅b̅aba̅b̅aaba̅b̅aba̅b̅aba̅b̅aba̅b̅aba̅b̅aba̅b̅aaba̅b̅aba̅b̅aba̅b̅aba̅b̅aba̅b̅aba̅b̅aaba̅b̅aba̅b̅aba̅b̅aba̅b̅aba̅b̅aba̅b̅aaba̅b̅aba̅b̅aba̅b̅aba̅b̅aba̅b̅aba̅b̅aaba̅b̅aba̅b̅aba̅b̅aba̅b̅aba̅b̅aba̅b̅aaba̅b̅aba̅b̅aba̅b̅aba̅b̅aba̅b̅aba̅b̅aaba̅b̅aba̅b̅aba̅b̅aba̅b̅aba̅b̅aba̅b̅aaba̅b̅aba̅b̅aba̅b̅aba̅b̅aba̅b̅aba̅b̅a| ≤ 7633/90 using |a̅b̅aba̅b̅aba̅b̅aaba̅b̅aba̅b̅aba̅b̅aba̅b̅aba̅b̅aba̅b̅aaba̅b̅aba̅b̅aba̅b̅aba̅b̅aba̅b̅aba̅b̅aaba̅b̅aba̅b̅aba̅b̅aba̅b̅aba̅b̅aba̅b̅aaba̅b̅aba̅b̅aba̅b̅aba̅b̅aba̅b̅aba̅b̅aaba̅b̅aba̅b̅aba̅b̅aba̅b̅aba̅b̅aba̅b̅aaba̅b̅aba̅b̅aba̅b̅aba̅b̅aba̅b̅aba̅b̅aaba̅b̅aba̅b̅aba̅b̅aba̅b̅aba̅b̅aba̅b̅aaba̅b̅aba̅b̅aba̅b̅aba̅b̅aba̅b̅aba̅b̅aaba̅b̅aba̅b̅aba̅b̅aba̅b̅aba̅b̅aba̅b̅aaba̅b̅aba̅b̅aba̅b̅aba̅b̅aba̅b̅aba̅b̅aaba̅b̅aba̅b̅aba̅b̅aba̅b̅aba̅b̅aba̅b̅aaba̅b̅aba̅b̅aba̅b̅aba̅b̅aba̅b̅aba̅b̅aaba̅b̅aba̅b̅aba̅b̅aba̅b̅aba̅b̅aba̅b̅aaba̅b̅aba̅b̅aba̅b̅aba̅b̅aba̅b̅aba̅b̅aaba̅b̅aba̅b̅aba̅b̅aba̅b̅aba̅b̅aba̅b̅aaba̅b̅aba̅b̅aba̅b̅aba̅b̅aba̅b̅aba̅b̅aaba̅b̅aba̅b̅aba̅b̅aba̅b̅aba̅b̅aba̅b̅a| ≤ 7633/90 and |e| ≤ 0\n",
       "* |b̅aba̅b̅aba̅b̅aba̅b̅aba̅b̅aba̅b̅aaba̅b̅aba̅b̅aba̅b̅aba̅b̅aba̅b̅aba̅b̅aaba̅b̅aba̅b̅aba̅b̅aba̅b̅aba̅b̅aba̅b̅aaba̅b̅aba̅b̅aba̅b̅aba̅b̅aba̅b̅aba̅b̅aaba̅b̅aba̅b̅aba̅b̅aba̅b̅aba̅b̅aba̅b̅aaba̅b̅aba̅b̅aba̅b̅aba̅b̅aba̅b̅aba̅b̅aaba̅b̅aba̅b̅aba̅b̅aba̅b̅aba̅b̅aba̅b̅aaba̅b̅aba̅b̅aba̅b̅aba̅b̅aba̅b̅aba̅b̅aaba̅b̅aba̅b̅aba̅b̅aba̅b̅aba̅b̅aba̅b̅aaba̅b̅aba̅b̅aba̅b̅aba̅b̅aba̅b̅aba̅b̅aaba̅b̅aba̅b̅aba̅b̅aba̅b̅aba̅b̅aba̅b̅aaba̅b̅aba̅b̅aba̅b̅aba̅b̅aba̅b̅aba̅b̅aaba̅b̅aba̅b̅aba̅b̅aba̅b̅aba̅b̅aba̅b̅aaba̅b̅aba̅b̅aba̅b̅aba̅b̅aba̅b̅aba̅b̅aaba̅b̅aba̅b̅aba̅b̅aba̅b̅aba̅b̅aba̅b̅aaba̅b̅aba̅b̅aba̅b̅aba̅b̅aba̅b̅aba̅b̅aaba̅b̅aba̅b̅aba̅b̅aba̅b̅aba̅b̅aba̅b̅aaba̅b̅aba̅b̅aba̅b̅aba̅b̅aba̅b̅aba̅b̅a| ≤ 3911/45 using |b̅aba̅b̅aba̅b̅ab| ≤ 21/10 and |a̅b̅aba̅b̅aba̅b̅aaba̅b̅aba̅b̅aba̅b̅aba̅b̅aba̅b̅aba̅b̅aaba̅b̅aba̅b̅aba̅b̅aba̅b̅aba̅b̅aba̅b̅aaba̅b̅aba̅b̅aba̅b̅aba̅b̅aba̅b̅aba̅b̅aaba̅b̅aba̅b̅aba̅b̅aba̅b̅aba̅b̅aba̅b̅aaba̅b̅aba̅b̅aba̅b̅aba̅b̅aba̅b̅aba̅b̅aaba̅b̅aba̅b̅aba̅b̅aba̅b̅aba̅b̅aba̅b̅aaba̅b̅aba̅b̅aba̅b̅aba̅b̅aba̅b̅aba̅b̅aaba̅b̅aba̅b̅aba̅b̅aba̅b̅aba̅b̅aba̅b̅aaba̅b̅aba̅b̅aba̅b̅aba̅b̅aba̅b̅aba̅b̅aaba̅b̅aba̅b̅aba̅b̅aba̅b̅aba̅b̅aba̅b̅aaba̅b̅aba̅b̅aba̅b̅aba̅b̅aba̅b̅aba̅b̅aaba̅b̅aba̅b̅aba̅b̅aba̅b̅aba̅b̅aba̅b̅aaba̅b̅aba̅b̅aba̅b̅aba̅b̅aba̅b̅aba̅b̅aaba̅b̅aba̅b̅aba̅b̅aba̅b̅aba̅b̅aba̅b̅aaba̅b̅aba̅b̅aba̅b̅aba̅b̅aba̅b̅aba̅b̅aaba̅b̅aba̅b̅aba̅b̅aba̅b̅aba̅b̅aba̅b̅aaba̅b̅aba̅b̅aba̅b̅aba̅b̅aba̅b̅aba̅b̅a| ≤ 7633/90\n",
       "* |aba̅b̅aba̅b̅aba̅b̅aba̅b̅aba̅b̅aba̅b̅aaba̅b̅aba̅b̅aba̅b̅aba̅b̅aba̅b̅aba̅b̅aaba̅b̅aba̅b̅aba̅b̅aba̅b̅aba̅b̅aba̅b̅aaba̅b̅aba̅b̅aba̅b̅aba̅b̅aba̅b̅aba̅b̅aaba̅b̅aba̅b̅aba̅b̅aba̅b̅aba̅b̅aba̅b̅aaba̅b̅aba̅b̅aba̅b̅aba̅b̅aba̅b̅aba̅b̅aaba̅b̅aba̅b̅aba̅b̅aba̅b̅aba̅b̅aba̅b̅aaba̅b̅aba̅b̅aba̅b̅aba̅b̅aba̅b̅aba̅b̅aaba̅b̅aba̅b̅aba̅b̅aba̅b̅aba̅b̅aba̅b̅aaba̅b̅aba̅b̅aba̅b̅aba̅b̅aba̅b̅aba̅b̅aaba̅b̅aba̅b̅aba̅b̅aba̅b̅aba̅b̅aba̅b̅aaba̅b̅aba̅b̅aba̅b̅aba̅b̅aba̅b̅aba̅b̅aaba̅b̅aba̅b̅aba̅b̅aba̅b̅aba̅b̅aba̅b̅aaba̅b̅aba̅b̅aba̅b̅aba̅b̅aba̅b̅aba̅b̅aaba̅b̅aba̅b̅aba̅b̅aba̅b̅aba̅b̅aba̅b̅aaba̅b̅aba̅b̅aba̅b̅aba̅b̅aba̅b̅aba̅b̅aaba̅b̅aba̅b̅aba̅b̅aba̅b̅aba̅b̅aba̅b̅aaba̅b̅aba̅b̅aba̅b̅aba̅b̅aba̅b̅aba̅b̅a| ≤ 3956/45 using |aba̅| ≤ 1 and |b̅aba̅b̅aba̅b̅aba̅b̅aba̅b̅aba̅b̅aaba̅b̅aba̅b̅aba̅b̅aba̅b̅aba̅b̅aba̅b̅aaba̅b̅aba̅b̅aba̅b̅aba̅b̅aba̅b̅aba̅b̅aaba̅b̅aba̅b̅aba̅b̅aba̅b̅aba̅b̅aba̅b̅aaba̅b̅aba̅b̅aba̅b̅aba̅b̅aba̅b̅aba̅b̅aaba̅b̅aba̅b̅aba̅b̅aba̅b̅aba̅b̅aba̅b̅aaba̅b̅aba̅b̅aba̅b̅aba̅b̅aba̅b̅aba̅b̅aaba̅b̅aba̅b̅aba̅b̅aba̅b̅aba̅b̅aba̅b̅aaba̅b̅aba̅b̅aba̅b̅aba̅b̅aba̅b̅aba̅b̅aaba̅b̅aba̅b̅aba̅b̅aba̅b̅aba̅b̅aba̅b̅aaba̅b̅aba̅b̅aba̅b̅aba̅b̅aba̅b̅aba̅b̅aaba̅b̅aba̅b̅aba̅b̅aba̅b̅aba̅b̅aba̅b̅aaba̅b̅aba̅b̅aba̅b̅aba̅b̅aba̅b̅aba̅b̅aaba̅b̅aba̅b̅aba̅b̅aba̅b̅aba̅b̅aba̅b̅aaba̅b̅aba̅b̅aba̅b̅aba̅b̅aba̅b̅aba̅b̅aaba̅b̅aba̅b̅aba̅b̅aba̅b̅aba̅b̅aba̅b̅aaba̅b̅aba̅b̅aba̅b̅aba̅b̅aba̅b̅aba̅b̅aaba̅b̅aba̅b̅aba̅b̅aba̅b̅aba̅b̅aba̅b̅a| ≤ 3911/45\n",
       "* |aba̅b̅aba̅b̅aba̅b̅aba̅b̅aba̅b̅aba̅b̅a| ≤ 1978/405 using  by taking 18th power\n",
       "* |baba̅b̅aba̅b̅aba̅b̅aba̅b̅aba̅b̅aba̅b̅ab̅| ≤ 1978/405 using |aba̅b̅aba̅b̅aba̅b̅aba̅b̅aba̅b̅aba̅b̅a| ≤ 1978/405\n",
       "* |b̅aba̅b̅aba̅b̅aba̅b̅aba̅b̅aba̅b̅aba̅b̅aba̅b̅aba̅b̅| ≤ 2788/405 using |b̅aba̅b̅aba̅b̅aba̅b̅aba̅b̅aba̅b̅aba̅b̅ab| ≤ 1978/405 and |a̅b̅aba̅b̅| ≤ 2\n",
       "* |ab̅aba̅b̅aba̅b̅aba̅b̅aba̅b̅aba̅b̅aba̅b̅aba̅b̅aba̅b̅a̅| ≤ 2788/405 using |b̅aba̅b̅aba̅b̅aba̅b̅aba̅b̅aba̅b̅aba̅b̅aba̅b̅aba̅b̅| ≤ 2788/405\n",
       "* |a̅b̅aba̅b̅aba̅b̅aba̅b̅aba̅b̅aba̅b̅aba̅b̅aba̅b̅aba̅b̅aba̅b̅| ≤ 3193/405 using |a̅b̅aba̅b̅aba̅b̅aba̅b̅aba̅b̅aba̅b̅aba̅b̅aba̅b̅aba̅b̅a| ≤ 2788/405 and |ba̅b̅| ≤ 1\n",
       "* |b̅aba̅b̅aba̅b̅aba̅b̅aba̅b̅aba̅b̅aba̅b̅aba̅b̅aba̅b̅aba̅b̅aba̅b̅aba̅b̅aba̅b̅aba̅b̅aba̅b̅aba̅b̅aba̅b̅| ≤ 5171/405 using |b̅aba̅b̅aba̅b̅aba̅b̅aba̅b̅aba̅b̅aba̅b̅ab| ≤ 1978/405 and |a̅b̅aba̅b̅aba̅b̅aba̅b̅aba̅b̅aba̅b̅aba̅b̅aba̅b̅aba̅b̅aba̅b̅| ≤ 3193/405\n",
       "* |aba̅b̅aba̅b̅aba̅b̅aba̅b̅aba̅b̅aba̅b̅aba̅b̅aba̅b̅aba̅b̅aba̅b̅aba̅b̅aba̅b̅aba̅b̅aba̅b̅aba̅b̅aba̅b̅aba̅b̅| ≤ 5576/405 using |aba̅| ≤ 1 and |b̅aba̅b̅aba̅b̅aba̅b̅aba̅b̅aba̅b̅aba̅b̅aba̅b̅aba̅b̅aba̅b̅aba̅b̅aba̅b̅aba̅b̅aba̅b̅aba̅b̅aba̅b̅aba̅b̅| ≤ 5171/405\n",
       "* |aba̅b̅| ≤ 328/405 using  by taking 17th power\n",
       "\n"
      ]
     },
     "metadata": {},
     "output_type": "display_data"
    },
    {
     "data": {
      "text/plain": [
       "\u001b[36mres20\u001b[39m: \u001b[32mscala\u001b[39m.\u001b[32mutil\u001b[39m.\u001b[32mTry\u001b[39m[\u001b[32mUnit\u001b[39m] = \u001b[33mSuccess\u001b[39m(())"
      ]
     },
     "execution_count": 21,
     "metadata": {},
     "output_type": "execute_result"
    }
   ],
   "source": [
    "scala.util.Try(Display.markdown(proofFuture.value.get.get))"
   ]
  },
  {
   "cell_type": "code",
   "execution_count": 9,
   "metadata": {},
   "outputs": [
    {
     "name": "stderr",
     "output_type": "stream",
     "text": [
      "Refined using homogeneity; word: aba̅b̅aba̅b̅aba̅b̅aba̅b̅aba̅b̅aba̅b̅a, exponent: 4\n",
      "Refined using homogeneity; word: aba̅b̅aba̅b̅aba̅b̅aba̅b̅aba̅b̅aba̅b̅a, exponent: 5\n",
      "Refined using homogeneity; word: aba̅b̅aba̅b̅aba̅b̅aba̅b̅aba̅b̅aba̅b̅a, exponent: 6\n"
     ]
    },
    {
     "data": {
      "text/plain": [
       "\u001b[36mres8\u001b[39m: \u001b[32mWord\u001b[39m = \u001b[32me\u001b[39m"
      ]
     },
     "execution_count": 9,
     "metadata": {},
     "output_type": "execute_result"
    }
   ],
   "source": [
    "Word(\"ab\") * Word(\"b!a!\")"
   ]
  },
  {
   "cell_type": "code",
   "execution_count": 10,
   "metadata": {},
   "outputs": [
    {
     "name": "stderr",
     "output_type": "stream",
     "text": [
      "Refined using homogeneity; word: aba̅b̅aba̅b̅aba̅b̅aba̅b̅aba̅b̅aba̅b̅a, exponent: 7\n",
      "Refined using homogeneity; word: aba̅b̅aba̅b̅aba̅b̅aba̅b̅aba̅b̅aba̅b̅a, exponent: 8\n",
      "Refined using homogeneity; word: aba̅b̅aba̅b̅aba̅b̅aba̅b̅aba̅b̅aba̅b̅a, exponent: 9\n"
     ]
    },
    {
     "data": {
      "text/plain": [
       "\u001b[36mres9\u001b[39m: (\u001b[32mWord\u001b[39m, \u001b[32mInt\u001b[39m) => \u001b[32mVector\u001b[39m[\u001b[32mInt\u001b[39m] = ammonite.$sess.cmd9$Helper$$Lambda$2509/1464786319@3b61fd09"
      ]
     },
     "execution_count": 10,
     "metadata": {},
     "output_type": "execute_result"
    }
   ],
   "source": [
    "abelianize _"
   ]
  },
  {
   "cell_type": "code",
   "execution_count": 11,
   "metadata": {},
   "outputs": [
    {
     "name": "stderr",
     "output_type": "stream",
     "text": [
      "Refined using homogeneity; word: aba̅b̅aba̅b̅aba̅b̅aba̅b̅aba̅b̅aba̅b̅a, exponent: 10\n"
     ]
    },
    {
     "data": {
      "text/plain": [
       "\u001b[36mres10\u001b[39m: \u001b[32mVector\u001b[39m[\u001b[32mInt\u001b[39m] = \u001b[33mVector\u001b[39m(\u001b[32m0\u001b[39m, \u001b[32m2\u001b[39m)"
      ]
     },
     "execution_count": 11,
     "metadata": {},
     "output_type": "execute_result"
    }
   ],
   "source": [
    "abelianize(Word(\"aba!b\"))"
   ]
  },
  {
   "cell_type": "code",
   "execution_count": 12,
   "metadata": {},
   "outputs": [
    {
     "name": "stderr",
     "output_type": "stream",
     "text": [
      "Refined using homogeneity; word: aba̅b̅aba̅b̅aba̅b̅aba̅b̅aba̅b̅aba̅b̅a, exponent: 11\n"
     ]
    },
    {
     "data": {
      "text/plain": [
       "\u001b[36mres11\u001b[39m: \u001b[32mVector\u001b[39m[\u001b[32mInt\u001b[39m] = \u001b[33mVector\u001b[39m(\u001b[32m1\u001b[39m, \u001b[32m1\u001b[39m)"
      ]
     },
     "execution_count": 12,
     "metadata": {},
     "output_type": "execute_result"
    }
   ],
   "source": [
    "abelianize(Word(\"aba!bab!\"))"
   ]
  },
  {
   "cell_type": "code",
   "execution_count": 13,
   "metadata": {},
   "outputs": [
    {
     "data": {
      "text/plain": [
       "\u001b[36mres12\u001b[39m: \u001b[32mInt\u001b[39m = \u001b[32m3\u001b[39m"
      ]
     },
     "execution_count": 13,
     "metadata": {},
     "output_type": "execute_result"
    }
   ],
   "source": [
    "pseudoLength(Word(\"ababa!\"))"
   ]
  },
  {
   "cell_type": "code",
   "execution_count": 14,
   "metadata": {},
   "outputs": [
    {
     "name": "stderr",
     "output_type": "stream",
     "text": [
      "Refined using homogeneity; word: aba̅b̅aba̅b̅aba̅b̅aba̅b̅aba̅b̅aba̅b̅a, exponent: 12\n"
     ]
    },
    {
     "data": {
      "text/plain": [
       "\u001b[36mres13\u001b[39m: \u001b[32mInt\u001b[39m = \u001b[32m0\u001b[39m"
      ]
     },
     "execution_count": 14,
     "metadata": {},
     "output_type": "execute_result"
    }
   ],
   "source": [
    "pseudoLength(Word(\"aba!b!\"))"
   ]
  },
  {
   "cell_type": "code",
   "execution_count": 15,
   "metadata": {},
   "outputs": [
    {
     "data": {
      "text/plain": [
       "\u001b[36mres14\u001b[39m: \u001b[32mInt\u001b[39m = \u001b[32m2\u001b[39m"
      ]
     },
     "execution_count": 15,
     "metadata": {},
     "output_type": "execute_result"
    }
   ],
   "source": [
    "wcLength(Word(\"aba!b!\"))"
   ]
  },
  {
   "cell_type": "code",
   "execution_count": 16,
   "metadata": {},
   "outputs": [
    {
     "name": "stderr",
     "output_type": "stream",
     "text": [
      "Refined using homogeneity; word: aba̅b̅aba̅b̅aba̅b̅aba̅b̅aba̅b̅aba̅b̅a, exponent: 13\n"
     ]
    },
    {
     "data": {
      "text/plain": [
       "\u001b[36mres15\u001b[39m: \u001b[32mInt\u001b[39m = \u001b[32m4\u001b[39m"
      ]
     },
     "execution_count": 16,
     "metadata": {},
     "output_type": "execute_result"
    }
   ],
   "source": [
    "length(Word(\"aba!b!\"))"
   ]
  },
  {
   "cell_type": "code",
   "execution_count": 17,
   "metadata": {},
   "outputs": [
    {
     "data": {
      "text/plain": [
       "\u001b[36mg\u001b[39m: \u001b[32mWord\u001b[39m = \u001b[32maba̅\u001b[39m\n",
       "\u001b[36mres16_1\u001b[39m: \u001b[32mInt\u001b[39m = \u001b[32m3\u001b[39m\n",
       "\u001b[36mres16_2\u001b[39m: \u001b[32mInt\u001b[39m = \u001b[32m4\u001b[39m"
      ]
     },
     "execution_count": 17,
     "metadata": {},
     "output_type": "execute_result"
    }
   ],
   "source": [
    "val g = Word(\"aba!\")\n",
    "length(g)\n",
    "length(g * g)"
   ]
  },
  {
   "cell_type": "code",
   "execution_count": 18,
   "metadata": {},
   "outputs": [
    {
     "name": "stderr",
     "output_type": "stream",
     "text": [
      "Refined using homogeneity; word: aba̅b̅aba̅b̅aba̅b̅aba̅b̅aba̅b̅aba̅b̅a, exponent: 14\n"
     ]
    },
    {
     "data": {
      "text/plain": [
       "\u001b[36mres17\u001b[39m: \u001b[32mWord\u001b[39m = \u001b[32ma̅\u001b[39m"
      ]
     },
     "execution_count": 18,
     "metadata": {},
     "output_type": "execute_result"
    }
   ],
   "source": [
    "Word(\"a\").inv"
   ]
  },
  {
   "cell_type": "code",
   "execution_count": 20,
   "metadata": {},
   "outputs": [
    {
     "data": {
      "text/plain": [
       "\u001b[36mres19\u001b[39m: \u001b[32mWord\u001b[39m = \u001b[32mb\u001b[39m"
      ]
     },
     "execution_count": 20,
     "metadata": {},
     "output_type": "execute_result"
    }
   ],
   "source": [
    "g ^ Word(\"a!\")"
   ]
  },
  {
   "cell_type": "code",
   "execution_count": null,
   "metadata": {},
   "outputs": [],
   "source": []
  }
 ],
 "metadata": {
  "kernelspec": {
   "display_name": "Scala",
   "language": "scala",
   "name": "scala"
  },
  "language_info": {
   "codemirror_mode": "text/x-scala",
   "file_extension": ".scala",
   "mimetype": "text/x-scala",
   "name": "scala",
   "nbconvert_exporter": "script",
   "version": "2.12.9"
  }
 },
 "nbformat": 4,
 "nbformat_minor": 2
}
