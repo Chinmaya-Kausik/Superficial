{
 "cells": [
  {
   "cell_type": "code",
   "execution_count": 1,
   "metadata": {},
   "outputs": [
    {
     "data": {
      "text/plain": [
       "\u001b[32mimport \u001b[39m\u001b[36m$cp.$                 \n",
       "\n",
       "\u001b[39m\n",
       "\u001b[32mimport \u001b[39m\u001b[36mfreegroups._, Word._\n",
       "\n",
       "\u001b[39m\n",
       "\u001b[32mimport \u001b[39m\u001b[36malmond.display._\u001b[39m"
      ]
     },
     "execution_count": 1,
     "metadata": {},
     "output_type": "execute_result"
    }
   ],
   "source": [
    "import $cp.bin.`polymath.jar`\n",
    "\n",
    "import freegroups._, Word._\n",
    "\n",
    "repl.pprinter() = {\n",
    "  val p = repl.pprinter()\n",
    "  p.copy(\n",
    "    additionalHandlers = p.additionalHandlers.orElse {\n",
    "      wordHandler\n",
    "    }\n",
    "  )\n",
    "}\n",
    "\n",
    "import almond.display._"
   ]
  },
  {
   "cell_type": "code",
   "execution_count": 2,
   "metadata": {},
   "outputs": [
    {
     "data": {
      "image/svg+xml": [
       "<?xml version=\"1.0\" encoding=\"UTF-8\" standalone=\"no\"?>\n",
       "<!-- Created with Inkscape (http://www.inkscape.org/) -->\n",
       "\n",
       "<svg\n",
       "   xmlns:dc=\"http://purl.org/dc/elements/1.1/\"\n",
       "   xmlns:cc=\"http://creativecommons.org/ns#\"\n",
       "   xmlns:rdf=\"http://www.w3.org/1999/02/22-rdf-syntax-ns#\"\n",
       "   xmlns:svg=\"http://www.w3.org/2000/svg\"\n",
       "   xmlns=\"http://www.w3.org/2000/svg\"\n",
       "   xmlns:sodipodi=\"http://sodipodi.sourceforge.net/DTD/sodipodi-0.dtd\"\n",
       "   xmlns:inkscape=\"http://www.inkscape.org/namespaces/inkscape\"\n",
       "   width=\"640\"\n",
       "   height=\"480\"\n",
       "   id=\"svg3461\"\n",
       "   version=\"1.1\"\n",
       "   inkscape:version=\"0.91 r13725\"\n",
       "   viewBox=\"0 0 640 480\"\n",
       "   sodipodi:docname=\"aabab.svg\">\n",
       "  <defs\n",
       "     id=\"defs3463\" />\n",
       "  <sodipodi:namedview\n",
       "     id=\"base\"\n",
       "     pagecolor=\"#ffffff\"\n",
       "     bordercolor=\"#666666\"\n",
       "     borderopacity=\"1.0\"\n",
       "     inkscape:pageopacity=\"0.0\"\n",
       "     inkscape:pageshadow=\"2\"\n",
       "     inkscape:zoom=\"0.77472527\"\n",
       "     inkscape:cx=\"102.50354\"\n",
       "     inkscape:cy=\"240\"\n",
       "     inkscape:current-layer=\"layer1\"\n",
       "     inkscape:document-units=\"px\"\n",
       "     showgrid=\"false\"\n",
       "     inkscape:window-width=\"1366\"\n",
       "     inkscape:window-height=\"719\"\n",
       "     inkscape:window-x=\"0\"\n",
       "     inkscape:window-y=\"27\"\n",
       "     inkscape:window-maximized=\"1\" />\n",
       "  <metadata\n",
       "     id=\"metadata3466\">\n",
       "    <rdf:RDF>\n",
       "      <cc:Work\n",
       "         rdf:about=\"\">\n",
       "        <dc:format>image/svg+xml</dc:format>\n",
       "        <dc:type\n",
       "           rdf:resource=\"http://purl.org/dc/dcmitype/StillImage\" />\n",
       "      </cc:Work>\n",
       "    </rdf:RDF>\n",
       "  </metadata>\n",
       "  <g\n",
       "     id=\"layer1\"\n",
       "     inkscape:label=\"Layer 1\"\n",
       "     inkscape:groupmode=\"layer\">\n",
       "    <text\n",
       "       xml:space=\"preserve\"\n",
       "       style=\"font-style:normal;font-weight:normal;font-size:75px;line-height:125%;font-family:Sans;letter-spacing:0px;word-spacing:0px;fill:#000000;fill-opacity:1;stroke:none;stroke-width:1px;stroke-linecap:butt;stroke-linejoin:miter;stroke-opacity:1;\"\n",
       "       x=\"70.992905\"\n",
       "       y=\"363.8298\"\n",
       "       id=\"text3473\"\n",
       "       sodipodi:linespacing=\"125%\"><tspan\n",
       "         sodipodi:role=\"line\"\n",
       "         id=\"tspan3475\"\n",
       "         x=\"70.992905\"\n",
       "         y=\"363.8298\">aaba̅b̅aaba̅b̅</tspan></text>\n",
       "    <path\n",
       "       style=\"fill:none;stroke:#000000;stroke-width:2;stroke-miterlimit:4;stroke-dasharray:none\"\n",
       "       id=\"path3483\"\n",
       "       sodipodi:type=\"arc\"\n",
       "       sodipodi:cx=\"281.39008\"\n",
       "       sodipodi:cy=\"299.29077\"\n",
       "       sodipodi:rx=\"191.03546\"\n",
       "       sodipodi:ry=\"121.33334\"\n",
       "       sodipodi:start=\"3.1415927\"\n",
       "       sodipodi:end=\"0\"\n",
       "       sodipodi:open=\"true\"\n",
       "       d=\"M 90.354614,299.29077 A 191.03546,121.33334 0 0 1 281.39008,177.95743 191.03546,121.33334 0 0 1 472.42554,299.29077\" />\n",
       "    <path\n",
       "       style=\"fill:none;stroke:#000000;stroke-width:2;stroke-miterlimit:4;stroke-dasharray:none\"\n",
       "       id=\"path3485\"\n",
       "       sodipodi:type=\"arc\"\n",
       "       sodipodi:cx=\"190.39008\"\n",
       "       sodipodi:cy=\"303.16312\"\n",
       "       sodipodi:rx=\"47.113476\"\n",
       "       sodipodi:ry=\"46.468082\"\n",
       "       sodipodi:start=\"3.1415927\"\n",
       "       sodipodi:end=\"0\"\n",
       "       sodipodi:open=\"true\"\n",
       "       d=\"m 143.2766,303.16311 a 47.113476,46.468082 0 0 1 47.11348,-46.46808 47.113476,46.468082 0 0 1 47.11347,46.46809\" />\n",
       "    <path\n",
       "       style=\"fill:none;stroke:#000000;stroke-width:2;stroke-miterlimit:4;stroke-dasharray:none\"\n",
       "       id=\"path3487\"\n",
       "       sodipodi:type=\"arc\"\n",
       "       sodipodi:cx=\"345.92908\"\n",
       "       sodipodi:cy=\"296.06384\"\n",
       "       sodipodi:rx=\"68.411346\"\n",
       "       sodipodi:ry=\"62.602837\"\n",
       "       sodipodi:start=\"3.1415927\"\n",
       "       sodipodi:end=\"0\"\n",
       "       sodipodi:open=\"true\"\n",
       "       d=\"m 277.51773,296.06384 a 68.411346,62.602837 0 0 1 68.41135,-62.60283 68.411346,62.602837 0 0 1 68.41134,62.60283\" />\n",
       "  </g>\n",
       "</svg>\n"
      ]
     },
     "metadata": {},
     "output_type": "display_data"
    }
   ],
   "source": [
    "Display.svg(os.read(os.pwd / \"aabab.svg\"))"
   ]
  },
  {
   "cell_type": "code",
   "execution_count": 3,
   "metadata": {},
   "outputs": [
    {
     "data": {
      "text/plain": [
       "\u001b[36mx\u001b[39m: \u001b[32mWord\u001b[39m = \u001b[32maaba̅b̅\u001b[39m"
      ]
     },
     "execution_count": 3,
     "metadata": {},
     "output_type": "execute_result"
    }
   ],
   "source": [
    "val x = Word(\"aaba!b!\")"
   ]
  },
  {
   "cell_type": "code",
   "execution_count": 4,
   "metadata": {},
   "outputs": [
    {
     "data": {
      "text/plain": [
       "\u001b[36mres3\u001b[39m: \u001b[32mInt\u001b[39m = \u001b[32m3\u001b[39m"
      ]
     },
     "execution_count": 4,
     "metadata": {},
     "output_type": "execute_result"
    }
   ],
   "source": [
    "wcLength(x)"
   ]
  },
  {
   "cell_type": "code",
   "execution_count": 5,
   "metadata": {},
   "outputs": [
    {
     "data": {
      "text/plain": [
       "\u001b[36mres4_0\u001b[39m: \u001b[32mWord\u001b[39m = \u001b[32maaba̅b̅aaba̅b̅\u001b[39m\n",
       "\u001b[36mres4_1\u001b[39m: \u001b[32mInt\u001b[39m = \u001b[32m4\u001b[39m"
      ]
     },
     "execution_count": 5,
     "metadata": {},
     "output_type": "execute_result"
    }
   ],
   "source": [
    "x * x\n",
    "wcLength(x * x)"
   ]
  },
  {
   "cell_type": "code",
   "execution_count": 6,
   "metadata": {},
   "outputs": [
    {
     "data": {
      "text/plain": [
       "\u001b[36mres5\u001b[39m: \u001b[32mWord\u001b[39m = \u001b[32me\u001b[39m"
      ]
     },
     "execution_count": 6,
     "metadata": {},
     "output_type": "execute_result"
    }
   ],
   "source": [
    "Word(\"a\") * Word(\"a!\")"
   ]
  },
  {
   "cell_type": "code",
   "execution_count": 7,
   "metadata": {},
   "outputs": [
    {
     "name": "stderr",
     "output_type": "stream",
     "text": [
      "Refined using homogeneity; word: aba̅b̅a, exponent: 1\n",
      "Refined using homogeneity; word: aba̅b̅a, exponent: 2\n",
      "Refined using homogeneity; word: aba̅b̅a, exponent: 3\n",
      "Refined using homogeneity; word: aba̅b̅a, exponent: 4\n",
      "Refined using homogeneity; word: aba̅b̅a, exponent: 5\n",
      "Refined using homogeneity; word: aba̅b̅a, exponent: 6\n",
      "Refined using homogeneity; word: aba̅b̅a, exponent: 7\n",
      "Refined using homogeneity; word: aba̅b̅a, exponent: 8\n",
      "Refined using homogeneity; word: aba̅b̅a, exponent: 9\n",
      "Refined using homogeneity; word: aba̅b̅a, exponent: 10\n",
      "Refined using homogeneity; word: aba̅b̅a, exponent: 11\n",
      "Refined using homogeneity; word: aba̅b̅a, exponent: 12\n",
      "Refined using homogeneity; word: aba̅b̅a, exponent: 13\n",
      "Refined using homogeneity; word: aba̅b̅a, exponent: 14\n",
      "Refined using homogeneity; word: aba̅b̅a, exponent: 15\n",
      "Refined using homogeneity; word: aba̅b̅a, exponent: 16\n"
     ]
    },
    {
     "data": {
      "text/html": [
       "<div class=\"jp-RenderedText\">\n",
       "<pre><code><span style=\"color: rgb(0, 187, 187)\"><span class=\"ansi-cyan-fg\">proofFuture</span></span>: <span style=\"color: rgb(0, 187, 0)\"><span class=\"ansi-green-fg\">monix</span></span>.<span style=\"color: rgb(0, 187, 0)\"><span class=\"ansi-green-fg\">execution</span></span>.<span style=\"color: rgb(0, 187, 0)\"><span class=\"ansi-green-fg\">CancelableFuture</span></span>[<span style=\"color: rgb(0, 187, 0)\"><span class=\"ansi-green-fg\">String</span></span>] = <span style=\"color: rgb(0, 187, 0)\"><span class=\"ansi-green-fg\"><style>@keyframes fadein { from { opacity: 0; } to { opacity: 1; } }</style><span style=\"animation: fadein 2s;\"><span style=\"color: yellow\"><span class=\"ansi-yellow-fg\">Success</span></span>(\n",
       "  <span style=\"color: rgb(0, 187, 0)\"><span class=\"ansi-green-fg\">&quot;&quot;&quot;\n",
       "## Proof output \n",
       "\n",
       "* |b| ≤ 1.0\n",
       "* |a̅ba| ≤ 1.0 using |b| ≤ 1.0\n",
       "* |a| ≤ 1.0\n",
       "* |bab̅| ≤ 1.0 using |a| ≤ 1.0\n",
       "* |b̅| ≤ 1.0\n",
       "* |ab̅a̅| ≤ 1.0 using |b̅| ≤ 1.0\n",
       "* |a̅b̅a| ≤ 1.0 using |a̅b̅a| ≤ 1.0 and |e| ≤ 0.0\n",
       "* |b̅aba̅b̅a| ≤ 2.0 using |b̅ab| ≤ 1.0 and |a̅b̅a| ≤ 1.0\n",
       "* |ab̅aba̅b̅aa̅| ≤ 2.0 using |b̅aba̅b̅a| ≤ 2.0\n",
       "* |a̅| ≤ 1.0\n",
       "* |b̅a̅b| ≤ 1.0 using |a̅| ≤ 1.0\n",
       "* |b̅ab| ≤ 1.0 using |b̅ab| ≤ 1.0 and |e| ≤ 0.0\n",
       "* |aba̅b̅ab| ≤ 2.0 using |aba̅| ≤ 1.0 and |b̅ab| ≤ 1.0\n",
       "* |a̅aba̅b̅aba| ≤ 2.0 using |aba̅b̅ab| ≤ 2.0\n",
       "* |aaba̅b̅aba̅| ≤ 2.0 using |aaba̅b̅aba̅| ≤ 2.0 and |e| ≤ 0.0\n",
       "* |ba̅b̅aaba̅b̅aba̅| ≤ 3.0 using |ba̅b̅| ≤ 1.0 and |aaba̅b̅aba̅| ≤ 2.0\n",
       "* |a̅b̅aba̅b̅aaba̅b̅aba̅| ≤ 4.0 using |a̅b̅a| ≤ 1.0 and |ba̅b̅aaba̅b̅aba̅| ≤ 3.0\n",
       "* |b̅a̅b̅aba̅b̅aaba̅b̅aba̅b| ≤ 4.0 using |a̅b̅aba̅b̅aaba̅b̅aba̅| ≤ 4.0\n",
       "* |ba̅b̅aba̅b̅aaba̅b̅aba̅b̅aaba̅b̅aba̅| ≤ 6.0 using |ba̅b̅aba̅b̅aaba̅b̅aba̅b̅| ≤ 4.0 and |aaba̅b̅aba̅| ≤ 2.0\n",
       "* |a̅b̅aba̅b̅aaba̅b̅aba̅b̅aaba̅b̅aba̅b̅aaba̅b̅aba̅| ≤ 8.0 using |a̅b̅aba̅b̅aa| ≤ 2.0 and |ba̅b̅aba̅b̅aaba̅b̅aba̅b̅aaba̅b̅aba̅| ≤ 6.0\n",
       "* |b̅a̅b̅aba̅b̅aaba̅b̅aba̅b̅aaba̅b̅aba̅b̅aaba̅b̅aba̅b| ≤ 8.0 using |a̅b̅aba̅b̅aaba̅b̅aba̅b̅aaba̅b̅aba̅b̅aaba̅b̅aba̅| ≤ 8.0\n",
       "* |ba̅b̅aba̅b̅aaba̅b̅aba̅b̅aaba̅b̅aba̅b̅aaba̅b̅aba̅b̅aaba̅b̅aba̅| ≤ 10.0 using |ba̅b̅aba̅b̅aaba̅b̅aba̅b̅aaba̅b̅aba̅b̅aaba̅b̅aba̅b̅| ≤ 8.0 and |aaba̅b̅aba̅| ≤ 2.0\n",
       "* |a̅b̅aba̅b̅aaba̅b̅aba̅b̅aaba̅b̅aba̅b̅aaba̅b̅aba̅b̅aaba̅b̅aba̅b̅aaba̅b̅aba̅| ≤ 12.0 using |a̅b̅aba̅b̅aa| ≤ 2.0 and |ba̅b̅aba̅b̅aaba̅b̅aba̅b̅aaba̅b̅aba̅b̅aaba̅b̅aba̅b̅aaba̅b̅aba̅| ≤ 10.0\n",
       "* |b̅a̅b̅aba̅b̅aaba̅b̅aba̅b̅aaba̅b̅aba̅b̅aaba̅b̅aba̅b̅aaba̅b̅aba̅b̅aaba̅b̅aba̅b| ≤ 12.0 using |a̅b̅aba̅b̅aaba̅b̅aba̅b̅aaba̅b̅aba̅b̅aaba̅b̅aba̅b̅aaba̅b̅aba̅b̅aaba̅b̅aba̅| ≤ 12.0\n",
       "* |ba̅b̅aba̅b̅aaba̅b̅aba̅b̅aaba̅b̅aba̅b̅aaba̅b̅aba̅b̅aaba̅b̅aba̅b̅aaba̅b̅aba̅b̅aaba̅b̅aba̅| ≤ 14.0 using |ba̅b̅aba̅b̅aaba̅b̅aba̅b̅aaba̅b̅aba̅b̅aaba̅b̅aba̅b̅aaba</span></span>...</span></span></span></code></pre>\n",
       "</div>"
      ],
      "text/plain": [
       "\u001b[36mproofFuture\u001b[39m: \u001b[32mmonix\u001b[39m.\u001b[32mexecution\u001b[39m.\u001b[32mCancelableFuture\u001b[39m[\u001b[32mString\u001b[39m] = \u001b[32m\u001b[33mSuccess\u001b[39m(\n",
       "  \u001b[32m\"\"\"\n",
       "## Proof output \n",
       "\n",
       "* |b| ≤ 1.0\n",
       "* |a̅ba| ≤ 1.0 using |b| ≤ 1.0\n",
       "* |a| ≤ 1.0\n",
       "* |bab̅| ≤ 1.0 using |a| ≤ 1.0\n",
       "* |b̅| ≤ 1.0\n",
       "* |ab̅a̅| ≤ 1.0 using |b̅| ≤ 1.0\n",
       "* |a̅b̅a| ≤ 1.0 using |a̅b̅a| ≤ 1.0 and |e| ≤ 0.0\n",
       "* |b̅aba̅b̅a| ≤ 2.0 using |b̅ab| ≤ 1.0 and |a̅b̅a| ≤ 1.0\n",
       "* |ab̅aba̅b̅aa̅| ≤ 2.0 using |b̅aba̅b̅a| ≤ 2.0\n",
       "* |a̅| ≤ 1.0\n",
       "* |b̅a̅b| ≤ 1.0 using |a̅| ≤ 1.0\n",
       "* |b̅ab| ≤ 1.0 using |b̅ab| ≤ 1.0 and |e| ≤ 0.0\n",
       "* |aba̅b̅ab| ≤ 2.0 using |aba̅| ≤ 1.0 and |b̅ab| ≤ 1.0\n",
       "* |a̅aba̅b̅aba| ≤ 2.0 using |aba̅b̅ab| ≤ 2.0\n",
       "* |aaba̅b̅aba̅| ≤ 2.0 using |aaba̅b̅aba̅| ≤ 2.0 and |e| ≤ 0.0\n",
       "* |ba̅b̅aaba̅b̅aba̅| ≤ 3.0 using |ba̅b̅| ≤ 1.0 and |aaba̅b̅aba̅| ≤ 2.0\n",
       "* |a̅b̅aba̅b̅aaba̅b̅aba̅| ≤ 4.0 using |a̅b̅a| ≤ 1.0 and |ba̅b̅aaba̅b̅aba̅| ≤ 3.0\n",
       "* |b̅a̅b̅aba̅b̅aaba̅b̅aba̅b| ≤ 4.0 using |a̅b̅aba̅b̅aaba̅b̅aba̅| ≤ 4.0\n",
       "* |ba̅b̅aba̅b̅aaba̅b̅aba̅b̅aaba̅b̅aba̅| ≤ 6.0 using |ba̅b̅aba̅b̅aaba̅b̅aba̅b̅| ≤ 4.0 and |aaba̅b̅aba̅| ≤ 2.0\n",
       "* |a̅b̅aba̅b̅aaba̅b̅aba̅b̅aaba̅b̅aba̅b̅aaba̅b̅aba̅| ≤ 8.0 using |a̅b̅aba̅b̅aa| ≤ 2.0 and |ba̅b̅aba̅b̅aaba̅b̅aba̅b̅aaba̅b̅aba̅| ≤ 6.0\n",
       "* |b̅a̅b̅aba̅b̅aaba̅b̅aba̅b̅aaba̅b̅aba̅b̅aaba̅b̅aba̅b| ≤ 8.0 using |a̅b̅aba̅b̅aaba̅b̅aba̅b̅aaba̅b̅aba̅b̅aaba̅b̅aba̅| ≤ 8.0\n",
       "* |ba̅b̅aba̅b̅aaba̅b̅aba̅b̅aaba̅b̅aba̅b̅aaba̅b̅aba̅b̅aaba̅b̅aba̅| ≤ 10.0 using |ba̅b̅aba̅b̅aaba̅b̅aba̅b̅aaba̅b̅aba̅b̅aaba̅b̅aba̅b̅| ≤ 8.0 and |aaba̅b̅aba̅| ≤ 2.0\n",
       "* |a̅b̅aba̅b̅aaba̅b̅aba̅b̅aaba̅b̅aba̅b̅aaba̅b̅aba̅b̅aaba̅b̅aba̅b̅aaba̅b̅aba̅| ≤ 12.0 using |a̅b̅aba̅b̅aa| ≤ 2.0 and |ba̅b̅aba̅b̅aaba̅b̅aba̅b̅aaba̅b̅aba̅b̅aaba̅b̅aba̅b̅aaba̅b̅aba̅| ≤ 10.0\n",
       "* |b̅a̅b̅aba̅b̅aaba̅b̅aba̅b̅aaba̅b̅aba̅b̅aaba̅b̅aba̅b̅aaba̅b̅aba̅b̅aaba̅b̅aba̅b| ≤ 12.0 using |a̅b̅aba̅b̅aaba̅b̅aba̅b̅aaba̅b̅aba̅b̅aaba̅b̅aba̅b̅aaba̅b̅aba̅b̅aaba̅b̅aba̅| ≤ 12.0\n",
       "* |ba̅b̅aba̅b̅aaba̅b̅aba̅b̅aaba̅b̅aba̅b̅aaba̅b̅aba̅b̅aaba̅b̅aba̅b̅aaba̅b̅aba̅b̅aaba̅b̅aba̅| ≤ 14.0 using |ba̅b̅aba̅b̅aaba̅b̅aba̅b̅aaba̅b̅aba̅b̅aaba̅b̅aba̅b̅aaba\u001b[39m...\u001b[39m"
      ]
     },
     "metadata": {},
     "output_type": "display_data"
    }
   ],
   "source": [
    "val proofFuture = ProofFinder.getProofFuture"
   ]
  },
  {
   "cell_type": "code",
   "execution_count": 8,
   "metadata": {},
   "outputs": [
    {
     "name": "stderr",
     "output_type": "stream",
     "text": [
      "Refined using homogeneity; word: aba̅b̅a, exponent: 20\n",
      "Refined using homogeneity; word: aba̅b̅aba̅b̅a, exponent: 1\n",
      "Refined using homogeneity; word: aba̅b̅aba̅b̅a, exponent: 2\n",
      "Refined using homogeneity; word: aba̅b̅aba̅b̅a, exponent: 3\n",
      "Refined using homogeneity; word: aba̅b̅aba̅b̅a, exponent: 4\n",
      "Refined using homogeneity; word: aba̅b̅aba̅b̅a, exponent: 5\n",
      "Refined using homogeneity; word: aba̅b̅aba̅b̅a, exponent: 6\n",
      "Refined using homogeneity; word: aba̅b̅aba̅b̅a, exponent: 7\n",
      "Refined using homogeneity; word: aba̅b̅aba̅b̅a, exponent: 8\n",
      "Refined using homogeneity; word: aba̅b̅aba̅b̅a, exponent: 9\n",
      "Refined using homogeneity; word: aba̅b̅aba̅b̅a, exponent: 10\n",
      "Refined using homogeneity; word: aba̅b̅aba̅b̅a, exponent: 11\n",
      "Refined using homogeneity; word: aba̅b̅aba̅b̅a, exponent: 12\n",
      "Refined using homogeneity; word: aba̅b̅aba̅b̅a, exponent: 13\n",
      "Refined using homogeneity; word: aba̅b̅aba̅b̅a, exponent: 14\n",
      "Refined using homogeneity; word: aba̅b̅aba̅b̅a, exponent: 15\n",
      "Refined using homogeneity; word: aba̅b̅aba̅b̅a, exponent: 16\n",
      "Refined using homogeneity; word: aba̅b̅aba̅b̅a, exponent: 17\n",
      "Refined using homogeneity; word: aba̅b̅aba̅b̅a, exponent: 18\n",
      "Refined using homogeneity; word: aba̅b̅aba̅b̅a, exponent: 19\n",
      "Refined using homogeneity; word: aba̅b̅aba̅b̅a, exponent: 20\n",
      "Refined using homogeneity; word: aba̅b̅aba̅b̅aba̅b̅aba̅b̅aba̅b̅aba̅b̅a, exponent: 1\n",
      "Refined using homogeneity; word: aba̅b̅aba̅b̅aba̅b̅aba̅b̅aba̅b̅aba̅b̅a, exponent: 2\n",
      "Refined using homogeneity; word: aba̅b̅aba̅b̅aba̅b̅aba̅b̅aba̅b̅aba̅b̅a, exponent: 3\n",
      "Refined using homogeneity; word: aba̅b̅aba̅b̅aba̅b̅aba̅b̅aba̅b̅aba̅b̅a, exponent: 4\n"
     ]
    },
    {
     "data": {
      "text/plain": [
       "\u001b[36mres7\u001b[39m: \u001b[32mscala\u001b[39m.\u001b[32mutil\u001b[39m.\u001b[32mTry\u001b[39m[\u001b[32mUnit\u001b[39m] = \u001b[33mFailure\u001b[39m(java.util.NoSuchElementException: None.get)"
      ]
     },
     "execution_count": 8,
     "metadata": {},
     "output_type": "execute_result"
    }
   ],
   "source": [
    "scala.util.Try(Display.markdown(proofFuture.value.get.get))"
   ]
  },
  {
   "cell_type": "code",
   "execution_count": 9,
   "metadata": {},
   "outputs": [
    {
     "name": "stderr",
     "output_type": "stream",
     "text": [
      "Refined using homogeneity; word: aba̅b̅aba̅b̅aba̅b̅aba̅b̅aba̅b̅aba̅b̅a, exponent: 5\n",
      "Refined using homogeneity; word: aba̅b̅aba̅b̅aba̅b̅aba̅b̅aba̅b̅aba̅b̅a, exponent: 6\n",
      "Refined using homogeneity; word: aba̅b̅aba̅b̅aba̅b̅aba̅b̅aba̅b̅aba̅b̅a, exponent: 7\n"
     ]
    },
    {
     "data": {
      "text/plain": [
       "\u001b[36mres8\u001b[39m: \u001b[32mWord\u001b[39m = \u001b[32me\u001b[39m"
      ]
     },
     "execution_count": 9,
     "metadata": {},
     "output_type": "execute_result"
    }
   ],
   "source": [
    "Word(\"ab\") * Word(\"b!a!\")"
   ]
  },
  {
   "cell_type": "code",
   "execution_count": 10,
   "metadata": {},
   "outputs": [
    {
     "name": "stderr",
     "output_type": "stream",
     "text": [
      "Refined using homogeneity; word: aba̅b̅aba̅b̅aba̅b̅aba̅b̅aba̅b̅aba̅b̅a, exponent: 8\n",
      "Refined using homogeneity; word: aba̅b̅aba̅b̅aba̅b̅aba̅b̅aba̅b̅aba̅b̅a, exponent: 9\n"
     ]
    },
    {
     "data": {
      "text/plain": [
       "\u001b[36mres9\u001b[39m: (\u001b[32mWord\u001b[39m, \u001b[32mInt\u001b[39m) => \u001b[32mVector\u001b[39m[\u001b[32mInt\u001b[39m] = ammonite.$sess.cmd9$Helper$$Lambda$2521/380417811@1d0c2e72"
      ]
     },
     "execution_count": 10,
     "metadata": {},
     "output_type": "execute_result"
    }
   ],
   "source": [
    "abelianize _"
   ]
  },
  {
   "cell_type": "code",
   "execution_count": 11,
   "metadata": {},
   "outputs": [
    {
     "name": "stderr",
     "output_type": "stream",
     "text": [
      "Refined using homogeneity; word: aba̅b̅aba̅b̅aba̅b̅aba̅b̅aba̅b̅aba̅b̅a, exponent: 10\n"
     ]
    },
    {
     "data": {
      "text/plain": [
       "\u001b[36mres10\u001b[39m: \u001b[32mVector\u001b[39m[\u001b[32mInt\u001b[39m] = \u001b[33mVector\u001b[39m(\u001b[32m0\u001b[39m, \u001b[32m2\u001b[39m)"
      ]
     },
     "execution_count": 11,
     "metadata": {},
     "output_type": "execute_result"
    }
   ],
   "source": [
    "abelianize(Word(\"aba!b\"))"
   ]
  },
  {
   "cell_type": "code",
   "execution_count": 12,
   "metadata": {},
   "outputs": [
    {
     "name": "stderr",
     "output_type": "stream",
     "text": [
      "Refined using homogeneity; word: aba̅b̅aba̅b̅aba̅b̅aba̅b̅aba̅b̅aba̅b̅a, exponent: 11\n"
     ]
    },
    {
     "data": {
      "text/plain": [
       "\u001b[36mres11\u001b[39m: \u001b[32mVector\u001b[39m[\u001b[32mInt\u001b[39m] = \u001b[33mVector\u001b[39m(\u001b[32m1\u001b[39m, \u001b[32m1\u001b[39m)"
      ]
     },
     "execution_count": 12,
     "metadata": {},
     "output_type": "execute_result"
    }
   ],
   "source": [
    "abelianize(Word(\"aba!bab!\"))"
   ]
  },
  {
   "cell_type": "code",
   "execution_count": 13,
   "metadata": {},
   "outputs": [
    {
     "data": {
      "text/plain": [
       "\u001b[36mres12\u001b[39m: \u001b[32mInt\u001b[39m = \u001b[32m3\u001b[39m"
      ]
     },
     "execution_count": 13,
     "metadata": {},
     "output_type": "execute_result"
    }
   ],
   "source": [
    "pseudoLength(Word(\"ababa!\"))"
   ]
  },
  {
   "cell_type": "code",
   "execution_count": 14,
   "metadata": {},
   "outputs": [
    {
     "data": {
      "text/plain": [
       "\u001b[36mres13\u001b[39m: \u001b[32mInt\u001b[39m = \u001b[32m0\u001b[39m"
      ]
     },
     "execution_count": 14,
     "metadata": {},
     "output_type": "execute_result"
    }
   ],
   "source": [
    "pseudoLength(Word(\"aba!b!\"))"
   ]
  },
  {
   "cell_type": "code",
   "execution_count": 15,
   "metadata": {},
   "outputs": [
    {
     "data": {
      "text/plain": [
       "\u001b[36mres14\u001b[39m: \u001b[32mInt\u001b[39m = \u001b[32m2\u001b[39m"
      ]
     },
     "execution_count": 15,
     "metadata": {},
     "output_type": "execute_result"
    }
   ],
   "source": [
    "wcLength(Word(\"aba!b!\"))"
   ]
  },
  {
   "cell_type": "code",
   "execution_count": 16,
   "metadata": {},
   "outputs": [
    {
     "data": {
      "text/plain": [
       "\u001b[36mres15\u001b[39m: \u001b[32mInt\u001b[39m = \u001b[32m4\u001b[39m"
      ]
     },
     "execution_count": 16,
     "metadata": {},
     "output_type": "execute_result"
    }
   ],
   "source": [
    "length(Word(\"aba!b!\"))"
   ]
  },
  {
   "cell_type": "code",
   "execution_count": 17,
   "metadata": {},
   "outputs": [
    {
     "data": {
      "text/plain": [
       "\u001b[36mg\u001b[39m: \u001b[32mWord\u001b[39m = \u001b[32maba̅\u001b[39m\n",
       "\u001b[36mres16_1\u001b[39m: \u001b[32mInt\u001b[39m = \u001b[32m3\u001b[39m\n",
       "\u001b[36mres16_2\u001b[39m: \u001b[32mInt\u001b[39m = \u001b[32m4\u001b[39m"
      ]
     },
     "execution_count": 17,
     "metadata": {},
     "output_type": "execute_result"
    }
   ],
   "source": [
    "val g = Word(\"aba!\")\n",
    "length(g)\n",
    "length(g * g)"
   ]
  },
  {
   "cell_type": "code",
   "execution_count": 18,
   "metadata": {},
   "outputs": [
    {
     "data": {
      "text/plain": [
       "\u001b[36mres17\u001b[39m: \u001b[32mWord\u001b[39m = \u001b[32ma̅\u001b[39m"
      ]
     },
     "execution_count": 18,
     "metadata": {},
     "output_type": "execute_result"
    }
   ],
   "source": [
    "Word(\"a\").inv"
   ]
  },
  {
   "cell_type": "code",
   "execution_count": 19,
   "metadata": {},
   "outputs": [
    {
     "data": {
      "text/plain": [
       "\u001b[36mres18\u001b[39m: \u001b[32mWord\u001b[39m = \u001b[32mb\u001b[39m"
      ]
     },
     "execution_count": 19,
     "metadata": {},
     "output_type": "execute_result"
    }
   ],
   "source": [
    "g ^ Word(\"a\")"
   ]
  },
  {
   "cell_type": "code",
   "execution_count": null,
   "metadata": {},
   "outputs": [],
   "source": []
  }
 ],
 "metadata": {
  "kernelspec": {
   "display_name": "Scala",
   "language": "scala",
   "name": "scala"
  },
  "language_info": {
   "codemirror_mode": "text/x-scala",
   "file_extension": ".scala",
   "mimetype": "text/x-scala",
   "name": "scala",
   "nbconvert_exporter": "script",
   "version": "2.12.9"
  }
 },
 "nbformat": 4,
 "nbformat_minor": 2
}
