{
 "cells": [
  {
   "cell_type": "markdown",
   "metadata": {},
   "source": [
    "# Superficial\n",
    "\n",
    "This is the documentation plus demo of the project [superficial](https://github.com/Ankit-Jaiswal/Superficial)."
   ]
  },
  {
   "cell_type": "code",
   "execution_count": 1,
   "metadata": {
    "collapsed": false
   },
   "outputs": [
    {
     "data": {
      "text/plain": []
     },
     "metadata": {},
     "output_type": "display_data"
    }
   ],
   "source": [
    "classpath.addPath(\"/home/ankit/Documents/prog/Superficial/target/scala-2.11/superficial_2.11-0.1.0.jar\")"
   ]
  },
  {
   "cell_type": "code",
   "execution_count": 2,
   "metadata": {
    "collapsed": false
   },
   "outputs": [
    {
     "data": {
      "text/plain": [
       "\u001b[32mimport \u001b[36msuperficial._\u001b[0m"
      ]
     },
     "metadata": {},
     "output_type": "display_data"
    }
   ],
   "source": [
    "import superficial._"
   ]
  },
  {
   "cell_type": "markdown",
   "metadata": {},
   "source": [
    "### Overview\n",
    "\n",
    "Given an orientable surface (which is not a sphere) and a closed curve over it, this project aims at deciding if this curve is [homotopic](https://en.wikipedia.org/wiki/Homotopy) to a simple closed curve.\n",
    "\n",
    "An orientable surface can be identified by its [genus](https://en.wikipedia.org/wiki/Genus_(mathematics) and by the number of components in its [boundary](https://en.wikipedia.org/wiki/Boundary_(topology).\n",
    "A closed curve is a curve which ends at the same point where it begins. And it is simple if it does not cross itself.\n",
    "\n",
    "Since homotopy is the only question of worry here, a closed curve can be identified as a sequence of [free group](https://en.wikipedia.org/wiki/Free_group) [generators](http://mathworld.wolfram.com/GroupGenerators.html) which along with some <b>relation</b> over them forms the [fundamental group](https://en.wikipedia.org/wiki/Fundamental_group) of the surface assumed.\n",
    "\n",
    "In the case orientable surfaces, there are two free group generators (call <b>'a'</b> and <b>'b'</b>) associated to each genus and one free group generator (call <b>'s'</b>) associated to each component in its boundary. Therefore, a closed curve over an orientable surface is equal to a sequence consisting of <b>a</b>'s, <b>b</b>'s, <b>s</b>'s and their inverses, upto homotopy. And thus, a closed curve is considered as a <b>word</b> of group generators."
   ]
  },
  {
   "cell_type": "markdown",
   "metadata": {},
   "source": [
    "### Steps Involved\n",
    "\n",
    "Given a <b>word</b> following operation would lead to our goal.\n",
    "* <b>Cyclic Reduction</b> : This involves reducing the length of the word by removing its subword which evaluates to identity. If $w$ is a word then $\\overline{w}$ represents cyclic reduction of $w$.\n",
    "   \n",
    "   \n",
    "* <b>Complete reduction</b> : Along with <b>Cyclic Reduction</b>, this involves reducing the length of the word by replacing its subword which is inverse of a word smaller in size which when concatenated with the subword evaluates to identity.\n",
    "\n",
    "    \n",
    "* <b>Winding \"T\" function</b> : $T(w)$ equals the number of digits of $w$ for which its inverse lies before the next digit, in the following ordering; minus total occurrences of $a^{-1}$, $b$ and $s^{-1}$ in $w$.  \n",
    "   $$a_1,b_1^{-1},a_1^{-1},b_1,a_2, \\dots a_g,b_g^{-1},a_g^{-1},b_g,s_1,s_1^{-1},s_2, \\dots s_r^{-1} $$\n",
    " \n",
    "\n",
    "* <b>Division property</b> : Let $w$ be the given word. Then non empty words $u$ and $v$ are divisions of $w$ if $u$ concatenated with $v$ is equal to $w$. Word is said to satisfy division property if for every divisions $u$ and $v$, following equation is satisfied. $$T(\\overline{uv^{-1}}) - T(\\overline{u}) - T(\\overline{v^{-1}}) = 0$$ \n",
    "\n",
    "\n",
    "According to the [algorithm](https://github.com/Ankit-Jaiswal/Superficial/blob/master/Reference.pdf), if a word after complete reduction statisfies division property then it is homotopic to a simple closed curve. "
   ]
  },
  {
   "cell_type": "markdown",
   "metadata": {},
   "source": [
    "### Contents of the code\n",
    "\n",
    "Project code defines:\n",
    "* a trait <b>```Generator```</b> with classes <b>```a(i)```</b>, <b>```b(i)```</b> and <b>```s(i)```</b> (each indexed) extending it.\n",
    "\n",
    "\n",
    "* a type alias <b>```Word```</b> which is <b>```Vector[Generator]```</b>.\n",
    "\n",
    "\n",
    "* a class <b>```OrientableSurface(g,r)```</b> which takes a integer argument <b>```g```</b> as the genus and another integer argument <b>```r```</b> which is the number of components in the boundary. Following are its notable methods:\n",
    "     * <b>```red1(w: Word): Word```</b> -- performs cyclic reduction\n",
    "     * <b>```reduce(w: Word): Word```</b> -- performs complete reduction\n",
    "     * <b>```windingT(w: Word): Int```</b> -- returns $T(w)$\n",
    "     * <b>```satisfyEquation(w: Word,0,0): Boolean```</b> -- checks division property (for correctness other arguments should be zero.)\n",
    "     * <b>```isSimple(w: Word): Boolean```</b> -- checks if w is simple closed curve"
   ]
  },
  {
   "cell_type": "markdown",
   "metadata": {},
   "source": [
    " "
   ]
  },
  {
   "cell_type": "markdown",
   "metadata": {},
   "source": [
    "## Demo\n",
    "\n",
    "Following are a few tried out examples:"
   ]
  },
  {
   "cell_type": "markdown",
   "metadata": {},
   "source": [
    "<b>Example 1</b> : Consider surfaces with $g\\geq 2$ and let $w = a_1a_2$."
   ]
  },
  {
   "cell_type": "code",
   "execution_count": 3,
   "metadata": {
    "collapsed": false
   },
   "outputs": [
    {
     "data": {
      "text/plain": [
       "\u001b[36mres2_0\u001b[0m: \u001b[32mVector\u001b[0m[\u001b[32mGenerator\u001b[0m] = \u001b[33mVector\u001b[0m(\u001b[33ma\u001b[0m(\u001b[32m1\u001b[0m), \u001b[33ma\u001b[0m(\u001b[32m2\u001b[0m))\n",
       "\u001b[36mres2_1\u001b[0m: \u001b[32mBoolean\u001b[0m = \u001b[32mtrue\u001b[0m"
      ]
     },
     "metadata": {},
     "output_type": "display_data"
    }
   ],
   "source": [
    "OrientableSurface(3,0).reduce(Vector(a(1),a(2)))\n",
    "OrientableSurface(3,0).isSimple(Vector(a(1),a(2)))"
   ]
  },
  {
   "cell_type": "markdown",
   "metadata": {},
   "source": [
    " "
   ]
  },
  {
   "cell_type": "markdown",
   "metadata": {},
   "source": [
    "<b>Example 2</b> : Consider surface with $g \\geq 2$ and let $w = a_1a_2^{-1}$ ."
   ]
  },
  {
   "cell_type": "code",
   "execution_count": 4,
   "metadata": {
    "collapsed": false
   },
   "outputs": [
    {
     "data": {
      "text/plain": [
       "\u001b[36mres3_0\u001b[0m: \u001b[32mVector\u001b[0m[\u001b[32mGenerator\u001b[0m] = \u001b[33mVector\u001b[0m(\u001b[33ma\u001b[0m(\u001b[32m1\u001b[0m), \u001b[33mInverse\u001b[0m(\u001b[33ma\u001b[0m(\u001b[32m2\u001b[0m)))\n",
       "\u001b[36mres3_1\u001b[0m: \u001b[32mBoolean\u001b[0m = \u001b[32mfalse\u001b[0m"
      ]
     },
     "metadata": {},
     "output_type": "display_data"
    }
   ],
   "source": [
    "OrientableSurface(2,0).reduce(Vector(a(1),Inverse(a(2))))\n",
    "OrientableSurface(2,0).isSimple(Vector(a(1),Inverse(a(2))))"
   ]
  },
  {
   "cell_type": "markdown",
   "metadata": {},
   "source": [
    " "
   ]
  },
  {
   "cell_type": "markdown",
   "metadata": {},
   "source": [
    "<b>Example 3</b> : Consider surface with $g \\geq 2$ and let $w = b_1^{-1}b_2a_1^{-1}b_2a_2^{-1}b_1a_2^{-1}a_1b_1$."
   ]
  },
  {
   "cell_type": "code",
   "execution_count": 5,
   "metadata": {
    "collapsed": false
   },
   "outputs": [
    {
     "data": {
      "text/plain": [
       "\u001b[36mres4_0\u001b[0m: \u001b[32mVector\u001b[0m[\u001b[32mGenerator\u001b[0m] = \u001b[33mVector\u001b[0m(\u001b[33mb\u001b[0m(\u001b[32m2\u001b[0m), \u001b[33mInverse\u001b[0m(\u001b[33ma\u001b[0m(\u001b[32m1\u001b[0m)), \u001b[33mb\u001b[0m(\u001b[32m2\u001b[0m), \u001b[33mInverse\u001b[0m(\u001b[33ma\u001b[0m(\u001b[32m2\u001b[0m)), \u001b[33mb\u001b[0m(\u001b[32m1\u001b[0m), \u001b[33mInverse\u001b[0m(\u001b[33ma\u001b[0m(\u001b[32m2\u001b[0m)), \u001b[33ma\u001b[0m(\u001b[32m1\u001b[0m))\n",
       "\u001b[36mres4_1\u001b[0m: \u001b[32mBoolean\u001b[0m = \u001b[32mfalse\u001b[0m"
      ]
     },
     "metadata": {},
     "output_type": "display_data"
    }
   ],
   "source": [
    "OrientableSurface(2,0).reduce(Vector(Inverse(b(1)),b(2),Inverse(a(1)),b(2),Inverse(a(2)),b(1),Inverse(a(2)),a(1),b(1)))\n",
    "OrientableSurface(2,0).isSimple(Vector(Inverse(b(1)),b(2),Inverse(a(1)),b(2),Inverse(a(2)),b(1),Inverse(a(2)),a(1),b(1)))"
   ]
  },
  {
   "cell_type": "markdown",
   "metadata": {},
   "source": [
    " "
   ]
  },
  {
   "cell_type": "markdown",
   "metadata": {},
   "source": [
    "<b>Example 4</b> : Consider surface with $g = 0$, $r \\geq 6$ and let $w = s_1s_2s_3$."
   ]
  },
  {
   "cell_type": "code",
   "execution_count": 6,
   "metadata": {
    "collapsed": false
   },
   "outputs": [
    {
     "data": {
      "text/plain": [
       "\u001b[36mres5_0\u001b[0m: \u001b[32mVector\u001b[0m[\u001b[32mGenerator\u001b[0m] = \u001b[33mVector\u001b[0m(\u001b[33ms\u001b[0m(\u001b[32m1\u001b[0m), \u001b[33ms\u001b[0m(\u001b[32m2\u001b[0m), \u001b[33ms\u001b[0m(\u001b[32m3\u001b[0m))\n",
       "\u001b[36mres5_1\u001b[0m: \u001b[32mBoolean\u001b[0m = \u001b[32mtrue\u001b[0m"
      ]
     },
     "metadata": {},
     "output_type": "display_data"
    }
   ],
   "source": [
    "OrientableSurface(0,6).reduce(Vector(s(1),s(2),s(3)))\n",
    "OrientableSurface(0,6).isSimple(Vector(s(1),s(2),s(3)))"
   ]
  },
  {
   "cell_type": "markdown",
   "metadata": {},
   "source": [
    " "
   ]
  },
  {
   "cell_type": "markdown",
   "metadata": {},
   "source": [
    "<b>Example 5</b> : Consider surface with $g=0$, $r \\geq 6$ and let $w = s_1s_3s_2$."
   ]
  },
  {
   "cell_type": "code",
   "execution_count": 7,
   "metadata": {
    "collapsed": false
   },
   "outputs": [
    {
     "data": {
      "text/plain": [
       "\u001b[36mres6_0\u001b[0m: \u001b[32mVector\u001b[0m[\u001b[32mGenerator\u001b[0m] = \u001b[33mVector\u001b[0m(\u001b[33ms\u001b[0m(\u001b[32m1\u001b[0m), \u001b[33ms\u001b[0m(\u001b[32m3\u001b[0m), \u001b[33ms\u001b[0m(\u001b[32m2\u001b[0m))\n",
       "\u001b[36mres6_1\u001b[0m: \u001b[32mBoolean\u001b[0m = \u001b[32mfalse\u001b[0m"
      ]
     },
     "metadata": {},
     "output_type": "display_data"
    }
   ],
   "source": [
    "OrientableSurface(0,6).reduce(Vector(s(1),s(3),s(2)))\n",
    "OrientableSurface(0,6).isSimple(Vector(s(1),s(3),s(2)))"
   ]
  },
  {
   "cell_type": "markdown",
   "metadata": {},
   "source": [
    " "
   ]
  },
  {
   "cell_type": "markdown",
   "metadata": {},
   "source": [
    "## Some Results\n",
    "\n",
    "With the help of ```isSimple``` function, we can randomly generate many words of fixed length and can see what fraction of them are simple. Also, we can observe how fraction varies with surface and/or with the length assumed. "
   ]
  },
  {
   "cell_type": "markdown",
   "metadata": {},
   "source": [
    "In order to calculate the \"fraction\", one directly generate all possible words and checks what fraction of them are simple. But, the size of possible words grows at very high rate, which takes huge time to compute.\n",
    "For instance, if $A$ is the set of all singleton words then words of length n would $|A|^{n}$ possibilities. "
   ]
  },
  {
   "cell_type": "markdown",
   "metadata": {},
   "source": [
    "Therefore, it necessary to generate randomly and see the approximate \"fraction\"."
   ]
  },
  {
   "cell_type": "code",
   "execution_count": 8,
   "metadata": {
    "collapsed": false
   },
   "outputs": [
    {
     "data": {
      "text/plain": [
       "\u001b[32mimport \u001b[36mutil.Random.nextInt\u001b[0m\n",
       "defined \u001b[32mfunction \u001b[36mrandWord\u001b[0m"
      ]
     },
     "metadata": {},
     "output_type": "display_data"
    }
   ],
   "source": [
    "import util.Random.nextInt\n",
    "def randWord(surf: OrientableSurface, len: Int) : Vector[Generator] = {\n",
    "    val allCurves : Vector[Generator] = surf.relation ++ (1 to surf.r).toVector.map((x:Int)=>Inverse(s(x)))\n",
    "    Vector.fill(len)(nextInt(allCurves.length)).map((i:Int) => allCurves(i))\n",
    "}"
   ]
  },
  {
   "cell_type": "markdown",
   "metadata": {},
   "source": [
    "<b>```Random.nextInt(n)```</b> generates a integer uniformly between 0 (included) to n (excluded). And, surface's <b>```relation```</b> contains generators except inverse of <b>```s```</b>'s. Hence, <b>```randWord```</b> function generates words over surface \"surf\" of length \"len\"."
   ]
  },
  {
   "cell_type": "markdown",
   "metadata": {},
   "source": [
    " "
   ]
  },
  {
   "cell_type": "markdown",
   "metadata": {},
   "source": [
    " "
   ]
  },
  {
   "cell_type": "markdown",
   "metadata": {},
   "source": [
    "For simplicity and with assumption that Law of large number should hold reasonably well; 1000 random words for a surface and a fixed length, is checked. "
   ]
  },
  {
   "cell_type": "code",
   "execution_count": 9,
   "metadata": {
    "collapsed": false
   },
   "outputs": [
    {
     "data": {
      "text/plain": [
       "defined \u001b[32mfunction \u001b[36mfraction\u001b[0m"
      ]
     },
     "metadata": {},
     "output_type": "display_data"
    }
   ],
   "source": [
    "def fraction(surf: OrientableSurface, len: Int) : Double = (1 to 1000).toVector.map((x:Int)=>randWord(surf,len)).count(surf.isSimple).toDouble / 1000.0 "
   ]
  },
  {
   "cell_type": "markdown",
   "metadata": {},
   "source": [
    " "
   ]
  },
  {
   "cell_type": "markdown",
   "metadata": {},
   "source": [
    "Let's see for some simple cases."
   ]
  },
  {
   "cell_type": "code",
   "execution_count": 10,
   "metadata": {
    "collapsed": false
   },
   "outputs": [
    {
     "data": {
      "text/plain": [
       "\u001b[36mres9\u001b[0m: \u001b[32mDouble\u001b[0m = \u001b[32m0.632\u001b[0m"
      ]
     },
     "metadata": {},
     "output_type": "display_data"
    }
   ],
   "source": [
    "fraction(OrientableSurface(2,0) , 2)"
   ]
  },
  {
   "cell_type": "code",
   "execution_count": 11,
   "metadata": {
    "collapsed": false
   },
   "outputs": [
    {
     "data": {
      "text/plain": [
       "\u001b[36mres10\u001b[0m: \u001b[32mDouble\u001b[0m = \u001b[32m0.285\u001b[0m"
      ]
     },
     "metadata": {},
     "output_type": "display_data"
    }
   ],
   "source": [
    "fraction(OrientableSurface(2,0) , 5)"
   ]
  },
  {
   "cell_type": "code",
   "execution_count": 12,
   "metadata": {
    "collapsed": false
   },
   "outputs": [
    {
     "data": {
      "text/plain": [
       "\u001b[36mres11\u001b[0m: \u001b[32mDouble\u001b[0m = \u001b[32m0.547\u001b[0m"
      ]
     },
     "metadata": {},
     "output_type": "display_data"
    }
   ],
   "source": [
    "fraction(OrientableSurface(4,0) , 2)"
   ]
  },
  {
   "cell_type": "markdown",
   "metadata": {},
   "source": [
    " "
   ]
  },
  {
   "cell_type": "markdown",
   "metadata": {},
   "source": [
    "Let's see the variation with respect to length."
   ]
  },
  {
   "cell_type": "code",
   "execution_count": 13,
   "metadata": {
    "collapsed": false
   },
   "outputs": [
    {
     "data": {
      "text/plain": [
       "\u001b[36msurf\u001b[0m: \u001b[32mOrientableSurface\u001b[0m = \u001b[33mOrientableSurface\u001b[0m(\u001b[32m3\u001b[0m, \u001b[32m2\u001b[0m)\n",
       "\u001b[36mres12_1\u001b[0m: \u001b[32mVector\u001b[0m[\u001b[32mDouble\u001b[0m] = \u001b[33mVector\u001b[0m(\u001b[32m1.0\u001b[0m, \u001b[32m0.305\u001b[0m, \u001b[32m0.095\u001b[0m, \u001b[32m0.032\u001b[0m, \u001b[32m0.008\u001b[0m, \u001b[32m0.001\u001b[0m)"
      ]
     },
     "metadata": {},
     "output_type": "display_data"
    }
   ],
   "source": [
    "val surf = OrientableSurface(3,2)\n",
    "Vector(1,3,5,7,9,11).map((x:Int) => fraction(surf,x))"
   ]
  },
  {
   "cell_type": "markdown",
   "metadata": {},
   "source": [
    " "
   ]
  },
  {
   "cell_type": "markdown",
   "metadata": {},
   "source": [
    "Let's see variation with respect to genus."
   ]
  },
  {
   "cell_type": "code",
   "execution_count": 14,
   "metadata": {
    "collapsed": false
   },
   "outputs": [
    {
     "data": {
      "text/plain": [
       "\u001b[36mlen\u001b[0m: \u001b[32mInt\u001b[0m = \u001b[32m5\u001b[0m\n",
       "\u001b[36mres13_1\u001b[0m: \u001b[32mVector\u001b[0m[\u001b[32mDouble\u001b[0m] = \u001b[33mVector\u001b[0m(\u001b[32m0.124\u001b[0m, \u001b[32m0.084\u001b[0m, \u001b[32m0.048\u001b[0m, \u001b[32m0.049\u001b[0m, \u001b[32m0.047\u001b[0m)"
      ]
     },
     "metadata": {},
     "output_type": "display_data"
    }
   ],
   "source": [
    "val len = 5\n",
    "Vector(2,4,6,8,10).map((g:Int) => fraction(OrientableSurface(g,2),len))"
   ]
  },
  {
   "cell_type": "markdown",
   "metadata": {},
   "source": [
    " "
   ]
  },
  {
   "cell_type": "markdown",
   "metadata": {},
   "source": [
    "Let's see variation with respect to the numbers of components in the boundary."
   ]
  },
  {
   "cell_type": "code",
   "execution_count": 15,
   "metadata": {
    "collapsed": false
   },
   "outputs": [
    {
     "data": {
      "text/plain": [
       "\u001b[36mres14\u001b[0m: \u001b[32mVector\u001b[0m[\u001b[32mDouble\u001b[0m] = \u001b[33mVector\u001b[0m(\u001b[32m0.163\u001b[0m, \u001b[32m0.092\u001b[0m, \u001b[32m0.062\u001b[0m, \u001b[32m0.049\u001b[0m, \u001b[32m0.043\u001b[0m)"
      ]
     },
     "metadata": {},
     "output_type": "display_data"
    }
   ],
   "source": [
    "Vector(2,4,6,8,10).map((r:Int) => fraction(OrientableSurface(2,r),len))"
   ]
  }
 ],
 "metadata": {
  "anaconda-cloud": {},
  "kernelspec": {
   "display_name": "Scala 2.11",
   "language": "scala211",
   "name": "scala211"
  },
  "language_info": {
   "codemirror_mode": "text/x-scala",
   "file_extension": ".scala",
   "mimetype": "text/x-scala",
   "name": "scala211",
   "pygments_lexer": "scala",
   "version": "2.11.8"
  }
 },
 "nbformat": 4,
 "nbformat_minor": 1
}
